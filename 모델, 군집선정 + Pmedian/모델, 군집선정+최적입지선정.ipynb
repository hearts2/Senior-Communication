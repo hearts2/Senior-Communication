{
  "nbformat": 4,
  "nbformat_minor": 0,
  "metadata": {
    "colab": {
      "provenance": [],
      "include_colab_link": true
    },
    "kernelspec": {
      "name": "python3",
      "display_name": "Python 3"
    },
    "language_info": {
      "name": "python"
    }
  },
  "cells": [
    {
      "cell_type": "markdown",
      "metadata": {
        "id": "view-in-github",
        "colab_type": "text"
      },
      "source": [
        "<a href=\"https://colab.research.google.com/github/hearts2/Senior-Communication/blob/main/%EB%B0%94%EB%A1%9Cspca(%ED%98%84%EC%A0%95)_0825_%EC%A0%84%EC%B2%B4_%EB%8D%B0%EC%9D%B4%ED%84%B0.ipynb\" target=\"_parent\"><img src=\"https://colab.research.google.com/assets/colab-badge.svg\" alt=\"Open In Colab\"/></a>"
      ]
    },
    {
      "cell_type": "code",
      "source": [
        "# # 코렙 한글깨짐\n",
        "# !sudo apt-get install -y fonts-nanum\n",
        "# !sudo fc-cache -fv\n",
        "# !rm ~/.cache/matplotlib -rf\n",
        "# # 코렙에서 한글 깨짐 현상 있을때 설치 후 밑코드로 해결완료\n",
        "\n",
        "# plt.rc('font', family='NanumBarunGothic') "
      ],
      "metadata": {
        "id": "6EmCtDDuVtcT"
      },
      "execution_count": null,
      "outputs": []
    },
    {
      "cell_type": "code",
      "source": [
        "from google.colab import drive\n",
        "drive.mount('/content/drive')"
      ],
      "metadata": {
        "colab": {
          "base_uri": "https://localhost:8080/"
        },
        "id": "xgZ2nEOjCst8",
        "outputId": "a48ad85f-705e-485b-f9ac-c48a4984337e"
      },
      "execution_count": null,
      "outputs": [
        {
          "output_type": "stream",
          "name": "stdout",
          "text": [
            "Mounted at /content/drive\n"
          ]
        }
      ]
    },
    {
      "cell_type": "code",
      "execution_count": null,
      "metadata": {
        "id": "i8jbuT78d74w"
      },
      "outputs": [],
      "source": [
        "import pandas as pd\n",
        "import numpy as np\n",
        "import scipy.stats # 통계 함수 사용\n",
        "import matplotlib.pyplot as plt\n",
        "import seaborn as sns\n",
        "\n",
        "from sklearn.preprocessing import StandardScaler\n",
        "from sklearn.cluster import KMeans\n",
        "\n",
        "# 경고 무시\n",
        "import warnings\n",
        "warnings.filterwarnings(action = 'ignore')\n"
      ]
    },
    {
      "cell_type": "code",
      "source": [
        "data = pd.read_excel('/content/drive/MyDrive/공유폴더/NEW(공모전용)/main_seoul_senior_data.xlsx', thousands=',')\n",
        "data.head(1)"
      ],
      "metadata": {
        "id": "Y1lPUSR4eB7L",
        "colab": {
          "base_uri": "https://localhost:8080/",
          "height": 417
        },
        "outputId": "0668206c-2147-4756-9048-cf218fb65081"
      },
      "execution_count": null,
      "outputs": [
        {
          "output_type": "execute_result",
          "data": {
            "text/plain": [
              "   자치구      동         시설명                 주소         위도          경도  \\\n",
              "0  종로구  청운효자동  청운효자동 주민센터  서울특별시 종로구 자하문로 92  37.584083  126.970636   \n",
              "\n",
              "         위도UTMK         경도UTMK     연면적  도서관(500)  ...  병원(500)  공원(500)  \\\n",
              "0  1.953680e+06  953451.030567  965.52       0.0  ...      0.0      0.0   \n",
              "\n",
              "   버스(100)  지하철(250)   동별전체인구    60세~  60세~/전체인구  60세~/구별전체             비율  \\\n",
              "0      1.0       0.0  11978.0  2945.0   0.245867   0.075281  336867.539821   \n",
              "\n",
              "   디지털정보지수  \n",
              "0  2933.53  \n",
              "\n",
              "[1 rows x 21 columns]"
            ],
            "text/html": [
              "\n",
              "  <div id=\"df-6a72e60b-7ac9-4d8d-8f53-5d2599804d65\">\n",
              "    <div class=\"colab-df-container\">\n",
              "      <div>\n",
              "<style scoped>\n",
              "    .dataframe tbody tr th:only-of-type {\n",
              "        vertical-align: middle;\n",
              "    }\n",
              "\n",
              "    .dataframe tbody tr th {\n",
              "        vertical-align: top;\n",
              "    }\n",
              "\n",
              "    .dataframe thead th {\n",
              "        text-align: right;\n",
              "    }\n",
              "</style>\n",
              "<table border=\"1\" class=\"dataframe\">\n",
              "  <thead>\n",
              "    <tr style=\"text-align: right;\">\n",
              "      <th></th>\n",
              "      <th>자치구</th>\n",
              "      <th>동</th>\n",
              "      <th>시설명</th>\n",
              "      <th>주소</th>\n",
              "      <th>위도</th>\n",
              "      <th>경도</th>\n",
              "      <th>위도UTMK</th>\n",
              "      <th>경도UTMK</th>\n",
              "      <th>연면적</th>\n",
              "      <th>도서관(500)</th>\n",
              "      <th>...</th>\n",
              "      <th>병원(500)</th>\n",
              "      <th>공원(500)</th>\n",
              "      <th>버스(100)</th>\n",
              "      <th>지하철(250)</th>\n",
              "      <th>동별전체인구</th>\n",
              "      <th>60세~</th>\n",
              "      <th>60세~/전체인구</th>\n",
              "      <th>60세~/구별전체</th>\n",
              "      <th>비율</th>\n",
              "      <th>디지털정보지수</th>\n",
              "    </tr>\n",
              "  </thead>\n",
              "  <tbody>\n",
              "    <tr>\n",
              "      <th>0</th>\n",
              "      <td>종로구</td>\n",
              "      <td>청운효자동</td>\n",
              "      <td>청운효자동 주민센터</td>\n",
              "      <td>서울특별시 종로구 자하문로 92</td>\n",
              "      <td>37.584083</td>\n",
              "      <td>126.970636</td>\n",
              "      <td>1.953680e+06</td>\n",
              "      <td>953451.030567</td>\n",
              "      <td>965.52</td>\n",
              "      <td>0.0</td>\n",
              "      <td>...</td>\n",
              "      <td>0.0</td>\n",
              "      <td>0.0</td>\n",
              "      <td>1.0</td>\n",
              "      <td>0.0</td>\n",
              "      <td>11978.0</td>\n",
              "      <td>2945.0</td>\n",
              "      <td>0.245867</td>\n",
              "      <td>0.075281</td>\n",
              "      <td>336867.539821</td>\n",
              "      <td>2933.53</td>\n",
              "    </tr>\n",
              "  </tbody>\n",
              "</table>\n",
              "<p>1 rows × 21 columns</p>\n",
              "</div>\n",
              "      <button class=\"colab-df-convert\" onclick=\"convertToInteractive('df-6a72e60b-7ac9-4d8d-8f53-5d2599804d65')\"\n",
              "              title=\"Convert this dataframe to an interactive table.\"\n",
              "              style=\"display:none;\">\n",
              "        \n",
              "  <svg xmlns=\"http://www.w3.org/2000/svg\" height=\"24px\"viewBox=\"0 0 24 24\"\n",
              "       width=\"24px\">\n",
              "    <path d=\"M0 0h24v24H0V0z\" fill=\"none\"/>\n",
              "    <path d=\"M18.56 5.44l.94 2.06.94-2.06 2.06-.94-2.06-.94-.94-2.06-.94 2.06-2.06.94zm-11 1L8.5 8.5l.94-2.06 2.06-.94-2.06-.94L8.5 2.5l-.94 2.06-2.06.94zm10 10l.94 2.06.94-2.06 2.06-.94-2.06-.94-.94-2.06-.94 2.06-2.06.94z\"/><path d=\"M17.41 7.96l-1.37-1.37c-.4-.4-.92-.59-1.43-.59-.52 0-1.04.2-1.43.59L10.3 9.45l-7.72 7.72c-.78.78-.78 2.05 0 2.83L4 21.41c.39.39.9.59 1.41.59.51 0 1.02-.2 1.41-.59l7.78-7.78 2.81-2.81c.8-.78.8-2.07 0-2.86zM5.41 20L4 18.59l7.72-7.72 1.47 1.35L5.41 20z\"/>\n",
              "  </svg>\n",
              "      </button>\n",
              "      \n",
              "  <style>\n",
              "    .colab-df-container {\n",
              "      display:flex;\n",
              "      flex-wrap:wrap;\n",
              "      gap: 12px;\n",
              "    }\n",
              "\n",
              "    .colab-df-convert {\n",
              "      background-color: #E8F0FE;\n",
              "      border: none;\n",
              "      border-radius: 50%;\n",
              "      cursor: pointer;\n",
              "      display: none;\n",
              "      fill: #1967D2;\n",
              "      height: 32px;\n",
              "      padding: 0 0 0 0;\n",
              "      width: 32px;\n",
              "    }\n",
              "\n",
              "    .colab-df-convert:hover {\n",
              "      background-color: #E2EBFA;\n",
              "      box-shadow: 0px 1px 2px rgba(60, 64, 67, 0.3), 0px 1px 3px 1px rgba(60, 64, 67, 0.15);\n",
              "      fill: #174EA6;\n",
              "    }\n",
              "\n",
              "    [theme=dark] .colab-df-convert {\n",
              "      background-color: #3B4455;\n",
              "      fill: #D2E3FC;\n",
              "    }\n",
              "\n",
              "    [theme=dark] .colab-df-convert:hover {\n",
              "      background-color: #434B5C;\n",
              "      box-shadow: 0px 1px 3px 1px rgba(0, 0, 0, 0.15);\n",
              "      filter: drop-shadow(0px 1px 2px rgba(0, 0, 0, 0.3));\n",
              "      fill: #FFFFFF;\n",
              "    }\n",
              "  </style>\n",
              "\n",
              "      <script>\n",
              "        const buttonEl =\n",
              "          document.querySelector('#df-6a72e60b-7ac9-4d8d-8f53-5d2599804d65 button.colab-df-convert');\n",
              "        buttonEl.style.display =\n",
              "          google.colab.kernel.accessAllowed ? 'block' : 'none';\n",
              "\n",
              "        async function convertToInteractive(key) {\n",
              "          const element = document.querySelector('#df-6a72e60b-7ac9-4d8d-8f53-5d2599804d65');\n",
              "          const dataTable =\n",
              "            await google.colab.kernel.invokeFunction('convertToInteractive',\n",
              "                                                     [key], {});\n",
              "          if (!dataTable) return;\n",
              "\n",
              "          const docLinkHtml = 'Like what you see? Visit the ' +\n",
              "            '<a target=\"_blank\" href=https://colab.research.google.com/notebooks/data_table.ipynb>data table notebook</a>'\n",
              "            + ' to learn more about interactive tables.';\n",
              "          element.innerHTML = '';\n",
              "          dataTable['output_type'] = 'display_data';\n",
              "          await google.colab.output.renderOutput(dataTable, element);\n",
              "          const docLink = document.createElement('div');\n",
              "          docLink.innerHTML = docLinkHtml;\n",
              "          element.appendChild(docLink);\n",
              "        }\n",
              "      </script>\n",
              "    </div>\n",
              "  </div>\n",
              "  "
            ]
          },
          "metadata": {},
          "execution_count": 5
        }
      ]
    },
    {
      "cell_type": "code",
      "source": [
        "data.shape"
      ],
      "metadata": {
        "id": "PRALzQoDeUkD",
        "colab": {
          "base_uri": "https://localhost:8080/"
        },
        "outputId": "c2af1638-8e0d-48ef-ed0b-daf36b0c6ff6"
      },
      "execution_count": null,
      "outputs": [
        {
          "output_type": "execute_result",
          "data": {
            "text/plain": [
              "(509, 21)"
            ]
          },
          "metadata": {},
          "execution_count": 6
        }
      ]
    },
    {
      "cell_type": "markdown",
      "source": [
        "# 데이터 탐색"
      ],
      "metadata": {
        "id": "WHFvu4vjUhIQ"
      }
    },
    {
      "cell_type": "code",
      "source": [
        "#데이터 탐색\n",
        "sns.boxplot(x='동별전체인구' ,data = data)\n",
        "plt.show()"
      ],
      "metadata": {
        "colab": {
          "base_uri": "https://localhost:8080/",
          "height": 279
        },
        "id": "61AyE8wzWMKA",
        "outputId": "5e4312d0-8ccf-45c4-add2-c89c47cf38f0"
      },
      "execution_count": null,
      "outputs": [
        {
          "output_type": "display_data",
          "data": {
            "text/plain": [
              "<Figure size 432x288 with 1 Axes>"
            ],
            "image/png": "[encoded data removed]"
          },
          "metadata": {
            "needs_background": "light"
          }
        }
      ]
    },
    {
      "cell_type": "code",
      "source": [
        "data.columns = ['자치구', '동', '시설명', '주소', '연면적', '위도', '경도', '위도UTMK', '경도UTMK',\n",
        "       '도서관(500)', '배움터(500)', '병원(500)', '공원(500)', '버스(100)', '지하철(250)',\n",
        "       '동별전체인구', '동별시니어수', '행정동별시니어비율', '구별행정동시니어비율', '유동인구', '디지털정보지수']"
      ],
      "metadata": {
        "id": "-LYkutMjcWIJ"
      },
      "execution_count": null,
      "outputs": []
    },
    {
      "cell_type": "code",
      "source": [
        "#주변특성을 다 더한 데이터 df 생성 (버스 + 지하철도 합침)\n",
        "df = data.copy() \n",
        "df.head(1)"
      ],
      "metadata": {
        "colab": {
          "base_uri": "https://localhost:8080/",
          "height": 434
        },
        "id": "L9tvewoKxwQZ",
        "outputId": "70b78f90-5d0c-48da-c702-5d373de7fb0f"
      },
      "execution_count": null,
      "outputs": [
        {
          "output_type": "execute_result",
          "data": {
            "text/plain": [
              "   자치구      동         시설명                 주소        연면적          위도  \\\n",
              "0  종로구  청운효자동  청운효자동 주민센터  서울특별시 종로구 자하문로 92  37.584083  126.970636   \n",
              "\n",
              "             경도         위도UTMK  경도UTMK  도서관(500)  ...  병원(500)  공원(500)  \\\n",
              "0  1.953680e+06  953451.030567  965.52       0.0  ...      0.0      0.0   \n",
              "\n",
              "   버스(100)  지하철(250)   동별전체인구  동별시니어수  행정동별시니어비율  구별행정동시니어비율           유동인구  \\\n",
              "0      1.0       0.0  11978.0  2945.0   0.245867    0.075281  336867.539821   \n",
              "\n",
              "   디지털정보지수  \n",
              "0  2933.53  \n",
              "\n",
              "[1 rows x 21 columns]"
            ],
            "text/html": [
              "\n",
              "  <div id=\"df-68dfa1ab-2ad7-4668-bcdf-c312443ebf8a\">\n",
              "    <div class=\"colab-df-container\">\n",
              "      <div>\n",
              "<style scoped>\n",
              "    .dataframe tbody tr th:only-of-type {\n",
              "        vertical-align: middle;\n",
              "    }\n",
              "\n",
              "    .dataframe tbody tr th {\n",
              "        vertical-align: top;\n",
              "    }\n",
              "\n",
              "    .dataframe thead th {\n",
              "        text-align: right;\n",
              "    }\n",
              "</style>\n",
              "<table border=\"1\" class=\"dataframe\">\n",
              "  <thead>\n",
              "    <tr style=\"text-align: right;\">\n",
              "      <th></th>\n",
              "      <th>자치구</th>\n",
              "      <th>동</th>\n",
              "      <th>시설명</th>\n",
              "      <th>주소</th>\n",
              "      <th>연면적</th>\n",
              "      <th>위도</th>\n",
              "      <th>경도</th>\n",
              "      <th>위도UTMK</th>\n",
              "      <th>경도UTMK</th>\n",
              "      <th>도서관(500)</th>\n",
              "      <th>...</th>\n",
              "      <th>병원(500)</th>\n",
              "      <th>공원(500)</th>\n",
              "      <th>버스(100)</th>\n",
              "      <th>지하철(250)</th>\n",
              "      <th>동별전체인구</th>\n",
              "      <th>동별시니어수</th>\n",
              "      <th>행정동별시니어비율</th>\n",
              "      <th>구별행정동시니어비율</th>\n",
              "      <th>유동인구</th>\n",
              "      <th>디지털정보지수</th>\n",
              "    </tr>\n",
              "  </thead>\n",
              "  <tbody>\n",
              "    <tr>\n",
              "      <th>0</th>\n",
              "      <td>종로구</td>\n",
              "      <td>청운효자동</td>\n",
              "      <td>청운효자동 주민센터</td>\n",
              "      <td>서울특별시 종로구 자하문로 92</td>\n",
              "      <td>37.584083</td>\n",
              "      <td>126.970636</td>\n",
              "      <td>1.953680e+06</td>\n",
              "      <td>953451.030567</td>\n",
              "      <td>965.52</td>\n",
              "      <td>0.0</td>\n",
              "      <td>...</td>\n",
              "      <td>0.0</td>\n",
              "      <td>0.0</td>\n",
              "      <td>1.0</td>\n",
              "      <td>0.0</td>\n",
              "      <td>11978.0</td>\n",
              "      <td>2945.0</td>\n",
              "      <td>0.245867</td>\n",
              "      <td>0.075281</td>\n",
              "      <td>336867.539821</td>\n",
              "      <td>2933.53</td>\n",
              "    </tr>\n",
              "  </tbody>\n",
              "</table>\n",
              "<p>1 rows × 21 columns</p>\n",
              "</div>\n",
              "      <button class=\"colab-df-convert\" onclick=\"convertToInteractive('df-68dfa1ab-2ad7-4668-bcdf-c312443ebf8a')\"\n",
              "              title=\"Convert this dataframe to an interactive table.\"\n",
              "              style=\"display:none;\">\n",
              "        \n",
              "  <svg xmlns=\"http://www.w3.org/2000/svg\" height=\"24px\"viewBox=\"0 0 24 24\"\n",
              "       width=\"24px\">\n",
              "    <path d=\"M0 0h24v24H0V0z\" fill=\"none\"/>\n",
              "    <path d=\"M18.56 5.44l.94 2.06.94-2.06 2.06-.94-2.06-.94-.94-2.06-.94 2.06-2.06.94zm-11 1L8.5 8.5l.94-2.06 2.06-.94-2.06-.94L8.5 2.5l-.94 2.06-2.06.94zm10 10l.94 2.06.94-2.06 2.06-.94-2.06-.94-.94-2.06-.94 2.06-2.06.94z\"/><path d=\"M17.41 7.96l-1.37-1.37c-.4-.4-.92-.59-1.43-.59-.52 0-1.04.2-1.43.59L10.3 9.45l-7.72 7.72c-.78.78-.78 2.05 0 2.83L4 21.41c.39.39.9.59 1.41.59.51 0 1.02-.2 1.41-.59l7.78-7.78 2.81-2.81c.8-.78.8-2.07 0-2.86zM5.41 20L4 18.59l7.72-7.72 1.47 1.35L5.41 20z\"/>\n",
              "  </svg>\n",
              "      </button>\n",
              "      \n",
              "  <style>\n",
              "    .colab-df-container {\n",
              "      display:flex;\n",
              "      flex-wrap:wrap;\n",
              "      gap: 12px;\n",
              "    }\n",
              "\n",
              "    .colab-df-convert {\n",
              "      background-color: #E8F0FE;\n",
              "      border: none;\n",
              "      border-radius: 50%;\n",
              "      cursor: pointer;\n",
              "      display: none;\n",
              "      fill: #1967D2;\n",
              "      height: 32px;\n",
              "      padding: 0 0 0 0;\n",
              "      width: 32px;\n",
              "    }\n",
              "\n",
              "    .colab-df-convert:hover {\n",
              "      background-color: #E2EBFA;\n",
              "      box-shadow: 0px 1px 2px rgba(60, 64, 67, 0.3), 0px 1px 3px 1px rgba(60, 64, 67, 0.15);\n",
              "      fill: #174EA6;\n",
              "    }\n",
              "\n",
              "    [theme=dark] .colab-df-convert {\n",
              "      background-color: #3B4455;\n",
              "      fill: #D2E3FC;\n",
              "    }\n",
              "\n",
              "    [theme=dark] .colab-df-convert:hover {\n",
              "      background-color: #434B5C;\n",
              "      box-shadow: 0px 1px 3px 1px rgba(0, 0, 0, 0.15);\n",
              "      filter: drop-shadow(0px 1px 2px rgba(0, 0, 0, 0.3));\n",
              "      fill: #FFFFFF;\n",
              "    }\n",
              "  </style>\n",
              "\n",
              "      <script>\n",
              "        const buttonEl =\n",
              "          document.querySelector('#df-68dfa1ab-2ad7-4668-bcdf-c312443ebf8a button.colab-df-convert');\n",
              "        buttonEl.style.display =\n",
              "          google.colab.kernel.accessAllowed ? 'block' : 'none';\n",
              "\n",
              "        async function convertToInteractive(key) {\n",
              "          const element = document.querySelector('#df-68dfa1ab-2ad7-4668-bcdf-c312443ebf8a');\n",
              "          const dataTable =\n",
              "            await google.colab.kernel.invokeFunction('convertToInteractive',\n",
              "                                                     [key], {});\n",
              "          if (!dataTable) return;\n",
              "\n",
              "          const docLinkHtml = 'Like what you see? Visit the ' +\n",
              "            '<a target=\"_blank\" href=https://colab.research.google.com/notebooks/data_table.ipynb>data table notebook</a>'\n",
              "            + ' to learn more about interactive tables.';\n",
              "          element.innerHTML = '';\n",
              "          dataTable['output_type'] = 'display_data';\n",
              "          await google.colab.output.renderOutput(dataTable, element);\n",
              "          const docLink = document.createElement('div');\n",
              "          docLink.innerHTML = docLinkHtml;\n",
              "          element.appendChild(docLink);\n",
              "        }\n",
              "      </script>\n",
              "    </div>\n",
              "  </div>\n",
              "  "
            ]
          },
          "metadata": {},
          "execution_count": 9
        }
      ]
    },
    {
      "cell_type": "code",
      "source": [
        "data['유동인구'].sort_values(ascending = False)\n",
        "#똑같은 이유 : 같은 동에 위치한 주민센터 및 복지관이라 "
      ],
      "metadata": {
        "colab": {
          "base_uri": "https://localhost:8080/"
        },
        "id": "6NWOEIFYWNUO",
        "outputId": "f784b771-f21a-418d-ddd2-97ffdf905535"
      },
      "execution_count": null,
      "outputs": [
        {
          "output_type": "execute_result",
          "data": {
            "text/plain": [
              "345    781018.306871\n",
              "490    781018.306871\n",
              "373    742686.898217\n",
              "411    692729.819311\n",
              "86     675296.756898\n",
              "           ...      \n",
              "3       94597.438184\n",
              "23      77203.734008\n",
              "17      46135.362979\n",
              "351     30995.225550\n",
              "412      2907.276232\n",
              "Name: 유동인구, Length: 509, dtype: float64"
            ]
          },
          "metadata": {},
          "execution_count": 10
        }
      ]
    },
    {
      "cell_type": "code",
      "source": [
        "q1 = df['유동인구'].quantile(0.25)\n",
        "q3 = df['유동인구'].quantile(0.75)\n",
        "iqr = q3-q1\n",
        "rev_range = 3 #제거 범위 조절 변수 \n",
        "df = df[(df['유동인구'] <= q3 + (rev_range*iqr) ) & (df['유동인구' ]>= q1 - (rev_range*iqr))]"
      ],
      "metadata": {
        "id": "uoSlrL-VX1fg"
      },
      "execution_count": null,
      "outputs": []
    },
    {
      "cell_type": "code",
      "source": [
        "df.shape, data.shape"
      ],
      "metadata": {
        "colab": {
          "base_uri": "https://localhost:8080/"
        },
        "id": "PI4XyxAJY7t-",
        "outputId": "7958a55b-e94f-40e2-85a6-d428d88beedb"
      },
      "execution_count": null,
      "outputs": [
        {
          "output_type": "execute_result",
          "data": {
            "text/plain": [
              "((509, 21), (509, 21))"
            ]
          },
          "metadata": {},
          "execution_count": 12
        }
      ]
    },
    {
      "cell_type": "code",
      "source": [
        "#df.drop(columns = ['위도', '경도','위도UTMK', '경도UTMK'], inplace = True)"
      ],
      "metadata": {
        "id": "vdXsWSvTNzzY"
      },
      "execution_count": null,
      "outputs": []
    },
    {
      "cell_type": "code",
      "source": [
        "df.head(1)\n",
        "df.columns"
      ],
      "metadata": {
        "colab": {
          "base_uri": "https://localhost:8080/"
        },
        "id": "WKTk69fbXSAv",
        "outputId": "cdd1e24b-8fb1-4112-c81d-9ef3ec387ea3"
      },
      "execution_count": null,
      "outputs": [
        {
          "output_type": "execute_result",
          "data": {
            "text/plain": [
              "Index(['자치구', '동', '시설명', '주소', '연면적', '위도', '경도', '위도UTMK', '경도UTMK',\n",
              "       '도서관(500)', '배움터(500)', '병원(500)', '공원(500)', '버스(100)', '지하철(250)',\n",
              "       '동별전체인구', '동별시니어수', '행정동별시니어비율', '구별행정동시니어비율', '유동인구', '디지털정보지수'],\n",
              "      dtype='object')"
            ]
          },
          "metadata": {},
          "execution_count": 14
        }
      ]
    },
    {
      "cell_type": "code",
      "source": [
        "df.drop(columns = [ '구별행정동시니어비율','연면적'], inplace = True)"
      ],
      "metadata": {
        "id": "7ybWwJHL7eEh"
      },
      "execution_count": null,
      "outputs": []
    },
    {
      "cell_type": "code",
      "source": [
        "df['주변특성'] = df['도서관(500)'] + df['배움터(500)'] + df['병원(500)'] + df['공원(500)']\n",
        "df['대중교통'] = df['버스(100)'] + df['지하철(250)']"
      ],
      "metadata": {
        "id": "4sYE52_bx6Dx"
      },
      "execution_count": null,
      "outputs": []
    },
    {
      "cell_type": "code",
      "source": [
        "df.columns"
      ],
      "metadata": {
        "colab": {
          "base_uri": "https://localhost:8080/"
        },
        "id": "aOZ72bbmyYNl",
        "outputId": "348ad294-6b76-4817-d2cc-a059de5ef5c5"
      },
      "execution_count": null,
      "outputs": [
        {
          "output_type": "execute_result",
          "data": {
            "text/plain": [
              "Index(['자치구', '동', '시설명', '주소', '위도', '경도', '위도UTMK', '경도UTMK', '도서관(500)',\n",
              "       '배움터(500)', '병원(500)', '공원(500)', '버스(100)', '지하철(250)', '동별전체인구',\n",
              "       '동별시니어수', '행정동별시니어비율', '유동인구', '디지털정보지수', '주변특성', '대중교통'],\n",
              "      dtype='object')"
            ]
          },
          "metadata": {},
          "execution_count": 17
        }
      ]
    },
    {
      "cell_type": "code",
      "source": [
        "df.drop(columns = ['도서관(500)', '배움터(500)', '병원(500)',\n",
        "       '공원(500)', '버스(100)', '지하철(250)'], inplace = True)"
      ],
      "metadata": {
        "id": "Ehg7co2ZydN0"
      },
      "execution_count": null,
      "outputs": []
    },
    {
      "cell_type": "code",
      "source": [
        "df.head(1)"
      ],
      "metadata": {
        "colab": {
          "base_uri": "https://localhost:8080/",
          "height": 405
        },
        "id": "lucsnem9yr27",
        "outputId": "58f561e3-8133-48dd-def6-9f8465930c02"
      },
      "execution_count": null,
      "outputs": [
        {
          "output_type": "execute_result",
          "data": {
            "text/plain": [
              "   자치구      동         시설명                 주소          위도            경도  \\\n",
              "0  종로구  청운효자동  청운효자동 주민센터  서울특별시 종로구 자하문로 92  126.970636  1.953680e+06   \n",
              "\n",
              "          위도UTMK  경도UTMK   동별전체인구  동별시니어수  행정동별시니어비율           유동인구  디지털정보지수  \\\n",
              "0  953451.030567  965.52  11978.0  2945.0   0.245867  336867.539821  2933.53   \n",
              "\n",
              "   주변특성  대중교통  \n",
              "0   0.0   1.0  "
            ],
            "text/html": [
              "\n",
              "  <div id=\"df-d473ef51-a9fd-481d-a021-d0bf51209705\">\n",
              "    <div class=\"colab-df-container\">\n",
              "      <div>\n",
              "<style scoped>\n",
              "    .dataframe tbody tr th:only-of-type {\n",
              "        vertical-align: middle;\n",
              "    }\n",
              "\n",
              "    .dataframe tbody tr th {\n",
              "        vertical-align: top;\n",
              "    }\n",
              "\n",
              "    .dataframe thead th {\n",
              "        text-align: right;\n",
              "    }\n",
              "</style>\n",
              "<table border=\"1\" class=\"dataframe\">\n",
              "  <thead>\n",
              "    <tr style=\"text-align: right;\">\n",
              "      <th></th>\n",
              "      <th>자치구</th>\n",
              "      <th>동</th>\n",
              "      <th>시설명</th>\n",
              "      <th>주소</th>\n",
              "      <th>위도</th>\n",
              "      <th>경도</th>\n",
              "      <th>위도UTMK</th>\n",
              "      <th>경도UTMK</th>\n",
              "      <th>동별전체인구</th>\n",
              "      <th>동별시니어수</th>\n",
              "      <th>행정동별시니어비율</th>\n",
              "      <th>유동인구</th>\n",
              "      <th>디지털정보지수</th>\n",
              "      <th>주변특성</th>\n",
              "      <th>대중교통</th>\n",
              "    </tr>\n",
              "  </thead>\n",
              "  <tbody>\n",
              "    <tr>\n",
              "      <th>0</th>\n",
              "      <td>종로구</td>\n",
              "      <td>청운효자동</td>\n",
              "      <td>청운효자동 주민센터</td>\n",
              "      <td>서울특별시 종로구 자하문로 92</td>\n",
              "      <td>126.970636</td>\n",
              "      <td>1.953680e+06</td>\n",
              "      <td>953451.030567</td>\n",
              "      <td>965.52</td>\n",
              "      <td>11978.0</td>\n",
              "      <td>2945.0</td>\n",
              "      <td>0.245867</td>\n",
              "      <td>336867.539821</td>\n",
              "      <td>2933.53</td>\n",
              "      <td>0.0</td>\n",
              "      <td>1.0</td>\n",
              "    </tr>\n",
              "  </tbody>\n",
              "</table>\n",
              "</div>\n",
              "      <button class=\"colab-df-convert\" onclick=\"convertToInteractive('df-d473ef51-a9fd-481d-a021-d0bf51209705')\"\n",
              "              title=\"Convert this dataframe to an interactive table.\"\n",
              "              style=\"display:none;\">\n",
              "        \n",
              "  <svg xmlns=\"http://www.w3.org/2000/svg\" height=\"24px\"viewBox=\"0 0 24 24\"\n",
              "       width=\"24px\">\n",
              "    <path d=\"M0 0h24v24H0V0z\" fill=\"none\"/>\n",
              "    <path d=\"M18.56 5.44l.94 2.06.94-2.06 2.06-.94-2.06-.94-.94-2.06-.94 2.06-2.06.94zm-11 1L8.5 8.5l.94-2.06 2.06-.94-2.06-.94L8.5 2.5l-.94 2.06-2.06.94zm10 10l.94 2.06.94-2.06 2.06-.94-2.06-.94-.94-2.06-.94 2.06-2.06.94z\"/><path d=\"M17.41 7.96l-1.37-1.37c-.4-.4-.92-.59-1.43-.59-.52 0-1.04.2-1.43.59L10.3 9.45l-7.72 7.72c-.78.78-.78 2.05 0 2.83L4 21.41c.39.39.9.59 1.41.59.51 0 1.02-.2 1.41-.59l7.78-7.78 2.81-2.81c.8-.78.8-2.07 0-2.86zM5.41 20L4 18.59l7.72-7.72 1.47 1.35L5.41 20z\"/>\n",
              "  </svg>\n",
              "      </button>\n",
              "      \n",
              "  <style>\n",
              "    .colab-df-container {\n",
              "      display:flex;\n",
              "      flex-wrap:wrap;\n",
              "      gap: 12px;\n",
              "    }\n",
              "\n",
              "    .colab-df-convert {\n",
              "      background-color: #E8F0FE;\n",
              "      border: none;\n",
              "      border-radius: 50%;\n",
              "      cursor: pointer;\n",
              "      display: none;\n",
              "      fill: #1967D2;\n",
              "      height: 32px;\n",
              "      padding: 0 0 0 0;\n",
              "      width: 32px;\n",
              "    }\n",
              "\n",
              "    .colab-df-convert:hover {\n",
              "      background-color: #E2EBFA;\n",
              "      box-shadow: 0px 1px 2px rgba(60, 64, 67, 0.3), 0px 1px 3px 1px rgba(60, 64, 67, 0.15);\n",
              "      fill: #174EA6;\n",
              "    }\n",
              "\n",
              "    [theme=dark] .colab-df-convert {\n",
              "      background-color: #3B4455;\n",
              "      fill: #D2E3FC;\n",
              "    }\n",
              "\n",
              "    [theme=dark] .colab-df-convert:hover {\n",
              "      background-color: #434B5C;\n",
              "      box-shadow: 0px 1px 3px 1px rgba(0, 0, 0, 0.15);\n",
              "      filter: drop-shadow(0px 1px 2px rgba(0, 0, 0, 0.3));\n",
              "      fill: #FFFFFF;\n",
              "    }\n",
              "  </style>\n",
              "\n",
              "      <script>\n",
              "        const buttonEl =\n",
              "          document.querySelector('#df-d473ef51-a9fd-481d-a021-d0bf51209705 button.colab-df-convert');\n",
              "        buttonEl.style.display =\n",
              "          google.colab.kernel.accessAllowed ? 'block' : 'none';\n",
              "\n",
              "        async function convertToInteractive(key) {\n",
              "          const element = document.querySelector('#df-d473ef51-a9fd-481d-a021-d0bf51209705');\n",
              "          const dataTable =\n",
              "            await google.colab.kernel.invokeFunction('convertToInteractive',\n",
              "                                                     [key], {});\n",
              "          if (!dataTable) return;\n",
              "\n",
              "          const docLinkHtml = 'Like what you see? Visit the ' +\n",
              "            '<a target=\"_blank\" href=https://colab.research.google.com/notebooks/data_table.ipynb>data table notebook</a>'\n",
              "            + ' to learn more about interactive tables.';\n",
              "          element.innerHTML = '';\n",
              "          dataTable['output_type'] = 'display_data';\n",
              "          await google.colab.output.renderOutput(dataTable, element);\n",
              "          const docLink = document.createElement('div');\n",
              "          docLink.innerHTML = docLinkHtml;\n",
              "          element.appendChild(docLink);\n",
              "        }\n",
              "      </script>\n",
              "    </div>\n",
              "  </div>\n",
              "  "
            ]
          },
          "metadata": {},
          "execution_count": 19
        }
      ]
    },
    {
      "cell_type": "code",
      "source": [
        "# feature 변수만 X 변수로 저장 \n",
        "#X2 = df.select_dtypes(exclude = [object])"
      ],
      "metadata": {
        "id": "dWeCS4tbakqw"
      },
      "execution_count": null,
      "outputs": []
    },
    {
      "cell_type": "code",
      "source": [
        "# P-median 하기 위해 별도 생성 \n",
        "X2 = df.iloc[:, 8:]"
      ],
      "metadata": {
        "id": "iKsW1XfnHGZ3"
      },
      "execution_count": null,
      "outputs": []
    },
    {
      "cell_type": "code",
      "source": [
        "X2.columns"
      ],
      "metadata": {
        "colab": {
          "base_uri": "https://localhost:8080/"
        },
        "id": "ZtUsDQl4I58Z",
        "outputId": "3b78e21e-1d84-415c-aa0b-4a80c40eeeb4"
      },
      "execution_count": null,
      "outputs": [
        {
          "output_type": "execute_result",
          "data": {
            "text/plain": [
              "Index(['동별전체인구', '동별시니어수', '행정동별시니어비율', '유동인구', '디지털정보지수', '주변특성', '대중교통'], dtype='object')"
            ]
          },
          "metadata": {},
          "execution_count": 22
        }
      ]
    },
    {
      "cell_type": "code",
      "source": [
        "pd.options.display.float_format = '{:.2f}'.format"
      ],
      "metadata": {
        "id": "4NUSE0BFcim9"
      },
      "execution_count": null,
      "outputs": []
    },
    {
      "cell_type": "code",
      "source": [
        "#Standardize data \n",
        "sc = StandardScaler()\n",
        "X2_sc = sc.fit_transform(X2)\n",
        "X2_sc"
      ],
      "metadata": {
        "id": "ptDyGgu-j4ha",
        "colab": {
          "base_uri": "https://localhost:8080/"
        },
        "outputId": "2785ccf8-3e91-489a-a615-1bfb132644c4"
      },
      "execution_count": null,
      "outputs": [
        {
          "output_type": "execute_result",
          "data": {
            "text/plain": [
              "array([[-1.18161867, -1.18315737, -0.10230478, ..., -1.23245372,\n",
              "        -0.95345728, -0.35057602],\n",
              "       [-1.46551641, -1.3969157 ,  0.25232014, ..., -1.46560497,\n",
              "         1.73275908, -0.35057602],\n",
              "       [-1.702461  , -1.30101574,  2.47134563, ..., -1.51050935,\n",
              "         2.62816453,  2.27358857],\n",
              "       ...,\n",
              "       [ 2.40196392,  1.48187563, -1.07072693, ...,  1.83560661,\n",
              "        -0.05805183,  0.96150628],\n",
              "       [-0.4402817 , -0.30616568,  0.20447717, ..., -0.34090115,\n",
              "        -0.95345728,  0.96150628],\n",
              "       [-1.21767782, -1.11235273,  0.31490026, ..., -1.13413517,\n",
              "        -0.05805183, -0.35057602]])"
            ]
          },
          "metadata": {},
          "execution_count": 24
        }
      ]
    },
    {
      "cell_type": "markdown",
      "source": [
        "#Sparse PCA "
      ],
      "metadata": {
        "id": "GYtLkEkx3Bgq"
      }
    },
    {
      "cell_type": "code",
      "source": [
        "from sklearn.decomposition import SparsePCA "
      ],
      "metadata": {
        "id": "5KP_1dxh3ENY"
      },
      "execution_count": null,
      "outputs": []
    },
    {
      "cell_type": "code",
      "source": [
        "spca = SparsePCA( alpha = 0.01, random_state = 42)\n",
        "pc = spca.fit_transform(X2_sc) # df 변수 확인 \n",
        "\n",
        "explained_variance = np.var(pc, axis=0) # 설명변수 \n",
        "explained_variance_ratio = explained_variance / np.sum(explained_variance) #누적 설명변수 \n",
        "\n",
        "print(\"variance ratio(분산비율) : \", np.var(pc, axis=0))\n",
        "print(\"culmulative variance ratio at SPC3 component : \", np.cumsum([e for e in explained_variance_ratio if e !=0]))\n"
      ],
      "metadata": {
        "id": "BlfFVVUW3FKR",
        "colab": {
          "base_uri": "https://localhost:8080/"
        },
        "outputId": "f8a5c768-0cb0-4ca7-f3f1-6966f400c15e"
      },
      "execution_count": null,
      "outputs": [
        {
          "output_type": "stream",
          "name": "stdout",
          "text": [
            "variance ratio(분산비율) :  [2.65112229 0.81332618 0.95764062 0.83642131 0.28462836 0.23307647\n",
            " 0.06682052]\n",
            "culmulative variance ratio at SPC3 component :  [0.45372344 0.59291927 0.75681363 0.89996205 0.94867446 0.98856408\n",
            " 1.        ]\n"
          ]
        }
      ]
    },
    {
      "cell_type": "markdown",
      "source": [
        "* 궁금한 부분  \n",
        " * alpha값 조정은 무슨 기준으로 하면 되는지 \n",
        " * 분산비율이 어느정도가 적절한건지 \n",
        " * 누적이 이렇게 나오는게 맞는건지 ^^"
      ],
      "metadata": {
        "id": "i3WG7619eaI7"
      }
    },
    {
      "cell_type": "code",
      "source": [
        "# cumulative variance plot \n",
        "plt.figure(figsize = (15,6))\n",
        "plt.plot(range(0,np.cumsum([e for e in explained_variance_ratio if e !=0]).shape[0]), \n",
        "         np.cumsum([e for e in explained_variance_ratio if e !=0]), marker = 'o', linestyle = '--')\n",
        "\n",
        "plt.title('Explained Variance of Components')\n",
        "plt.xlabel('# of components')\n",
        "plt.ylabel('Cumulative explained variance')\n",
        "plt.show()"
      ],
      "metadata": {
        "colab": {
          "base_uri": "https://localhost:8080/",
          "height": 298
        },
        "id": "AL_Dw8qqerUG",
        "outputId": "a7063c75-b8a6-44b2-f32c-a96c732d68a0"
      },
      "execution_count": null,
      "outputs": [
        {
          "output_type": "display_data",
          "data": {
            "text/plain": [
              "<Figure size 1080x432 with 1 Axes>"
            ],
            "image/png": "[encoded data removed]"
          },
          "metadata": {
            "needs_background": "light"
          }
        }
      ]
    },
    {
      "cell_type": "code",
      "source": [
        "spca = SparsePCA( n_components = 3, alpha = 0.01)\n",
        "pc = spca.fit_transform(X2_sc) # df 변수 확인 \n",
        "\n",
        "explained_variance = np.var(pc, axis=0) # 설명변수 \n",
        "explained_variance_ratio = explained_variance / np.sum(explained_variance) #누적 설명변수 \n",
        "\n",
        "print(\"variance ratio(분산비율) : \", np.var(pc, axis=0))\n",
        "print(\"culmulative variance ratio at SPC3 component : \", np.cumsum([e for e in explained_variance_ratio if e !=0]))\n"
      ],
      "metadata": {
        "colab": {
          "base_uri": "https://localhost:8080/"
        },
        "id": "8XUK_bRAf0pv",
        "outputId": "52ff047d-eb8d-4f78-be2b-775182af5e18"
      },
      "execution_count": null,
      "outputs": [
        {
          "output_type": "stream",
          "name": "stdout",
          "text": [
            "variance ratio(분산비율) :  [3.59046629 1.27364165 0.95530352]\n",
            "culmulative variance ratio at SPC3 component :  [0.616981  0.8358419 1.       ]\n"
          ]
        }
      ]
    },
    {
      "cell_type": "code",
      "source": [
        "from sklearn.decomposition import PCA\n",
        "pca = PCA(n_components=3) # 주성분을 몇개로 할지 결정\n",
        "printcipalComponents = pca.fit_transform(X2_sc)\n",
        "principalDf = pd.DataFrame(data=printcipalComponents, columns = ['principal component1', 'principal component2','principal component3'])\n",
        "# 주성분으로 이루어진 데이터 프레임 구성"
      ],
      "metadata": {
        "id": "5zSzvaFRqIif"
      },
      "execution_count": null,
      "outputs": []
    },
    {
      "cell_type": "code",
      "source": [
        "pca.explained_variance_ratio_"
      ],
      "metadata": {
        "colab": {
          "base_uri": "https://localhost:8080/"
        },
        "id": "4OMcsU4DqVIP",
        "outputId": "a92d5e7e-76dd-4954-a3ad-47bfe863e7e3"
      },
      "execution_count": null,
      "outputs": [
        {
          "output_type": "execute_result",
          "data": {
            "text/plain": [
              "array([0.52347683, 0.18721109, 0.13758016])"
            ]
          },
          "metadata": {},
          "execution_count": 34
        }
      ]
    },
    {
      "cell_type": "code",
      "source": [
        "spca_col = ['spca_component_'+ str(x+1) for x in range(3) ]\n",
        "f_spca = pd.DataFrame(pc, columns = spca_col)"
      ],
      "metadata": {
        "id": "1Q-bIGG541xL"
      },
      "execution_count": null,
      "outputs": []
    },
    {
      "cell_type": "code",
      "source": [
        "spca_components = pd.DataFrame(spca.components_, columns = list(X2.columns)) \n",
        "spca_components"
      ],
      "metadata": {
        "id": "QVpQqFjj5bEy",
        "colab": {
          "base_uri": "https://localhost:8080/",
          "height": 143
        },
        "outputId": "b137ac88-6621-41cc-dadf-7082038230f0"
      },
      "execution_count": null,
      "outputs": [
        {
          "output_type": "execute_result",
          "data": {
            "text/plain": [
              "   동별전체인구  동별시니어수  행정동별시니어비율  유동인구  디지털정보지수  주변특성  대중교통\n",
              "0    0.49    0.51       0.00  0.48     0.51  0.05  0.00\n",
              "1   -0.26    0.10       0.76  0.13    -0.05  0.54  0.20\n",
              "2    0.07   -0.05      -0.26 -0.04     0.00  0.12  0.95"
            ],
            "text/html": [
              "\n",
              "  <div id=\"df-d7ad5a73-562f-40bd-b633-affec6c35008\">\n",
              "    <div class=\"colab-df-container\">\n",
              "      <div>\n",
              "<style scoped>\n",
              "    .dataframe tbody tr th:only-of-type {\n",
              "        vertical-align: middle;\n",
              "    }\n",
              "\n",
              "    .dataframe tbody tr th {\n",
              "        vertical-align: top;\n",
              "    }\n",
              "\n",
              "    .dataframe thead th {\n",
              "        text-align: right;\n",
              "    }\n",
              "</style>\n",
              "<table border=\"1\" class=\"dataframe\">\n",
              "  <thead>\n",
              "    <tr style=\"text-align: right;\">\n",
              "      <th></th>\n",
              "      <th>동별전체인구</th>\n",
              "      <th>동별시니어수</th>\n",
              "      <th>행정동별시니어비율</th>\n",
              "      <th>유동인구</th>\n",
              "      <th>디지털정보지수</th>\n",
              "      <th>주변특성</th>\n",
              "      <th>대중교통</th>\n",
              "    </tr>\n",
              "  </thead>\n",
              "  <tbody>\n",
              "    <tr>\n",
              "      <th>0</th>\n",
              "      <td>0.49</td>\n",
              "      <td>0.51</td>\n",
              "      <td>0.00</td>\n",
              "      <td>0.48</td>\n",
              "      <td>0.51</td>\n",
              "      <td>0.05</td>\n",
              "      <td>0.00</td>\n",
              "    </tr>\n",
              "    <tr>\n",
              "      <th>1</th>\n",
              "      <td>-0.26</td>\n",
              "      <td>0.10</td>\n",
              "      <td>0.76</td>\n",
              "      <td>0.13</td>\n",
              "      <td>-0.05</td>\n",
              "      <td>0.54</td>\n",
              "      <td>0.20</td>\n",
              "    </tr>\n",
              "    <tr>\n",
              "      <th>2</th>\n",
              "      <td>0.07</td>\n",
              "      <td>-0.05</td>\n",
              "      <td>-0.26</td>\n",
              "      <td>-0.04</td>\n",
              "      <td>0.00</td>\n",
              "      <td>0.12</td>\n",
              "      <td>0.95</td>\n",
              "    </tr>\n",
              "  </tbody>\n",
              "</table>\n",
              "</div>\n",
              "      <button class=\"colab-df-convert\" onclick=\"convertToInteractive('df-d7ad5a73-562f-40bd-b633-affec6c35008')\"\n",
              "              title=\"Convert this dataframe to an interactive table.\"\n",
              "              style=\"display:none;\">\n",
              "        \n",
              "  <svg xmlns=\"http://www.w3.org/2000/svg\" height=\"24px\"viewBox=\"0 0 24 24\"\n",
              "       width=\"24px\">\n",
              "    <path d=\"M0 0h24v24H0V0z\" fill=\"none\"/>\n",
              "    <path d=\"M18.56 5.44l.94 2.06.94-2.06 2.06-.94-2.06-.94-.94-2.06-.94 2.06-2.06.94zm-11 1L8.5 8.5l.94-2.06 2.06-.94-2.06-.94L8.5 2.5l-.94 2.06-2.06.94zm10 10l.94 2.06.94-2.06 2.06-.94-2.06-.94-.94-2.06-.94 2.06-2.06.94z\"/><path d=\"M17.41 7.96l-1.37-1.37c-.4-.4-.92-.59-1.43-.59-.52 0-1.04.2-1.43.59L10.3 9.45l-7.72 7.72c-.78.78-.78 2.05 0 2.83L4 21.41c.39.39.9.59 1.41.59.51 0 1.02-.2 1.41-.59l7.78-7.78 2.81-2.81c.8-.78.8-2.07 0-2.86zM5.41 20L4 18.59l7.72-7.72 1.47 1.35L5.41 20z\"/>\n",
              "  </svg>\n",
              "      </button>\n",
              "      \n",
              "  <style>\n",
              "    .colab-df-container {\n",
              "      display:flex;\n",
              "      flex-wrap:wrap;\n",
              "      gap: 12px;\n",
              "    }\n",
              "\n",
              "    .colab-df-convert {\n",
              "      background-color: #E8F0FE;\n",
              "      border: none;\n",
              "      border-radius: 50%;\n",
              "      cursor: pointer;\n",
              "      display: none;\n",
              "      fill: #1967D2;\n",
              "      height: 32px;\n",
              "      padding: 0 0 0 0;\n",
              "      width: 32px;\n",
              "    }\n",
              "\n",
              "    .colab-df-convert:hover {\n",
              "      background-color: #E2EBFA;\n",
              "      box-shadow: 0px 1px 2px rgba(60, 64, 67, 0.3), 0px 1px 3px 1px rgba(60, 64, 67, 0.15);\n",
              "      fill: #174EA6;\n",
              "    }\n",
              "\n",
              "    [theme=dark] .colab-df-convert {\n",
              "      background-color: #3B4455;\n",
              "      fill: #D2E3FC;\n",
              "    }\n",
              "\n",
              "    [theme=dark] .colab-df-convert:hover {\n",
              "      background-color: #434B5C;\n",
              "      box-shadow: 0px 1px 3px 1px rgba(0, 0, 0, 0.15);\n",
              "      filter: drop-shadow(0px 1px 2px rgba(0, 0, 0, 0.3));\n",
              "      fill: #FFFFFF;\n",
              "    }\n",
              "  </style>\n",
              "\n",
              "      <script>\n",
              "        const buttonEl =\n",
              "          document.querySelector('#df-d7ad5a73-562f-40bd-b633-affec6c35008 button.colab-df-convert');\n",
              "        buttonEl.style.display =\n",
              "          google.colab.kernel.accessAllowed ? 'block' : 'none';\n",
              "\n",
              "        async function convertToInteractive(key) {\n",
              "          const element = document.querySelector('#df-d7ad5a73-562f-40bd-b633-affec6c35008');\n",
              "          const dataTable =\n",
              "            await google.colab.kernel.invokeFunction('convertToInteractive',\n",
              "                                                     [key], {});\n",
              "          if (!dataTable) return;\n",
              "\n",
              "          const docLinkHtml = 'Like what you see? Visit the ' +\n",
              "            '<a target=\"_blank\" href=https://colab.research.google.com/notebooks/data_table.ipynb>data table notebook</a>'\n",
              "            + ' to learn more about interactive tables.';\n",
              "          element.innerHTML = '';\n",
              "          dataTable['output_type'] = 'display_data';\n",
              "          await google.colab.output.renderOutput(dataTable, element);\n",
              "          const docLink = document.createElement('div');\n",
              "          docLink.innerHTML = docLinkHtml;\n",
              "          element.appendChild(docLink);\n",
              "        }\n",
              "      </script>\n",
              "    </div>\n",
              "  </div>\n",
              "  "
            ]
          },
          "metadata": {},
          "execution_count": 28
        }
      ]
    },
    {
      "cell_type": "code",
      "source": [
        "# SPCA축의 가장 중요한 변수\n",
        "n_pcs= spca.components_.shape[0]\n",
        "most_important = [np.abs(spca.components_[i]).argmax() for i in range(n_pcs)]\n",
        "\n",
        "initial_feature_names = X2.columns # Xcolumns\n",
        "most_important_names = [initial_feature_names[most_important[i]] for i in range(n_pcs)]\n",
        "\n",
        "dic = {'PC{}'.format(i+1): most_important_names[i] for i in range(n_pcs)}\n",
        "\n",
        "df_pca = pd.DataFrame(dic.items())\n",
        "df_pca.columns = ['spca','element']\n",
        "df_pca['value']=None\n",
        "for i in range(len(df_pca)):\n",
        "    a = df_pca['element'][i]\n",
        "    df_pca['value'][i] = spca_components[a][i]\n",
        "    \n",
        "df_pca"
      ],
      "metadata": {
        "id": "3o3sSK5H6Elt",
        "colab": {
          "base_uri": "https://localhost:8080/",
          "height": 143
        },
        "outputId": "c404ed1d-f0ad-417a-dc1a-25a00cc32b5c"
      },
      "execution_count": null,
      "outputs": [
        {
          "output_type": "execute_result",
          "data": {
            "text/plain": [
              "  spca    element value\n",
              "0  PC1    디지털정보지수  0.51\n",
              "1  PC2  행정동별시니어비율  0.76\n",
              "2  PC3       대중교통  0.95"
            ],
            "text/html": [
              "\n",
              "  <div id=\"df-31842863-bab7-4028-b077-74ccca1521bf\">\n",
              "    <div class=\"colab-df-container\">\n",
              "      <div>\n",
              "<style scoped>\n",
              "    .dataframe tbody tr th:only-of-type {\n",
              "        vertical-align: middle;\n",
              "    }\n",
              "\n",
              "    .dataframe tbody tr th {\n",
              "        vertical-align: top;\n",
              "    }\n",
              "\n",
              "    .dataframe thead th {\n",
              "        text-align: right;\n",
              "    }\n",
              "</style>\n",
              "<table border=\"1\" class=\"dataframe\">\n",
              "  <thead>\n",
              "    <tr style=\"text-align: right;\">\n",
              "      <th></th>\n",
              "      <th>spca</th>\n",
              "      <th>element</th>\n",
              "      <th>value</th>\n",
              "    </tr>\n",
              "  </thead>\n",
              "  <tbody>\n",
              "    <tr>\n",
              "      <th>0</th>\n",
              "      <td>PC1</td>\n",
              "      <td>디지털정보지수</td>\n",
              "      <td>0.51</td>\n",
              "    </tr>\n",
              "    <tr>\n",
              "      <th>1</th>\n",
              "      <td>PC2</td>\n",
              "      <td>행정동별시니어비율</td>\n",
              "      <td>0.76</td>\n",
              "    </tr>\n",
              "    <tr>\n",
              "      <th>2</th>\n",
              "      <td>PC3</td>\n",
              "      <td>대중교통</td>\n",
              "      <td>0.95</td>\n",
              "    </tr>\n",
              "  </tbody>\n",
              "</table>\n",
              "</div>\n",
              "      <button class=\"colab-df-convert\" onclick=\"convertToInteractive('df-31842863-bab7-4028-b077-74ccca1521bf')\"\n",
              "              title=\"Convert this dataframe to an interactive table.\"\n",
              "              style=\"display:none;\">\n",
              "        \n",
              "  <svg xmlns=\"http://www.w3.org/2000/svg\" height=\"24px\"viewBox=\"0 0 24 24\"\n",
              "       width=\"24px\">\n",
              "    <path d=\"M0 0h24v24H0V0z\" fill=\"none\"/>\n",
              "    <path d=\"M18.56 5.44l.94 2.06.94-2.06 2.06-.94-2.06-.94-.94-2.06-.94 2.06-2.06.94zm-11 1L8.5 8.5l.94-2.06 2.06-.94-2.06-.94L8.5 2.5l-.94 2.06-2.06.94zm10 10l.94 2.06.94-2.06 2.06-.94-2.06-.94-.94-2.06-.94 2.06-2.06.94z\"/><path d=\"M17.41 7.96l-1.37-1.37c-.4-.4-.92-.59-1.43-.59-.52 0-1.04.2-1.43.59L10.3 9.45l-7.72 7.72c-.78.78-.78 2.05 0 2.83L4 21.41c.39.39.9.59 1.41.59.51 0 1.02-.2 1.41-.59l7.78-7.78 2.81-2.81c.8-.78.8-2.07 0-2.86zM5.41 20L4 18.59l7.72-7.72 1.47 1.35L5.41 20z\"/>\n",
              "  </svg>\n",
              "      </button>\n",
              "      \n",
              "  <style>\n",
              "    .colab-df-container {\n",
              "      display:flex;\n",
              "      flex-wrap:wrap;\n",
              "      gap: 12px;\n",
              "    }\n",
              "\n",
              "    .colab-df-convert {\n",
              "      background-color: #E8F0FE;\n",
              "      border: none;\n",
              "      border-radius: 50%;\n",
              "      cursor: pointer;\n",
              "      display: none;\n",
              "      fill: #1967D2;\n",
              "      height: 32px;\n",
              "      padding: 0 0 0 0;\n",
              "      width: 32px;\n",
              "    }\n",
              "\n",
              "    .colab-df-convert:hover {\n",
              "      background-color: #E2EBFA;\n",
              "      box-shadow: 0px 1px 2px rgba(60, 64, 67, 0.3), 0px 1px 3px 1px rgba(60, 64, 67, 0.15);\n",
              "      fill: #174EA6;\n",
              "    }\n",
              "\n",
              "    [theme=dark] .colab-df-convert {\n",
              "      background-color: #3B4455;\n",
              "      fill: #D2E3FC;\n",
              "    }\n",
              "\n",
              "    [theme=dark] .colab-df-convert:hover {\n",
              "      background-color: #434B5C;\n",
              "      box-shadow: 0px 1px 3px 1px rgba(0, 0, 0, 0.15);\n",
              "      filter: drop-shadow(0px 1px 2px rgba(0, 0, 0, 0.3));\n",
              "      fill: #FFFFFF;\n",
              "    }\n",
              "  </style>\n",
              "\n",
              "      <script>\n",
              "        const buttonEl =\n",
              "          document.querySelector('#df-31842863-bab7-4028-b077-74ccca1521bf button.colab-df-convert');\n",
              "        buttonEl.style.display =\n",
              "          google.colab.kernel.accessAllowed ? 'block' : 'none';\n",
              "\n",
              "        async function convertToInteractive(key) {\n",
              "          const element = document.querySelector('#df-31842863-bab7-4028-b077-74ccca1521bf');\n",
              "          const dataTable =\n",
              "            await google.colab.kernel.invokeFunction('convertToInteractive',\n",
              "                                                     [key], {});\n",
              "          if (!dataTable) return;\n",
              "\n",
              "          const docLinkHtml = 'Like what you see? Visit the ' +\n",
              "            '<a target=\"_blank\" href=https://colab.research.google.com/notebooks/data_table.ipynb>data table notebook</a>'\n",
              "            + ' to learn more about interactive tables.';\n",
              "          element.innerHTML = '';\n",
              "          dataTable['output_type'] = 'display_data';\n",
              "          await google.colab.output.renderOutput(dataTable, element);\n",
              "          const docLink = document.createElement('div');\n",
              "          docLink.innerHTML = docLinkHtml;\n",
              "          element.appendChild(docLink);\n",
              "        }\n",
              "      </script>\n",
              "    </div>\n",
              "  </div>\n",
              "  "
            ]
          },
          "metadata": {},
          "execution_count": 29
        }
      ]
    },
    {
      "cell_type": "markdown",
      "source": [
        "# K-MEANS Clustering "
      ],
      "metadata": {
        "id": "wAV3CPTSlhJ1"
      }
    },
    {
      "cell_type": "code",
      "source": [
        "#K-means Clustering \n",
        "inertia = []\n",
        "for i in range(1,10):\n",
        "    kmeans_spca = KMeans(n_clusters = i, init = 'k-means++', random_state = 42)\n",
        "    kmeans_spca.fit(pc)\n",
        "    inertia.append(kmeans_spca.inertia_)\n",
        "    \n",
        "# 최적의 Cluster 개수 찾기 (elbow point)\n",
        "plt.figure(figsize = (10,8))\n",
        "plt.plot(range(1,10), inertia, marker = 'o', linestyle = '--')\n",
        "plt.xlabel('# of clusters')\n",
        "plt.ylabel('inertia')\n",
        "plt.title('K-means with SPCA clustering')\n",
        "plt.show()"
      ],
      "metadata": {
        "colab": {
          "base_uri": "https://localhost:8080/",
          "height": 513
        },
        "id": "bbpSsbWph38n",
        "outputId": "cab97df4-1669-4edb-e1fa-94f2e62f626e"
      },
      "execution_count": null,
      "outputs": [
        {
          "output_type": "display_data",
          "data": {
            "text/plain": [
              "<Figure size 720x576 with 1 Axes>"
            ],
            "image/png": "[encoded data removed]"
          },
          "metadata": {
            "needs_background": "light"
          }
        }
      ]
    },
    {
      "cell_type": "markdown",
      "source": [
        "* inertia : k-평균 알고리즘은 클러스터 중심과 클러스터에 속한 샘플 사이의 거리를 잴 수 있는데,이 거리의 제곱 합을 이너셔(intertia)라고 부른다.이너셔는 클러스터에 속한 샘플이 얼마나 가깝게 모여 있는지를 나타내는 값이라고 생각할 수 있다.일반적으로 클러스터의 개수가 늘어나면 클러스터 각각의 크기는 줄어들기 때문에, 이너셔 또한 함께 줄어든다."
      ],
      "metadata": {
        "id": "H8C0SdZJnowH"
      }
    },
    {
      "cell_type": "code",
      "source": [
        "kmeans_spca = KMeans(n_clusters = 3, init = 'k-means++', random_state = 100)\n",
        "kmeans_spca.fit(pc)\n",
        "\n",
        "df['kmeans'] = kmeans_spca.labels_\n",
        "\n",
        "kmeans_spca_df = pd.concat([df, f_spca], axis = 1)\n",
        "kmeans_spca_df.head(3)"
      ],
      "metadata": {
        "colab": {
          "base_uri": "https://localhost:8080/",
          "height": 989
        },
        "id": "81gVt1CBoXGL",
        "outputId": "95dc6607-3e6e-494a-dced-19940dfd2ad7"
      },
      "execution_count": null,
      "outputs": [
        {
          "output_type": "execute_result",
          "data": {
            "text/plain": [
              "   자치구            동           시설명                 주소    위도     경도     위도UTMK  \\\n",
              "0  종로구        청운효자동    청운효자동 주민센터  서울특별시 종로구 자하문로 92 37.58 126.97 1953680.41   \n",
              "1  종로구          사직동      사직동 주민센터  서울특별시 종로구 사직로9길 1 37.58 126.97 1952805.72   \n",
              "2  종로구  종로1.2.3.4가동  종로1-4가동 주민센터  서울특별시 종로구 종로17길 8 37.57 126.99 1952189.71   \n",
              "\n",
              "     경도UTMK   동별전체인구  동별시니어수  행정동별시니어비율      유동인구  디지털정보지수  주변특성  대중교통  \\\n",
              "0 953451.03 11978.00 2945.00       0.25 336867.54  2933.53  0.00  1.00   \n",
              "1 953286.59  9372.00 2468.00       0.26 282305.29  2406.94  3.00  1.00   \n",
              "2 955056.68  7197.00 2682.00       0.37 306783.95  2305.52  4.00  5.00   \n",
              "\n",
              "   kmeans  spca_component_1  spca_component_2  spca_component_3  \n",
              "0       2             -1.86             -0.42             -0.44  \n",
              "1       2             -2.28              1.27             -0.25  \n",
              "2       2             -2.20              3.97              1.66  "
            ],
            "text/html": [
              "\n",
              "  <div id=\"df-7b750102-c950-486b-81f2-3bb638a2f2b5\">\n",
              "    <div class=\"colab-df-container\">\n",
              "      <div>\n",
              "<style scoped>\n",
              "    .dataframe tbody tr th:only-of-type {\n",
              "        vertical-align: middle;\n",
              "    }\n",
              "\n",
              "    .dataframe tbody tr th {\n",
              "        vertical-align: top;\n",
              "    }\n",
              "\n",
              "    .dataframe thead th {\n",
              "        text-align: right;\n",
              "    }\n",
              "</style>\n",
              "<table border=\"1\" class=\"dataframe\">\n",
              "  <thead>\n",
              "    <tr style=\"text-align: right;\">\n",
              "      <th></th>\n",
              "      <th>자치구</th>\n",
              "      <th>동</th>\n",
              "      <th>시설명</th>\n",
              "      <th>주소</th>\n",
              "      <th>위도</th>\n",
              "      <th>경도</th>\n",
              "      <th>위도UTMK</th>\n",
              "      <th>경도UTMK</th>\n",
              "      <th>동별전체인구</th>\n",
              "      <th>동별시니어수</th>\n",
              "      <th>행정동별시니어비율</th>\n",
              "      <th>유동인구</th>\n",
              "      <th>디지털정보지수</th>\n",
              "      <th>주변특성</th>\n",
              "      <th>대중교통</th>\n",
              "      <th>kmeans</th>\n",
              "      <th>spca_component_1</th>\n",
              "      <th>spca_component_2</th>\n",
              "      <th>spca_component_3</th>\n",
              "    </tr>\n",
              "  </thead>\n",
              "  <tbody>\n",
              "    <tr>\n",
              "      <th>0</th>\n",
              "      <td>종로구</td>\n",
              "      <td>청운효자동</td>\n",
              "      <td>청운효자동 주민센터</td>\n",
              "      <td>서울특별시 종로구 자하문로 92</td>\n",
              "      <td>37.58</td>\n",
              "      <td>126.97</td>\n",
              "      <td>1953680.41</td>\n",
              "      <td>953451.03</td>\n",
              "      <td>11978.00</td>\n",
              "      <td>2945.00</td>\n",
              "      <td>0.25</td>\n",
              "      <td>336867.54</td>\n",
              "      <td>2933.53</td>\n",
              "      <td>0.00</td>\n",
              "      <td>1.00</td>\n",
              "      <td>2</td>\n",
              "      <td>-1.86</td>\n",
              "      <td>-0.42</td>\n",
              "      <td>-0.44</td>\n",
              "    </tr>\n",
              "    <tr>\n",
              "      <th>1</th>\n",
              "      <td>종로구</td>\n",
              "      <td>사직동</td>\n",
              "      <td>사직동 주민센터</td>\n",
              "      <td>서울특별시 종로구 사직로9길 1</td>\n",
              "      <td>37.58</td>\n",
              "      <td>126.97</td>\n",
              "      <td>1952805.72</td>\n",
              "      <td>953286.59</td>\n",
              "      <td>9372.00</td>\n",
              "      <td>2468.00</td>\n",
              "      <td>0.26</td>\n",
              "      <td>282305.29</td>\n",
              "      <td>2406.94</td>\n",
              "      <td>3.00</td>\n",
              "      <td>1.00</td>\n",
              "      <td>2</td>\n",
              "      <td>-2.28</td>\n",
              "      <td>1.27</td>\n",
              "      <td>-0.25</td>\n",
              "    </tr>\n",
              "    <tr>\n",
              "      <th>2</th>\n",
              "      <td>종로구</td>\n",
              "      <td>종로1.2.3.4가동</td>\n",
              "      <td>종로1-4가동 주민센터</td>\n",
              "      <td>서울특별시 종로구 종로17길 8</td>\n",
              "      <td>37.57</td>\n",
              "      <td>126.99</td>\n",
              "      <td>1952189.71</td>\n",
              "      <td>955056.68</td>\n",
              "      <td>7197.00</td>\n",
              "      <td>2682.00</td>\n",
              "      <td>0.37</td>\n",
              "      <td>306783.95</td>\n",
              "      <td>2305.52</td>\n",
              "      <td>4.00</td>\n",
              "      <td>5.00</td>\n",
              "      <td>2</td>\n",
              "      <td>-2.20</td>\n",
              "      <td>3.97</td>\n",
              "      <td>1.66</td>\n",
              "    </tr>\n",
              "  </tbody>\n",
              "</table>\n",
              "</div>\n",
              "      <button class=\"colab-df-convert\" onclick=\"convertToInteractive('df-7b750102-c950-486b-81f2-3bb638a2f2b5')\"\n",
              "              title=\"Convert this dataframe to an interactive table.\"\n",
              "              style=\"display:none;\">\n",
              "        \n",
              "  <svg xmlns=\"http://www.w3.org/2000/svg\" height=\"24px\"viewBox=\"0 0 24 24\"\n",
              "       width=\"24px\">\n",
              "    <path d=\"M0 0h24v24H0V0z\" fill=\"none\"/>\n",
              "    <path d=\"M18.56 5.44l.94 2.06.94-2.06 2.06-.94-2.06-.94-.94-2.06-.94 2.06-2.06.94zm-11 1L8.5 8.5l.94-2.06 2.06-.94-2.06-.94L8.5 2.5l-.94 2.06-2.06.94zm10 10l.94 2.06.94-2.06 2.06-.94-2.06-.94-.94-2.06-.94 2.06-2.06.94z\"/><path d=\"M17.41 7.96l-1.37-1.37c-.4-.4-.92-.59-1.43-.59-.52 0-1.04.2-1.43.59L10.3 9.45l-7.72 7.72c-.78.78-.78 2.05 0 2.83L4 21.41c.39.39.9.59 1.41.59.51 0 1.02-.2 1.41-.59l7.78-7.78 2.81-2.81c.8-.78.8-2.07 0-2.86zM5.41 20L4 18.59l7.72-7.72 1.47 1.35L5.41 20z\"/>\n",
              "  </svg>\n",
              "      </button>\n",
              "      \n",
              "  <style>\n",
              "    .colab-df-container {\n",
              "      display:flex;\n",
              "      flex-wrap:wrap;\n",
              "      gap: 12px;\n",
              "    }\n",
              "\n",
              "    .colab-df-convert {\n",
              "      background-color: #E8F0FE;\n",
              "      border: none;\n",
              "      border-radius: 50%;\n",
              "      cursor: pointer;\n",
              "      display: none;\n",
              "      fill: #1967D2;\n",
              "      height: 32px;\n",
              "      padding: 0 0 0 0;\n",
              "      width: 32px;\n",
              "    }\n",
              "\n",
              "    .colab-df-convert:hover {\n",
              "      background-color: #E2EBFA;\n",
              "      box-shadow: 0px 1px 2px rgba(60, 64, 67, 0.3), 0px 1px 3px 1px rgba(60, 64, 67, 0.15);\n",
              "      fill: #174EA6;\n",
              "    }\n",
              "\n",
              "    [theme=dark] .colab-df-convert {\n",
              "      background-color: #3B4455;\n",
              "      fill: #D2E3FC;\n",
              "    }\n",
              "\n",
              "    [theme=dark] .colab-df-convert:hover {\n",
              "      background-color: #434B5C;\n",
              "      box-shadow: 0px 1px 3px 1px rgba(0, 0, 0, 0.15);\n",
              "      filter: drop-shadow(0px 1px 2px rgba(0, 0, 0, 0.3));\n",
              "      fill: #FFFFFF;\n",
              "    }\n",
              "  </style>\n",
              "\n",
              "      <script>\n",
              "        const buttonEl =\n",
              "          document.querySelector('#df-7b750102-c950-486b-81f2-3bb638a2f2b5 button.colab-df-convert');\n",
              "        buttonEl.style.display =\n",
              "          google.colab.kernel.accessAllowed ? 'block' : 'none';\n",
              "\n",
              "        async function convertToInteractive(key) {\n",
              "          const element = document.querySelector('#df-7b750102-c950-486b-81f2-3bb638a2f2b5');\n",
              "          const dataTable =\n",
              "            await google.colab.kernel.invokeFunction('convertToInteractive',\n",
              "                                                     [key], {});\n",
              "          if (!dataTable) return;\n",
              "\n",
              "          const docLinkHtml = 'Like what you see? Visit the ' +\n",
              "            '<a target=\"_blank\" href=https://colab.research.google.com/notebooks/data_table.ipynb>data table notebook</a>'\n",
              "            + ' to learn more about interactive tables.';\n",
              "          element.innerHTML = '';\n",
              "          dataTable['output_type'] = 'display_data';\n",
              "          await google.colab.output.renderOutput(dataTable, element);\n",
              "          const docLink = document.createElement('div');\n",
              "          docLink.innerHTML = docLinkHtml;\n",
              "          element.appendChild(docLink);\n",
              "        }\n",
              "      </script>\n",
              "    </div>\n",
              "  </div>\n",
              "  "
            ]
          },
          "metadata": {},
          "execution_count": 31
        }
      ]
    },
    {
      "cell_type": "code",
      "source": [
        "# kmeans group \n",
        "group0 = kmeans_spca_df[kmeans_spca_df[\"kmeans\"] == 0]\n",
        "group1 = kmeans_spca_df[kmeans_spca_df[\"kmeans\"] == 1]\n",
        "group2 = kmeans_spca_df[kmeans_spca_df[\"kmeans\"] == 2]\n",
        "#group3 = kmeans_spca_df[kmeans_spca_df[\"kmeans\"] == 3]\n",
        "\n",
        "group0.shape, group1.shape, group2.shape#, group3.shape"
      ],
      "metadata": {
        "colab": {
          "base_uri": "https://localhost:8080/"
        },
        "id": "4906Bw7_p23c",
        "outputId": "9209cc09-f7fe-4fbb-fb0a-064d46fc1830"
      },
      "execution_count": null,
      "outputs": [
        {
          "output_type": "execute_result",
          "data": {
            "text/plain": [
              "((101, 19), (251, 19), (157, 19))"
            ]
          },
          "metadata": {},
          "execution_count": 32
        }
      ]
    },
    {
      "cell_type": "code",
      "source": [
        "kmeans_spca_df['kmeans'].value_counts()"
      ],
      "metadata": {
        "colab": {
          "base_uri": "https://localhost:8080/"
        },
        "id": "kn6BdGYvsXOd",
        "outputId": "c876128f-ab5c-4320-97cd-867bfd10ca34"
      },
      "execution_count": null,
      "outputs": [
        {
          "output_type": "execute_result",
          "data": {
            "text/plain": [
              "1    251\n",
              "2    157\n",
              "0    101\n",
              "Name: kmeans, dtype: int64"
            ]
          },
          "metadata": {},
          "execution_count": 33
        }
      ]
    },
    {
      "cell_type": "code",
      "source": [
        "cluster_mean = kmeans_spca_df.groupby('kmeans').mean()\n",
        "cluster_mean"
      ],
      "metadata": {
        "colab": {
          "base_uri": "https://localhost:8080/",
          "height": 378
        },
        "id": "fzEKIgKb1zlK",
        "outputId": "9460c06c-278c-422e-dcd0-b5ec360d6bdd"
      },
      "execution_count": null,
      "outputs": [
        {
          "output_type": "execute_result",
          "data": {
            "text/plain": [
              "          위도     경도     위도UTMK    경도UTMK   동별전체인구  동별시니어수  행정동별시니어비율  \\\n",
              "kmeans                                                                 \n",
              "0      37.56 126.98 1951129.23 954444.44 35087.24 8905.78       0.26   \n",
              "1      37.55 127.00 1949650.23 955681.81 23854.45 5687.67       0.24   \n",
              "2      37.55 126.99 1949934.48 955580.62 13289.14 3285.24       0.26   \n",
              "\n",
              "            유동인구  디지털정보지수  주변특성  대중교통  spca_component_1  spca_component_2  \\\n",
              "kmeans                                                                      \n",
              "0      513966.90  8998.05  1.39  1.60              2.84              0.25   \n",
              "1      341911.32  5898.89  0.92  1.66              0.12             -0.19   \n",
              "2      221364.72  3315.86  1.09  1.29             -2.02              0.14   \n",
              "\n",
              "        spca_component_3  \n",
              "kmeans                    \n",
              "0                   0.00  \n",
              "1                   0.11  \n",
              "2                  -0.17  "
            ],
            "text/html": [
              "\n",
              "  <div id=\"df-a2662d92-8e7c-4537-a7d1-0ed8a288f631\">\n",
              "    <div class=\"colab-df-container\">\n",
              "      <div>\n",
              "<style scoped>\n",
              "    .dataframe tbody tr th:only-of-type {\n",
              "        vertical-align: middle;\n",
              "    }\n",
              "\n",
              "    .dataframe tbody tr th {\n",
              "        vertical-align: top;\n",
              "    }\n",
              "\n",
              "    .dataframe thead th {\n",
              "        text-align: right;\n",
              "    }\n",
              "</style>\n",
              "<table border=\"1\" class=\"dataframe\">\n",
              "  <thead>\n",
              "    <tr style=\"text-align: right;\">\n",
              "      <th></th>\n",
              "      <th>위도</th>\n",
              "      <th>경도</th>\n",
              "      <th>위도UTMK</th>\n",
              "      <th>경도UTMK</th>\n",
              "      <th>동별전체인구</th>\n",
              "      <th>동별시니어수</th>\n",
              "      <th>행정동별시니어비율</th>\n",
              "      <th>유동인구</th>\n",
              "      <th>디지털정보지수</th>\n",
              "      <th>주변특성</th>\n",
              "      <th>대중교통</th>\n",
              "      <th>spca_component_1</th>\n",
              "      <th>spca_component_2</th>\n",
              "      <th>spca_component_3</th>\n",
              "    </tr>\n",
              "    <tr>\n",
              "      <th>kmeans</th>\n",
              "      <th></th>\n",
              "      <th></th>\n",
              "      <th></th>\n",
              "      <th></th>\n",
              "      <th></th>\n",
              "      <th></th>\n",
              "      <th></th>\n",
              "      <th></th>\n",
              "      <th></th>\n",
              "      <th></th>\n",
              "      <th></th>\n",
              "      <th></th>\n",
              "      <th></th>\n",
              "      <th></th>\n",
              "    </tr>\n",
              "  </thead>\n",
              "  <tbody>\n",
              "    <tr>\n",
              "      <th>0</th>\n",
              "      <td>37.56</td>\n",
              "      <td>126.98</td>\n",
              "      <td>1951129.23</td>\n",
              "      <td>954444.44</td>\n",
              "      <td>35087.24</td>\n",
              "      <td>8905.78</td>\n",
              "      <td>0.26</td>\n",
              "      <td>513966.90</td>\n",
              "      <td>8998.05</td>\n",
              "      <td>1.39</td>\n",
              "      <td>1.60</td>\n",
              "      <td>2.84</td>\n",
              "      <td>0.25</td>\n",
              "      <td>0.00</td>\n",
              "    </tr>\n",
              "    <tr>\n",
              "      <th>1</th>\n",
              "      <td>37.55</td>\n",
              "      <td>127.00</td>\n",
              "      <td>1949650.23</td>\n",
              "      <td>955681.81</td>\n",
              "      <td>23854.45</td>\n",
              "      <td>5687.67</td>\n",
              "      <td>0.24</td>\n",
              "      <td>341911.32</td>\n",
              "      <td>5898.89</td>\n",
              "      <td>0.92</td>\n",
              "      <td>1.66</td>\n",
              "      <td>0.12</td>\n",
              "      <td>-0.19</td>\n",
              "      <td>0.11</td>\n",
              "    </tr>\n",
              "    <tr>\n",
              "      <th>2</th>\n",
              "      <td>37.55</td>\n",
              "      <td>126.99</td>\n",
              "      <td>1949934.48</td>\n",
              "      <td>955580.62</td>\n",
              "      <td>13289.14</td>\n",
              "      <td>3285.24</td>\n",
              "      <td>0.26</td>\n",
              "      <td>221364.72</td>\n",
              "      <td>3315.86</td>\n",
              "      <td>1.09</td>\n",
              "      <td>1.29</td>\n",
              "      <td>-2.02</td>\n",
              "      <td>0.14</td>\n",
              "      <td>-0.17</td>\n",
              "    </tr>\n",
              "  </tbody>\n",
              "</table>\n",
              "</div>\n",
              "      <button class=\"colab-df-convert\" onclick=\"convertToInteractive('df-a2662d92-8e7c-4537-a7d1-0ed8a288f631')\"\n",
              "              title=\"Convert this dataframe to an interactive table.\"\n",
              "              style=\"display:none;\">\n",
              "        \n",
              "  <svg xmlns=\"http://www.w3.org/2000/svg\" height=\"24px\"viewBox=\"0 0 24 24\"\n",
              "       width=\"24px\">\n",
              "    <path d=\"M0 0h24v24H0V0z\" fill=\"none\"/>\n",
              "    <path d=\"M18.56 5.44l.94 2.06.94-2.06 2.06-.94-2.06-.94-.94-2.06-.94 2.06-2.06.94zm-11 1L8.5 8.5l.94-2.06 2.06-.94-2.06-.94L8.5 2.5l-.94 2.06-2.06.94zm10 10l.94 2.06.94-2.06 2.06-.94-2.06-.94-.94-2.06-.94 2.06-2.06.94z\"/><path d=\"M17.41 7.96l-1.37-1.37c-.4-.4-.92-.59-1.43-.59-.52 0-1.04.2-1.43.59L10.3 9.45l-7.72 7.72c-.78.78-.78 2.05 0 2.83L4 21.41c.39.39.9.59 1.41.59.51 0 1.02-.2 1.41-.59l7.78-7.78 2.81-2.81c.8-.78.8-2.07 0-2.86zM5.41 20L4 18.59l7.72-7.72 1.47 1.35L5.41 20z\"/>\n",
              "  </svg>\n",
              "      </button>\n",
              "      \n",
              "  <style>\n",
              "    .colab-df-container {\n",
              "      display:flex;\n",
              "      flex-wrap:wrap;\n",
              "      gap: 12px;\n",
              "    }\n",
              "\n",
              "    .colab-df-convert {\n",
              "      background-color: #E8F0FE;\n",
              "      border: none;\n",
              "      border-radius: 50%;\n",
              "      cursor: pointer;\n",
              "      display: none;\n",
              "      fill: #1967D2;\n",
              "      height: 32px;\n",
              "      padding: 0 0 0 0;\n",
              "      width: 32px;\n",
              "    }\n",
              "\n",
              "    .colab-df-convert:hover {\n",
              "      background-color: #E2EBFA;\n",
              "      box-shadow: 0px 1px 2px rgba(60, 64, 67, 0.3), 0px 1px 3px 1px rgba(60, 64, 67, 0.15);\n",
              "      fill: #174EA6;\n",
              "    }\n",
              "\n",
              "    [theme=dark] .colab-df-convert {\n",
              "      background-color: #3B4455;\n",
              "      fill: #D2E3FC;\n",
              "    }\n",
              "\n",
              "    [theme=dark] .colab-df-convert:hover {\n",
              "      background-color: #434B5C;\n",
              "      box-shadow: 0px 1px 3px 1px rgba(0, 0, 0, 0.15);\n",
              "      filter: drop-shadow(0px 1px 2px rgba(0, 0, 0, 0.3));\n",
              "      fill: #FFFFFF;\n",
              "    }\n",
              "  </style>\n",
              "\n",
              "      <script>\n",
              "        const buttonEl =\n",
              "          document.querySelector('#df-a2662d92-8e7c-4537-a7d1-0ed8a288f631 button.colab-df-convert');\n",
              "        buttonEl.style.display =\n",
              "          google.colab.kernel.accessAllowed ? 'block' : 'none';\n",
              "\n",
              "        async function convertToInteractive(key) {\n",
              "          const element = document.querySelector('#df-a2662d92-8e7c-4537-a7d1-0ed8a288f631');\n",
              "          const dataTable =\n",
              "            await google.colab.kernel.invokeFunction('convertToInteractive',\n",
              "                                                     [key], {});\n",
              "          if (!dataTable) return;\n",
              "\n",
              "          const docLinkHtml = 'Like what you see? Visit the ' +\n",
              "            '<a target=\"_blank\" href=https://colab.research.google.com/notebooks/data_table.ipynb>data table notebook</a>'\n",
              "            + ' to learn more about interactive tables.';\n",
              "          element.innerHTML = '';\n",
              "          dataTable['output_type'] = 'display_data';\n",
              "          await google.colab.output.renderOutput(dataTable, element);\n",
              "          const docLink = document.createElement('div');\n",
              "          docLink.innerHTML = docLinkHtml;\n",
              "          element.appendChild(docLink);\n",
              "        }\n",
              "      </script>\n",
              "    </div>\n",
              "  </div>\n",
              "  "
            ]
          },
          "metadata": {},
          "execution_count": 34
        }
      ]
    },
    {
      "cell_type": "code",
      "source": [
        "cluster_mean.loc[:,'동별전체인구'].min()"
      ],
      "metadata": {
        "colab": {
          "base_uri": "https://localhost:8080/"
        },
        "id": "VaA88AbZZJL8",
        "outputId": "8debf42a-6760-4bc2-e022-af80600e3b81"
      },
      "execution_count": null,
      "outputs": [
        {
          "output_type": "execute_result",
          "data": {
            "text/plain": [
              "13289.140127388535"
            ]
          },
          "metadata": {},
          "execution_count": 35
        }
      ]
    },
    {
      "cell_type": "code",
      "source": [
        "cp_colunms = ['동별전체인구', '동별시니어수', '행정동별시니어비율', '유동인구', '디지털정보지수', '주변특성', '대중교통']\n",
        "\n",
        "for c in cp_colunms:\n",
        "    sang = cluster_mean.loc[:,c].max()\n",
        "    ha = cluster_mean.loc[:,c].min()\n",
        "    for j in range(2):\n",
        "        if cluster_mean.loc[:,c][j] == ha:\n",
        "            cluster_mean.loc[:,c][j] = '하'\n",
        "        elif cluster_mean.loc[:,c][j] == sang:\n",
        "            cluster_mean.loc[:,c][j] = '상'\n",
        "cluster_mean"
      ],
      "metadata": {
        "colab": {
          "base_uri": "https://localhost:8080/",
          "height": 378
        },
        "id": "7Q6rv-KJYN1P",
        "outputId": "5b9aaa3e-e2ba-4c52-d251-6ea0c4c0bf46"
      },
      "execution_count": null,
      "outputs": [
        {
          "output_type": "execute_result",
          "data": {
            "text/plain": [
              "          위도     경도     위도UTMK    경도UTMK   동별전체인구  동별시니어수 행정동별시니어비율      유동인구  \\\n",
              "kmeans                                                                          \n",
              "0      37.56 126.98 1951129.23 954444.44        상       상         상         상   \n",
              "1      37.55 127.00 1949650.23 955681.81 23854.45 5687.67         하 341911.32   \n",
              "2      37.55 126.99 1949934.48 955580.62 13289.14 3285.24      0.26 221364.72   \n",
              "\n",
              "       디지털정보지수 주변특성 대중교통  spca_component_1  spca_component_2  spca_component_3  \n",
              "kmeans                                                                          \n",
              "0            상    상 1.60              2.84              0.25              0.00  \n",
              "1      5898.89    하    상              0.12             -0.19              0.11  \n",
              "2      3315.86 1.09 1.29             -2.02              0.14             -0.17  "
            ],
            "text/html": [
              "\n",
              "  <div id=\"df-42cb3f06-69f8-4b30-b5fd-9619838df9b3\">\n",
              "    <div class=\"colab-df-container\">\n",
              "      <div>\n",
              "<style scoped>\n",
              "    .dataframe tbody tr th:only-of-type {\n",
              "        vertical-align: middle;\n",
              "    }\n",
              "\n",
              "    .dataframe tbody tr th {\n",
              "        vertical-align: top;\n",
              "    }\n",
              "\n",
              "    .dataframe thead th {\n",
              "        text-align: right;\n",
              "    }\n",
              "</style>\n",
              "<table border=\"1\" class=\"dataframe\">\n",
              "  <thead>\n",
              "    <tr style=\"text-align: right;\">\n",
              "      <th></th>\n",
              "      <th>위도</th>\n",
              "      <th>경도</th>\n",
              "      <th>위도UTMK</th>\n",
              "      <th>경도UTMK</th>\n",
              "      <th>동별전체인구</th>\n",
              "      <th>동별시니어수</th>\n",
              "      <th>행정동별시니어비율</th>\n",
              "      <th>유동인구</th>\n",
              "      <th>디지털정보지수</th>\n",
              "      <th>주변특성</th>\n",
              "      <th>대중교통</th>\n",
              "      <th>spca_component_1</th>\n",
              "      <th>spca_component_2</th>\n",
              "      <th>spca_component_3</th>\n",
              "    </tr>\n",
              "    <tr>\n",
              "      <th>kmeans</th>\n",
              "      <th></th>\n",
              "      <th></th>\n",
              "      <th></th>\n",
              "      <th></th>\n",
              "      <th></th>\n",
              "      <th></th>\n",
              "      <th></th>\n",
              "      <th></th>\n",
              "      <th></th>\n",
              "      <th></th>\n",
              "      <th></th>\n",
              "      <th></th>\n",
              "      <th></th>\n",
              "      <th></th>\n",
              "    </tr>\n",
              "  </thead>\n",
              "  <tbody>\n",
              "    <tr>\n",
              "      <th>0</th>\n",
              "      <td>37.56</td>\n",
              "      <td>126.98</td>\n",
              "      <td>1951129.23</td>\n",
              "      <td>954444.44</td>\n",
              "      <td>상</td>\n",
              "      <td>상</td>\n",
              "      <td>상</td>\n",
              "      <td>상</td>\n",
              "      <td>상</td>\n",
              "      <td>상</td>\n",
              "      <td>1.60</td>\n",
              "      <td>2.84</td>\n",
              "      <td>0.25</td>\n",
              "      <td>0.00</td>\n",
              "    </tr>\n",
              "    <tr>\n",
              "      <th>1</th>\n",
              "      <td>37.55</td>\n",
              "      <td>127.00</td>\n",
              "      <td>1949650.23</td>\n",
              "      <td>955681.81</td>\n",
              "      <td>23854.45</td>\n",
              "      <td>5687.67</td>\n",
              "      <td>하</td>\n",
              "      <td>341911.32</td>\n",
              "      <td>5898.89</td>\n",
              "      <td>하</td>\n",
              "      <td>상</td>\n",
              "      <td>0.12</td>\n",
              "      <td>-0.19</td>\n",
              "      <td>0.11</td>\n",
              "    </tr>\n",
              "    <tr>\n",
              "      <th>2</th>\n",
              "      <td>37.55</td>\n",
              "      <td>126.99</td>\n",
              "      <td>1949934.48</td>\n",
              "      <td>955580.62</td>\n",
              "      <td>13289.14</td>\n",
              "      <td>3285.24</td>\n",
              "      <td>0.26</td>\n",
              "      <td>221364.72</td>\n",
              "      <td>3315.86</td>\n",
              "      <td>1.09</td>\n",
              "      <td>1.29</td>\n",
              "      <td>-2.02</td>\n",
              "      <td>0.14</td>\n",
              "      <td>-0.17</td>\n",
              "    </tr>\n",
              "  </tbody>\n",
              "</table>\n",
              "</div>\n",
              "      <button class=\"colab-df-convert\" onclick=\"convertToInteractive('df-42cb3f06-69f8-4b30-b5fd-9619838df9b3')\"\n",
              "              title=\"Convert this dataframe to an interactive table.\"\n",
              "              style=\"display:none;\">\n",
              "        \n",
              "  <svg xmlns=\"http://www.w3.org/2000/svg\" height=\"24px\"viewBox=\"0 0 24 24\"\n",
              "       width=\"24px\">\n",
              "    <path d=\"M0 0h24v24H0V0z\" fill=\"none\"/>\n",
              "    <path d=\"M18.56 5.44l.94 2.06.94-2.06 2.06-.94-2.06-.94-.94-2.06-.94 2.06-2.06.94zm-11 1L8.5 8.5l.94-2.06 2.06-.94-2.06-.94L8.5 2.5l-.94 2.06-2.06.94zm10 10l.94 2.06.94-2.06 2.06-.94-2.06-.94-.94-2.06-.94 2.06-2.06.94z\"/><path d=\"M17.41 7.96l-1.37-1.37c-.4-.4-.92-.59-1.43-.59-.52 0-1.04.2-1.43.59L10.3 9.45l-7.72 7.72c-.78.78-.78 2.05 0 2.83L4 21.41c.39.39.9.59 1.41.59.51 0 1.02-.2 1.41-.59l7.78-7.78 2.81-2.81c.8-.78.8-2.07 0-2.86zM5.41 20L4 18.59l7.72-7.72 1.47 1.35L5.41 20z\"/>\n",
              "  </svg>\n",
              "      </button>\n",
              "      \n",
              "  <style>\n",
              "    .colab-df-container {\n",
              "      display:flex;\n",
              "      flex-wrap:wrap;\n",
              "      gap: 12px;\n",
              "    }\n",
              "\n",
              "    .colab-df-convert {\n",
              "      background-color: #E8F0FE;\n",
              "      border: none;\n",
              "      border-radius: 50%;\n",
              "      cursor: pointer;\n",
              "      display: none;\n",
              "      fill: #1967D2;\n",
              "      height: 32px;\n",
              "      padding: 0 0 0 0;\n",
              "      width: 32px;\n",
              "    }\n",
              "\n",
              "    .colab-df-convert:hover {\n",
              "      background-color: #E2EBFA;\n",
              "      box-shadow: 0px 1px 2px rgba(60, 64, 67, 0.3), 0px 1px 3px 1px rgba(60, 64, 67, 0.15);\n",
              "      fill: #174EA6;\n",
              "    }\n",
              "\n",
              "    [theme=dark] .colab-df-convert {\n",
              "      background-color: #3B4455;\n",
              "      fill: #D2E3FC;\n",
              "    }\n",
              "\n",
              "    [theme=dark] .colab-df-convert:hover {\n",
              "      background-color: #434B5C;\n",
              "      box-shadow: 0px 1px 3px 1px rgba(0, 0, 0, 0.15);\n",
              "      filter: drop-shadow(0px 1px 2px rgba(0, 0, 0, 0.3));\n",
              "      fill: #FFFFFF;\n",
              "    }\n",
              "  </style>\n",
              "\n",
              "      <script>\n",
              "        const buttonEl =\n",
              "          document.querySelector('#df-42cb3f06-69f8-4b30-b5fd-9619838df9b3 button.colab-df-convert');\n",
              "        buttonEl.style.display =\n",
              "          google.colab.kernel.accessAllowed ? 'block' : 'none';\n",
              "\n",
              "        async function convertToInteractive(key) {\n",
              "          const element = document.querySelector('#df-42cb3f06-69f8-4b30-b5fd-9619838df9b3');\n",
              "          const dataTable =\n",
              "            await google.colab.kernel.invokeFunction('convertToInteractive',\n",
              "                                                     [key], {});\n",
              "          if (!dataTable) return;\n",
              "\n",
              "          const docLinkHtml = 'Like what you see? Visit the ' +\n",
              "            '<a target=\"_blank\" href=https://colab.research.google.com/notebooks/data_table.ipynb>data table notebook</a>'\n",
              "            + ' to learn more about interactive tables.';\n",
              "          element.innerHTML = '';\n",
              "          dataTable['output_type'] = 'display_data';\n",
              "          await google.colab.output.renderOutput(dataTable, element);\n",
              "          const docLink = document.createElement('div');\n",
              "          docLink.innerHTML = docLinkHtml;\n",
              "          element.appendChild(docLink);\n",
              "        }\n",
              "      </script>\n",
              "    </div>\n",
              "  </div>\n",
              "  "
            ]
          },
          "metadata": {},
          "execution_count": 36
        }
      ]
    },
    {
      "cell_type": "code",
      "source": [
        "from statsmodels.formula.api import ols\n",
        "from statsmodels.stats.anova import anova_lm\n",
        "\n",
        "def CompareGroups(target, n_clusters) : \n",
        "    \n",
        "    '''\n",
        "    ANOVA Test : 그룹 간의 평균의 차이가 유의미한지 검정\n",
        "    Box Plot : 그룹 간의 차이 시각화 \n",
        "    '''\n",
        "    \n",
        "    # ANOVA Test \n",
        "    anovamodel = ols(f'{target} ~ C(kmeans)', kmeans_spca_df[['kmeans', target, 'spca_component_1', 'spca_component_2', 'spca_component_3']]).fit()\n",
        "    print(anova_lm(anovamodel), \"\\n\")\n",
        "    \n",
        "    # Box Plot \n",
        "    #color_list = {n:c for n,c in color_list.items() if n < n_clusters}\n",
        "    plt.figure(figsize=(15, 7))\n",
        "    sns.boxplot(x='kmeans', y=target, \n",
        "                data=kmeans_spca_df[['kmeans', target, 'spca_component_1', 'spca_component_2', 'spca_component_3']])\n",
        "\n",
        "    plt.show()"
      ],
      "metadata": {
        "id": "HJkzlUmVq3y2"
      },
      "execution_count": null,
      "outputs": []
    },
    {
      "cell_type": "code",
      "source": [
        "CompareGroups('행정동별시니어비율', 3) "
      ],
      "metadata": {
        "id": "6VTUJeQ4q7H5",
        "colab": {
          "base_uri": "https://localhost:8080/",
          "height": 515
        },
        "outputId": "12516934-a822-40bd-b7d3-c32e1cfcd108"
      },
      "execution_count": null,
      "outputs": [
        {
          "output_type": "stream",
          "name": "stdout",
          "text": [
            "              df  sum_sq  mean_sq    F  PR(>F)\n",
            "C(kmeans)   2.00    0.03     0.01 5.40    0.00\n",
            "Residual  506.00    1.21     0.00  NaN     NaN \n",
            "\n"
          ]
        },
        {
          "output_type": "display_data",
          "data": {
            "text/plain": [
              "<Figure size 1080x504 with 1 Axes>"
            ],
            "image/png": "[encoded data removed]"
          },
          "metadata": {
            "needs_background": "light"
          }
        }
      ]
    },
    {
      "cell_type": "markdown",
      "source": [
        "# 그래프"
      ],
      "metadata": {
        "id": "2IB9GeVJBeXN"
      }
    },
    {
      "cell_type": "code",
      "source": [
        "color_list = {0:\"crimson\", 1:\"orange\", 2:\"green\", 3:\"royalblue\", 4: \"purple\", 5: \"dimgrey\", 6: \"gold\"}\n",
        "\n",
        "def ClusteringPlot( n_clusters, color_list) : \n",
        "    fig = plt.figure(figsize=(10, 7))\n",
        "    ax = fig.add_subplot(111, projection='3d')\n",
        "    color_list = {n:c for n,c in color_list.items() if n < n_clusters}\n",
        "    ax.scatter(kmeans_spca_df['spca_component_1'], kmeans_spca_df['spca_component_2'], kmeans_spca_df['spca_component_3'],\n",
        "               s=60, c = kmeans_spca_df['kmeans'].apply(lambda x: color_list[x]))\n",
        "    \n",
        "    # label the axes\n",
        "    plt.title('spca & K-means Clustering', fontsize = 15)\n",
        "    ax.set_xlabel(\"SPC1\")\n",
        "    ax.set_ylabel(\"SPC2\")\n",
        "    ax.set_zlabel(\"SPC3\")\n",
        "    markers = [plt.Line2D([0,0],[0,0],color=color, marker='o', linestyle='') for color in color_list.values()]\n",
        "    plt.legend(markers, color_list.keys(), numpoints=1, bbox_to_anchor = (1.2,0.5))\n",
        "    plt.show()"
      ],
      "metadata": {
        "id": "NtL5IqqLbnZd"
      },
      "execution_count": null,
      "outputs": []
    },
    {
      "cell_type": "code",
      "source": [
        "ClusteringPlot( 3, color_list)"
      ],
      "metadata": {
        "colab": {
          "base_uri": "https://localhost:8080/",
          "height": 411
        },
        "id": "aXS2Lem9sdwS",
        "outputId": "0cd4be89-8682-429f-9cf1-618567e46621"
      },
      "execution_count": null,
      "outputs": [
        {
          "output_type": "display_data",
          "data": {
            "text/plain": [
              "<Figure size 720x504 with 1 Axes>"
            ],
            "image/png": "[encoded data removed]"
          },
          "metadata": {
            "needs_background": "light"
          }
        }
      ]
    },
    {
      "cell_type": "markdown",
      "source": [
        "#스테나인 후 진행"
      ],
      "metadata": {
        "id": "eKD_qtxysyPD"
      }
    },
    {
      "cell_type": "markdown",
      "source": [
        "# 0번 군집 추출"
      ],
      "metadata": {
        "id": "dvVd83tZCMYO"
      }
    },
    {
      "cell_type": "code",
      "source": [
        "# df standard 한 것중 kmeans번만 index추출\n",
        "dfclu2 = kmeans_spca_df[kmeans_spca_df['kmeans']==0]\n",
        "dfclu2.head(1)"
      ],
      "metadata": {
        "colab": {
          "base_uri": "https://localhost:8080/",
          "height": 492
        },
        "id": "Hf-aokjlCDxU",
        "outputId": "a55d962f-ac78-4efe-f5d7-c5bb6814b684"
      },
      "execution_count": null,
      "outputs": [
        {
          "output_type": "execute_result",
          "data": {
            "text/plain": [
              "    자치구     동        시설명                  주소    위도     경도     위도UTMK  \\\n",
              "68  광진구  중곡4동  중곡4동 주민센터  서울특별시 광진구 긴고랑로 131 37.56 127.09 1950853.71   \n",
              "\n",
              "      경도UTMK   동별전체인구  동별시니어수  행정동별시니어비율      유동인구  디지털정보지수  주변특성  대중교통  \\\n",
              "68 963932.13 28577.00 7834.00       0.27 423334.68  8239.49  0.00  4.00   \n",
              "\n",
              "    kmeans  spca_component_1  spca_component_2  spca_component_3  \n",
              "68       0              1.67              0.12              1.26  "
            ],
            "text/html": [
              "\n",
              "  <div id=\"df-04066366-5e49-456f-ad46-cbb1eaa8cee2\">\n",
              "    <div class=\"colab-df-container\">\n",
              "      <div>\n",
              "<style scoped>\n",
              "    .dataframe tbody tr th:only-of-type {\n",
              "        vertical-align: middle;\n",
              "    }\n",
              "\n",
              "    .dataframe tbody tr th {\n",
              "        vertical-align: top;\n",
              "    }\n",
              "\n",
              "    .dataframe thead th {\n",
              "        text-align: right;\n",
              "    }\n",
              "</style>\n",
              "<table border=\"1\" class=\"dataframe\">\n",
              "  <thead>\n",
              "    <tr style=\"text-align: right;\">\n",
              "      <th></th>\n",
              "      <th>자치구</th>\n",
              "      <th>동</th>\n",
              "      <th>시설명</th>\n",
              "      <th>주소</th>\n",
              "      <th>위도</th>\n",
              "      <th>경도</th>\n",
              "      <th>위도UTMK</th>\n",
              "      <th>경도UTMK</th>\n",
              "      <th>동별전체인구</th>\n",
              "      <th>동별시니어수</th>\n",
              "      <th>행정동별시니어비율</th>\n",
              "      <th>유동인구</th>\n",
              "      <th>디지털정보지수</th>\n",
              "      <th>주변특성</th>\n",
              "      <th>대중교통</th>\n",
              "      <th>kmeans</th>\n",
              "      <th>spca_component_1</th>\n",
              "      <th>spca_component_2</th>\n",
              "      <th>spca_component_3</th>\n",
              "    </tr>\n",
              "  </thead>\n",
              "  <tbody>\n",
              "    <tr>\n",
              "      <th>68</th>\n",
              "      <td>광진구</td>\n",
              "      <td>중곡4동</td>\n",
              "      <td>중곡4동 주민센터</td>\n",
              "      <td>서울특별시 광진구 긴고랑로 131</td>\n",
              "      <td>37.56</td>\n",
              "      <td>127.09</td>\n",
              "      <td>1950853.71</td>\n",
              "      <td>963932.13</td>\n",
              "      <td>28577.00</td>\n",
              "      <td>7834.00</td>\n",
              "      <td>0.27</td>\n",
              "      <td>423334.68</td>\n",
              "      <td>8239.49</td>\n",
              "      <td>0.00</td>\n",
              "      <td>4.00</td>\n",
              "      <td>0</td>\n",
              "      <td>1.67</td>\n",
              "      <td>0.12</td>\n",
              "      <td>1.26</td>\n",
              "    </tr>\n",
              "  </tbody>\n",
              "</table>\n",
              "</div>\n",
              "      <button class=\"colab-df-convert\" onclick=\"convertToInteractive('df-04066366-5e49-456f-ad46-cbb1eaa8cee2')\"\n",
              "              title=\"Convert this dataframe to an interactive table.\"\n",
              "              style=\"display:none;\">\n",
              "        \n",
              "  <svg xmlns=\"http://www.w3.org/2000/svg\" height=\"24px\"viewBox=\"0 0 24 24\"\n",
              "       width=\"24px\">\n",
              "    <path d=\"M0 0h24v24H0V0z\" fill=\"none\"/>\n",
              "    <path d=\"M18.56 5.44l.94 2.06.94-2.06 2.06-.94-2.06-.94-.94-2.06-.94 2.06-2.06.94zm-11 1L8.5 8.5l.94-2.06 2.06-.94-2.06-.94L8.5 2.5l-.94 2.06-2.06.94zm10 10l.94 2.06.94-2.06 2.06-.94-2.06-.94-.94-2.06-.94 2.06-2.06.94z\"/><path d=\"M17.41 7.96l-1.37-1.37c-.4-.4-.92-.59-1.43-.59-.52 0-1.04.2-1.43.59L10.3 9.45l-7.72 7.72c-.78.78-.78 2.05 0 2.83L4 21.41c.39.39.9.59 1.41.59.51 0 1.02-.2 1.41-.59l7.78-7.78 2.81-2.81c.8-.78.8-2.07 0-2.86zM5.41 20L4 18.59l7.72-7.72 1.47 1.35L5.41 20z\"/>\n",
              "  </svg>\n",
              "      </button>\n",
              "      \n",
              "  <style>\n",
              "    .colab-df-container {\n",
              "      display:flex;\n",
              "      flex-wrap:wrap;\n",
              "      gap: 12px;\n",
              "    }\n",
              "\n",
              "    .colab-df-convert {\n",
              "      background-color: #E8F0FE;\n",
              "      border: none;\n",
              "      border-radius: 50%;\n",
              "      cursor: pointer;\n",
              "      display: none;\n",
              "      fill: #1967D2;\n",
              "      height: 32px;\n",
              "      padding: 0 0 0 0;\n",
              "      width: 32px;\n",
              "    }\n",
              "\n",
              "    .colab-df-convert:hover {\n",
              "      background-color: #E2EBFA;\n",
              "      box-shadow: 0px 1px 2px rgba(60, 64, 67, 0.3), 0px 1px 3px 1px rgba(60, 64, 67, 0.15);\n",
              "      fill: #174EA6;\n",
              "    }\n",
              "\n",
              "    [theme=dark] .colab-df-convert {\n",
              "      background-color: #3B4455;\n",
              "      fill: #D2E3FC;\n",
              "    }\n",
              "\n",
              "    [theme=dark] .colab-df-convert:hover {\n",
              "      background-color: #434B5C;\n",
              "      box-shadow: 0px 1px 3px 1px rgba(0, 0, 0, 0.15);\n",
              "      filter: drop-shadow(0px 1px 2px rgba(0, 0, 0, 0.3));\n",
              "      fill: #FFFFFF;\n",
              "    }\n",
              "  </style>\n",
              "\n",
              "      <script>\n",
              "        const buttonEl =\n",
              "          document.querySelector('#df-04066366-5e49-456f-ad46-cbb1eaa8cee2 button.colab-df-convert');\n",
              "        buttonEl.style.display =\n",
              "          google.colab.kernel.accessAllowed ? 'block' : 'none';\n",
              "\n",
              "        async function convertToInteractive(key) {\n",
              "          const element = document.querySelector('#df-04066366-5e49-456f-ad46-cbb1eaa8cee2');\n",
              "          const dataTable =\n",
              "            await google.colab.kernel.invokeFunction('convertToInteractive',\n",
              "                                                     [key], {});\n",
              "          if (!dataTable) return;\n",
              "\n",
              "          const docLinkHtml = 'Like what you see? Visit the ' +\n",
              "            '<a target=\"_blank\" href=https://colab.research.google.com/notebooks/data_table.ipynb>data table notebook</a>'\n",
              "            + ' to learn more about interactive tables.';\n",
              "          element.innerHTML = '';\n",
              "          dataTable['output_type'] = 'display_data';\n",
              "          await google.colab.output.renderOutput(dataTable, element);\n",
              "          const docLink = document.createElement('div');\n",
              "          docLink.innerHTML = docLinkHtml;\n",
              "          element.appendChild(docLink);\n",
              "        }\n",
              "      </script>\n",
              "    </div>\n",
              "  </div>\n",
              "  "
            ]
          },
          "metadata": {},
          "execution_count": 43
        }
      ]
    },
    {
      "cell_type": "code",
      "source": [
        "dfclu2.shape"
      ],
      "metadata": {
        "colab": {
          "base_uri": "https://localhost:8080/"
        },
        "id": "TyLm3XtzDOFZ",
        "outputId": "3823f853-42f4-4d24-80dd-9d19cc9786e4"
      },
      "execution_count": null,
      "outputs": [
        {
          "output_type": "execute_result",
          "data": {
            "text/plain": [
              "(101, 19)"
            ]
          },
          "metadata": {},
          "execution_count": 44
        }
      ]
    },
    {
      "cell_type": "code",
      "source": [
        "dfclu2['자치구'].value_counts()"
      ],
      "metadata": {
        "colab": {
          "base_uri": "https://localhost:8080/"
        },
        "id": "orPbTNB8DnOY",
        "outputId": "bd13dc38-3d28-40d0-ef5e-11a454caa5cb"
      },
      "execution_count": null,
      "outputs": [
        {
          "output_type": "execute_result",
          "data": {
            "text/plain": [
              "강서구     10\n",
              "노원구      9\n",
              "은평구      9\n",
              "동대문구     8\n",
              "강동구      7\n",
              "동작구      6\n",
              "구로구      6\n",
              "중랑구      5\n",
              "금천구      5\n",
              "양천구      4\n",
              "서대문구     4\n",
              "도봉구      4\n",
              "강북구      4\n",
              "성북구      4\n",
              "영등포구     3\n",
              "서초구      3\n",
              "강남구      3\n",
              "마포구      2\n",
              "관악구      2\n",
              "송파구      2\n",
              "광진구      1\n",
              "Name: 자치구, dtype: int64"
            ]
          },
          "metadata": {},
          "execution_count": 45
        }
      ]
    },
    {
      "cell_type": "markdown",
      "source": [
        "## 최종고려변수 : 1순위 대중교통, 2순위 연면적, 3순위 주변특성, 4순위 유동인구"
      ],
      "metadata": {
        "id": "I76YsqcbQRKB"
      }
    },
    {
      "cell_type": "markdown",
      "source": [
        "### 연면적 평균 : 강서구 1944.502, 노원구 1450.54, 은평구 1764.31, 동대문구  1367.69, 강동구 1972.63"
      ],
      "metadata": {
        "id": "naqkvRepVKgB"
      }
    },
    {
      "cell_type": "code",
      "source": [
        "finalcenter = pd.read_excel('/content/drive/MyDrive/공유폴더/NEW(공모전용)/main_seoul_senior_data.xlsx', thousands=',')\n",
        "finalcenter.head(1)"
      ],
      "metadata": {
        "id": "-oaAWXPFV1UU"
      },
      "execution_count": null,
      "outputs": []
    },
    {
      "cell_type": "markdown",
      "source": [
        "## 강서구 시작"
      ],
      "metadata": {
        "id": "c3wOGw_RFD29"
      }
    },
    {
      "cell_type": "code",
      "source": [
        "# 강서구 추출.\n",
        "dfganeseo = dfclu2[dfclu2['자치구']=='강서구']\n",
        "dfganeseo['시설명'].head(10)"
      ],
      "metadata": {
        "colab": {
          "base_uri": "https://localhost:8080/"
        },
        "id": "uRQasIU8Dw7x",
        "outputId": "b5da56a9-19da-4cee-9dd7-045ce5cbef13"
      },
      "execution_count": null,
      "outputs": [
        {
          "output_type": "execute_result",
          "data": {
            "text/plain": [
              "240     염창동 주민센터\n",
              "243    등촌3동 주민센터\n",
              "244    우장산동 주민센터\n",
              "245    화곡1동 주민센터\n",
              "251    화곡본동 주민센터\n",
              "255    발산1동 주민센터\n",
              "257    방화1동 주민센터\n",
              "474    강서노인종합복지관\n",
              "475    화곡어르신복지센터\n",
              "477    봉제산노인복지센터\n",
              "Name: 시설명, dtype: object"
            ]
          },
          "metadata": {},
          "execution_count": 75
        }
      ]
    },
    {
      "cell_type": "code",
      "source": [
        "# 인덱스 조정 작업.(240 -> 0)\n",
        "dfganeseo = dfganeseo.reset_index()\n",
        "gangseo = dfganeseo.iloc[:,1:]\n",
        "gangseo.head(1)"
      ],
      "metadata": {
        "colab": {
          "base_uri": "https://localhost:8080/",
          "height": 527
        },
        "id": "QhHyO85sFMrq",
        "outputId": "aae191f2-4bc1-4f5f-d247-5cd14b026fc2"
      },
      "execution_count": null,
      "outputs": [
        {
          "output_type": "execute_result",
          "data": {
            "text/plain": [
              "   index  자치구    동       시설명                    주소    위도     경도     위도UTMK  \\\n",
              "0    240  강서구  염창동  염창동 주민센터  서울특별시 강서구 양천로67가길 63 37.55 126.87 1950334.30   \n",
              "\n",
              "     경도UTMK   동별전체인구  동별시니어수  행정동별시니어비율      유동인구  디지털정보지수  주변특성  대중교통  \\\n",
              "0 944651.04 41637.00 7029.00       0.17 379099.07  8687.28  0.00  2.00   \n",
              "\n",
              "   kmeans  spca_component_1  spca_component_2  spca_component_3  \n",
              "0       0              2.08             -2.18              0.77  "
            ],
            "text/html": [
              "\n",
              "  <div id=\"df-faaa0bef-efdc-4f63-8a25-224f7a25d50b\">\n",
              "    <div class=\"colab-df-container\">\n",
              "      <div>\n",
              "<style scoped>\n",
              "    .dataframe tbody tr th:only-of-type {\n",
              "        vertical-align: middle;\n",
              "    }\n",
              "\n",
              "    .dataframe tbody tr th {\n",
              "        vertical-align: top;\n",
              "    }\n",
              "\n",
              "    .dataframe thead th {\n",
              "        text-align: right;\n",
              "    }\n",
              "</style>\n",
              "<table border=\"1\" class=\"dataframe\">\n",
              "  <thead>\n",
              "    <tr style=\"text-align: right;\">\n",
              "      <th></th>\n",
              "      <th>index</th>\n",
              "      <th>자치구</th>\n",
              "      <th>동</th>\n",
              "      <th>시설명</th>\n",
              "      <th>주소</th>\n",
              "      <th>위도</th>\n",
              "      <th>경도</th>\n",
              "      <th>위도UTMK</th>\n",
              "      <th>경도UTMK</th>\n",
              "      <th>동별전체인구</th>\n",
              "      <th>동별시니어수</th>\n",
              "      <th>행정동별시니어비율</th>\n",
              "      <th>유동인구</th>\n",
              "      <th>디지털정보지수</th>\n",
              "      <th>주변특성</th>\n",
              "      <th>대중교통</th>\n",
              "      <th>kmeans</th>\n",
              "      <th>spca_component_1</th>\n",
              "      <th>spca_component_2</th>\n",
              "      <th>spca_component_3</th>\n",
              "    </tr>\n",
              "  </thead>\n",
              "  <tbody>\n",
              "    <tr>\n",
              "      <th>0</th>\n",
              "      <td>240</td>\n",
              "      <td>강서구</td>\n",
              "      <td>염창동</td>\n",
              "      <td>염창동 주민센터</td>\n",
              "      <td>서울특별시 강서구 양천로67가길 63</td>\n",
              "      <td>37.55</td>\n",
              "      <td>126.87</td>\n",
              "      <td>1950334.30</td>\n",
              "      <td>944651.04</td>\n",
              "      <td>41637.00</td>\n",
              "      <td>7029.00</td>\n",
              "      <td>0.17</td>\n",
              "      <td>379099.07</td>\n",
              "      <td>8687.28</td>\n",
              "      <td>0.00</td>\n",
              "      <td>2.00</td>\n",
              "      <td>0</td>\n",
              "      <td>2.08</td>\n",
              "      <td>-2.18</td>\n",
              "      <td>0.77</td>\n",
              "    </tr>\n",
              "  </tbody>\n",
              "</table>\n",
              "</div>\n",
              "      <button class=\"colab-df-convert\" onclick=\"convertToInteractive('df-faaa0bef-efdc-4f63-8a25-224f7a25d50b')\"\n",
              "              title=\"Convert this dataframe to an interactive table.\"\n",
              "              style=\"display:none;\">\n",
              "        \n",
              "  <svg xmlns=\"http://www.w3.org/2000/svg\" height=\"24px\"viewBox=\"0 0 24 24\"\n",
              "       width=\"24px\">\n",
              "    <path d=\"M0 0h24v24H0V0z\" fill=\"none\"/>\n",
              "    <path d=\"M18.56 5.44l.94 2.06.94-2.06 2.06-.94-2.06-.94-.94-2.06-.94 2.06-2.06.94zm-11 1L8.5 8.5l.94-2.06 2.06-.94-2.06-.94L8.5 2.5l-.94 2.06-2.06.94zm10 10l.94 2.06.94-2.06 2.06-.94-2.06-.94-.94-2.06-.94 2.06-2.06.94z\"/><path d=\"M17.41 7.96l-1.37-1.37c-.4-.4-.92-.59-1.43-.59-.52 0-1.04.2-1.43.59L10.3 9.45l-7.72 7.72c-.78.78-.78 2.05 0 2.83L4 21.41c.39.39.9.59 1.41.59.51 0 1.02-.2 1.41-.59l7.78-7.78 2.81-2.81c.8-.78.8-2.07 0-2.86zM5.41 20L4 18.59l7.72-7.72 1.47 1.35L5.41 20z\"/>\n",
              "  </svg>\n",
              "      </button>\n",
              "      \n",
              "  <style>\n",
              "    .colab-df-container {\n",
              "      display:flex;\n",
              "      flex-wrap:wrap;\n",
              "      gap: 12px;\n",
              "    }\n",
              "\n",
              "    .colab-df-convert {\n",
              "      background-color: #E8F0FE;\n",
              "      border: none;\n",
              "      border-radius: 50%;\n",
              "      cursor: pointer;\n",
              "      display: none;\n",
              "      fill: #1967D2;\n",
              "      height: 32px;\n",
              "      padding: 0 0 0 0;\n",
              "      width: 32px;\n",
              "    }\n",
              "\n",
              "    .colab-df-convert:hover {\n",
              "      background-color: #E2EBFA;\n",
              "      box-shadow: 0px 1px 2px rgba(60, 64, 67, 0.3), 0px 1px 3px 1px rgba(60, 64, 67, 0.15);\n",
              "      fill: #174EA6;\n",
              "    }\n",
              "\n",
              "    [theme=dark] .colab-df-convert {\n",
              "      background-color: #3B4455;\n",
              "      fill: #D2E3FC;\n",
              "    }\n",
              "\n",
              "    [theme=dark] .colab-df-convert:hover {\n",
              "      background-color: #434B5C;\n",
              "      box-shadow: 0px 1px 3px 1px rgba(0, 0, 0, 0.15);\n",
              "      filter: drop-shadow(0px 1px 2px rgba(0, 0, 0, 0.3));\n",
              "      fill: #FFFFFF;\n",
              "    }\n",
              "  </style>\n",
              "\n",
              "      <script>\n",
              "        const buttonEl =\n",
              "          document.querySelector('#df-faaa0bef-efdc-4f63-8a25-224f7a25d50b button.colab-df-convert');\n",
              "        buttonEl.style.display =\n",
              "          google.colab.kernel.accessAllowed ? 'block' : 'none';\n",
              "\n",
              "        async function convertToInteractive(key) {\n",
              "          const element = document.querySelector('#df-faaa0bef-efdc-4f63-8a25-224f7a25d50b');\n",
              "          const dataTable =\n",
              "            await google.colab.kernel.invokeFunction('convertToInteractive',\n",
              "                                                     [key], {});\n",
              "          if (!dataTable) return;\n",
              "\n",
              "          const docLinkHtml = 'Like what you see? Visit the ' +\n",
              "            '<a target=\"_blank\" href=https://colab.research.google.com/notebooks/data_table.ipynb>data table notebook</a>'\n",
              "            + ' to learn more about interactive tables.';\n",
              "          element.innerHTML = '';\n",
              "          dataTable['output_type'] = 'display_data';\n",
              "          await google.colab.output.renderOutput(dataTable, element);\n",
              "          const docLink = document.createElement('div');\n",
              "          docLink.innerHTML = docLinkHtml;\n",
              "          element.appendChild(docLink);\n",
              "        }\n",
              "      </script>\n",
              "    </div>\n",
              "  </div>\n",
              "  "
            ]
          },
          "metadata": {},
          "execution_count": 48
        }
      ]
    },
    {
      "cell_type": "code",
      "source": [
        "# 강서구중 각 주민센터(입지선정)과 다른 주민센터와의 거리합.\n",
        "distance = []\n",
        "distance2 = []\n",
        "for i in range(len(gangseo)):\n",
        "    for j in range(len(gangseo)):\n",
        "        distance.append(np.sqrt((gangseo['위도UTMK'][i] - gangseo['위도UTMK'][j])**2 + (gangseo['경도UTMK'][i] - gangseo['경도UTMK'][j])**2))\n",
        "    distance2.append(sum(distance))\n",
        "    distance= []\n",
        "distance2"
      ],
      "metadata": {
        "colab": {
          "base_uri": "https://localhost:8080/"
        },
        "id": "fh-q7PnQFV5b",
        "outputId": "ca4986c3-6508-48ae-b413-8073c50b8ab2"
      },
      "execution_count": null,
      "outputs": [
        {
          "output_type": "execute_result",
          "data": {
            "text/plain": [
              "[27515.78599654559,\n",
              " 17958.050510913534,\n",
              " 14869.588329678367,\n",
              " 23326.37616545804,\n",
              " 15426.608568645703,\n",
              " 17863.438642995785,\n",
              " 35914.96755189467,\n",
              " 17477.463035168814,\n",
              " 20261.600586261222,\n",
              " 17487.41326213875]"
            ]
          },
          "metadata": {},
          "execution_count": 49
        }
      ]
    },
    {
      "cell_type": "code",
      "source": [
        "# 강서구의 인구 * 거리 값.\n",
        "# ex) 1행은 염창동 주민센터에서 각 주민센터마다의 거리 * 염창동의 동별시니어수.\n",
        "# p median 식이 수요 * 거리곱의 최소화. \n",
        "gangseopopdist = gangseo['동별시니어수']*distance2\n",
        "print(gangseopopdist.sort_values())\n",
        "a = gangseopopdist.argmin()\n",
        "gangseo.iloc[a:a+1:]"
      ],
      "metadata": {
        "colab": {
          "base_uri": "https://localhost:8080/",
          "height": 245
        },
        "id": "X1-eo4hYNcmd",
        "outputId": "e16d1247-f31c-46a3-9fad-8c59c3eb9f89"
      },
      "execution_count": null,
      "outputs": [
        {
          "output_type": "error",
          "ename": "NameError",
          "evalue": "ignored",
          "traceback": [
            "\u001b[0;31m---------------------------------------------------------------------------\u001b[0m",
            "\u001b[0;31mNameError\u001b[0m                                 Traceback (most recent call last)",
            "\u001b[0;32m<ipython-input-1-e2ea470c0c06>\u001b[0m in \u001b[0;36m<module>\u001b[0;34m\u001b[0m\n\u001b[1;32m      2\u001b[0m \u001b[0;31m# ex) 1행은 염창동 주민센터에서 각 주민센터마다의 거리 * 염창동의 동별시니어수.\u001b[0m\u001b[0;34m\u001b[0m\u001b[0;34m\u001b[0m\u001b[0;34m\u001b[0m\u001b[0m\n\u001b[1;32m      3\u001b[0m \u001b[0;31m# p median 식이 수요 * 거리곱의 최소화.\u001b[0m\u001b[0;34m\u001b[0m\u001b[0;34m\u001b[0m\u001b[0;34m\u001b[0m\u001b[0m\n\u001b[0;32m----> 4\u001b[0;31m \u001b[0mgangseopopdist\u001b[0m \u001b[0;34m=\u001b[0m \u001b[0mgangseo\u001b[0m\u001b[0;34m[\u001b[0m\u001b[0;34m'동별시니어수'\u001b[0m\u001b[0;34m]\u001b[0m\u001b[0;34m*\u001b[0m\u001b[0mdistance2\u001b[0m\u001b[0;34m\u001b[0m\u001b[0;34m\u001b[0m\u001b[0m\n\u001b[0m\u001b[1;32m      5\u001b[0m \u001b[0mprint\u001b[0m\u001b[0;34m(\u001b[0m\u001b[0mgangseopopdist\u001b[0m\u001b[0;34m.\u001b[0m\u001b[0msort_values\u001b[0m\u001b[0;34m(\u001b[0m\u001b[0;34m)\u001b[0m\u001b[0;34m)\u001b[0m\u001b[0;34m\u001b[0m\u001b[0;34m\u001b[0m\u001b[0m\n\u001b[1;32m      6\u001b[0m \u001b[0ma\u001b[0m \u001b[0;34m=\u001b[0m \u001b[0mgangseopopdist\u001b[0m\u001b[0;34m.\u001b[0m\u001b[0margmin\u001b[0m\u001b[0;34m(\u001b[0m\u001b[0;34m)\u001b[0m\u001b[0;34m\u001b[0m\u001b[0;34m\u001b[0m\u001b[0m\n",
            "\u001b[0;31mNameError\u001b[0m: name 'gangseo' is not defined"
          ]
        }
      ]
    },
    {
      "cell_type": "markdown",
      "source": [
        "## 화곡본동 주민센터는 대중교통 0 이라 넘김"
      ],
      "metadata": {
        "id": "js7LZnTc-wmO"
      }
    },
    {
      "cell_type": "code",
      "source": [
        "gangseo.iloc[2:3,:]"
      ],
      "metadata": {
        "colab": {
          "base_uri": "https://localhost:8080/",
          "height": 475
        },
        "id": "CiyeL4TP-3pY",
        "outputId": "d6ddd061-6651-4443-b180-4b21c343916f"
      },
      "execution_count": null,
      "outputs": [
        {
          "output_type": "execute_result",
          "data": {
            "text/plain": [
              "   index  자치구     동        시설명                주소    위도     경도     위도UTMK  \\\n",
              "2    244  강서구  우장산동  우장산동 주민센터  서울특별시 강서구 우현로 34 37.55 126.84 1949788.78   \n",
              "\n",
              "     경도UTMK   동별전체인구  동별시니어수  행정동별시니어비율      유동인구  디지털정보지수  주변특성  대중교통  \\\n",
              "2 942044.36 42923.00 8654.00       0.20 466741.12  9995.12  1.00  2.00   \n",
              "\n",
              "   kmeans  spca_component_1  spca_component_2  spca_component_3  \n",
              "2       0              3.21             -1.09              0.63  "
            ],
            "text/html": [
              "\n",
              "  <div id=\"df-27f84ca4-82d0-4af8-bb19-e467e6060c43\">\n",
              "    <div class=\"colab-df-container\">\n",
              "      <div>\n",
              "<style scoped>\n",
              "    .dataframe tbody tr th:only-of-type {\n",
              "        vertical-align: middle;\n",
              "    }\n",
              "\n",
              "    .dataframe tbody tr th {\n",
              "        vertical-align: top;\n",
              "    }\n",
              "\n",
              "    .dataframe thead th {\n",
              "        text-align: right;\n",
              "    }\n",
              "</style>\n",
              "<table border=\"1\" class=\"dataframe\">\n",
              "  <thead>\n",
              "    <tr style=\"text-align: right;\">\n",
              "      <th></th>\n",
              "      <th>index</th>\n",
              "      <th>자치구</th>\n",
              "      <th>동</th>\n",
              "      <th>시설명</th>\n",
              "      <th>주소</th>\n",
              "      <th>위도</th>\n",
              "      <th>경도</th>\n",
              "      <th>위도UTMK</th>\n",
              "      <th>경도UTMK</th>\n",
              "      <th>동별전체인구</th>\n",
              "      <th>동별시니어수</th>\n",
              "      <th>행정동별시니어비율</th>\n",
              "      <th>유동인구</th>\n",
              "      <th>디지털정보지수</th>\n",
              "      <th>주변특성</th>\n",
              "      <th>대중교통</th>\n",
              "      <th>kmeans</th>\n",
              "      <th>spca_component_1</th>\n",
              "      <th>spca_component_2</th>\n",
              "      <th>spca_component_3</th>\n",
              "    </tr>\n",
              "  </thead>\n",
              "  <tbody>\n",
              "    <tr>\n",
              "      <th>2</th>\n",
              "      <td>244</td>\n",
              "      <td>강서구</td>\n",
              "      <td>우장산동</td>\n",
              "      <td>우장산동 주민센터</td>\n",
              "      <td>서울특별시 강서구 우현로 34</td>\n",
              "      <td>37.55</td>\n",
              "      <td>126.84</td>\n",
              "      <td>1949788.78</td>\n",
              "      <td>942044.36</td>\n",
              "      <td>42923.00</td>\n",
              "      <td>8654.00</td>\n",
              "      <td>0.20</td>\n",
              "      <td>466741.12</td>\n",
              "      <td>9995.12</td>\n",
              "      <td>1.00</td>\n",
              "      <td>2.00</td>\n",
              "      <td>0</td>\n",
              "      <td>3.21</td>\n",
              "      <td>-1.09</td>\n",
              "      <td>0.63</td>\n",
              "    </tr>\n",
              "  </tbody>\n",
              "</table>\n",
              "</div>\n",
              "      <button class=\"colab-df-convert\" onclick=\"convertToInteractive('df-27f84ca4-82d0-4af8-bb19-e467e6060c43')\"\n",
              "              title=\"Convert this dataframe to an interactive table.\"\n",
              "              style=\"display:none;\">\n",
              "        \n",
              "  <svg xmlns=\"http://www.w3.org/2000/svg\" height=\"24px\"viewBox=\"0 0 24 24\"\n",
              "       width=\"24px\">\n",
              "    <path d=\"M0 0h24v24H0V0z\" fill=\"none\"/>\n",
              "    <path d=\"M18.56 5.44l.94 2.06.94-2.06 2.06-.94-2.06-.94-.94-2.06-.94 2.06-2.06.94zm-11 1L8.5 8.5l.94-2.06 2.06-.94-2.06-.94L8.5 2.5l-.94 2.06-2.06.94zm10 10l.94 2.06.94-2.06 2.06-.94-2.06-.94-.94-2.06-.94 2.06-2.06.94z\"/><path d=\"M17.41 7.96l-1.37-1.37c-.4-.4-.92-.59-1.43-.59-.52 0-1.04.2-1.43.59L10.3 9.45l-7.72 7.72c-.78.78-.78 2.05 0 2.83L4 21.41c.39.39.9.59 1.41.59.51 0 1.02-.2 1.41-.59l7.78-7.78 2.81-2.81c.8-.78.8-2.07 0-2.86zM5.41 20L4 18.59l7.72-7.72 1.47 1.35L5.41 20z\"/>\n",
              "  </svg>\n",
              "      </button>\n",
              "      \n",
              "  <style>\n",
              "    .colab-df-container {\n",
              "      display:flex;\n",
              "      flex-wrap:wrap;\n",
              "      gap: 12px;\n",
              "    }\n",
              "\n",
              "    .colab-df-convert {\n",
              "      background-color: #E8F0FE;\n",
              "      border: none;\n",
              "      border-radius: 50%;\n",
              "      cursor: pointer;\n",
              "      display: none;\n",
              "      fill: #1967D2;\n",
              "      height: 32px;\n",
              "      padding: 0 0 0 0;\n",
              "      width: 32px;\n",
              "    }\n",
              "\n",
              "    .colab-df-convert:hover {\n",
              "      background-color: #E2EBFA;\n",
              "      box-shadow: 0px 1px 2px rgba(60, 64, 67, 0.3), 0px 1px 3px 1px rgba(60, 64, 67, 0.15);\n",
              "      fill: #174EA6;\n",
              "    }\n",
              "\n",
              "    [theme=dark] .colab-df-convert {\n",
              "      background-color: #3B4455;\n",
              "      fill: #D2E3FC;\n",
              "    }\n",
              "\n",
              "    [theme=dark] .colab-df-convert:hover {\n",
              "      background-color: #434B5C;\n",
              "      box-shadow: 0px 1px 3px 1px rgba(0, 0, 0, 0.15);\n",
              "      filter: drop-shadow(0px 1px 2px rgba(0, 0, 0, 0.3));\n",
              "      fill: #FFFFFF;\n",
              "    }\n",
              "  </style>\n",
              "\n",
              "      <script>\n",
              "        const buttonEl =\n",
              "          document.querySelector('#df-27f84ca4-82d0-4af8-bb19-e467e6060c43 button.colab-df-convert');\n",
              "        buttonEl.style.display =\n",
              "          google.colab.kernel.accessAllowed ? 'block' : 'none';\n",
              "\n",
              "        async function convertToInteractive(key) {\n",
              "          const element = document.querySelector('#df-27f84ca4-82d0-4af8-bb19-e467e6060c43');\n",
              "          const dataTable =\n",
              "            await google.colab.kernel.invokeFunction('convertToInteractive',\n",
              "                                                     [key], {});\n",
              "          if (!dataTable) return;\n",
              "\n",
              "          const docLinkHtml = 'Like what you see? Visit the ' +\n",
              "            '<a target=\"_blank\" href=https://colab.research.google.com/notebooks/data_table.ipynb>data table notebook</a>'\n",
              "            + ' to learn more about interactive tables.';\n",
              "          element.innerHTML = '';\n",
              "          dataTable['output_type'] = 'display_data';\n",
              "          await google.colab.output.renderOutput(dataTable, element);\n",
              "          const docLink = document.createElement('div');\n",
              "          docLink.innerHTML = docLinkHtml;\n",
              "          element.appendChild(docLink);\n",
              "        }\n",
              "      </script>\n",
              "    </div>\n",
              "  </div>\n",
              "  "
            ]
          },
          "metadata": {},
          "execution_count": 73
        }
      ]
    },
    {
      "cell_type": "markdown",
      "source": [
        "### 강서구 10개행 연면적 평균은 1944.502 , 우장산동 주민센터는 그보다 높은 4104.56 이라서 가능"
      ],
      "metadata": {
        "id": "ZACe9D6vCnuP"
      }
    },
    {
      "cell_type": "code",
      "source": [
        "# 강서 유동인구 평균\n",
        "gangseo['유동인구'].mean()"
      ],
      "metadata": {
        "colab": {
          "base_uri": "https://localhost:8080/"
        },
        "id": "8wFxYdv5aHEX",
        "outputId": "cfc0d8f9-b939-4318-d1fc-70a49668f0ad"
      },
      "execution_count": null,
      "outputs": [
        {
          "output_type": "execute_result",
          "data": {
            "text/plain": [
              "496296.7145746051"
            ]
          },
          "metadata": {},
          "execution_count": 108
        }
      ]
    },
    {
      "cell_type": "markdown",
      "source": [
        "### 유동인구가 466741.12 - 평균은 496296.71 이지만, 절대적인 수치에서 밀리는 것이 아니기 때문에 채택."
      ],
      "metadata": {
        "id": "5earx2WSaRhP"
      }
    },
    {
      "cell_type": "markdown",
      "source": [
        "### 우장산동 주민센터는 대중교통, 연면적, 주변특성(평균 1.1), 유동인구가 적절하여 채택."
      ],
      "metadata": {
        "id": "gD2xIJ4SCzug"
      }
    },
    {
      "cell_type": "markdown",
      "source": [
        "## 강서구는 우장산동 주민센터"
      ],
      "metadata": {
        "id": "ZABDIutPPTXa"
      }
    },
    {
      "cell_type": "markdown",
      "source": [
        "## 노원구 시작"
      ],
      "metadata": {
        "id": "Sc0vqnP7Pe0y"
      }
    },
    {
      "cell_type": "code",
      "source": [
        "# 노원구 추출.\n",
        "dfnowon = dfclu2[dfclu2['자치구']=='노원구']\n",
        "dfnowon['시설명'].head(10)"
      ],
      "metadata": {
        "colab": {
          "base_uri": "https://localhost:8080/"
        },
        "outputId": "2444fb67-d4f2-4b66-cb0a-4a32dde4e16c",
        "id": "u81BBUUUPkAW"
      },
      "execution_count": null,
      "outputs": [
        {
          "output_type": "execute_result",
          "data": {
            "text/plain": [
              "158      월계2동 주민센터\n",
              "159      월계3동 주민센터\n",
              "160      공릉1동 주민센터\n",
              "161      공릉2동 주민센터\n",
              "165      상계1동 주민센터\n",
              "167     상계3.4동주민센터\n",
              "169     상계6.7동주민센터\n",
              "173    중계2.3동 주민센터\n",
              "454      공릉어르신복지센터\n",
              "Name: 시설명, dtype: object"
            ]
          },
          "metadata": {},
          "execution_count": 76
        }
      ]
    },
    {
      "cell_type": "code",
      "source": [
        "# 인덱스 조정 작업.(158 -> 0)\n",
        "dfnowon = dfnowon.reset_index()\n",
        "nowon = dfnowon.iloc[:,1:]\n",
        "nowon.head(1)"
      ],
      "metadata": {
        "colab": {
          "base_uri": "https://localhost:8080/",
          "height": 527
        },
        "outputId": "f8c47881-eff8-4f00-d96e-2393efadb1c6",
        "id": "1Hh-lWP_PkAX"
      },
      "execution_count": null,
      "outputs": [
        {
          "output_type": "execute_result",
          "data": {
            "text/plain": [
              "   자치구     동        시설명                   주소    위도     경도     위도UTMK  \\\n",
              "0  노원구  월계2동  월계2동 주민센터  서울특별시 노원구 초안산로5길 28 37.63 127.05 1958993.28   \n",
              "\n",
              "     경도UTMK   동별전체인구  동별시니어수  행정동별시니어비율      유동인구  디지털정보지수  주변특성  대중교통  \\\n",
              "0 960436.12 26568.00 8264.00       0.31 469066.11  7618.33  0.00  0.00   \n",
              "\n",
              "   kmeans  spca_component_1  spca_component_2  spca_component_3  \n",
              "0       0              1.69              0.39             -1.45  "
            ],
            "text/html": [
              "\n",
              "  <div id=\"df-78f70efc-c360-435e-a292-844bd2695836\">\n",
              "    <div class=\"colab-df-container\">\n",
              "      <div>\n",
              "<style scoped>\n",
              "    .dataframe tbody tr th:only-of-type {\n",
              "        vertical-align: middle;\n",
              "    }\n",
              "\n",
              "    .dataframe tbody tr th {\n",
              "        vertical-align: top;\n",
              "    }\n",
              "\n",
              "    .dataframe thead th {\n",
              "        text-align: right;\n",
              "    }\n",
              "</style>\n",
              "<table border=\"1\" class=\"dataframe\">\n",
              "  <thead>\n",
              "    <tr style=\"text-align: right;\">\n",
              "      <th></th>\n",
              "      <th>자치구</th>\n",
              "      <th>동</th>\n",
              "      <th>시설명</th>\n",
              "      <th>주소</th>\n",
              "      <th>위도</th>\n",
              "      <th>경도</th>\n",
              "      <th>위도UTMK</th>\n",
              "      <th>경도UTMK</th>\n",
              "      <th>동별전체인구</th>\n",
              "      <th>동별시니어수</th>\n",
              "      <th>행정동별시니어비율</th>\n",
              "      <th>유동인구</th>\n",
              "      <th>디지털정보지수</th>\n",
              "      <th>주변특성</th>\n",
              "      <th>대중교통</th>\n",
              "      <th>kmeans</th>\n",
              "      <th>spca_component_1</th>\n",
              "      <th>spca_component_2</th>\n",
              "      <th>spca_component_3</th>\n",
              "    </tr>\n",
              "  </thead>\n",
              "  <tbody>\n",
              "    <tr>\n",
              "      <th>0</th>\n",
              "      <td>노원구</td>\n",
              "      <td>월계2동</td>\n",
              "      <td>월계2동 주민센터</td>\n",
              "      <td>서울특별시 노원구 초안산로5길 28</td>\n",
              "      <td>37.63</td>\n",
              "      <td>127.05</td>\n",
              "      <td>1958993.28</td>\n",
              "      <td>960436.12</td>\n",
              "      <td>26568.00</td>\n",
              "      <td>8264.00</td>\n",
              "      <td>0.31</td>\n",
              "      <td>469066.11</td>\n",
              "      <td>7618.33</td>\n",
              "      <td>0.00</td>\n",
              "      <td>0.00</td>\n",
              "      <td>0</td>\n",
              "      <td>1.69</td>\n",
              "      <td>0.39</td>\n",
              "      <td>-1.45</td>\n",
              "    </tr>\n",
              "  </tbody>\n",
              "</table>\n",
              "</div>\n",
              "      <button class=\"colab-df-convert\" onclick=\"convertToInteractive('df-78f70efc-c360-435e-a292-844bd2695836')\"\n",
              "              title=\"Convert this dataframe to an interactive table.\"\n",
              "              style=\"display:none;\">\n",
              "        \n",
              "  <svg xmlns=\"http://www.w3.org/2000/svg\" height=\"24px\"viewBox=\"0 0 24 24\"\n",
              "       width=\"24px\">\n",
              "    <path d=\"M0 0h24v24H0V0z\" fill=\"none\"/>\n",
              "    <path d=\"M18.56 5.44l.94 2.06.94-2.06 2.06-.94-2.06-.94-.94-2.06-.94 2.06-2.06.94zm-11 1L8.5 8.5l.94-2.06 2.06-.94-2.06-.94L8.5 2.5l-.94 2.06-2.06.94zm10 10l.94 2.06.94-2.06 2.06-.94-2.06-.94-.94-2.06-.94 2.06-2.06.94z\"/><path d=\"M17.41 7.96l-1.37-1.37c-.4-.4-.92-.59-1.43-.59-.52 0-1.04.2-1.43.59L10.3 9.45l-7.72 7.72c-.78.78-.78 2.05 0 2.83L4 21.41c.39.39.9.59 1.41.59.51 0 1.02-.2 1.41-.59l7.78-7.78 2.81-2.81c.8-.78.8-2.07 0-2.86zM5.41 20L4 18.59l7.72-7.72 1.47 1.35L5.41 20z\"/>\n",
              "  </svg>\n",
              "      </button>\n",
              "      \n",
              "  <style>\n",
              "    .colab-df-container {\n",
              "      display:flex;\n",
              "      flex-wrap:wrap;\n",
              "      gap: 12px;\n",
              "    }\n",
              "\n",
              "    .colab-df-convert {\n",
              "      background-color: #E8F0FE;\n",
              "      border: none;\n",
              "      border-radius: 50%;\n",
              "      cursor: pointer;\n",
              "      display: none;\n",
              "      fill: #1967D2;\n",
              "      height: 32px;\n",
              "      padding: 0 0 0 0;\n",
              "      width: 32px;\n",
              "    }\n",
              "\n",
              "    .colab-df-convert:hover {\n",
              "      background-color: #E2EBFA;\n",
              "      box-shadow: 0px 1px 2px rgba(60, 64, 67, 0.3), 0px 1px 3px 1px rgba(60, 64, 67, 0.15);\n",
              "      fill: #174EA6;\n",
              "    }\n",
              "\n",
              "    [theme=dark] .colab-df-convert {\n",
              "      background-color: #3B4455;\n",
              "      fill: #D2E3FC;\n",
              "    }\n",
              "\n",
              "    [theme=dark] .colab-df-convert:hover {\n",
              "      background-color: #434B5C;\n",
              "      box-shadow: 0px 1px 3px 1px rgba(0, 0, 0, 0.15);\n",
              "      filter: drop-shadow(0px 1px 2px rgba(0, 0, 0, 0.3));\n",
              "      fill: #FFFFFF;\n",
              "    }\n",
              "  </style>\n",
              "\n",
              "      <script>\n",
              "        const buttonEl =\n",
              "          document.querySelector('#df-78f70efc-c360-435e-a292-844bd2695836 button.colab-df-convert');\n",
              "        buttonEl.style.display =\n",
              "          google.colab.kernel.accessAllowed ? 'block' : 'none';\n",
              "\n",
              "        async function convertToInteractive(key) {\n",
              "          const element = document.querySelector('#df-78f70efc-c360-435e-a292-844bd2695836');\n",
              "          const dataTable =\n",
              "            await google.colab.kernel.invokeFunction('convertToInteractive',\n",
              "                                                     [key], {});\n",
              "          if (!dataTable) return;\n",
              "\n",
              "          const docLinkHtml = 'Like what you see? Visit the ' +\n",
              "            '<a target=\"_blank\" href=https://colab.research.google.com/notebooks/data_table.ipynb>data table notebook</a>'\n",
              "            + ' to learn more about interactive tables.';\n",
              "          element.innerHTML = '';\n",
              "          dataTable['output_type'] = 'display_data';\n",
              "          await google.colab.output.renderOutput(dataTable, element);\n",
              "          const docLink = document.createElement('div');\n",
              "          docLink.innerHTML = docLinkHtml;\n",
              "          element.appendChild(docLink);\n",
              "        }\n",
              "      </script>\n",
              "    </div>\n",
              "  </div>\n",
              "  "
            ]
          },
          "metadata": {},
          "execution_count": 56
        }
      ]
    },
    {
      "cell_type": "code",
      "source": [
        "# 노원구중 각 주민센터(입지선정)과 다른 주민센터와의 거리합.\n",
        "distance = []\n",
        "distance2 = []\n",
        "for i in range(len(nowon)):\n",
        "    for j in range(len(nowon)):\n",
        "        distance.append(np.sqrt((nowon['위도UTMK'][i] - nowon['위도UTMK'][j])**2 + (nowon['경도UTMK'][i] - nowon['경도UTMK'][j])**2))\n",
        "    distance2.append(sum(distance))\n",
        "    distance= []\n",
        "distance2"
      ],
      "metadata": {
        "colab": {
          "base_uri": "https://localhost:8080/"
        },
        "outputId": "d885156e-d2e5-4551-e91b-d0835873c9af",
        "id": "MyY2o23zPkAY"
      },
      "execution_count": null,
      "outputs": [
        {
          "output_type": "execute_result",
          "data": {
            "text/plain": [
              "[24363.086066554122,\n",
              " 19850.795785409227,\n",
              " 24399.480471168845,\n",
              " 29397.691717870286,\n",
              " 37615.959315089676,\n",
              " 33381.94179221746,\n",
              " 20624.980506095824,\n",
              " 17644.772127993638,\n",
              " 17692.366804655736]"
            ]
          },
          "metadata": {},
          "execution_count": 57
        }
      ]
    },
    {
      "cell_type": "code",
      "source": [
        "# 노원구의 인구 * 거리 값.\n",
        "# p median 식이 수요 * 거리곱의 최소화. \n",
        "nowonpopdist = nowon['동별시니어수']*distance2\n",
        "print(nowonpopdist.sort_values())\n",
        "a = nowonpopdist.argmin()\n",
        "nowon.iloc[a:a+1:]"
      ],
      "metadata": {
        "colab": {
          "base_uri": "https://localhost:8080/",
          "height": 658
        },
        "outputId": "757f4bbe-8db5-490d-aca8-8a6a51e4bfe1",
        "id": "xxIjDREOPkAY"
      },
      "execution_count": null,
      "outputs": [
        {
          "output_type": "stream",
          "name": "stdout",
          "text": [
            "8   146492797.14\n",
            "6   153284855.12\n",
            "1   172185802.64\n",
            "7   178688607.34\n",
            "0   201336543.25\n",
            "2   235747780.31\n",
            "3   243412887.42\n",
            "5   285115164.85\n",
            "4   400722814.58\n",
            "Name: 동별시니어수, dtype: float64\n"
          ]
        },
        {
          "output_type": "execute_result",
          "data": {
            "text/plain": [
              "   자치구     동        시설명                 주소    위도     경도     위도UTMK    경도UTMK  \\\n",
              "8  노원구  공릉2동  공릉어르신복지센터  서울특별시 노원구 공릉로 129 37.65 127.07 1960419.95 961966.63   \n",
              "\n",
              "    동별전체인구  동별시니어수  행정동별시니어비율      유동인구  디지털정보지수  주변특성  대중교통  kmeans  \\\n",
              "8 40374.00 8280.00       0.21 469974.27  9554.74  2.00  3.00       0   \n",
              "\n",
              "   spca_component_1  spca_component_2  spca_component_3  \n",
              "8              2.95             -0.39              1.30  "
            ],
            "text/html": [
              "\n",
              "  <div id=\"df-ff8f0f62-1f37-4248-b94d-6650a63694c1\">\n",
              "    <div class=\"colab-df-container\">\n",
              "      <div>\n",
              "<style scoped>\n",
              "    .dataframe tbody tr th:only-of-type {\n",
              "        vertical-align: middle;\n",
              "    }\n",
              "\n",
              "    .dataframe tbody tr th {\n",
              "        vertical-align: top;\n",
              "    }\n",
              "\n",
              "    .dataframe thead th {\n",
              "        text-align: right;\n",
              "    }\n",
              "</style>\n",
              "<table border=\"1\" class=\"dataframe\">\n",
              "  <thead>\n",
              "    <tr style=\"text-align: right;\">\n",
              "      <th></th>\n",
              "      <th>자치구</th>\n",
              "      <th>동</th>\n",
              "      <th>시설명</th>\n",
              "      <th>주소</th>\n",
              "      <th>위도</th>\n",
              "      <th>경도</th>\n",
              "      <th>위도UTMK</th>\n",
              "      <th>경도UTMK</th>\n",
              "      <th>동별전체인구</th>\n",
              "      <th>동별시니어수</th>\n",
              "      <th>행정동별시니어비율</th>\n",
              "      <th>유동인구</th>\n",
              "      <th>디지털정보지수</th>\n",
              "      <th>주변특성</th>\n",
              "      <th>대중교통</th>\n",
              "      <th>kmeans</th>\n",
              "      <th>spca_component_1</th>\n",
              "      <th>spca_component_2</th>\n",
              "      <th>spca_component_3</th>\n",
              "    </tr>\n",
              "  </thead>\n",
              "  <tbody>\n",
              "    <tr>\n",
              "      <th>8</th>\n",
              "      <td>노원구</td>\n",
              "      <td>공릉2동</td>\n",
              "      <td>공릉어르신복지센터</td>\n",
              "      <td>서울특별시 노원구 공릉로 129</td>\n",
              "      <td>37.65</td>\n",
              "      <td>127.07</td>\n",
              "      <td>1960419.95</td>\n",
              "      <td>961966.63</td>\n",
              "      <td>40374.00</td>\n",
              "      <td>8280.00</td>\n",
              "      <td>0.21</td>\n",
              "      <td>469974.27</td>\n",
              "      <td>9554.74</td>\n",
              "      <td>2.00</td>\n",
              "      <td>3.00</td>\n",
              "      <td>0</td>\n",
              "      <td>2.95</td>\n",
              "      <td>-0.39</td>\n",
              "      <td>1.30</td>\n",
              "    </tr>\n",
              "  </tbody>\n",
              "</table>\n",
              "</div>\n",
              "      <button class=\"colab-df-convert\" onclick=\"convertToInteractive('df-ff8f0f62-1f37-4248-b94d-6650a63694c1')\"\n",
              "              title=\"Convert this dataframe to an interactive table.\"\n",
              "              style=\"display:none;\">\n",
              "        \n",
              "  <svg xmlns=\"http://www.w3.org/2000/svg\" height=\"24px\"viewBox=\"0 0 24 24\"\n",
              "       width=\"24px\">\n",
              "    <path d=\"M0 0h24v24H0V0z\" fill=\"none\"/>\n",
              "    <path d=\"M18.56 5.44l.94 2.06.94-2.06 2.06-.94-2.06-.94-.94-2.06-.94 2.06-2.06.94zm-11 1L8.5 8.5l.94-2.06 2.06-.94-2.06-.94L8.5 2.5l-.94 2.06-2.06.94zm10 10l.94 2.06.94-2.06 2.06-.94-2.06-.94-.94-2.06-.94 2.06-2.06.94z\"/><path d=\"M17.41 7.96l-1.37-1.37c-.4-.4-.92-.59-1.43-.59-.52 0-1.04.2-1.43.59L10.3 9.45l-7.72 7.72c-.78.78-.78 2.05 0 2.83L4 21.41c.39.39.9.59 1.41.59.51 0 1.02-.2 1.41-.59l7.78-7.78 2.81-2.81c.8-.78.8-2.07 0-2.86zM5.41 20L4 18.59l7.72-7.72 1.47 1.35L5.41 20z\"/>\n",
              "  </svg>\n",
              "      </button>\n",
              "      \n",
              "  <style>\n",
              "    .colab-df-container {\n",
              "      display:flex;\n",
              "      flex-wrap:wrap;\n",
              "      gap: 12px;\n",
              "    }\n",
              "\n",
              "    .colab-df-convert {\n",
              "      background-color: #E8F0FE;\n",
              "      border: none;\n",
              "      border-radius: 50%;\n",
              "      cursor: pointer;\n",
              "      display: none;\n",
              "      fill: #1967D2;\n",
              "      height: 32px;\n",
              "      padding: 0 0 0 0;\n",
              "      width: 32px;\n",
              "    }\n",
              "\n",
              "    .colab-df-convert:hover {\n",
              "      background-color: #E2EBFA;\n",
              "      box-shadow: 0px 1px 2px rgba(60, 64, 67, 0.3), 0px 1px 3px 1px rgba(60, 64, 67, 0.15);\n",
              "      fill: #174EA6;\n",
              "    }\n",
              "\n",
              "    [theme=dark] .colab-df-convert {\n",
              "      background-color: #3B4455;\n",
              "      fill: #D2E3FC;\n",
              "    }\n",
              "\n",
              "    [theme=dark] .colab-df-convert:hover {\n",
              "      background-color: #434B5C;\n",
              "      box-shadow: 0px 1px 3px 1px rgba(0, 0, 0, 0.15);\n",
              "      filter: drop-shadow(0px 1px 2px rgba(0, 0, 0, 0.3));\n",
              "      fill: #FFFFFF;\n",
              "    }\n",
              "  </style>\n",
              "\n",
              "      <script>\n",
              "        const buttonEl =\n",
              "          document.querySelector('#df-ff8f0f62-1f37-4248-b94d-6650a63694c1 button.colab-df-convert');\n",
              "        buttonEl.style.display =\n",
              "          google.colab.kernel.accessAllowed ? 'block' : 'none';\n",
              "\n",
              "        async function convertToInteractive(key) {\n",
              "          const element = document.querySelector('#df-ff8f0f62-1f37-4248-b94d-6650a63694c1');\n",
              "          const dataTable =\n",
              "            await google.colab.kernel.invokeFunction('convertToInteractive',\n",
              "                                                     [key], {});\n",
              "          if (!dataTable) return;\n",
              "\n",
              "          const docLinkHtml = 'Like what you see? Visit the ' +\n",
              "            '<a target=\"_blank\" href=https://colab.research.google.com/notebooks/data_table.ipynb>data table notebook</a>'\n",
              "            + ' to learn more about interactive tables.';\n",
              "          element.innerHTML = '';\n",
              "          dataTable['output_type'] = 'display_data';\n",
              "          await google.colab.output.renderOutput(dataTable, element);\n",
              "          const docLink = document.createElement('div');\n",
              "          docLink.innerHTML = docLinkHtml;\n",
              "          element.appendChild(docLink);\n",
              "        }\n",
              "      </script>\n",
              "    </div>\n",
              "  </div>\n",
              "  "
            ]
          },
          "metadata": {},
          "execution_count": 58
        }
      ]
    },
    {
      "cell_type": "markdown",
      "source": [
        "### 노원구 9개 행 연면적 평균은 1450 이고, 공릉어르신복지센터는 584라서 부적절"
      ],
      "metadata": {
        "id": "OlRlDQysEWr5"
      }
    },
    {
      "cell_type": "code",
      "source": [
        "nowon.iloc[6:7]"
      ],
      "metadata": {
        "colab": {
          "base_uri": "https://localhost:8080/",
          "height": 475
        },
        "id": "RSa0ciHcFO9L",
        "outputId": "3b620905-5fa6-420d-d625-1e107f02c79f"
      },
      "execution_count": null,
      "outputs": [
        {
          "output_type": "execute_result",
          "data": {
            "text/plain": [
              "   자치구       동         시설명                 주소    위도     경도     위도UTMK  \\\n",
              "6  노원구  상계6.7동  상계6.7동주민센터  서울특별시 노원구 노원로 429 37.65 127.07 1961488.88   \n",
              "\n",
              "     경도UTMK   동별전체인구  동별시니어수  행정동별시니어비율      유동인구  디지털정보지수  주변특성  대중교통  \\\n",
              "6 961996.78 32641.00 7432.00       0.23 421841.64  8382.82  1.00  3.00   \n",
              "\n",
              "   kmeans  spca_component_1  spca_component_2  spca_component_3  \n",
              "6       0              1.86             -0.37              1.05  "
            ],
            "text/html": [
              "\n",
              "  <div id=\"df-3892dac9-e125-4a8f-bd27-d20b18d02694\">\n",
              "    <div class=\"colab-df-container\">\n",
              "      <div>\n",
              "<style scoped>\n",
              "    .dataframe tbody tr th:only-of-type {\n",
              "        vertical-align: middle;\n",
              "    }\n",
              "\n",
              "    .dataframe tbody tr th {\n",
              "        vertical-align: top;\n",
              "    }\n",
              "\n",
              "    .dataframe thead th {\n",
              "        text-align: right;\n",
              "    }\n",
              "</style>\n",
              "<table border=\"1\" class=\"dataframe\">\n",
              "  <thead>\n",
              "    <tr style=\"text-align: right;\">\n",
              "      <th></th>\n",
              "      <th>자치구</th>\n",
              "      <th>동</th>\n",
              "      <th>시설명</th>\n",
              "      <th>주소</th>\n",
              "      <th>위도</th>\n",
              "      <th>경도</th>\n",
              "      <th>위도UTMK</th>\n",
              "      <th>경도UTMK</th>\n",
              "      <th>동별전체인구</th>\n",
              "      <th>동별시니어수</th>\n",
              "      <th>행정동별시니어비율</th>\n",
              "      <th>유동인구</th>\n",
              "      <th>디지털정보지수</th>\n",
              "      <th>주변특성</th>\n",
              "      <th>대중교통</th>\n",
              "      <th>kmeans</th>\n",
              "      <th>spca_component_1</th>\n",
              "      <th>spca_component_2</th>\n",
              "      <th>spca_component_3</th>\n",
              "    </tr>\n",
              "  </thead>\n",
              "  <tbody>\n",
              "    <tr>\n",
              "      <th>6</th>\n",
              "      <td>노원구</td>\n",
              "      <td>상계6.7동</td>\n",
              "      <td>상계6.7동주민센터</td>\n",
              "      <td>서울특별시 노원구 노원로 429</td>\n",
              "      <td>37.65</td>\n",
              "      <td>127.07</td>\n",
              "      <td>1961488.88</td>\n",
              "      <td>961996.78</td>\n",
              "      <td>32641.00</td>\n",
              "      <td>7432.00</td>\n",
              "      <td>0.23</td>\n",
              "      <td>421841.64</td>\n",
              "      <td>8382.82</td>\n",
              "      <td>1.00</td>\n",
              "      <td>3.00</td>\n",
              "      <td>0</td>\n",
              "      <td>1.86</td>\n",
              "      <td>-0.37</td>\n",
              "      <td>1.05</td>\n",
              "    </tr>\n",
              "  </tbody>\n",
              "</table>\n",
              "</div>\n",
              "      <button class=\"colab-df-convert\" onclick=\"convertToInteractive('df-3892dac9-e125-4a8f-bd27-d20b18d02694')\"\n",
              "              title=\"Convert this dataframe to an interactive table.\"\n",
              "              style=\"display:none;\">\n",
              "        \n",
              "  <svg xmlns=\"http://www.w3.org/2000/svg\" height=\"24px\"viewBox=\"0 0 24 24\"\n",
              "       width=\"24px\">\n",
              "    <path d=\"M0 0h24v24H0V0z\" fill=\"none\"/>\n",
              "    <path d=\"M18.56 5.44l.94 2.06.94-2.06 2.06-.94-2.06-.94-.94-2.06-.94 2.06-2.06.94zm-11 1L8.5 8.5l.94-2.06 2.06-.94-2.06-.94L8.5 2.5l-.94 2.06-2.06.94zm10 10l.94 2.06.94-2.06 2.06-.94-2.06-.94-.94-2.06-.94 2.06-2.06.94z\"/><path d=\"M17.41 7.96l-1.37-1.37c-.4-.4-.92-.59-1.43-.59-.52 0-1.04.2-1.43.59L10.3 9.45l-7.72 7.72c-.78.78-.78 2.05 0 2.83L4 21.41c.39.39.9.59 1.41.59.51 0 1.02-.2 1.41-.59l7.78-7.78 2.81-2.81c.8-.78.8-2.07 0-2.86zM5.41 20L4 18.59l7.72-7.72 1.47 1.35L5.41 20z\"/>\n",
              "  </svg>\n",
              "      </button>\n",
              "      \n",
              "  <style>\n",
              "    .colab-df-container {\n",
              "      display:flex;\n",
              "      flex-wrap:wrap;\n",
              "      gap: 12px;\n",
              "    }\n",
              "\n",
              "    .colab-df-convert {\n",
              "      background-color: #E8F0FE;\n",
              "      border: none;\n",
              "      border-radius: 50%;\n",
              "      cursor: pointer;\n",
              "      display: none;\n",
              "      fill: #1967D2;\n",
              "      height: 32px;\n",
              "      padding: 0 0 0 0;\n",
              "      width: 32px;\n",
              "    }\n",
              "\n",
              "    .colab-df-convert:hover {\n",
              "      background-color: #E2EBFA;\n",
              "      box-shadow: 0px 1px 2px rgba(60, 64, 67, 0.3), 0px 1px 3px 1px rgba(60, 64, 67, 0.15);\n",
              "      fill: #174EA6;\n",
              "    }\n",
              "\n",
              "    [theme=dark] .colab-df-convert {\n",
              "      background-color: #3B4455;\n",
              "      fill: #D2E3FC;\n",
              "    }\n",
              "\n",
              "    [theme=dark] .colab-df-convert:hover {\n",
              "      background-color: #434B5C;\n",
              "      box-shadow: 0px 1px 3px 1px rgba(0, 0, 0, 0.15);\n",
              "      filter: drop-shadow(0px 1px 2px rgba(0, 0, 0, 0.3));\n",
              "      fill: #FFFFFF;\n",
              "    }\n",
              "  </style>\n",
              "\n",
              "      <script>\n",
              "        const buttonEl =\n",
              "          document.querySelector('#df-3892dac9-e125-4a8f-bd27-d20b18d02694 button.colab-df-convert');\n",
              "        buttonEl.style.display =\n",
              "          google.colab.kernel.accessAllowed ? 'block' : 'none';\n",
              "\n",
              "        async function convertToInteractive(key) {\n",
              "          const element = document.querySelector('#df-3892dac9-e125-4a8f-bd27-d20b18d02694');\n",
              "          const dataTable =\n",
              "            await google.colab.kernel.invokeFunction('convertToInteractive',\n",
              "                                                     [key], {});\n",
              "          if (!dataTable) return;\n",
              "\n",
              "          const docLinkHtml = 'Like what you see? Visit the ' +\n",
              "            '<a target=\"_blank\" href=https://colab.research.google.com/notebooks/data_table.ipynb>data table notebook</a>'\n",
              "            + ' to learn more about interactive tables.';\n",
              "          element.innerHTML = '';\n",
              "          dataTable['output_type'] = 'display_data';\n",
              "          await google.colab.output.renderOutput(dataTable, element);\n",
              "          const docLink = document.createElement('div');\n",
              "          docLink.innerHTML = docLinkHtml;\n",
              "          element.appendChild(docLink);\n",
              "        }\n",
              "      </script>\n",
              "    </div>\n",
              "  </div>\n",
              "  "
            ]
          },
          "metadata": {},
          "execution_count": 78
        }
      ]
    },
    {
      "cell_type": "markdown",
      "source": [
        "### 노원구 9개 행 연면적 평균은 1450 이고, 상계6.7 주민센터는 653 이라서 부적절"
      ],
      "metadata": {
        "id": "X9dlmIfgFfGQ"
      }
    },
    {
      "cell_type": "code",
      "source": [
        "nowon.iloc[1:2]"
      ],
      "metadata": {
        "colab": {
          "base_uri": "https://localhost:8080/",
          "height": 475
        },
        "id": "koA-bLFSFo9x",
        "outputId": "13cb730b-c7ab-4f6b-8349-9b11429b3010"
      },
      "execution_count": null,
      "outputs": [
        {
          "output_type": "execute_result",
          "data": {
            "text/plain": [
              "   자치구     동        시설명                주소    위도     경도     위도UTMK    경도UTMK  \\\n",
              "1  노원구  월계3동  월계3동 주민센터  서울특별시 노원구 마들로 57 37.63 127.06 1959213.35 961372.55   \n",
              "\n",
              "    동별전체인구  동별시니어수  행정동별시니어비율      유동인구  디지털정보지수  주변특성  대중교통  kmeans  \\\n",
              "1 29885.00 8674.00       0.29 492337.78  7956.12  0.00  2.00       0   \n",
              "\n",
              "   spca_component_1  spca_component_2  spca_component_3  \n",
              "1              2.13              0.23             -0.09  "
            ],
            "text/html": [
              "\n",
              "  <div id=\"df-cba907aa-045c-4748-8bc0-ca4a3d080a28\">\n",
              "    <div class=\"colab-df-container\">\n",
              "      <div>\n",
              "<style scoped>\n",
              "    .dataframe tbody tr th:only-of-type {\n",
              "        vertical-align: middle;\n",
              "    }\n",
              "\n",
              "    .dataframe tbody tr th {\n",
              "        vertical-align: top;\n",
              "    }\n",
              "\n",
              "    .dataframe thead th {\n",
              "        text-align: right;\n",
              "    }\n",
              "</style>\n",
              "<table border=\"1\" class=\"dataframe\">\n",
              "  <thead>\n",
              "    <tr style=\"text-align: right;\">\n",
              "      <th></th>\n",
              "      <th>자치구</th>\n",
              "      <th>동</th>\n",
              "      <th>시설명</th>\n",
              "      <th>주소</th>\n",
              "      <th>위도</th>\n",
              "      <th>경도</th>\n",
              "      <th>위도UTMK</th>\n",
              "      <th>경도UTMK</th>\n",
              "      <th>동별전체인구</th>\n",
              "      <th>동별시니어수</th>\n",
              "      <th>행정동별시니어비율</th>\n",
              "      <th>유동인구</th>\n",
              "      <th>디지털정보지수</th>\n",
              "      <th>주변특성</th>\n",
              "      <th>대중교통</th>\n",
              "      <th>kmeans</th>\n",
              "      <th>spca_component_1</th>\n",
              "      <th>spca_component_2</th>\n",
              "      <th>spca_component_3</th>\n",
              "    </tr>\n",
              "  </thead>\n",
              "  <tbody>\n",
              "    <tr>\n",
              "      <th>1</th>\n",
              "      <td>노원구</td>\n",
              "      <td>월계3동</td>\n",
              "      <td>월계3동 주민센터</td>\n",
              "      <td>서울특별시 노원구 마들로 57</td>\n",
              "      <td>37.63</td>\n",
              "      <td>127.06</td>\n",
              "      <td>1959213.35</td>\n",
              "      <td>961372.55</td>\n",
              "      <td>29885.00</td>\n",
              "      <td>8674.00</td>\n",
              "      <td>0.29</td>\n",
              "      <td>492337.78</td>\n",
              "      <td>7956.12</td>\n",
              "      <td>0.00</td>\n",
              "      <td>2.00</td>\n",
              "      <td>0</td>\n",
              "      <td>2.13</td>\n",
              "      <td>0.23</td>\n",
              "      <td>-0.09</td>\n",
              "    </tr>\n",
              "  </tbody>\n",
              "</table>\n",
              "</div>\n",
              "      <button class=\"colab-df-convert\" onclick=\"convertToInteractive('df-cba907aa-045c-4748-8bc0-ca4a3d080a28')\"\n",
              "              title=\"Convert this dataframe to an interactive table.\"\n",
              "              style=\"display:none;\">\n",
              "        \n",
              "  <svg xmlns=\"http://www.w3.org/2000/svg\" height=\"24px\"viewBox=\"0 0 24 24\"\n",
              "       width=\"24px\">\n",
              "    <path d=\"M0 0h24v24H0V0z\" fill=\"none\"/>\n",
              "    <path d=\"M18.56 5.44l.94 2.06.94-2.06 2.06-.94-2.06-.94-.94-2.06-.94 2.06-2.06.94zm-11 1L8.5 8.5l.94-2.06 2.06-.94-2.06-.94L8.5 2.5l-.94 2.06-2.06.94zm10 10l.94 2.06.94-2.06 2.06-.94-2.06-.94-.94-2.06-.94 2.06-2.06.94z\"/><path d=\"M17.41 7.96l-1.37-1.37c-.4-.4-.92-.59-1.43-.59-.52 0-1.04.2-1.43.59L10.3 9.45l-7.72 7.72c-.78.78-.78 2.05 0 2.83L4 21.41c.39.39.9.59 1.41.59.51 0 1.02-.2 1.41-.59l7.78-7.78 2.81-2.81c.8-.78.8-2.07 0-2.86zM5.41 20L4 18.59l7.72-7.72 1.47 1.35L5.41 20z\"/>\n",
              "  </svg>\n",
              "      </button>\n",
              "      \n",
              "  <style>\n",
              "    .colab-df-container {\n",
              "      display:flex;\n",
              "      flex-wrap:wrap;\n",
              "      gap: 12px;\n",
              "    }\n",
              "\n",
              "    .colab-df-convert {\n",
              "      background-color: #E8F0FE;\n",
              "      border: none;\n",
              "      border-radius: 50%;\n",
              "      cursor: pointer;\n",
              "      display: none;\n",
              "      fill: #1967D2;\n",
              "      height: 32px;\n",
              "      padding: 0 0 0 0;\n",
              "      width: 32px;\n",
              "    }\n",
              "\n",
              "    .colab-df-convert:hover {\n",
              "      background-color: #E2EBFA;\n",
              "      box-shadow: 0px 1px 2px rgba(60, 64, 67, 0.3), 0px 1px 3px 1px rgba(60, 64, 67, 0.15);\n",
              "      fill: #174EA6;\n",
              "    }\n",
              "\n",
              "    [theme=dark] .colab-df-convert {\n",
              "      background-color: #3B4455;\n",
              "      fill: #D2E3FC;\n",
              "    }\n",
              "\n",
              "    [theme=dark] .colab-df-convert:hover {\n",
              "      background-color: #434B5C;\n",
              "      box-shadow: 0px 1px 3px 1px rgba(0, 0, 0, 0.15);\n",
              "      filter: drop-shadow(0px 1px 2px rgba(0, 0, 0, 0.3));\n",
              "      fill: #FFFFFF;\n",
              "    }\n",
              "  </style>\n",
              "\n",
              "      <script>\n",
              "        const buttonEl =\n",
              "          document.querySelector('#df-cba907aa-045c-4748-8bc0-ca4a3d080a28 button.colab-df-convert');\n",
              "        buttonEl.style.display =\n",
              "          google.colab.kernel.accessAllowed ? 'block' : 'none';\n",
              "\n",
              "        async function convertToInteractive(key) {\n",
              "          const element = document.querySelector('#df-cba907aa-045c-4748-8bc0-ca4a3d080a28');\n",
              "          const dataTable =\n",
              "            await google.colab.kernel.invokeFunction('convertToInteractive',\n",
              "                                                     [key], {});\n",
              "          if (!dataTable) return;\n",
              "\n",
              "          const docLinkHtml = 'Like what you see? Visit the ' +\n",
              "            '<a target=\"_blank\" href=https://colab.research.google.com/notebooks/data_table.ipynb>data table notebook</a>'\n",
              "            + ' to learn more about interactive tables.';\n",
              "          element.innerHTML = '';\n",
              "          dataTable['output_type'] = 'display_data';\n",
              "          await google.colab.output.renderOutput(dataTable, element);\n",
              "          const docLink = document.createElement('div');\n",
              "          docLink.innerHTML = docLinkHtml;\n",
              "          element.appendChild(docLink);\n",
              "        }\n",
              "      </script>\n",
              "    </div>\n",
              "  </div>\n",
              "  "
            ]
          },
          "metadata": {},
          "execution_count": 80
        }
      ]
    },
    {
      "cell_type": "markdown",
      "source": [
        "### 월계 3동 주민센터는 대중교통은 2 이지만, 연면적이 650 - 평균이 1450 이라 기각"
      ],
      "metadata": {
        "id": "-ljnugzrF6en"
      }
    },
    {
      "cell_type": "code",
      "source": [
        "nowon.iloc[7:8]"
      ],
      "metadata": {
        "colab": {
          "base_uri": "https://localhost:8080/",
          "height": 509
        },
        "id": "MAVOUDWEFvAW",
        "outputId": "7278ae5b-5b12-4937-f91d-db7921a3bdeb"
      },
      "execution_count": null,
      "outputs": [
        {
          "output_type": "execute_result",
          "data": {
            "text/plain": [
              "   자치구       동          시설명                   주소    위도     경도     위도UTMK  \\\n",
              "7  노원구  중계2.3동  중계2.3동 주민센터  서울특별시 노원구 노원로17길 56 37.64 127.07 1960076.42   \n",
              "\n",
              "     경도UTMK   동별전체인구   동별시니어수  행정동별시니어비율      유동인구  디지털정보지수  주변특성  대중교통  \\\n",
              "7 962139.41 34196.00 10127.00       0.30 574810.32  9232.26  3.00  2.00   \n",
              "\n",
              "   kmeans  spca_component_1  spca_component_2  spca_component_3  \n",
              "7       0              3.45              1.76              0.14  "
            ],
            "text/html": [
              "\n",
              "  <div id=\"df-7a1d6e85-62ed-4a26-8353-368cd87e6d25\">\n",
              "    <div class=\"colab-df-container\">\n",
              "      <div>\n",
              "<style scoped>\n",
              "    .dataframe tbody tr th:only-of-type {\n",
              "        vertical-align: middle;\n",
              "    }\n",
              "\n",
              "    .dataframe tbody tr th {\n",
              "        vertical-align: top;\n",
              "    }\n",
              "\n",
              "    .dataframe thead th {\n",
              "        text-align: right;\n",
              "    }\n",
              "</style>\n",
              "<table border=\"1\" class=\"dataframe\">\n",
              "  <thead>\n",
              "    <tr style=\"text-align: right;\">\n",
              "      <th></th>\n",
              "      <th>자치구</th>\n",
              "      <th>동</th>\n",
              "      <th>시설명</th>\n",
              "      <th>주소</th>\n",
              "      <th>위도</th>\n",
              "      <th>경도</th>\n",
              "      <th>위도UTMK</th>\n",
              "      <th>경도UTMK</th>\n",
              "      <th>동별전체인구</th>\n",
              "      <th>동별시니어수</th>\n",
              "      <th>행정동별시니어비율</th>\n",
              "      <th>유동인구</th>\n",
              "      <th>디지털정보지수</th>\n",
              "      <th>주변특성</th>\n",
              "      <th>대중교통</th>\n",
              "      <th>kmeans</th>\n",
              "      <th>spca_component_1</th>\n",
              "      <th>spca_component_2</th>\n",
              "      <th>spca_component_3</th>\n",
              "    </tr>\n",
              "  </thead>\n",
              "  <tbody>\n",
              "    <tr>\n",
              "      <th>7</th>\n",
              "      <td>노원구</td>\n",
              "      <td>중계2.3동</td>\n",
              "      <td>중계2.3동 주민센터</td>\n",
              "      <td>서울특별시 노원구 노원로17길 56</td>\n",
              "      <td>37.64</td>\n",
              "      <td>127.07</td>\n",
              "      <td>1960076.42</td>\n",
              "      <td>962139.41</td>\n",
              "      <td>34196.00</td>\n",
              "      <td>10127.00</td>\n",
              "      <td>0.30</td>\n",
              "      <td>574810.32</td>\n",
              "      <td>9232.26</td>\n",
              "      <td>3.00</td>\n",
              "      <td>2.00</td>\n",
              "      <td>0</td>\n",
              "      <td>3.45</td>\n",
              "      <td>1.76</td>\n",
              "      <td>0.14</td>\n",
              "    </tr>\n",
              "  </tbody>\n",
              "</table>\n",
              "</div>\n",
              "      <button class=\"colab-df-convert\" onclick=\"convertToInteractive('df-7a1d6e85-62ed-4a26-8353-368cd87e6d25')\"\n",
              "              title=\"Convert this dataframe to an interactive table.\"\n",
              "              style=\"display:none;\">\n",
              "        \n",
              "  <svg xmlns=\"http://www.w3.org/2000/svg\" height=\"24px\"viewBox=\"0 0 24 24\"\n",
              "       width=\"24px\">\n",
              "    <path d=\"M0 0h24v24H0V0z\" fill=\"none\"/>\n",
              "    <path d=\"M18.56 5.44l.94 2.06.94-2.06 2.06-.94-2.06-.94-.94-2.06-.94 2.06-2.06.94zm-11 1L8.5 8.5l.94-2.06 2.06-.94-2.06-.94L8.5 2.5l-.94 2.06-2.06.94zm10 10l.94 2.06.94-2.06 2.06-.94-2.06-.94-.94-2.06-.94 2.06-2.06.94z\"/><path d=\"M17.41 7.96l-1.37-1.37c-.4-.4-.92-.59-1.43-.59-.52 0-1.04.2-1.43.59L10.3 9.45l-7.72 7.72c-.78.78-.78 2.05 0 2.83L4 21.41c.39.39.9.59 1.41.59.51 0 1.02-.2 1.41-.59l7.78-7.78 2.81-2.81c.8-.78.8-2.07 0-2.86zM5.41 20L4 18.59l7.72-7.72 1.47 1.35L5.41 20z\"/>\n",
              "  </svg>\n",
              "      </button>\n",
              "      \n",
              "  <style>\n",
              "    .colab-df-container {\n",
              "      display:flex;\n",
              "      flex-wrap:wrap;\n",
              "      gap: 12px;\n",
              "    }\n",
              "\n",
              "    .colab-df-convert {\n",
              "      background-color: #E8F0FE;\n",
              "      border: none;\n",
              "      border-radius: 50%;\n",
              "      cursor: pointer;\n",
              "      display: none;\n",
              "      fill: #1967D2;\n",
              "      height: 32px;\n",
              "      padding: 0 0 0 0;\n",
              "      width: 32px;\n",
              "    }\n",
              "\n",
              "    .colab-df-convert:hover {\n",
              "      background-color: #E2EBFA;\n",
              "      box-shadow: 0px 1px 2px rgba(60, 64, 67, 0.3), 0px 1px 3px 1px rgba(60, 64, 67, 0.15);\n",
              "      fill: #174EA6;\n",
              "    }\n",
              "\n",
              "    [theme=dark] .colab-df-convert {\n",
              "      background-color: #3B4455;\n",
              "      fill: #D2E3FC;\n",
              "    }\n",
              "\n",
              "    [theme=dark] .colab-df-convert:hover {\n",
              "      background-color: #434B5C;\n",
              "      box-shadow: 0px 1px 3px 1px rgba(0, 0, 0, 0.15);\n",
              "      filter: drop-shadow(0px 1px 2px rgba(0, 0, 0, 0.3));\n",
              "      fill: #FFFFFF;\n",
              "    }\n",
              "  </style>\n",
              "\n",
              "      <script>\n",
              "        const buttonEl =\n",
              "          document.querySelector('#df-7a1d6e85-62ed-4a26-8353-368cd87e6d25 button.colab-df-convert');\n",
              "        buttonEl.style.display =\n",
              "          google.colab.kernel.accessAllowed ? 'block' : 'none';\n",
              "\n",
              "        async function convertToInteractive(key) {\n",
              "          const element = document.querySelector('#df-7a1d6e85-62ed-4a26-8353-368cd87e6d25');\n",
              "          const dataTable =\n",
              "            await google.colab.kernel.invokeFunction('convertToInteractive',\n",
              "                                                     [key], {});\n",
              "          if (!dataTable) return;\n",
              "\n",
              "          const docLinkHtml = 'Like what you see? Visit the ' +\n",
              "            '<a target=\"_blank\" href=https://colab.research.google.com/notebooks/data_table.ipynb>data table notebook</a>'\n",
              "            + ' to learn more about interactive tables.';\n",
              "          element.innerHTML = '';\n",
              "          dataTable['output_type'] = 'display_data';\n",
              "          await google.colab.output.renderOutput(dataTable, element);\n",
              "          const docLink = document.createElement('div');\n",
              "          docLink.innerHTML = docLinkHtml;\n",
              "          element.appendChild(docLink);\n",
              "        }\n",
              "      </script>\n",
              "    </div>\n",
              "  </div>\n",
              "  "
            ]
          },
          "metadata": {},
          "execution_count": 81
        }
      ]
    },
    {
      "cell_type": "code",
      "source": [
        "# 노원구 유동인구 평균\n",
        "nowon['유동인구'].mean()"
      ],
      "metadata": {
        "colab": {
          "base_uri": "https://localhost:8080/"
        },
        "id": "ohS4nz3Oaeqp",
        "outputId": "1db86e96-13df-47e7-cfb1-1ba439e77148"
      },
      "execution_count": null,
      "outputs": [
        {
          "output_type": "execute_result",
          "data": {
            "text/plain": [
              "503986.2318664088"
            ]
          },
          "metadata": {},
          "execution_count": 109
        }
      ]
    },
    {
      "cell_type": "markdown",
      "source": [
        "### 대중교통, 연면적(2695) - 평균은 1450, 주변특성, 유동인구 준수하여 채택."
      ],
      "metadata": {
        "id": "XUhFQXBdF8zq"
      }
    },
    {
      "cell_type": "markdown",
      "source": [
        "### 노원구는 중계 2,3동 주민센터"
      ],
      "metadata": {
        "id": "53AQF9qHP7yF"
      }
    },
    {
      "cell_type": "markdown",
      "source": [
        "## 은평구 시작"
      ],
      "metadata": {
        "id": "kDwElMf0QBVO"
      }
    },
    {
      "cell_type": "code",
      "source": [
        "# 은평구 추출.\n",
        "dfeunpyeong = dfclu2[dfclu2['자치구']=='은평구']\n",
        "dfeunpyeong['시설명'].head(10)"
      ],
      "metadata": {
        "colab": {
          "base_uri": "https://localhost:8080/"
        },
        "outputId": "5a028ef0-ffd2-44d7-bd59-197930b945c4",
        "id": "Q9wIWMJeQEKr"
      },
      "execution_count": null,
      "outputs": [
        {
          "output_type": "execute_result",
          "data": {
            "text/plain": [
              "177     녹번동 주민센터\n",
              "178    불광1동 주민센터\n",
              "179    불광2동 주민센터\n",
              "182     구산동 주민센터\n",
              "187     역촌동 주민센터\n",
              "191     진관동 주민센터\n",
              "455    은평노인종합복지관\n",
              "456     역촌노인복지센터\n",
              "459      불광노인복지관\n",
              "Name: 시설명, dtype: object"
            ]
          },
          "metadata": {},
          "execution_count": 82
        }
      ]
    },
    {
      "cell_type": "code",
      "source": [
        "# 인덱스 조정 작업.(177 -> 0)\n",
        "dfeunpyeong = dfeunpyeong.reset_index()\n",
        "eunpyeong = dfeunpyeong.iloc[:,1:]\n",
        "eunpyeong.head(1)"
      ],
      "metadata": {
        "colab": {
          "base_uri": "https://localhost:8080/",
          "height": 475
        },
        "outputId": "e2b00bd3-2907-4bf3-d268-3378615e86da",
        "id": "G5ShYEtBQEKs"
      },
      "execution_count": null,
      "outputs": [
        {
          "output_type": "execute_result",
          "data": {
            "text/plain": [
              "   index  자치구    동       시설명                 주소    위도     경도     위도UTMK  \\\n",
              "0    177  은평구  녹번동  녹번동 주민센터  서울특별시 은평구 은평로 195 37.60 126.92 1955373.67   \n",
              "\n",
              "     경도UTMK   동별전체인구  동별시니어수  행정동별시니어비율      유동인구  디지털정보지수  주변특성  대중교통  \\\n",
              "0 948630.70 36807.00 9958.00       0.27 492122.87  9604.62  1.00  3.00   \n",
              "\n",
              "   kmeans  spca_component_1  spca_component_2  spca_component_3  \n",
              "0       0              3.21              0.35              0.76  "
            ],
            "text/html": [
              "\n",
              "  <div id=\"df-bef3c761-1b3e-449b-a015-b2d26ff20a5e\">\n",
              "    <div class=\"colab-df-container\">\n",
              "      <div>\n",
              "<style scoped>\n",
              "    .dataframe tbody tr th:only-of-type {\n",
              "        vertical-align: middle;\n",
              "    }\n",
              "\n",
              "    .dataframe tbody tr th {\n",
              "        vertical-align: top;\n",
              "    }\n",
              "\n",
              "    .dataframe thead th {\n",
              "        text-align: right;\n",
              "    }\n",
              "</style>\n",
              "<table border=\"1\" class=\"dataframe\">\n",
              "  <thead>\n",
              "    <tr style=\"text-align: right;\">\n",
              "      <th></th>\n",
              "      <th>index</th>\n",
              "      <th>자치구</th>\n",
              "      <th>동</th>\n",
              "      <th>시설명</th>\n",
              "      <th>주소</th>\n",
              "      <th>위도</th>\n",
              "      <th>경도</th>\n",
              "      <th>위도UTMK</th>\n",
              "      <th>경도UTMK</th>\n",
              "      <th>동별전체인구</th>\n",
              "      <th>동별시니어수</th>\n",
              "      <th>행정동별시니어비율</th>\n",
              "      <th>유동인구</th>\n",
              "      <th>디지털정보지수</th>\n",
              "      <th>주변특성</th>\n",
              "      <th>대중교통</th>\n",
              "      <th>kmeans</th>\n",
              "      <th>spca_component_1</th>\n",
              "      <th>spca_component_2</th>\n",
              "      <th>spca_component_3</th>\n",
              "    </tr>\n",
              "  </thead>\n",
              "  <tbody>\n",
              "    <tr>\n",
              "      <th>0</th>\n",
              "      <td>177</td>\n",
              "      <td>은평구</td>\n",
              "      <td>녹번동</td>\n",
              "      <td>녹번동 주민센터</td>\n",
              "      <td>서울특별시 은평구 은평로 195</td>\n",
              "      <td>37.60</td>\n",
              "      <td>126.92</td>\n",
              "      <td>1955373.67</td>\n",
              "      <td>948630.70</td>\n",
              "      <td>36807.00</td>\n",
              "      <td>9958.00</td>\n",
              "      <td>0.27</td>\n",
              "      <td>492122.87</td>\n",
              "      <td>9604.62</td>\n",
              "      <td>1.00</td>\n",
              "      <td>3.00</td>\n",
              "      <td>0</td>\n",
              "      <td>3.21</td>\n",
              "      <td>0.35</td>\n",
              "      <td>0.76</td>\n",
              "    </tr>\n",
              "  </tbody>\n",
              "</table>\n",
              "</div>\n",
              "      <button class=\"colab-df-convert\" onclick=\"convertToInteractive('df-bef3c761-1b3e-449b-a015-b2d26ff20a5e')\"\n",
              "              title=\"Convert this dataframe to an interactive table.\"\n",
              "              style=\"display:none;\">\n",
              "        \n",
              "  <svg xmlns=\"http://www.w3.org/2000/svg\" height=\"24px\"viewBox=\"0 0 24 24\"\n",
              "       width=\"24px\">\n",
              "    <path d=\"M0 0h24v24H0V0z\" fill=\"none\"/>\n",
              "    <path d=\"M18.56 5.44l.94 2.06.94-2.06 2.06-.94-2.06-.94-.94-2.06-.94 2.06-2.06.94zm-11 1L8.5 8.5l.94-2.06 2.06-.94-2.06-.94L8.5 2.5l-.94 2.06-2.06.94zm10 10l.94 2.06.94-2.06 2.06-.94-2.06-.94-.94-2.06-.94 2.06-2.06.94z\"/><path d=\"M17.41 7.96l-1.37-1.37c-.4-.4-.92-.59-1.43-.59-.52 0-1.04.2-1.43.59L10.3 9.45l-7.72 7.72c-.78.78-.78 2.05 0 2.83L4 21.41c.39.39.9.59 1.41.59.51 0 1.02-.2 1.41-.59l7.78-7.78 2.81-2.81c.8-.78.8-2.07 0-2.86zM5.41 20L4 18.59l7.72-7.72 1.47 1.35L5.41 20z\"/>\n",
              "  </svg>\n",
              "      </button>\n",
              "      \n",
              "  <style>\n",
              "    .colab-df-container {\n",
              "      display:flex;\n",
              "      flex-wrap:wrap;\n",
              "      gap: 12px;\n",
              "    }\n",
              "\n",
              "    .colab-df-convert {\n",
              "      background-color: #E8F0FE;\n",
              "      border: none;\n",
              "      border-radius: 50%;\n",
              "      cursor: pointer;\n",
              "      display: none;\n",
              "      fill: #1967D2;\n",
              "      height: 32px;\n",
              "      padding: 0 0 0 0;\n",
              "      width: 32px;\n",
              "    }\n",
              "\n",
              "    .colab-df-convert:hover {\n",
              "      background-color: #E2EBFA;\n",
              "      box-shadow: 0px 1px 2px rgba(60, 64, 67, 0.3), 0px 1px 3px 1px rgba(60, 64, 67, 0.15);\n",
              "      fill: #174EA6;\n",
              "    }\n",
              "\n",
              "    [theme=dark] .colab-df-convert {\n",
              "      background-color: #3B4455;\n",
              "      fill: #D2E3FC;\n",
              "    }\n",
              "\n",
              "    [theme=dark] .colab-df-convert:hover {\n",
              "      background-color: #434B5C;\n",
              "      box-shadow: 0px 1px 3px 1px rgba(0, 0, 0, 0.15);\n",
              "      filter: drop-shadow(0px 1px 2px rgba(0, 0, 0, 0.3));\n",
              "      fill: #FFFFFF;\n",
              "    }\n",
              "  </style>\n",
              "\n",
              "      <script>\n",
              "        const buttonEl =\n",
              "          document.querySelector('#df-bef3c761-1b3e-449b-a015-b2d26ff20a5e button.colab-df-convert');\n",
              "        buttonEl.style.display =\n",
              "          google.colab.kernel.accessAllowed ? 'block' : 'none';\n",
              "\n",
              "        async function convertToInteractive(key) {\n",
              "          const element = document.querySelector('#df-bef3c761-1b3e-449b-a015-b2d26ff20a5e');\n",
              "          const dataTable =\n",
              "            await google.colab.kernel.invokeFunction('convertToInteractive',\n",
              "                                                     [key], {});\n",
              "          if (!dataTable) return;\n",
              "\n",
              "          const docLinkHtml = 'Like what you see? Visit the ' +\n",
              "            '<a target=\"_blank\" href=https://colab.research.google.com/notebooks/data_table.ipynb>data table notebook</a>'\n",
              "            + ' to learn more about interactive tables.';\n",
              "          element.innerHTML = '';\n",
              "          dataTable['output_type'] = 'display_data';\n",
              "          await google.colab.output.renderOutput(dataTable, element);\n",
              "          const docLink = document.createElement('div');\n",
              "          docLink.innerHTML = docLinkHtml;\n",
              "          element.appendChild(docLink);\n",
              "        }\n",
              "      </script>\n",
              "    </div>\n",
              "  </div>\n",
              "  "
            ]
          },
          "metadata": {},
          "execution_count": 61
        }
      ]
    },
    {
      "cell_type": "code",
      "source": [
        "# 은평구중 각 주민센터(입지선정)과 다른 주민센터와의 거리합.\n",
        "distance = []\n",
        "distance2 = []\n",
        "for i in range(len(eunpyeong)):\n",
        "    for j in range(len(eunpyeong)):\n",
        "        distance.append(np.sqrt((eunpyeong['위도UTMK'][i] - eunpyeong['위도UTMK'][j])**2 + (eunpyeong['경도UTMK'][i] - eunpyeong['경도UTMK'][j])**2))\n",
        "    distance2.append(sum(distance))\n",
        "    distance= []\n",
        "distance2"
      ],
      "metadata": {
        "colab": {
          "base_uri": "https://localhost:8080/"
        },
        "outputId": "e4a55071-7e77-43dc-bbbf-7b66c62ba643",
        "id": "ybqFgptmQEKt"
      },
      "execution_count": null,
      "outputs": [
        {
          "output_type": "execute_result",
          "data": {
            "text/plain": [
              "[18426.402158579804,\n",
              " 15456.583004808484,\n",
              " 14859.887945396566,\n",
              " 14406.64236864476,\n",
              " 12942.498076387405,\n",
              " 19841.643147713665,\n",
              " 18573.972502219378,\n",
              " 16007.81138718356,\n",
              " 12523.494134629751]"
            ]
          },
          "metadata": {},
          "execution_count": 62
        }
      ]
    },
    {
      "cell_type": "code",
      "source": [
        "# 은평구의 인구 * 거리 값.\n",
        "# p median 식이 수요 * 거리곱의 최소화. \n",
        "eunpyeongpopdist = eunpyeong['동별시니어수']*distance2\n",
        "print(eunpyeongpopdist.sort_values())\n",
        "a = eunpyeongpopdist.argmin()\n",
        "eunpyeong.iloc[a:a+1:]"
      ],
      "metadata": {
        "colab": {
          "base_uri": "https://localhost:8080/",
          "height": 710
        },
        "outputId": "24470203-f690-448c-edae-6f2c349c5ef9",
        "id": "0FZOhEWUQEKt"
      },
      "execution_count": null,
      "outputs": [
        {
          "output_type": "stream",
          "name": "stdout",
          "text": [
            "8   106787834.49\n",
            "2   126710264.51\n",
            "3   128391996.79\n",
            "4   156371261.76\n",
            "1   170439740.79\n",
            "0   183490112.70\n",
            "7   193406377.18\n",
            "6   222980539.89\n",
            "5   238198925.99\n",
            "Name: 동별시니어수, dtype: float64\n"
          ]
        },
        {
          "output_type": "execute_result",
          "data": {
            "text/plain": [
              "   index  자치구     동      시설명                      주소    위도     경도     위도UTMK  \\\n",
              "8    459  은평구  불광2동  불광노인복지관  서울특별시 은평구 연서로32길 17-11 37.62 126.92 1957609.21   \n",
              "\n",
              "     경도UTMK   동별전체인구  동별시니어수  행정동별시니어비율      유동인구  디지털정보지수  주변특성  대중교통  \\\n",
              "8 949365.48 27545.00 8527.00       0.31 421403.06  7905.73  3.00  0.00   \n",
              "\n",
              "   kmeans  spca_component_1  spca_component_2  spca_component_3  \n",
              "8       0              1.83              1.71             -1.14  "
            ],
            "text/html": [
              "\n",
              "  <div id=\"df-08858c3d-7d5b-496b-9bd1-7ec20c39a0d8\">\n",
              "    <div class=\"colab-df-container\">\n",
              "      <div>\n",
              "<style scoped>\n",
              "    .dataframe tbody tr th:only-of-type {\n",
              "        vertical-align: middle;\n",
              "    }\n",
              "\n",
              "    .dataframe tbody tr th {\n",
              "        vertical-align: top;\n",
              "    }\n",
              "\n",
              "    .dataframe thead th {\n",
              "        text-align: right;\n",
              "    }\n",
              "</style>\n",
              "<table border=\"1\" class=\"dataframe\">\n",
              "  <thead>\n",
              "    <tr style=\"text-align: right;\">\n",
              "      <th></th>\n",
              "      <th>index</th>\n",
              "      <th>자치구</th>\n",
              "      <th>동</th>\n",
              "      <th>시설명</th>\n",
              "      <th>주소</th>\n",
              "      <th>위도</th>\n",
              "      <th>경도</th>\n",
              "      <th>위도UTMK</th>\n",
              "      <th>경도UTMK</th>\n",
              "      <th>동별전체인구</th>\n",
              "      <th>동별시니어수</th>\n",
              "      <th>행정동별시니어비율</th>\n",
              "      <th>유동인구</th>\n",
              "      <th>디지털정보지수</th>\n",
              "      <th>주변특성</th>\n",
              "      <th>대중교통</th>\n",
              "      <th>kmeans</th>\n",
              "      <th>spca_component_1</th>\n",
              "      <th>spca_component_2</th>\n",
              "      <th>spca_component_3</th>\n",
              "    </tr>\n",
              "  </thead>\n",
              "  <tbody>\n",
              "    <tr>\n",
              "      <th>8</th>\n",
              "      <td>459</td>\n",
              "      <td>은평구</td>\n",
              "      <td>불광2동</td>\n",
              "      <td>불광노인복지관</td>\n",
              "      <td>서울특별시 은평구 연서로32길 17-11</td>\n",
              "      <td>37.62</td>\n",
              "      <td>126.92</td>\n",
              "      <td>1957609.21</td>\n",
              "      <td>949365.48</td>\n",
              "      <td>27545.00</td>\n",
              "      <td>8527.00</td>\n",
              "      <td>0.31</td>\n",
              "      <td>421403.06</td>\n",
              "      <td>7905.73</td>\n",
              "      <td>3.00</td>\n",
              "      <td>0.00</td>\n",
              "      <td>0</td>\n",
              "      <td>1.83</td>\n",
              "      <td>1.71</td>\n",
              "      <td>-1.14</td>\n",
              "    </tr>\n",
              "  </tbody>\n",
              "</table>\n",
              "</div>\n",
              "      <button class=\"colab-df-convert\" onclick=\"convertToInteractive('df-08858c3d-7d5b-496b-9bd1-7ec20c39a0d8')\"\n",
              "              title=\"Convert this dataframe to an interactive table.\"\n",
              "              style=\"display:none;\">\n",
              "        \n",
              "  <svg xmlns=\"http://www.w3.org/2000/svg\" height=\"24px\"viewBox=\"0 0 24 24\"\n",
              "       width=\"24px\">\n",
              "    <path d=\"M0 0h24v24H0V0z\" fill=\"none\"/>\n",
              "    <path d=\"M18.56 5.44l.94 2.06.94-2.06 2.06-.94-2.06-.94-.94-2.06-.94 2.06-2.06.94zm-11 1L8.5 8.5l.94-2.06 2.06-.94-2.06-.94L8.5 2.5l-.94 2.06-2.06.94zm10 10l.94 2.06.94-2.06 2.06-.94-2.06-.94-.94-2.06-.94 2.06-2.06.94z\"/><path d=\"M17.41 7.96l-1.37-1.37c-.4-.4-.92-.59-1.43-.59-.52 0-1.04.2-1.43.59L10.3 9.45l-7.72 7.72c-.78.78-.78 2.05 0 2.83L4 21.41c.39.39.9.59 1.41.59.51 0 1.02-.2 1.41-.59l7.78-7.78 2.81-2.81c.8-.78.8-2.07 0-2.86zM5.41 20L4 18.59l7.72-7.72 1.47 1.35L5.41 20z\"/>\n",
              "  </svg>\n",
              "      </button>\n",
              "      \n",
              "  <style>\n",
              "    .colab-df-container {\n",
              "      display:flex;\n",
              "      flex-wrap:wrap;\n",
              "      gap: 12px;\n",
              "    }\n",
              "\n",
              "    .colab-df-convert {\n",
              "      background-color: #E8F0FE;\n",
              "      border: none;\n",
              "      border-radius: 50%;\n",
              "      cursor: pointer;\n",
              "      display: none;\n",
              "      fill: #1967D2;\n",
              "      height: 32px;\n",
              "      padding: 0 0 0 0;\n",
              "      width: 32px;\n",
              "    }\n",
              "\n",
              "    .colab-df-convert:hover {\n",
              "      background-color: #E2EBFA;\n",
              "      box-shadow: 0px 1px 2px rgba(60, 64, 67, 0.3), 0px 1px 3px 1px rgba(60, 64, 67, 0.15);\n",
              "      fill: #174EA6;\n",
              "    }\n",
              "\n",
              "    [theme=dark] .colab-df-convert {\n",
              "      background-color: #3B4455;\n",
              "      fill: #D2E3FC;\n",
              "    }\n",
              "\n",
              "    [theme=dark] .colab-df-convert:hover {\n",
              "      background-color: #434B5C;\n",
              "      box-shadow: 0px 1px 3px 1px rgba(0, 0, 0, 0.15);\n",
              "      filter: drop-shadow(0px 1px 2px rgba(0, 0, 0, 0.3));\n",
              "      fill: #FFFFFF;\n",
              "    }\n",
              "  </style>\n",
              "\n",
              "      <script>\n",
              "        const buttonEl =\n",
              "          document.querySelector('#df-08858c3d-7d5b-496b-9bd1-7ec20c39a0d8 button.colab-df-convert');\n",
              "        buttonEl.style.display =\n",
              "          google.colab.kernel.accessAllowed ? 'block' : 'none';\n",
              "\n",
              "        async function convertToInteractive(key) {\n",
              "          const element = document.querySelector('#df-08858c3d-7d5b-496b-9bd1-7ec20c39a0d8');\n",
              "          const dataTable =\n",
              "            await google.colab.kernel.invokeFunction('convertToInteractive',\n",
              "                                                     [key], {});\n",
              "          if (!dataTable) return;\n",
              "\n",
              "          const docLinkHtml = 'Like what you see? Visit the ' +\n",
              "            '<a target=\"_blank\" href=https://colab.research.google.com/notebooks/data_table.ipynb>data table notebook</a>'\n",
              "            + ' to learn more about interactive tables.';\n",
              "          element.innerHTML = '';\n",
              "          dataTable['output_type'] = 'display_data';\n",
              "          await google.colab.output.renderOutput(dataTable, element);\n",
              "          const docLink = document.createElement('div');\n",
              "          docLink.innerHTML = docLinkHtml;\n",
              "          element.appendChild(docLink);\n",
              "        }\n",
              "      </script>\n",
              "    </div>\n",
              "  </div>\n",
              "  "
            ]
          },
          "metadata": {},
          "execution_count": 63
        }
      ]
    },
    {
      "cell_type": "markdown",
      "source": [
        "### 불광노인복지관, 대중교통 0 이라 기각."
      ],
      "metadata": {
        "id": "UoGv162VQYIh"
      }
    },
    {
      "cell_type": "code",
      "source": [
        "eunpyeong.iloc[2:3]"
      ],
      "metadata": {
        "colab": {
          "base_uri": "https://localhost:8080/",
          "height": 509
        },
        "id": "xcO4KvcLIFK6",
        "outputId": "abb97f39-4f32-423b-a7f8-bf57c8fe4eea"
      },
      "execution_count": null,
      "outputs": [
        {
          "output_type": "execute_result",
          "data": {
            "text/plain": [
              "   index  자치구     동        시설명                   주소    위도     경도     위도UTMK  \\\n",
              "2    179  은평구  불광2동  불광2동 주민센터  서울특별시 은평구 연서로41길 16 37.63 126.93 1958396.03   \n",
              "\n",
              "     경도UTMK   동별전체인구  동별시니어수  행정동별시니어비율      유동인구  디지털정보지수  주변특성  대중교통  \\\n",
              "2 949647.22 27545.00 8527.00       0.31 421403.06  7905.73  1.00  0.00   \n",
              "\n",
              "   kmeans  spca_component_1  spca_component_2  spca_component_3  \n",
              "2       0              1.73              0.76             -1.33  "
            ],
            "text/html": [
              "\n",
              "  <div id=\"df-c35bdb1a-ec37-4b69-b54c-061e74f9d79c\">\n",
              "    <div class=\"colab-df-container\">\n",
              "      <div>\n",
              "<style scoped>\n",
              "    .dataframe tbody tr th:only-of-type {\n",
              "        vertical-align: middle;\n",
              "    }\n",
              "\n",
              "    .dataframe tbody tr th {\n",
              "        vertical-align: top;\n",
              "    }\n",
              "\n",
              "    .dataframe thead th {\n",
              "        text-align: right;\n",
              "    }\n",
              "</style>\n",
              "<table border=\"1\" class=\"dataframe\">\n",
              "  <thead>\n",
              "    <tr style=\"text-align: right;\">\n",
              "      <th></th>\n",
              "      <th>index</th>\n",
              "      <th>자치구</th>\n",
              "      <th>동</th>\n",
              "      <th>시설명</th>\n",
              "      <th>주소</th>\n",
              "      <th>위도</th>\n",
              "      <th>경도</th>\n",
              "      <th>위도UTMK</th>\n",
              "      <th>경도UTMK</th>\n",
              "      <th>동별전체인구</th>\n",
              "      <th>동별시니어수</th>\n",
              "      <th>행정동별시니어비율</th>\n",
              "      <th>유동인구</th>\n",
              "      <th>디지털정보지수</th>\n",
              "      <th>주변특성</th>\n",
              "      <th>대중교통</th>\n",
              "      <th>kmeans</th>\n",
              "      <th>spca_component_1</th>\n",
              "      <th>spca_component_2</th>\n",
              "      <th>spca_component_3</th>\n",
              "    </tr>\n",
              "  </thead>\n",
              "  <tbody>\n",
              "    <tr>\n",
              "      <th>2</th>\n",
              "      <td>179</td>\n",
              "      <td>은평구</td>\n",
              "      <td>불광2동</td>\n",
              "      <td>불광2동 주민센터</td>\n",
              "      <td>서울특별시 은평구 연서로41길 16</td>\n",
              "      <td>37.63</td>\n",
              "      <td>126.93</td>\n",
              "      <td>1958396.03</td>\n",
              "      <td>949647.22</td>\n",
              "      <td>27545.00</td>\n",
              "      <td>8527.00</td>\n",
              "      <td>0.31</td>\n",
              "      <td>421403.06</td>\n",
              "      <td>7905.73</td>\n",
              "      <td>1.00</td>\n",
              "      <td>0.00</td>\n",
              "      <td>0</td>\n",
              "      <td>1.73</td>\n",
              "      <td>0.76</td>\n",
              "      <td>-1.33</td>\n",
              "    </tr>\n",
              "  </tbody>\n",
              "</table>\n",
              "</div>\n",
              "      <button class=\"colab-df-convert\" onclick=\"convertToInteractive('df-c35bdb1a-ec37-4b69-b54c-061e74f9d79c')\"\n",
              "              title=\"Convert this dataframe to an interactive table.\"\n",
              "              style=\"display:none;\">\n",
              "        \n",
              "  <svg xmlns=\"http://www.w3.org/2000/svg\" height=\"24px\"viewBox=\"0 0 24 24\"\n",
              "       width=\"24px\">\n",
              "    <path d=\"M0 0h24v24H0V0z\" fill=\"none\"/>\n",
              "    <path d=\"M18.56 5.44l.94 2.06.94-2.06 2.06-.94-2.06-.94-.94-2.06-.94 2.06-2.06.94zm-11 1L8.5 8.5l.94-2.06 2.06-.94-2.06-.94L8.5 2.5l-.94 2.06-2.06.94zm10 10l.94 2.06.94-2.06 2.06-.94-2.06-.94-.94-2.06-.94 2.06-2.06.94z\"/><path d=\"M17.41 7.96l-1.37-1.37c-.4-.4-.92-.59-1.43-.59-.52 0-1.04.2-1.43.59L10.3 9.45l-7.72 7.72c-.78.78-.78 2.05 0 2.83L4 21.41c.39.39.9.59 1.41.59.51 0 1.02-.2 1.41-.59l7.78-7.78 2.81-2.81c.8-.78.8-2.07 0-2.86zM5.41 20L4 18.59l7.72-7.72 1.47 1.35L5.41 20z\"/>\n",
              "  </svg>\n",
              "      </button>\n",
              "      \n",
              "  <style>\n",
              "    .colab-df-container {\n",
              "      display:flex;\n",
              "      flex-wrap:wrap;\n",
              "      gap: 12px;\n",
              "    }\n",
              "\n",
              "    .colab-df-convert {\n",
              "      background-color: #E8F0FE;\n",
              "      border: none;\n",
              "      border-radius: 50%;\n",
              "      cursor: pointer;\n",
              "      display: none;\n",
              "      fill: #1967D2;\n",
              "      height: 32px;\n",
              "      padding: 0 0 0 0;\n",
              "      width: 32px;\n",
              "    }\n",
              "\n",
              "    .colab-df-convert:hover {\n",
              "      background-color: #E2EBFA;\n",
              "      box-shadow: 0px 1px 2px rgba(60, 64, 67, 0.3), 0px 1px 3px 1px rgba(60, 64, 67, 0.15);\n",
              "      fill: #174EA6;\n",
              "    }\n",
              "\n",
              "    [theme=dark] .colab-df-convert {\n",
              "      background-color: #3B4455;\n",
              "      fill: #D2E3FC;\n",
              "    }\n",
              "\n",
              "    [theme=dark] .colab-df-convert:hover {\n",
              "      background-color: #434B5C;\n",
              "      box-shadow: 0px 1px 3px 1px rgba(0, 0, 0, 0.15);\n",
              "      filter: drop-shadow(0px 1px 2px rgba(0, 0, 0, 0.3));\n",
              "      fill: #FFFFFF;\n",
              "    }\n",
              "  </style>\n",
              "\n",
              "      <script>\n",
              "        const buttonEl =\n",
              "          document.querySelector('#df-c35bdb1a-ec37-4b69-b54c-061e74f9d79c button.colab-df-convert');\n",
              "        buttonEl.style.display =\n",
              "          google.colab.kernel.accessAllowed ? 'block' : 'none';\n",
              "\n",
              "        async function convertToInteractive(key) {\n",
              "          const element = document.querySelector('#df-c35bdb1a-ec37-4b69-b54c-061e74f9d79c');\n",
              "          const dataTable =\n",
              "            await google.colab.kernel.invokeFunction('convertToInteractive',\n",
              "                                                     [key], {});\n",
              "          if (!dataTable) return;\n",
              "\n",
              "          const docLinkHtml = 'Like what you see? Visit the ' +\n",
              "            '<a target=\"_blank\" href=https://colab.research.google.com/notebooks/data_table.ipynb>data table notebook</a>'\n",
              "            + ' to learn more about interactive tables.';\n",
              "          element.innerHTML = '';\n",
              "          dataTable['output_type'] = 'display_data';\n",
              "          await google.colab.output.renderOutput(dataTable, element);\n",
              "          const docLink = document.createElement('div');\n",
              "          docLink.innerHTML = docLinkHtml;\n",
              "          element.appendChild(docLink);\n",
              "        }\n",
              "      </script>\n",
              "    </div>\n",
              "  </div>\n",
              "  "
            ]
          },
          "metadata": {},
          "execution_count": 84
        }
      ]
    },
    {
      "cell_type": "markdown",
      "source": [
        "### 불광2동 주민센터 대중교통 0 이라 기각."
      ],
      "metadata": {
        "id": "uNEcFEq6IPtx"
      }
    },
    {
      "cell_type": "code",
      "source": [
        "eunpyeong.iloc[3:4]"
      ],
      "metadata": {
        "colab": {
          "base_uri": "https://localhost:8080/",
          "height": 509
        },
        "id": "nx0wpFJqIUwr",
        "outputId": "afa501fc-0c2f-43b6-cd9e-8729e72ebc94"
      },
      "execution_count": null,
      "outputs": [
        {
          "output_type": "execute_result",
          "data": {
            "text/plain": [
              "   index  자치구    동       시설명                   주소    위도     경도     위도UTMK  \\\n",
              "3    182  은평구  구산동  구산동 주민센터  서울특별시 은평구 갈현로17길 10 37.61 126.91 1956718.85   \n",
              "\n",
              "     경도UTMK   동별전체인구  동별시니어수  행정동별시니어비율      유동인구  디지털정보지수  주변특성  대중교통  \\\n",
              "3 948118.84 32207.00 8912.00       0.28 440429.70  8919.75  1.00  0.00   \n",
              "\n",
              "   kmeans  spca_component_1  spca_component_2  spca_component_3  \n",
              "3       0              2.36              0.15             -1.12  "
            ],
            "text/html": [
              "\n",
              "  <div id=\"df-f118f79c-fc36-4581-8e99-0d1942c394dc\">\n",
              "    <div class=\"colab-df-container\">\n",
              "      <div>\n",
              "<style scoped>\n",
              "    .dataframe tbody tr th:only-of-type {\n",
              "        vertical-align: middle;\n",
              "    }\n",
              "\n",
              "    .dataframe tbody tr th {\n",
              "        vertical-align: top;\n",
              "    }\n",
              "\n",
              "    .dataframe thead th {\n",
              "        text-align: right;\n",
              "    }\n",
              "</style>\n",
              "<table border=\"1\" class=\"dataframe\">\n",
              "  <thead>\n",
              "    <tr style=\"text-align: right;\">\n",
              "      <th></th>\n",
              "      <th>index</th>\n",
              "      <th>자치구</th>\n",
              "      <th>동</th>\n",
              "      <th>시설명</th>\n",
              "      <th>주소</th>\n",
              "      <th>위도</th>\n",
              "      <th>경도</th>\n",
              "      <th>위도UTMK</th>\n",
              "      <th>경도UTMK</th>\n",
              "      <th>동별전체인구</th>\n",
              "      <th>동별시니어수</th>\n",
              "      <th>행정동별시니어비율</th>\n",
              "      <th>유동인구</th>\n",
              "      <th>디지털정보지수</th>\n",
              "      <th>주변특성</th>\n",
              "      <th>대중교통</th>\n",
              "      <th>kmeans</th>\n",
              "      <th>spca_component_1</th>\n",
              "      <th>spca_component_2</th>\n",
              "      <th>spca_component_3</th>\n",
              "    </tr>\n",
              "  </thead>\n",
              "  <tbody>\n",
              "    <tr>\n",
              "      <th>3</th>\n",
              "      <td>182</td>\n",
              "      <td>은평구</td>\n",
              "      <td>구산동</td>\n",
              "      <td>구산동 주민센터</td>\n",
              "      <td>서울특별시 은평구 갈현로17길 10</td>\n",
              "      <td>37.61</td>\n",
              "      <td>126.91</td>\n",
              "      <td>1956718.85</td>\n",
              "      <td>948118.84</td>\n",
              "      <td>32207.00</td>\n",
              "      <td>8912.00</td>\n",
              "      <td>0.28</td>\n",
              "      <td>440429.70</td>\n",
              "      <td>8919.75</td>\n",
              "      <td>1.00</td>\n",
              "      <td>0.00</td>\n",
              "      <td>0</td>\n",
              "      <td>2.36</td>\n",
              "      <td>0.15</td>\n",
              "      <td>-1.12</td>\n",
              "    </tr>\n",
              "  </tbody>\n",
              "</table>\n",
              "</div>\n",
              "      <button class=\"colab-df-convert\" onclick=\"convertToInteractive('df-f118f79c-fc36-4581-8e99-0d1942c394dc')\"\n",
              "              title=\"Convert this dataframe to an interactive table.\"\n",
              "              style=\"display:none;\">\n",
              "        \n",
              "  <svg xmlns=\"http://www.w3.org/2000/svg\" height=\"24px\"viewBox=\"0 0 24 24\"\n",
              "       width=\"24px\">\n",
              "    <path d=\"M0 0h24v24H0V0z\" fill=\"none\"/>\n",
              "    <path d=\"M18.56 5.44l.94 2.06.94-2.06 2.06-.94-2.06-.94-.94-2.06-.94 2.06-2.06.94zm-11 1L8.5 8.5l.94-2.06 2.06-.94-2.06-.94L8.5 2.5l-.94 2.06-2.06.94zm10 10l.94 2.06.94-2.06 2.06-.94-2.06-.94-.94-2.06-.94 2.06-2.06.94z\"/><path d=\"M17.41 7.96l-1.37-1.37c-.4-.4-.92-.59-1.43-.59-.52 0-1.04.2-1.43.59L10.3 9.45l-7.72 7.72c-.78.78-.78 2.05 0 2.83L4 21.41c.39.39.9.59 1.41.59.51 0 1.02-.2 1.41-.59l7.78-7.78 2.81-2.81c.8-.78.8-2.07 0-2.86zM5.41 20L4 18.59l7.72-7.72 1.47 1.35L5.41 20z\"/>\n",
              "  </svg>\n",
              "      </button>\n",
              "      \n",
              "  <style>\n",
              "    .colab-df-container {\n",
              "      display:flex;\n",
              "      flex-wrap:wrap;\n",
              "      gap: 12px;\n",
              "    }\n",
              "\n",
              "    .colab-df-convert {\n",
              "      background-color: #E8F0FE;\n",
              "      border: none;\n",
              "      border-radius: 50%;\n",
              "      cursor: pointer;\n",
              "      display: none;\n",
              "      fill: #1967D2;\n",
              "      height: 32px;\n",
              "      padding: 0 0 0 0;\n",
              "      width: 32px;\n",
              "    }\n",
              "\n",
              "    .colab-df-convert:hover {\n",
              "      background-color: #E2EBFA;\n",
              "      box-shadow: 0px 1px 2px rgba(60, 64, 67, 0.3), 0px 1px 3px 1px rgba(60, 64, 67, 0.15);\n",
              "      fill: #174EA6;\n",
              "    }\n",
              "\n",
              "    [theme=dark] .colab-df-convert {\n",
              "      background-color: #3B4455;\n",
              "      fill: #D2E3FC;\n",
              "    }\n",
              "\n",
              "    [theme=dark] .colab-df-convert:hover {\n",
              "      background-color: #434B5C;\n",
              "      box-shadow: 0px 1px 3px 1px rgba(0, 0, 0, 0.15);\n",
              "      filter: drop-shadow(0px 1px 2px rgba(0, 0, 0, 0.3));\n",
              "      fill: #FFFFFF;\n",
              "    }\n",
              "  </style>\n",
              "\n",
              "      <script>\n",
              "        const buttonEl =\n",
              "          document.querySelector('#df-f118f79c-fc36-4581-8e99-0d1942c394dc button.colab-df-convert');\n",
              "        buttonEl.style.display =\n",
              "          google.colab.kernel.accessAllowed ? 'block' : 'none';\n",
              "\n",
              "        async function convertToInteractive(key) {\n",
              "          const element = document.querySelector('#df-f118f79c-fc36-4581-8e99-0d1942c394dc');\n",
              "          const dataTable =\n",
              "            await google.colab.kernel.invokeFunction('convertToInteractive',\n",
              "                                                     [key], {});\n",
              "          if (!dataTable) return;\n",
              "\n",
              "          const docLinkHtml = 'Like what you see? Visit the ' +\n",
              "            '<a target=\"_blank\" href=https://colab.research.google.com/notebooks/data_table.ipynb>data table notebook</a>'\n",
              "            + ' to learn more about interactive tables.';\n",
              "          element.innerHTML = '';\n",
              "          dataTable['output_type'] = 'display_data';\n",
              "          await google.colab.output.renderOutput(dataTable, element);\n",
              "          const docLink = document.createElement('div');\n",
              "          docLink.innerHTML = docLinkHtml;\n",
              "          element.appendChild(docLink);\n",
              "        }\n",
              "      </script>\n",
              "    </div>\n",
              "  </div>\n",
              "  "
            ]
          },
          "metadata": {},
          "execution_count": 85
        }
      ]
    },
    {
      "cell_type": "markdown",
      "source": [
        "### 구산동 주민센터 대중교통 0 이라 기각."
      ],
      "metadata": {
        "id": "xYdefLmtIUbA"
      }
    },
    {
      "cell_type": "code",
      "source": [
        "eunpyeong.iloc[4:5]"
      ],
      "metadata": {
        "colab": {
          "base_uri": "https://localhost:8080/",
          "height": 475
        },
        "id": "12VTJdTMId1S",
        "outputId": "0f602fb2-c224-432d-f40b-8e9e977a80ba"
      },
      "execution_count": null,
      "outputs": [
        {
          "output_type": "execute_result",
          "data": {
            "text/plain": [
              "   index  자치구    동       시설명                주소    위도     경도     위도UTMK  \\\n",
              "4    187  은평구  역촌동  역촌동 주민센터  서울특별시 은평구 연서로 59 37.61 126.92 1956517.60   \n",
              "\n",
              "     경도UTMK   동별전체인구   동별시니어수  행정동별시니어비율      유동인구  디지털정보지수  주변특성  대중교통  \\\n",
              "4 948662.18 45384.00 12082.00       0.27 597090.63 12093.22  1.00  2.00   \n",
              "\n",
              "   kmeans  spca_component_1  spca_component_2  spca_component_3  \n",
              "4       0              5.11              0.11              0.16  "
            ],
            "text/html": [
              "\n",
              "  <div id=\"df-3792b71d-cebf-449f-95ea-7c3eef78e81b\">\n",
              "    <div class=\"colab-df-container\">\n",
              "      <div>\n",
              "<style scoped>\n",
              "    .dataframe tbody tr th:only-of-type {\n",
              "        vertical-align: middle;\n",
              "    }\n",
              "\n",
              "    .dataframe tbody tr th {\n",
              "        vertical-align: top;\n",
              "    }\n",
              "\n",
              "    .dataframe thead th {\n",
              "        text-align: right;\n",
              "    }\n",
              "</style>\n",
              "<table border=\"1\" class=\"dataframe\">\n",
              "  <thead>\n",
              "    <tr style=\"text-align: right;\">\n",
              "      <th></th>\n",
              "      <th>index</th>\n",
              "      <th>자치구</th>\n",
              "      <th>동</th>\n",
              "      <th>시설명</th>\n",
              "      <th>주소</th>\n",
              "      <th>위도</th>\n",
              "      <th>경도</th>\n",
              "      <th>위도UTMK</th>\n",
              "      <th>경도UTMK</th>\n",
              "      <th>동별전체인구</th>\n",
              "      <th>동별시니어수</th>\n",
              "      <th>행정동별시니어비율</th>\n",
              "      <th>유동인구</th>\n",
              "      <th>디지털정보지수</th>\n",
              "      <th>주변특성</th>\n",
              "      <th>대중교통</th>\n",
              "      <th>kmeans</th>\n",
              "      <th>spca_component_1</th>\n",
              "      <th>spca_component_2</th>\n",
              "      <th>spca_component_3</th>\n",
              "    </tr>\n",
              "  </thead>\n",
              "  <tbody>\n",
              "    <tr>\n",
              "      <th>4</th>\n",
              "      <td>187</td>\n",
              "      <td>은평구</td>\n",
              "      <td>역촌동</td>\n",
              "      <td>역촌동 주민센터</td>\n",
              "      <td>서울특별시 은평구 연서로 59</td>\n",
              "      <td>37.61</td>\n",
              "      <td>126.92</td>\n",
              "      <td>1956517.60</td>\n",
              "      <td>948662.18</td>\n",
              "      <td>45384.00</td>\n",
              "      <td>12082.00</td>\n",
              "      <td>0.27</td>\n",
              "      <td>597090.63</td>\n",
              "      <td>12093.22</td>\n",
              "      <td>1.00</td>\n",
              "      <td>2.00</td>\n",
              "      <td>0</td>\n",
              "      <td>5.11</td>\n",
              "      <td>0.11</td>\n",
              "      <td>0.16</td>\n",
              "    </tr>\n",
              "  </tbody>\n",
              "</table>\n",
              "</div>\n",
              "      <button class=\"colab-df-convert\" onclick=\"convertToInteractive('df-3792b71d-cebf-449f-95ea-7c3eef78e81b')\"\n",
              "              title=\"Convert this dataframe to an interactive table.\"\n",
              "              style=\"display:none;\">\n",
              "        \n",
              "  <svg xmlns=\"http://www.w3.org/2000/svg\" height=\"24px\"viewBox=\"0 0 24 24\"\n",
              "       width=\"24px\">\n",
              "    <path d=\"M0 0h24v24H0V0z\" fill=\"none\"/>\n",
              "    <path d=\"M18.56 5.44l.94 2.06.94-2.06 2.06-.94-2.06-.94-.94-2.06-.94 2.06-2.06.94zm-11 1L8.5 8.5l.94-2.06 2.06-.94-2.06-.94L8.5 2.5l-.94 2.06-2.06.94zm10 10l.94 2.06.94-2.06 2.06-.94-2.06-.94-.94-2.06-.94 2.06-2.06.94z\"/><path d=\"M17.41 7.96l-1.37-1.37c-.4-.4-.92-.59-1.43-.59-.52 0-1.04.2-1.43.59L10.3 9.45l-7.72 7.72c-.78.78-.78 2.05 0 2.83L4 21.41c.39.39.9.59 1.41.59.51 0 1.02-.2 1.41-.59l7.78-7.78 2.81-2.81c.8-.78.8-2.07 0-2.86zM5.41 20L4 18.59l7.72-7.72 1.47 1.35L5.41 20z\"/>\n",
              "  </svg>\n",
              "      </button>\n",
              "      \n",
              "  <style>\n",
              "    .colab-df-container {\n",
              "      display:flex;\n",
              "      flex-wrap:wrap;\n",
              "      gap: 12px;\n",
              "    }\n",
              "\n",
              "    .colab-df-convert {\n",
              "      background-color: #E8F0FE;\n",
              "      border: none;\n",
              "      border-radius: 50%;\n",
              "      cursor: pointer;\n",
              "      display: none;\n",
              "      fill: #1967D2;\n",
              "      height: 32px;\n",
              "      padding: 0 0 0 0;\n",
              "      width: 32px;\n",
              "    }\n",
              "\n",
              "    .colab-df-convert:hover {\n",
              "      background-color: #E2EBFA;\n",
              "      box-shadow: 0px 1px 2px rgba(60, 64, 67, 0.3), 0px 1px 3px 1px rgba(60, 64, 67, 0.15);\n",
              "      fill: #174EA6;\n",
              "    }\n",
              "\n",
              "    [theme=dark] .colab-df-convert {\n",
              "      background-color: #3B4455;\n",
              "      fill: #D2E3FC;\n",
              "    }\n",
              "\n",
              "    [theme=dark] .colab-df-convert:hover {\n",
              "      background-color: #434B5C;\n",
              "      box-shadow: 0px 1px 3px 1px rgba(0, 0, 0, 0.15);\n",
              "      filter: drop-shadow(0px 1px 2px rgba(0, 0, 0, 0.3));\n",
              "      fill: #FFFFFF;\n",
              "    }\n",
              "  </style>\n",
              "\n",
              "      <script>\n",
              "        const buttonEl =\n",
              "          document.querySelector('#df-3792b71d-cebf-449f-95ea-7c3eef78e81b button.colab-df-convert');\n",
              "        buttonEl.style.display =\n",
              "          google.colab.kernel.accessAllowed ? 'block' : 'none';\n",
              "\n",
              "        async function convertToInteractive(key) {\n",
              "          const element = document.querySelector('#df-3792b71d-cebf-449f-95ea-7c3eef78e81b');\n",
              "          const dataTable =\n",
              "            await google.colab.kernel.invokeFunction('convertToInteractive',\n",
              "                                                     [key], {});\n",
              "          if (!dataTable) return;\n",
              "\n",
              "          const docLinkHtml = 'Like what you see? Visit the ' +\n",
              "            '<a target=\"_blank\" href=https://colab.research.google.com/notebooks/data_table.ipynb>data table notebook</a>'\n",
              "            + ' to learn more about interactive tables.';\n",
              "          element.innerHTML = '';\n",
              "          dataTable['output_type'] = 'display_data';\n",
              "          await google.colab.output.renderOutput(dataTable, element);\n",
              "          const docLink = document.createElement('div');\n",
              "          docLink.innerHTML = docLinkHtml;\n",
              "          element.appendChild(docLink);\n",
              "        }\n",
              "      </script>\n",
              "    </div>\n",
              "  </div>\n",
              "  "
            ]
          },
          "metadata": {},
          "execution_count": 86
        }
      ]
    },
    {
      "cell_type": "code",
      "source": [
        "# 은평구 유동인구 평균\n",
        "eunpyeong['유동인구'].mean()"
      ],
      "metadata": {
        "colab": {
          "base_uri": "https://localhost:8080/"
        },
        "id": "ZV0d1qvnas7G",
        "outputId": "eb218d16-1a58-4ac4-8037-b6114e2155c9"
      },
      "execution_count": null,
      "outputs": [
        {
          "output_type": "execute_result",
          "data": {
            "text/plain": [
              "522340.3583662012"
            ]
          },
          "metadata": {},
          "execution_count": 111
        }
      ]
    },
    {
      "cell_type": "markdown",
      "source": [
        "### 은평구 9개행 대중교통, 연면적(1812) - 평균은 1450.54, 주변특성, 유동인구 준수라 채택."
      ],
      "metadata": {
        "id": "39A1VdH-IbIw"
      }
    },
    {
      "cell_type": "markdown",
      "source": [
        "# 은평구는 역촌동 주민센터"
      ],
      "metadata": {
        "id": "90psMmgeKw4v"
      }
    },
    {
      "cell_type": "markdown",
      "source": [
        "## 동대문구 시작"
      ],
      "metadata": {
        "id": "Sw2NlIuP6sRO"
      }
    },
    {
      "cell_type": "code",
      "source": [
        "# 동대문구 추출.\n",
        "dfeastbigdoor = dfclu2[dfclu2['자치구']=='동대문구']\n",
        "dfeastbigdoor['시설명'].head(10)"
      ],
      "metadata": {
        "colab": {
          "base_uri": "https://localhost:8080/"
        },
        "outputId": "122ff317-8d35-4da0-8a34-0d7e48615499",
        "id": "HkIn-iq56sRP"
      },
      "execution_count": null,
      "outputs": [
        {
          "output_type": "execute_result",
          "data": {
            "text/plain": [
              "80       용신동 주민센터\n",
              "81       제기동 주민센터\n",
              "82      전농1동 주민센터\n",
              "85     답십리2동 주민센터\n",
              "86      장안1동 주민센터\n",
              "87      장안2동 주민센터\n",
              "88      청량리동 주민센터\n",
              "435    동대문노인종합복지관\n",
              "Name: 시설명, dtype: object"
            ]
          },
          "metadata": {},
          "execution_count": 90
        }
      ]
    },
    {
      "cell_type": "code",
      "source": [
        "# 인덱스 조정 작업.(80 -> 0)\n",
        "dfeastbigdoor = dfeastbigdoor.reset_index()\n",
        "eastbigdoor = dfeastbigdoor.iloc[:,1:]\n",
        "eastbigdoor.head(1)"
      ],
      "metadata": {
        "colab": {
          "base_uri": "https://localhost:8080/",
          "height": 544
        },
        "outputId": "22555a24-39af-4e94-86ae-74af33a1e529",
        "id": "Argq6pqG6sRQ"
      },
      "execution_count": null,
      "outputs": [
        {
          "output_type": "execute_result",
          "data": {
            "text/plain": [
              "    자치구    동       시설명                     주소    위도     경도     위도UTMK  \\\n",
              "0  동대문구  용신동  용신동 주민센터  서울특별시 동대문구 천호대로27길 35 37.58 127.04 1952731.88   \n",
              "\n",
              "     경도UTMK   동별전체인구  동별시니어수  행정동별시니어비율      유동인구  디지털정보지수  주변특성  대중교통  \\\n",
              "0 959331.47 31619.00 8144.00       0.26 569731.36  7787.33  2.00  3.00   \n",
              "\n",
              "   kmeans  spca_component_1  spca_component_2  spca_component_3  \n",
              "0       0              2.47              0.80              0.90  "
            ],
            "text/html": [
              "\n",
              "  <div id=\"df-55efbf38-395a-463a-b325-145a1170f063\">\n",
              "    <div class=\"colab-df-container\">\n",
              "      <div>\n",
              "<style scoped>\n",
              "    .dataframe tbody tr th:only-of-type {\n",
              "        vertical-align: middle;\n",
              "    }\n",
              "\n",
              "    .dataframe tbody tr th {\n",
              "        vertical-align: top;\n",
              "    }\n",
              "\n",
              "    .dataframe thead th {\n",
              "        text-align: right;\n",
              "    }\n",
              "</style>\n",
              "<table border=\"1\" class=\"dataframe\">\n",
              "  <thead>\n",
              "    <tr style=\"text-align: right;\">\n",
              "      <th></th>\n",
              "      <th>자치구</th>\n",
              "      <th>동</th>\n",
              "      <th>시설명</th>\n",
              "      <th>주소</th>\n",
              "      <th>위도</th>\n",
              "      <th>경도</th>\n",
              "      <th>위도UTMK</th>\n",
              "      <th>경도UTMK</th>\n",
              "      <th>동별전체인구</th>\n",
              "      <th>동별시니어수</th>\n",
              "      <th>행정동별시니어비율</th>\n",
              "      <th>유동인구</th>\n",
              "      <th>디지털정보지수</th>\n",
              "      <th>주변특성</th>\n",
              "      <th>대중교통</th>\n",
              "      <th>kmeans</th>\n",
              "      <th>spca_component_1</th>\n",
              "      <th>spca_component_2</th>\n",
              "      <th>spca_component_3</th>\n",
              "    </tr>\n",
              "  </thead>\n",
              "  <tbody>\n",
              "    <tr>\n",
              "      <th>0</th>\n",
              "      <td>동대문구</td>\n",
              "      <td>용신동</td>\n",
              "      <td>용신동 주민센터</td>\n",
              "      <td>서울특별시 동대문구 천호대로27길 35</td>\n",
              "      <td>37.58</td>\n",
              "      <td>127.04</td>\n",
              "      <td>1952731.88</td>\n",
              "      <td>959331.47</td>\n",
              "      <td>31619.00</td>\n",
              "      <td>8144.00</td>\n",
              "      <td>0.26</td>\n",
              "      <td>569731.36</td>\n",
              "      <td>7787.33</td>\n",
              "      <td>2.00</td>\n",
              "      <td>3.00</td>\n",
              "      <td>0</td>\n",
              "      <td>2.47</td>\n",
              "      <td>0.80</td>\n",
              "      <td>0.90</td>\n",
              "    </tr>\n",
              "  </tbody>\n",
              "</table>\n",
              "</div>\n",
              "      <button class=\"colab-df-convert\" onclick=\"convertToInteractive('df-55efbf38-395a-463a-b325-145a1170f063')\"\n",
              "              title=\"Convert this dataframe to an interactive table.\"\n",
              "              style=\"display:none;\">\n",
              "        \n",
              "  <svg xmlns=\"http://www.w3.org/2000/svg\" height=\"24px\"viewBox=\"0 0 24 24\"\n",
              "       width=\"24px\">\n",
              "    <path d=\"M0 0h24v24H0V0z\" fill=\"none\"/>\n",
              "    <path d=\"M18.56 5.44l.94 2.06.94-2.06 2.06-.94-2.06-.94-.94-2.06-.94 2.06-2.06.94zm-11 1L8.5 8.5l.94-2.06 2.06-.94-2.06-.94L8.5 2.5l-.94 2.06-2.06.94zm10 10l.94 2.06.94-2.06 2.06-.94-2.06-.94-.94-2.06-.94 2.06-2.06.94z\"/><path d=\"M17.41 7.96l-1.37-1.37c-.4-.4-.92-.59-1.43-.59-.52 0-1.04.2-1.43.59L10.3 9.45l-7.72 7.72c-.78.78-.78 2.05 0 2.83L4 21.41c.39.39.9.59 1.41.59.51 0 1.02-.2 1.41-.59l7.78-7.78 2.81-2.81c.8-.78.8-2.07 0-2.86zM5.41 20L4 18.59l7.72-7.72 1.47 1.35L5.41 20z\"/>\n",
              "  </svg>\n",
              "      </button>\n",
              "      \n",
              "  <style>\n",
              "    .colab-df-container {\n",
              "      display:flex;\n",
              "      flex-wrap:wrap;\n",
              "      gap: 12px;\n",
              "    }\n",
              "\n",
              "    .colab-df-convert {\n",
              "      background-color: #E8F0FE;\n",
              "      border: none;\n",
              "      border-radius: 50%;\n",
              "      cursor: pointer;\n",
              "      display: none;\n",
              "      fill: #1967D2;\n",
              "      height: 32px;\n",
              "      padding: 0 0 0 0;\n",
              "      width: 32px;\n",
              "    }\n",
              "\n",
              "    .colab-df-convert:hover {\n",
              "      background-color: #E2EBFA;\n",
              "      box-shadow: 0px 1px 2px rgba(60, 64, 67, 0.3), 0px 1px 3px 1px rgba(60, 64, 67, 0.15);\n",
              "      fill: #174EA6;\n",
              "    }\n",
              "\n",
              "    [theme=dark] .colab-df-convert {\n",
              "      background-color: #3B4455;\n",
              "      fill: #D2E3FC;\n",
              "    }\n",
              "\n",
              "    [theme=dark] .colab-df-convert:hover {\n",
              "      background-color: #434B5C;\n",
              "      box-shadow: 0px 1px 3px 1px rgba(0, 0, 0, 0.15);\n",
              "      filter: drop-shadow(0px 1px 2px rgba(0, 0, 0, 0.3));\n",
              "      fill: #FFFFFF;\n",
              "    }\n",
              "  </style>\n",
              "\n",
              "      <script>\n",
              "        const buttonEl =\n",
              "          document.querySelector('#df-55efbf38-395a-463a-b325-145a1170f063 button.colab-df-convert');\n",
              "        buttonEl.style.display =\n",
              "          google.colab.kernel.accessAllowed ? 'block' : 'none';\n",
              "\n",
              "        async function convertToInteractive(key) {\n",
              "          const element = document.querySelector('#df-55efbf38-395a-463a-b325-145a1170f063');\n",
              "          const dataTable =\n",
              "            await google.colab.kernel.invokeFunction('convertToInteractive',\n",
              "                                                     [key], {});\n",
              "          if (!dataTable) return;\n",
              "\n",
              "          const docLinkHtml = 'Like what you see? Visit the ' +\n",
              "            '<a target=\"_blank\" href=https://colab.research.google.com/notebooks/data_table.ipynb>data table notebook</a>'\n",
              "            + ' to learn more about interactive tables.';\n",
              "          element.innerHTML = '';\n",
              "          dataTable['output_type'] = 'display_data';\n",
              "          await google.colab.output.renderOutput(dataTable, element);\n",
              "          const docLink = document.createElement('div');\n",
              "          docLink.innerHTML = docLinkHtml;\n",
              "          element.appendChild(docLink);\n",
              "        }\n",
              "      </script>\n",
              "    </div>\n",
              "  </div>\n",
              "  "
            ]
          },
          "metadata": {},
          "execution_count": 65
        }
      ]
    },
    {
      "cell_type": "code",
      "source": [
        "# 동대문구중 각 주민센터(입지선정)과 다른 주민센터와의 거리합.\n",
        "distance = []\n",
        "distance2 = []\n",
        "for i in range(len(eastbigdoor)):\n",
        "    for j in range(len(eastbigdoor)):\n",
        "        distance.append(np.sqrt((eastbigdoor['위도UTMK'][i] - eastbigdoor['위도UTMK'][j])**2 + (eastbigdoor['경도UTMK'][i] - eastbigdoor['경도UTMK'][j])**2))\n",
        "    distance2.append(sum(distance))\n",
        "    distance= []\n",
        "distance2"
      ],
      "metadata": {
        "colab": {
          "base_uri": "https://localhost:8080/"
        },
        "outputId": "56e14ecc-d2d2-4779-b3c5-01a88532024a",
        "id": "szFkevem6sRQ"
      },
      "execution_count": null,
      "outputs": [
        {
          "output_type": "execute_result",
          "data": {
            "text/plain": [
              "[12864.007384544731,\n",
              " 12542.133631562789,\n",
              " 9600.444353366704,\n",
              " 13481.795028410197,\n",
              " 14722.65896931354,\n",
              " 14967.854063212792,\n",
              " 10767.709723159667,\n",
              " 11081.224920893756]"
            ]
          },
          "metadata": {},
          "execution_count": 66
        }
      ]
    },
    {
      "cell_type": "code",
      "source": [
        "# 동대문구의 인구 * 거리 값.\n",
        "# p median 식이 수요 * 거리곱의 최소화. \n",
        "eastbigdoorpopdist = eastbigdoor['동별시니어수']*distance2\n",
        "print(eastbigdoorpopdist.sort_values())\n",
        "a = eastbigdoorpopdist.argmin()\n",
        "eastbigdoor.iloc[a:a+1:]"
      ],
      "metadata": {
        "colab": {
          "base_uri": "https://localhost:8080/",
          "height": 744
        },
        "outputId": "bb67133b-ecac-4587-c8e9-70f033227b55",
        "id": "a86X7O5t6sRR"
      },
      "execution_count": null,
      "outputs": [
        {
          "output_type": "stream",
          "name": "stdout",
          "text": [
            "2    77149170.82\n",
            "6    78421229.91\n",
            "7    80704561.10\n",
            "1    98932350.09\n",
            "0   104764476.14\n",
            "3   107598206.12\n",
            "5   114234662.21\n",
            "4   142117827.03\n",
            "Name: 동별시니어수, dtype: float64\n"
          ]
        },
        {
          "output_type": "execute_result",
          "data": {
            "text/plain": [
              "    자치구     동        시설명                      주소    위도     경도     위도UTMK  \\\n",
              "2  동대문구  전농1동  전농1동 주민센터  서울특별시 동대문구 서울시립대로9길 21 37.58 127.05 1952965.68   \n",
              "\n",
              "     경도UTMK   동별전체인구  동별시니어수  행정동별시니어비율      유동인구  디지털정보지수  주변특성  대중교통  \\\n",
              "2 960289.36 29198.00 8036.00       0.28 562175.98  7812.14  0.00  0.00   \n",
              "\n",
              "   kmeans  spca_component_1  spca_component_2  spca_component_3  \n",
              "2       0              2.18             -0.15             -1.26  "
            ],
            "text/html": [
              "\n",
              "  <div id=\"df-d68b98a0-9ffd-453b-af38-b2516648b7b4\">\n",
              "    <div class=\"colab-df-container\">\n",
              "      <div>\n",
              "<style scoped>\n",
              "    .dataframe tbody tr th:only-of-type {\n",
              "        vertical-align: middle;\n",
              "    }\n",
              "\n",
              "    .dataframe tbody tr th {\n",
              "        vertical-align: top;\n",
              "    }\n",
              "\n",
              "    .dataframe thead th {\n",
              "        text-align: right;\n",
              "    }\n",
              "</style>\n",
              "<table border=\"1\" class=\"dataframe\">\n",
              "  <thead>\n",
              "    <tr style=\"text-align: right;\">\n",
              "      <th></th>\n",
              "      <th>자치구</th>\n",
              "      <th>동</th>\n",
              "      <th>시설명</th>\n",
              "      <th>주소</th>\n",
              "      <th>위도</th>\n",
              "      <th>경도</th>\n",
              "      <th>위도UTMK</th>\n",
              "      <th>경도UTMK</th>\n",
              "      <th>동별전체인구</th>\n",
              "      <th>동별시니어수</th>\n",
              "      <th>행정동별시니어비율</th>\n",
              "      <th>유동인구</th>\n",
              "      <th>디지털정보지수</th>\n",
              "      <th>주변특성</th>\n",
              "      <th>대중교통</th>\n",
              "      <th>kmeans</th>\n",
              "      <th>spca_component_1</th>\n",
              "      <th>spca_component_2</th>\n",
              "      <th>spca_component_3</th>\n",
              "    </tr>\n",
              "  </thead>\n",
              "  <tbody>\n",
              "    <tr>\n",
              "      <th>2</th>\n",
              "      <td>동대문구</td>\n",
              "      <td>전농1동</td>\n",
              "      <td>전농1동 주민센터</td>\n",
              "      <td>서울특별시 동대문구 서울시립대로9길 21</td>\n",
              "      <td>37.58</td>\n",
              "      <td>127.05</td>\n",
              "      <td>1952965.68</td>\n",
              "      <td>960289.36</td>\n",
              "      <td>29198.00</td>\n",
              "      <td>8036.00</td>\n",
              "      <td>0.28</td>\n",
              "      <td>562175.98</td>\n",
              "      <td>7812.14</td>\n",
              "      <td>0.00</td>\n",
              "      <td>0.00</td>\n",
              "      <td>0</td>\n",
              "      <td>2.18</td>\n",
              "      <td>-0.15</td>\n",
              "      <td>-1.26</td>\n",
              "    </tr>\n",
              "  </tbody>\n",
              "</table>\n",
              "</div>\n",
              "      <button class=\"colab-df-convert\" onclick=\"convertToInteractive('df-d68b98a0-9ffd-453b-af38-b2516648b7b4')\"\n",
              "              title=\"Convert this dataframe to an interactive table.\"\n",
              "              style=\"display:none;\">\n",
              "        \n",
              "  <svg xmlns=\"http://www.w3.org/2000/svg\" height=\"24px\"viewBox=\"0 0 24 24\"\n",
              "       width=\"24px\">\n",
              "    <path d=\"M0 0h24v24H0V0z\" fill=\"none\"/>\n",
              "    <path d=\"M18.56 5.44l.94 2.06.94-2.06 2.06-.94-2.06-.94-.94-2.06-.94 2.06-2.06.94zm-11 1L8.5 8.5l.94-2.06 2.06-.94-2.06-.94L8.5 2.5l-.94 2.06-2.06.94zm10 10l.94 2.06.94-2.06 2.06-.94-2.06-.94-.94-2.06-.94 2.06-2.06.94z\"/><path d=\"M17.41 7.96l-1.37-1.37c-.4-.4-.92-.59-1.43-.59-.52 0-1.04.2-1.43.59L10.3 9.45l-7.72 7.72c-.78.78-.78 2.05 0 2.83L4 21.41c.39.39.9.59 1.41.59.51 0 1.02-.2 1.41-.59l7.78-7.78 2.81-2.81c.8-.78.8-2.07 0-2.86zM5.41 20L4 18.59l7.72-7.72 1.47 1.35L5.41 20z\"/>\n",
              "  </svg>\n",
              "      </button>\n",
              "      \n",
              "  <style>\n",
              "    .colab-df-container {\n",
              "      display:flex;\n",
              "      flex-wrap:wrap;\n",
              "      gap: 12px;\n",
              "    }\n",
              "\n",
              "    .colab-df-convert {\n",
              "      background-color: #E8F0FE;\n",
              "      border: none;\n",
              "      border-radius: 50%;\n",
              "      cursor: pointer;\n",
              "      display: none;\n",
              "      fill: #1967D2;\n",
              "      height: 32px;\n",
              "      padding: 0 0 0 0;\n",
              "      width: 32px;\n",
              "    }\n",
              "\n",
              "    .colab-df-convert:hover {\n",
              "      background-color: #E2EBFA;\n",
              "      box-shadow: 0px 1px 2px rgba(60, 64, 67, 0.3), 0px 1px 3px 1px rgba(60, 64, 67, 0.15);\n",
              "      fill: #174EA6;\n",
              "    }\n",
              "\n",
              "    [theme=dark] .colab-df-convert {\n",
              "      background-color: #3B4455;\n",
              "      fill: #D2E3FC;\n",
              "    }\n",
              "\n",
              "    [theme=dark] .colab-df-convert:hover {\n",
              "      background-color: #434B5C;\n",
              "      box-shadow: 0px 1px 3px 1px rgba(0, 0, 0, 0.15);\n",
              "      filter: drop-shadow(0px 1px 2px rgba(0, 0, 0, 0.3));\n",
              "      fill: #FFFFFF;\n",
              "    }\n",
              "  </style>\n",
              "\n",
              "      <script>\n",
              "        const buttonEl =\n",
              "          document.querySelector('#df-d68b98a0-9ffd-453b-af38-b2516648b7b4 button.colab-df-convert');\n",
              "        buttonEl.style.display =\n",
              "          google.colab.kernel.accessAllowed ? 'block' : 'none';\n",
              "\n",
              "        async function convertToInteractive(key) {\n",
              "          const element = document.querySelector('#df-d68b98a0-9ffd-453b-af38-b2516648b7b4');\n",
              "          const dataTable =\n",
              "            await google.colab.kernel.invokeFunction('convertToInteractive',\n",
              "                                                     [key], {});\n",
              "          if (!dataTable) return;\n",
              "\n",
              "          const docLinkHtml = 'Like what you see? Visit the ' +\n",
              "            '<a target=\"_blank\" href=https://colab.research.google.com/notebooks/data_table.ipynb>data table notebook</a>'\n",
              "            + ' to learn more about interactive tables.';\n",
              "          element.innerHTML = '';\n",
              "          dataTable['output_type'] = 'display_data';\n",
              "          await google.colab.output.renderOutput(dataTable, element);\n",
              "          const docLink = document.createElement('div');\n",
              "          docLink.innerHTML = docLinkHtml;\n",
              "          element.appendChild(docLink);\n",
              "        }\n",
              "      </script>\n",
              "    </div>\n",
              "  </div>\n",
              "  "
            ]
          },
          "metadata": {},
          "execution_count": 67
        }
      ]
    },
    {
      "cell_type": "code",
      "source": [
        "# 동대문구 유동인구\n",
        "eastbigdoor['유동인구'].mean()"
      ],
      "metadata": {
        "colab": {
          "base_uri": "https://localhost:8080/"
        },
        "id": "Sqf37jRSa1QG",
        "outputId": "9793144b-26f7-4d89-ea09-fa5981bed9ec"
      },
      "execution_count": null,
      "outputs": [
        {
          "output_type": "execute_result",
          "data": {
            "text/plain": [
              "558783.0565443034"
            ]
          },
          "metadata": {},
          "execution_count": 112
        }
      ]
    },
    {
      "cell_type": "markdown",
      "source": [
        "### 동대문구는 전농1동 - 전농1동 주민센터"
      ],
      "metadata": {
        "id": "mGgYgvNr6sRR"
      }
    },
    {
      "cell_type": "markdown",
      "source": [
        "### 전농 1동 주민센터는 대중교통 0 이라 기각."
      ],
      "metadata": {
        "id": "0fGlPs1cLAky"
      }
    },
    {
      "cell_type": "code",
      "source": [
        "eastbigdoor.iloc[6:7]"
      ],
      "metadata": {
        "colab": {
          "base_uri": "https://localhost:8080/",
          "height": 544
        },
        "id": "KMXDJYRHLDWL",
        "outputId": "8c1c5d1c-c7f2-4426-d6b7-5128c1cd845b"
      },
      "execution_count": null,
      "outputs": [
        {
          "output_type": "execute_result",
          "data": {
            "text/plain": [
              "    자치구     동        시설명                    주소    위도     경도     위도UTMK  \\\n",
              "6  동대문구  청량리동  청량리동 주민센터  서울특별시 동대문구 왕산로43다길 5 37.59 127.05 1953886.36   \n",
              "\n",
              "     경도UTMK   동별전체인구  동별시니어수  행정동별시니어비율      유동인구  디지털정보지수  주변특성  대중교통  \\\n",
              "6 960218.93 18813.00 7283.00       0.39 509498.22  5953.89  4.00  2.00   \n",
              "\n",
              "   kmeans  spca_component_1  spca_component_2  spca_component_3  \n",
              "6       0              1.07              3.92             -0.33  "
            ],
            "text/html": [
              "\n",
              "  <div id=\"df-e341548d-7bd6-4b7c-a422-99b33f343b79\">\n",
              "    <div class=\"colab-df-container\">\n",
              "      <div>\n",
              "<style scoped>\n",
              "    .dataframe tbody tr th:only-of-type {\n",
              "        vertical-align: middle;\n",
              "    }\n",
              "\n",
              "    .dataframe tbody tr th {\n",
              "        vertical-align: top;\n",
              "    }\n",
              "\n",
              "    .dataframe thead th {\n",
              "        text-align: right;\n",
              "    }\n",
              "</style>\n",
              "<table border=\"1\" class=\"dataframe\">\n",
              "  <thead>\n",
              "    <tr style=\"text-align: right;\">\n",
              "      <th></th>\n",
              "      <th>자치구</th>\n",
              "      <th>동</th>\n",
              "      <th>시설명</th>\n",
              "      <th>주소</th>\n",
              "      <th>위도</th>\n",
              "      <th>경도</th>\n",
              "      <th>위도UTMK</th>\n",
              "      <th>경도UTMK</th>\n",
              "      <th>동별전체인구</th>\n",
              "      <th>동별시니어수</th>\n",
              "      <th>행정동별시니어비율</th>\n",
              "      <th>유동인구</th>\n",
              "      <th>디지털정보지수</th>\n",
              "      <th>주변특성</th>\n",
              "      <th>대중교통</th>\n",
              "      <th>kmeans</th>\n",
              "      <th>spca_component_1</th>\n",
              "      <th>spca_component_2</th>\n",
              "      <th>spca_component_3</th>\n",
              "    </tr>\n",
              "  </thead>\n",
              "  <tbody>\n",
              "    <tr>\n",
              "      <th>6</th>\n",
              "      <td>동대문구</td>\n",
              "      <td>청량리동</td>\n",
              "      <td>청량리동 주민센터</td>\n",
              "      <td>서울특별시 동대문구 왕산로43다길 5</td>\n",
              "      <td>37.59</td>\n",
              "      <td>127.05</td>\n",
              "      <td>1953886.36</td>\n",
              "      <td>960218.93</td>\n",
              "      <td>18813.00</td>\n",
              "      <td>7283.00</td>\n",
              "      <td>0.39</td>\n",
              "      <td>509498.22</td>\n",
              "      <td>5953.89</td>\n",
              "      <td>4.00</td>\n",
              "      <td>2.00</td>\n",
              "      <td>0</td>\n",
              "      <td>1.07</td>\n",
              "      <td>3.92</td>\n",
              "      <td>-0.33</td>\n",
              "    </tr>\n",
              "  </tbody>\n",
              "</table>\n",
              "</div>\n",
              "      <button class=\"colab-df-convert\" onclick=\"convertToInteractive('df-e341548d-7bd6-4b7c-a422-99b33f343b79')\"\n",
              "              title=\"Convert this dataframe to an interactive table.\"\n",
              "              style=\"display:none;\">\n",
              "        \n",
              "  <svg xmlns=\"http://www.w3.org/2000/svg\" height=\"24px\"viewBox=\"0 0 24 24\"\n",
              "       width=\"24px\">\n",
              "    <path d=\"M0 0h24v24H0V0z\" fill=\"none\"/>\n",
              "    <path d=\"M18.56 5.44l.94 2.06.94-2.06 2.06-.94-2.06-.94-.94-2.06-.94 2.06-2.06.94zm-11 1L8.5 8.5l.94-2.06 2.06-.94-2.06-.94L8.5 2.5l-.94 2.06-2.06.94zm10 10l.94 2.06.94-2.06 2.06-.94-2.06-.94-.94-2.06-.94 2.06-2.06.94z\"/><path d=\"M17.41 7.96l-1.37-1.37c-.4-.4-.92-.59-1.43-.59-.52 0-1.04.2-1.43.59L10.3 9.45l-7.72 7.72c-.78.78-.78 2.05 0 2.83L4 21.41c.39.39.9.59 1.41.59.51 0 1.02-.2 1.41-.59l7.78-7.78 2.81-2.81c.8-.78.8-2.07 0-2.86zM5.41 20L4 18.59l7.72-7.72 1.47 1.35L5.41 20z\"/>\n",
              "  </svg>\n",
              "      </button>\n",
              "      \n",
              "  <style>\n",
              "    .colab-df-container {\n",
              "      display:flex;\n",
              "      flex-wrap:wrap;\n",
              "      gap: 12px;\n",
              "    }\n",
              "\n",
              "    .colab-df-convert {\n",
              "      background-color: #E8F0FE;\n",
              "      border: none;\n",
              "      border-radius: 50%;\n",
              "      cursor: pointer;\n",
              "      display: none;\n",
              "      fill: #1967D2;\n",
              "      height: 32px;\n",
              "      padding: 0 0 0 0;\n",
              "      width: 32px;\n",
              "    }\n",
              "\n",
              "    .colab-df-convert:hover {\n",
              "      background-color: #E2EBFA;\n",
              "      box-shadow: 0px 1px 2px rgba(60, 64, 67, 0.3), 0px 1px 3px 1px rgba(60, 64, 67, 0.15);\n",
              "      fill: #174EA6;\n",
              "    }\n",
              "\n",
              "    [theme=dark] .colab-df-convert {\n",
              "      background-color: #3B4455;\n",
              "      fill: #D2E3FC;\n",
              "    }\n",
              "\n",
              "    [theme=dark] .colab-df-convert:hover {\n",
              "      background-color: #434B5C;\n",
              "      box-shadow: 0px 1px 3px 1px rgba(0, 0, 0, 0.15);\n",
              "      filter: drop-shadow(0px 1px 2px rgba(0, 0, 0, 0.3));\n",
              "      fill: #FFFFFF;\n",
              "    }\n",
              "  </style>\n",
              "\n",
              "      <script>\n",
              "        const buttonEl =\n",
              "          document.querySelector('#df-e341548d-7bd6-4b7c-a422-99b33f343b79 button.colab-df-convert');\n",
              "        buttonEl.style.display =\n",
              "          google.colab.kernel.accessAllowed ? 'block' : 'none';\n",
              "\n",
              "        async function convertToInteractive(key) {\n",
              "          const element = document.querySelector('#df-e341548d-7bd6-4b7c-a422-99b33f343b79');\n",
              "          const dataTable =\n",
              "            await google.colab.kernel.invokeFunction('convertToInteractive',\n",
              "                                                     [key], {});\n",
              "          if (!dataTable) return;\n",
              "\n",
              "          const docLinkHtml = 'Like what you see? Visit the ' +\n",
              "            '<a target=\"_blank\" href=https://colab.research.google.com/notebooks/data_table.ipynb>data table notebook</a>'\n",
              "            + ' to learn more about interactive tables.';\n",
              "          element.innerHTML = '';\n",
              "          dataTable['output_type'] = 'display_data';\n",
              "          await google.colab.output.renderOutput(dataTable, element);\n",
              "          const docLink = document.createElement('div');\n",
              "          docLink.innerHTML = docLinkHtml;\n",
              "          element.appendChild(docLink);\n",
              "        }\n",
              "      </script>\n",
              "    </div>\n",
              "  </div>\n",
              "  "
            ]
          },
          "metadata": {},
          "execution_count": 91
        }
      ]
    },
    {
      "cell_type": "markdown",
      "source": [
        "### 청량리동 주민센터 연면적이 988.37 - 평균이 1367.693 이라 기각."
      ],
      "metadata": {
        "id": "IM88AAtCNc15"
      }
    },
    {
      "cell_type": "code",
      "source": [
        "eastbigdoor.iloc[7:8]"
      ],
      "metadata": {
        "colab": {
          "base_uri": "https://localhost:8080/",
          "height": 527
        },
        "id": "YmzZLm2iNvRU",
        "outputId": "4d2bec4c-a55d-4509-8dea-f3257650820d"
      },
      "execution_count": null,
      "outputs": [
        {
          "output_type": "execute_result",
          "data": {
            "text/plain": [
              "    자치구     동         시설명                    주소    위도     경도     위도UTMK  \\\n",
              "7  동대문구  청량리동  동대문노인종합복지관  서울특별시 동대문구 제기로33길 25 37.59 127.05 1953974.88   \n",
              "\n",
              "     경도UTMK   동별전체인구  동별시니어수  행정동별시니어비율      유동인구  디지털정보지수  주변특성  대중교통  \\\n",
              "7 960361.76 18813.00 7283.00       0.39 509498.22  5953.89  4.00  1.00   \n",
              "\n",
              "   kmeans  spca_component_1  spca_component_2  spca_component_3  \n",
              "7       0              1.06              3.81             -0.95  "
            ],
            "text/html": [
              "\n",
              "  <div id=\"df-56809e07-5092-4db1-baee-04729ffc8ec3\">\n",
              "    <div class=\"colab-df-container\">\n",
              "      <div>\n",
              "<style scoped>\n",
              "    .dataframe tbody tr th:only-of-type {\n",
              "        vertical-align: middle;\n",
              "    }\n",
              "\n",
              "    .dataframe tbody tr th {\n",
              "        vertical-align: top;\n",
              "    }\n",
              "\n",
              "    .dataframe thead th {\n",
              "        text-align: right;\n",
              "    }\n",
              "</style>\n",
              "<table border=\"1\" class=\"dataframe\">\n",
              "  <thead>\n",
              "    <tr style=\"text-align: right;\">\n",
              "      <th></th>\n",
              "      <th>자치구</th>\n",
              "      <th>동</th>\n",
              "      <th>시설명</th>\n",
              "      <th>주소</th>\n",
              "      <th>위도</th>\n",
              "      <th>경도</th>\n",
              "      <th>위도UTMK</th>\n",
              "      <th>경도UTMK</th>\n",
              "      <th>동별전체인구</th>\n",
              "      <th>동별시니어수</th>\n",
              "      <th>행정동별시니어비율</th>\n",
              "      <th>유동인구</th>\n",
              "      <th>디지털정보지수</th>\n",
              "      <th>주변특성</th>\n",
              "      <th>대중교통</th>\n",
              "      <th>kmeans</th>\n",
              "      <th>spca_component_1</th>\n",
              "      <th>spca_component_2</th>\n",
              "      <th>spca_component_3</th>\n",
              "    </tr>\n",
              "  </thead>\n",
              "  <tbody>\n",
              "    <tr>\n",
              "      <th>7</th>\n",
              "      <td>동대문구</td>\n",
              "      <td>청량리동</td>\n",
              "      <td>동대문노인종합복지관</td>\n",
              "      <td>서울특별시 동대문구 제기로33길 25</td>\n",
              "      <td>37.59</td>\n",
              "      <td>127.05</td>\n",
              "      <td>1953974.88</td>\n",
              "      <td>960361.76</td>\n",
              "      <td>18813.00</td>\n",
              "      <td>7283.00</td>\n",
              "      <td>0.39</td>\n",
              "      <td>509498.22</td>\n",
              "      <td>5953.89</td>\n",
              "      <td>4.00</td>\n",
              "      <td>1.00</td>\n",
              "      <td>0</td>\n",
              "      <td>1.06</td>\n",
              "      <td>3.81</td>\n",
              "      <td>-0.95</td>\n",
              "    </tr>\n",
              "  </tbody>\n",
              "</table>\n",
              "</div>\n",
              "      <button class=\"colab-df-convert\" onclick=\"convertToInteractive('df-56809e07-5092-4db1-baee-04729ffc8ec3')\"\n",
              "              title=\"Convert this dataframe to an interactive table.\"\n",
              "              style=\"display:none;\">\n",
              "        \n",
              "  <svg xmlns=\"http://www.w3.org/2000/svg\" height=\"24px\"viewBox=\"0 0 24 24\"\n",
              "       width=\"24px\">\n",
              "    <path d=\"M0 0h24v24H0V0z\" fill=\"none\"/>\n",
              "    <path d=\"M18.56 5.44l.94 2.06.94-2.06 2.06-.94-2.06-.94-.94-2.06-.94 2.06-2.06.94zm-11 1L8.5 8.5l.94-2.06 2.06-.94-2.06-.94L8.5 2.5l-.94 2.06-2.06.94zm10 10l.94 2.06.94-2.06 2.06-.94-2.06-.94-.94-2.06-.94 2.06-2.06.94z\"/><path d=\"M17.41 7.96l-1.37-1.37c-.4-.4-.92-.59-1.43-.59-.52 0-1.04.2-1.43.59L10.3 9.45l-7.72 7.72c-.78.78-.78 2.05 0 2.83L4 21.41c.39.39.9.59 1.41.59.51 0 1.02-.2 1.41-.59l7.78-7.78 2.81-2.81c.8-.78.8-2.07 0-2.86zM5.41 20L4 18.59l7.72-7.72 1.47 1.35L5.41 20z\"/>\n",
              "  </svg>\n",
              "      </button>\n",
              "      \n",
              "  <style>\n",
              "    .colab-df-container {\n",
              "      display:flex;\n",
              "      flex-wrap:wrap;\n",
              "      gap: 12px;\n",
              "    }\n",
              "\n",
              "    .colab-df-convert {\n",
              "      background-color: #E8F0FE;\n",
              "      border: none;\n",
              "      border-radius: 50%;\n",
              "      cursor: pointer;\n",
              "      display: none;\n",
              "      fill: #1967D2;\n",
              "      height: 32px;\n",
              "      padding: 0 0 0 0;\n",
              "      width: 32px;\n",
              "    }\n",
              "\n",
              "    .colab-df-convert:hover {\n",
              "      background-color: #E2EBFA;\n",
              "      box-shadow: 0px 1px 2px rgba(60, 64, 67, 0.3), 0px 1px 3px 1px rgba(60, 64, 67, 0.15);\n",
              "      fill: #174EA6;\n",
              "    }\n",
              "\n",
              "    [theme=dark] .colab-df-convert {\n",
              "      background-color: #3B4455;\n",
              "      fill: #D2E3FC;\n",
              "    }\n",
              "\n",
              "    [theme=dark] .colab-df-convert:hover {\n",
              "      background-color: #434B5C;\n",
              "      box-shadow: 0px 1px 3px 1px rgba(0, 0, 0, 0.15);\n",
              "      filter: drop-shadow(0px 1px 2px rgba(0, 0, 0, 0.3));\n",
              "      fill: #FFFFFF;\n",
              "    }\n",
              "  </style>\n",
              "\n",
              "      <script>\n",
              "        const buttonEl =\n",
              "          document.querySelector('#df-56809e07-5092-4db1-baee-04729ffc8ec3 button.colab-df-convert');\n",
              "        buttonEl.style.display =\n",
              "          google.colab.kernel.accessAllowed ? 'block' : 'none';\n",
              "\n",
              "        async function convertToInteractive(key) {\n",
              "          const element = document.querySelector('#df-56809e07-5092-4db1-baee-04729ffc8ec3');\n",
              "          const dataTable =\n",
              "            await google.colab.kernel.invokeFunction('convertToInteractive',\n",
              "                                                     [key], {});\n",
              "          if (!dataTable) return;\n",
              "\n",
              "          const docLinkHtml = 'Like what you see? Visit the ' +\n",
              "            '<a target=\"_blank\" href=https://colab.research.google.com/notebooks/data_table.ipynb>data table notebook</a>'\n",
              "            + ' to learn more about interactive tables.';\n",
              "          element.innerHTML = '';\n",
              "          dataTable['output_type'] = 'display_data';\n",
              "          await google.colab.output.renderOutput(dataTable, element);\n",
              "          const docLink = document.createElement('div');\n",
              "          docLink.innerHTML = docLinkHtml;\n",
              "          element.appendChild(docLink);\n",
              "        }\n",
              "      </script>\n",
              "    </div>\n",
              "  </div>\n",
              "  "
            ]
          },
          "metadata": {},
          "execution_count": 92
        }
      ]
    },
    {
      "cell_type": "markdown",
      "source": [
        "# 동대문구 노인종합복지관 는 대중교통 有, 연면적(2396) - 평균은 1367.23 이고, 주변특성, 유동인구 준수하여 채택."
      ],
      "metadata": {
        "id": "KObhIp5RN692"
      }
    },
    {
      "cell_type": "markdown",
      "source": [
        "## 강동구 시작"
      ],
      "metadata": {
        "id": "zEeSZ4YT7vaw"
      }
    },
    {
      "cell_type": "markdown",
      "source": [
        "## 강동구는 연면적 평균이 1971.91"
      ],
      "metadata": {
        "id": "Zqw077XfdUgP"
      }
    },
    {
      "cell_type": "code",
      "source": [
        "# 강동구 추출.\n",
        "dfrivereast = dfclu2[dfclu2['자치구']=='강동구']\n",
        "dfrivereast['시설명'].head(10)"
      ],
      "metadata": {
        "colab": {
          "base_uri": "https://localhost:8080/"
        },
        "outputId": "a730be8f-eed9-464a-9a03-fa38165f6fe9",
        "id": "zietJMf97vax"
      },
      "execution_count": null,
      "outputs": [
        {
          "output_type": "execute_result",
          "data": {
            "text/plain": [
              "410     상일동 주민센터\n",
              "411      길동 주민센터\n",
              "414    암사1동 주민센터\n",
              "420    천호1동 주민센터\n",
              "421    천호2동 주민센터\n",
              "423     강일동 주민센터\n",
              "504      해공노인복지관\n",
              "Name: 시설명, dtype: object"
            ]
          },
          "metadata": {},
          "execution_count": 93
        }
      ]
    },
    {
      "cell_type": "code",
      "source": [
        "# 인덱스 조정 작업.(410 -> 0)\n",
        "dfrivereast = dfrivereast.reset_index()\n",
        "rivereast = dfrivereast.iloc[:,1:]\n",
        "rivereast.head(1)"
      ],
      "metadata": {
        "colab": {
          "base_uri": "https://localhost:8080/",
          "height": 440
        },
        "outputId": "b225f1e0-cf4c-44d9-9991-899da583f860",
        "id": "xvnwVQ907vay"
      },
      "execution_count": null,
      "outputs": [
        {
          "output_type": "execute_result",
          "data": {
            "text/plain": [
              "   자치구     동       시설명               주소    위도     경도     위도UTMK    경도UTMK  \\\n",
              "0  강동구  상일1동  상일동 주민센터  서울 강동구 구천면로 633 37.55 127.17 1949897.14 970898.01   \n",
              "\n",
              "    동별전체인구  동별시니어수  행정동별시니어비율      유동인구  디지털정보지수  주변특성  대중교통  kmeans  \\\n",
              "0 38834.00 7184.00       0.18 409526.91 10692.29  0.00  2.00       0   \n",
              "\n",
              "   spca_component_1  spca_component_2  spca_component_3  \n",
              "0              2.54             -1.85              0.64  "
            ],
            "text/html": [
              "\n",
              "  <div id=\"df-0d3f643d-926f-4e61-95e1-e490a9508e1b\">\n",
              "    <div class=\"colab-df-container\">\n",
              "      <div>\n",
              "<style scoped>\n",
              "    .dataframe tbody tr th:only-of-type {\n",
              "        vertical-align: middle;\n",
              "    }\n",
              "\n",
              "    .dataframe tbody tr th {\n",
              "        vertical-align: top;\n",
              "    }\n",
              "\n",
              "    .dataframe thead th {\n",
              "        text-align: right;\n",
              "    }\n",
              "</style>\n",
              "<table border=\"1\" class=\"dataframe\">\n",
              "  <thead>\n",
              "    <tr style=\"text-align: right;\">\n",
              "      <th></th>\n",
              "      <th>자치구</th>\n",
              "      <th>동</th>\n",
              "      <th>시설명</th>\n",
              "      <th>주소</th>\n",
              "      <th>위도</th>\n",
              "      <th>경도</th>\n",
              "      <th>위도UTMK</th>\n",
              "      <th>경도UTMK</th>\n",
              "      <th>동별전체인구</th>\n",
              "      <th>동별시니어수</th>\n",
              "      <th>행정동별시니어비율</th>\n",
              "      <th>유동인구</th>\n",
              "      <th>디지털정보지수</th>\n",
              "      <th>주변특성</th>\n",
              "      <th>대중교통</th>\n",
              "      <th>kmeans</th>\n",
              "      <th>spca_component_1</th>\n",
              "      <th>spca_component_2</th>\n",
              "      <th>spca_component_3</th>\n",
              "    </tr>\n",
              "  </thead>\n",
              "  <tbody>\n",
              "    <tr>\n",
              "      <th>0</th>\n",
              "      <td>강동구</td>\n",
              "      <td>상일1동</td>\n",
              "      <td>상일동 주민센터</td>\n",
              "      <td>서울 강동구 구천면로 633</td>\n",
              "      <td>37.55</td>\n",
              "      <td>127.17</td>\n",
              "      <td>1949897.14</td>\n",
              "      <td>970898.01</td>\n",
              "      <td>38834.00</td>\n",
              "      <td>7184.00</td>\n",
              "      <td>0.18</td>\n",
              "      <td>409526.91</td>\n",
              "      <td>10692.29</td>\n",
              "      <td>0.00</td>\n",
              "      <td>2.00</td>\n",
              "      <td>0</td>\n",
              "      <td>2.54</td>\n",
              "      <td>-1.85</td>\n",
              "      <td>0.64</td>\n",
              "    </tr>\n",
              "  </tbody>\n",
              "</table>\n",
              "</div>\n",
              "      <button class=\"colab-df-convert\" onclick=\"convertToInteractive('df-0d3f643d-926f-4e61-95e1-e490a9508e1b')\"\n",
              "              title=\"Convert this dataframe to an interactive table.\"\n",
              "              style=\"display:none;\">\n",
              "        \n",
              "  <svg xmlns=\"http://www.w3.org/2000/svg\" height=\"24px\"viewBox=\"0 0 24 24\"\n",
              "       width=\"24px\">\n",
              "    <path d=\"M0 0h24v24H0V0z\" fill=\"none\"/>\n",
              "    <path d=\"M18.56 5.44l.94 2.06.94-2.06 2.06-.94-2.06-.94-.94-2.06-.94 2.06-2.06.94zm-11 1L8.5 8.5l.94-2.06 2.06-.94-2.06-.94L8.5 2.5l-.94 2.06-2.06.94zm10 10l.94 2.06.94-2.06 2.06-.94-2.06-.94-.94-2.06-.94 2.06-2.06.94z\"/><path d=\"M17.41 7.96l-1.37-1.37c-.4-.4-.92-.59-1.43-.59-.52 0-1.04.2-1.43.59L10.3 9.45l-7.72 7.72c-.78.78-.78 2.05 0 2.83L4 21.41c.39.39.9.59 1.41.59.51 0 1.02-.2 1.41-.59l7.78-7.78 2.81-2.81c.8-.78.8-2.07 0-2.86zM5.41 20L4 18.59l7.72-7.72 1.47 1.35L5.41 20z\"/>\n",
              "  </svg>\n",
              "      </button>\n",
              "      \n",
              "  <style>\n",
              "    .colab-df-container {\n",
              "      display:flex;\n",
              "      flex-wrap:wrap;\n",
              "      gap: 12px;\n",
              "    }\n",
              "\n",
              "    .colab-df-convert {\n",
              "      background-color: #E8F0FE;\n",
              "      border: none;\n",
              "      border-radius: 50%;\n",
              "      cursor: pointer;\n",
              "      display: none;\n",
              "      fill: #1967D2;\n",
              "      height: 32px;\n",
              "      padding: 0 0 0 0;\n",
              "      width: 32px;\n",
              "    }\n",
              "\n",
              "    .colab-df-convert:hover {\n",
              "      background-color: #E2EBFA;\n",
              "      box-shadow: 0px 1px 2px rgba(60, 64, 67, 0.3), 0px 1px 3px 1px rgba(60, 64, 67, 0.15);\n",
              "      fill: #174EA6;\n",
              "    }\n",
              "\n",
              "    [theme=dark] .colab-df-convert {\n",
              "      background-color: #3B4455;\n",
              "      fill: #D2E3FC;\n",
              "    }\n",
              "\n",
              "    [theme=dark] .colab-df-convert:hover {\n",
              "      background-color: #434B5C;\n",
              "      box-shadow: 0px 1px 3px 1px rgba(0, 0, 0, 0.15);\n",
              "      filter: drop-shadow(0px 1px 2px rgba(0, 0, 0, 0.3));\n",
              "      fill: #FFFFFF;\n",
              "    }\n",
              "  </style>\n",
              "\n",
              "      <script>\n",
              "        const buttonEl =\n",
              "          document.querySelector('#df-0d3f643d-926f-4e61-95e1-e490a9508e1b button.colab-df-convert');\n",
              "        buttonEl.style.display =\n",
              "          google.colab.kernel.accessAllowed ? 'block' : 'none';\n",
              "\n",
              "        async function convertToInteractive(key) {\n",
              "          const element = document.querySelector('#df-0d3f643d-926f-4e61-95e1-e490a9508e1b');\n",
              "          const dataTable =\n",
              "            await google.colab.kernel.invokeFunction('convertToInteractive',\n",
              "                                                     [key], {});\n",
              "          if (!dataTable) return;\n",
              "\n",
              "          const docLinkHtml = 'Like what you see? Visit the ' +\n",
              "            '<a target=\"_blank\" href=https://colab.research.google.com/notebooks/data_table.ipynb>data table notebook</a>'\n",
              "            + ' to learn more about interactive tables.';\n",
              "          element.innerHTML = '';\n",
              "          dataTable['output_type'] = 'display_data';\n",
              "          await google.colab.output.renderOutput(dataTable, element);\n",
              "          const docLink = document.createElement('div');\n",
              "          docLink.innerHTML = docLinkHtml;\n",
              "          element.appendChild(docLink);\n",
              "        }\n",
              "      </script>\n",
              "    </div>\n",
              "  </div>\n",
              "  "
            ]
          },
          "metadata": {},
          "execution_count": 69
        }
      ]
    },
    {
      "cell_type": "code",
      "source": [
        "# 강동구중 각 주민센터(입지선정)과 다른 주민센터와의 거리합.\n",
        "distance = []\n",
        "distance2 = []\n",
        "for i in range(len(rivereast)):\n",
        "    for j in range(len(rivereast)):\n",
        "        distance.append(np.sqrt((rivereast['위도UTMK'][i] - rivereast['위도UTMK'][j])**2 + (rivereast['경도UTMK'][i] - rivereast['경도UTMK'][j])**2))\n",
        "    distance2.append(sum(distance))\n",
        "    distance= []\n",
        "distance2"
      ],
      "metadata": {
        "colab": {
          "base_uri": "https://localhost:8080/"
        },
        "outputId": "f375bed1-2db1-4ce7-9407-3fd26c0f28f3",
        "id": "YL3nglvd7vay"
      },
      "execution_count": null,
      "outputs": [
        {
          "output_type": "execute_result",
          "data": {
            "text/plain": [
              "[17527.625980186713,\n",
              " 12623.450640717561,\n",
              " 11454.283786474953,\n",
              " 10296.028710150485,\n",
              " 14285.615553260084,\n",
              " 22841.724860313454,\n",
              " 10936.129062673477]"
            ]
          },
          "metadata": {},
          "execution_count": 70
        }
      ]
    },
    {
      "cell_type": "code",
      "source": [
        "# 강동구의 인구 * 거리 값.\n",
        "# p median 식이 수요 * 거리곱의 최소화. \n",
        "rivereastpopdist = rivereast['동별시니어수']*distance2\n",
        "print(rivereastpopdist.sort_values())\n",
        "a = rivereastpopdist.argmin()\n",
        "rivereast.iloc[a:a+1:]"
      ],
      "metadata": {
        "colab": {
          "base_uri": "https://localhost:8080/",
          "height": 674
        },
        "outputId": "6b889dfe-822c-41f4-f3c7-9fa418fab058",
        "id": "KbjnpSQl7vay"
      },
      "execution_count": null,
      "outputs": [
        {
          "output_type": "stream",
          "name": "stdout",
          "text": [
            "3    79938366.91\n",
            "6    95078706.07\n",
            "2   103329094.04\n",
            "4   124199141.62\n",
            "0   125918465.04\n",
            "1   153400172.19\n",
            "5   179627324.30\n",
            "Name: 동별시니어수, dtype: float64\n"
          ]
        },
        {
          "output_type": "execute_result",
          "data": {
            "text/plain": [
              "   자치구     동        시설명                    주소    위도     경도     위도UTMK  \\\n",
              "3  강동구  천호1동  천호1동 주민센터  서울특별시 강동구 구천면로42길 59 37.55 127.14 1949387.65   \n",
              "\n",
              "     경도UTMK   동별전체인구  동별시니어수  행정동별시니어비율      유동인구  디지털정보지수  주변특성  대중교통  \\\n",
              "3 968010.59 26738.00 7764.00       0.29 442590.05  7519.02  2.00  0.00   \n",
              "\n",
              "   kmeans  spca_component_1  spca_component_2  spca_component_3  \n",
              "3       0              1.56              0.96             -1.13  "
            ],
            "text/html": [
              "\n",
              "  <div id=\"df-c1de3b02-697d-4f99-8bfb-2e9c7e198aa9\">\n",
              "    <div class=\"colab-df-container\">\n",
              "      <div>\n",
              "<style scoped>\n",
              "    .dataframe tbody tr th:only-of-type {\n",
              "        vertical-align: middle;\n",
              "    }\n",
              "\n",
              "    .dataframe tbody tr th {\n",
              "        vertical-align: top;\n",
              "    }\n",
              "\n",
              "    .dataframe thead th {\n",
              "        text-align: right;\n",
              "    }\n",
              "</style>\n",
              "<table border=\"1\" class=\"dataframe\">\n",
              "  <thead>\n",
              "    <tr style=\"text-align: right;\">\n",
              "      <th></th>\n",
              "      <th>자치구</th>\n",
              "      <th>동</th>\n",
              "      <th>시설명</th>\n",
              "      <th>주소</th>\n",
              "      <th>위도</th>\n",
              "      <th>경도</th>\n",
              "      <th>위도UTMK</th>\n",
              "      <th>경도UTMK</th>\n",
              "      <th>동별전체인구</th>\n",
              "      <th>동별시니어수</th>\n",
              "      <th>행정동별시니어비율</th>\n",
              "      <th>유동인구</th>\n",
              "      <th>디지털정보지수</th>\n",
              "      <th>주변특성</th>\n",
              "      <th>대중교통</th>\n",
              "      <th>kmeans</th>\n",
              "      <th>spca_component_1</th>\n",
              "      <th>spca_component_2</th>\n",
              "      <th>spca_component_3</th>\n",
              "    </tr>\n",
              "  </thead>\n",
              "  <tbody>\n",
              "    <tr>\n",
              "      <th>3</th>\n",
              "      <td>강동구</td>\n",
              "      <td>천호1동</td>\n",
              "      <td>천호1동 주민센터</td>\n",
              "      <td>서울특별시 강동구 구천면로42길 59</td>\n",
              "      <td>37.55</td>\n",
              "      <td>127.14</td>\n",
              "      <td>1949387.65</td>\n",
              "      <td>968010.59</td>\n",
              "      <td>26738.00</td>\n",
              "      <td>7764.00</td>\n",
              "      <td>0.29</td>\n",
              "      <td>442590.05</td>\n",
              "      <td>7519.02</td>\n",
              "      <td>2.00</td>\n",
              "      <td>0.00</td>\n",
              "      <td>0</td>\n",
              "      <td>1.56</td>\n",
              "      <td>0.96</td>\n",
              "      <td>-1.13</td>\n",
              "    </tr>\n",
              "  </tbody>\n",
              "</table>\n",
              "</div>\n",
              "      <button class=\"colab-df-convert\" onclick=\"convertToInteractive('df-c1de3b02-697d-4f99-8bfb-2e9c7e198aa9')\"\n",
              "              title=\"Convert this dataframe to an interactive table.\"\n",
              "              style=\"display:none;\">\n",
              "        \n",
              "  <svg xmlns=\"http://www.w3.org/2000/svg\" height=\"24px\"viewBox=\"0 0 24 24\"\n",
              "       width=\"24px\">\n",
              "    <path d=\"M0 0h24v24H0V0z\" fill=\"none\"/>\n",
              "    <path d=\"M18.56 5.44l.94 2.06.94-2.06 2.06-.94-2.06-.94-.94-2.06-.94 2.06-2.06.94zm-11 1L8.5 8.5l.94-2.06 2.06-.94-2.06-.94L8.5 2.5l-.94 2.06-2.06.94zm10 10l.94 2.06.94-2.06 2.06-.94-2.06-.94-.94-2.06-.94 2.06-2.06.94z\"/><path d=\"M17.41 7.96l-1.37-1.37c-.4-.4-.92-.59-1.43-.59-.52 0-1.04.2-1.43.59L10.3 9.45l-7.72 7.72c-.78.78-.78 2.05 0 2.83L4 21.41c.39.39.9.59 1.41.59.51 0 1.02-.2 1.41-.59l7.78-7.78 2.81-2.81c.8-.78.8-2.07 0-2.86zM5.41 20L4 18.59l7.72-7.72 1.47 1.35L5.41 20z\"/>\n",
              "  </svg>\n",
              "      </button>\n",
              "      \n",
              "  <style>\n",
              "    .colab-df-container {\n",
              "      display:flex;\n",
              "      flex-wrap:wrap;\n",
              "      gap: 12px;\n",
              "    }\n",
              "\n",
              "    .colab-df-convert {\n",
              "      background-color: #E8F0FE;\n",
              "      border: none;\n",
              "      border-radius: 50%;\n",
              "      cursor: pointer;\n",
              "      display: none;\n",
              "      fill: #1967D2;\n",
              "      height: 32px;\n",
              "      padding: 0 0 0 0;\n",
              "      width: 32px;\n",
              "    }\n",
              "\n",
              "    .colab-df-convert:hover {\n",
              "      background-color: #E2EBFA;\n",
              "      box-shadow: 0px 1px 2px rgba(60, 64, 67, 0.3), 0px 1px 3px 1px rgba(60, 64, 67, 0.15);\n",
              "      fill: #174EA6;\n",
              "    }\n",
              "\n",
              "    [theme=dark] .colab-df-convert {\n",
              "      background-color: #3B4455;\n",
              "      fill: #D2E3FC;\n",
              "    }\n",
              "\n",
              "    [theme=dark] .colab-df-convert:hover {\n",
              "      background-color: #434B5C;\n",
              "      box-shadow: 0px 1px 3px 1px rgba(0, 0, 0, 0.15);\n",
              "      filter: drop-shadow(0px 1px 2px rgba(0, 0, 0, 0.3));\n",
              "      fill: #FFFFFF;\n",
              "    }\n",
              "  </style>\n",
              "\n",
              "      <script>\n",
              "        const buttonEl =\n",
              "          document.querySelector('#df-c1de3b02-697d-4f99-8bfb-2e9c7e198aa9 button.colab-df-convert');\n",
              "        buttonEl.style.display =\n",
              "          google.colab.kernel.accessAllowed ? 'block' : 'none';\n",
              "\n",
              "        async function convertToInteractive(key) {\n",
              "          const element = document.querySelector('#df-c1de3b02-697d-4f99-8bfb-2e9c7e198aa9');\n",
              "          const dataTable =\n",
              "            await google.colab.kernel.invokeFunction('convertToInteractive',\n",
              "                                                     [key], {});\n",
              "          if (!dataTable) return;\n",
              "\n",
              "          const docLinkHtml = 'Like what you see? Visit the ' +\n",
              "            '<a target=\"_blank\" href=https://colab.research.google.com/notebooks/data_table.ipynb>data table notebook</a>'\n",
              "            + ' to learn more about interactive tables.';\n",
              "          element.innerHTML = '';\n",
              "          dataTable['output_type'] = 'display_data';\n",
              "          await google.colab.output.renderOutput(dataTable, element);\n",
              "          const docLink = document.createElement('div');\n",
              "          docLink.innerHTML = docLinkHtml;\n",
              "          element.appendChild(docLink);\n",
              "        }\n",
              "      </script>\n",
              "    </div>\n",
              "  </div>\n",
              "  "
            ]
          },
          "metadata": {},
          "execution_count": 71
        }
      ]
    },
    {
      "cell_type": "markdown",
      "source": [
        "### 천호1동 주민센터는 대중교통 0 이라 기각."
      ],
      "metadata": {
        "id": "-25VRirB7vaz"
      }
    },
    {
      "cell_type": "code",
      "source": [
        "rivereast.iloc[6:7]"
      ],
      "metadata": {
        "colab": {
          "base_uri": "https://localhost:8080/",
          "height": 527
        },
        "id": "T_MXYQN7P8kB",
        "outputId": "3b4134c4-adbe-4b3d-ad95-57105715c099"
      },
      "execution_count": null,
      "outputs": [
        {
          "output_type": "execute_result",
          "data": {
            "text/plain": [
              "   자치구     동      시설명                      주소    위도     경도     위도UTMK  \\\n",
              "6  강동구  천호2동  해공노인복지관  서울특별시 강동구 천중로17길 42-16 37.55 127.13 1949452.26   \n",
              "\n",
              "     경도UTMK   동별전체인구  동별시니어수  행정동별시니어비율      유동인구  디지털정보지수  주변특성  대중교통  \\\n",
              "6 967593.32 33154.00 8694.00       0.26 495605.09  8661.42  3.00  0.00   \n",
              "\n",
              "   kmeans  spca_component_1  spca_component_2  spca_component_3  \n",
              "6       0              2.62              0.90             -0.86  "
            ],
            "text/html": [
              "\n",
              "  <div id=\"df-37324916-ce07-4ce1-8021-6b5768be3100\">\n",
              "    <div class=\"colab-df-container\">\n",
              "      <div>\n",
              "<style scoped>\n",
              "    .dataframe tbody tr th:only-of-type {\n",
              "        vertical-align: middle;\n",
              "    }\n",
              "\n",
              "    .dataframe tbody tr th {\n",
              "        vertical-align: top;\n",
              "    }\n",
              "\n",
              "    .dataframe thead th {\n",
              "        text-align: right;\n",
              "    }\n",
              "</style>\n",
              "<table border=\"1\" class=\"dataframe\">\n",
              "  <thead>\n",
              "    <tr style=\"text-align: right;\">\n",
              "      <th></th>\n",
              "      <th>자치구</th>\n",
              "      <th>동</th>\n",
              "      <th>시설명</th>\n",
              "      <th>주소</th>\n",
              "      <th>위도</th>\n",
              "      <th>경도</th>\n",
              "      <th>위도UTMK</th>\n",
              "      <th>경도UTMK</th>\n",
              "      <th>동별전체인구</th>\n",
              "      <th>동별시니어수</th>\n",
              "      <th>행정동별시니어비율</th>\n",
              "      <th>유동인구</th>\n",
              "      <th>디지털정보지수</th>\n",
              "      <th>주변특성</th>\n",
              "      <th>대중교통</th>\n",
              "      <th>kmeans</th>\n",
              "      <th>spca_component_1</th>\n",
              "      <th>spca_component_2</th>\n",
              "      <th>spca_component_3</th>\n",
              "    </tr>\n",
              "  </thead>\n",
              "  <tbody>\n",
              "    <tr>\n",
              "      <th>6</th>\n",
              "      <td>강동구</td>\n",
              "      <td>천호2동</td>\n",
              "      <td>해공노인복지관</td>\n",
              "      <td>서울특별시 강동구 천중로17길 42-16</td>\n",
              "      <td>37.55</td>\n",
              "      <td>127.13</td>\n",
              "      <td>1949452.26</td>\n",
              "      <td>967593.32</td>\n",
              "      <td>33154.00</td>\n",
              "      <td>8694.00</td>\n",
              "      <td>0.26</td>\n",
              "      <td>495605.09</td>\n",
              "      <td>8661.42</td>\n",
              "      <td>3.00</td>\n",
              "      <td>0.00</td>\n",
              "      <td>0</td>\n",
              "      <td>2.62</td>\n",
              "      <td>0.90</td>\n",
              "      <td>-0.86</td>\n",
              "    </tr>\n",
              "  </tbody>\n",
              "</table>\n",
              "</div>\n",
              "      <button class=\"colab-df-convert\" onclick=\"convertToInteractive('df-37324916-ce07-4ce1-8021-6b5768be3100')\"\n",
              "              title=\"Convert this dataframe to an interactive table.\"\n",
              "              style=\"display:none;\">\n",
              "        \n",
              "  <svg xmlns=\"http://www.w3.org/2000/svg\" height=\"24px\"viewBox=\"0 0 24 24\"\n",
              "       width=\"24px\">\n",
              "    <path d=\"M0 0h24v24H0V0z\" fill=\"none\"/>\n",
              "    <path d=\"M18.56 5.44l.94 2.06.94-2.06 2.06-.94-2.06-.94-.94-2.06-.94 2.06-2.06.94zm-11 1L8.5 8.5l.94-2.06 2.06-.94-2.06-.94L8.5 2.5l-.94 2.06-2.06.94zm10 10l.94 2.06.94-2.06 2.06-.94-2.06-.94-.94-2.06-.94 2.06-2.06.94z\"/><path d=\"M17.41 7.96l-1.37-1.37c-.4-.4-.92-.59-1.43-.59-.52 0-1.04.2-1.43.59L10.3 9.45l-7.72 7.72c-.78.78-.78 2.05 0 2.83L4 21.41c.39.39.9.59 1.41.59.51 0 1.02-.2 1.41-.59l7.78-7.78 2.81-2.81c.8-.78.8-2.07 0-2.86zM5.41 20L4 18.59l7.72-7.72 1.47 1.35L5.41 20z\"/>\n",
              "  </svg>\n",
              "      </button>\n",
              "      \n",
              "  <style>\n",
              "    .colab-df-container {\n",
              "      display:flex;\n",
              "      flex-wrap:wrap;\n",
              "      gap: 12px;\n",
              "    }\n",
              "\n",
              "    .colab-df-convert {\n",
              "      background-color: #E8F0FE;\n",
              "      border: none;\n",
              "      border-radius: 50%;\n",
              "      cursor: pointer;\n",
              "      display: none;\n",
              "      fill: #1967D2;\n",
              "      height: 32px;\n",
              "      padding: 0 0 0 0;\n",
              "      width: 32px;\n",
              "    }\n",
              "\n",
              "    .colab-df-convert:hover {\n",
              "      background-color: #E2EBFA;\n",
              "      box-shadow: 0px 1px 2px rgba(60, 64, 67, 0.3), 0px 1px 3px 1px rgba(60, 64, 67, 0.15);\n",
              "      fill: #174EA6;\n",
              "    }\n",
              "\n",
              "    [theme=dark] .colab-df-convert {\n",
              "      background-color: #3B4455;\n",
              "      fill: #D2E3FC;\n",
              "    }\n",
              "\n",
              "    [theme=dark] .colab-df-convert:hover {\n",
              "      background-color: #434B5C;\n",
              "      box-shadow: 0px 1px 3px 1px rgba(0, 0, 0, 0.15);\n",
              "      filter: drop-shadow(0px 1px 2px rgba(0, 0, 0, 0.3));\n",
              "      fill: #FFFFFF;\n",
              "    }\n",
              "  </style>\n",
              "\n",
              "      <script>\n",
              "        const buttonEl =\n",
              "          document.querySelector('#df-37324916-ce07-4ce1-8021-6b5768be3100 button.colab-df-convert');\n",
              "        buttonEl.style.display =\n",
              "          google.colab.kernel.accessAllowed ? 'block' : 'none';\n",
              "\n",
              "        async function convertToInteractive(key) {\n",
              "          const element = document.querySelector('#df-37324916-ce07-4ce1-8021-6b5768be3100');\n",
              "          const dataTable =\n",
              "            await google.colab.kernel.invokeFunction('convertToInteractive',\n",
              "                                                     [key], {});\n",
              "          if (!dataTable) return;\n",
              "\n",
              "          const docLinkHtml = 'Like what you see? Visit the ' +\n",
              "            '<a target=\"_blank\" href=https://colab.research.google.com/notebooks/data_table.ipynb>data table notebook</a>'\n",
              "            + ' to learn more about interactive tables.';\n",
              "          element.innerHTML = '';\n",
              "          dataTable['output_type'] = 'display_data';\n",
              "          await google.colab.output.renderOutput(dataTable, element);\n",
              "          const docLink = document.createElement('div');\n",
              "          docLink.innerHTML = docLinkHtml;\n",
              "          element.appendChild(docLink);\n",
              "        }\n",
              "      </script>\n",
              "    </div>\n",
              "  </div>\n",
              "  "
            ]
          },
          "metadata": {},
          "execution_count": 94
        }
      ]
    },
    {
      "cell_type": "markdown",
      "source": [
        "### 해공 노인복지관도 대중교통 0 이라 기각"
      ],
      "metadata": {
        "id": "r5U8YKxDP6Jr"
      }
    },
    {
      "cell_type": "code",
      "source": [
        "rivereast.iloc[2:3]"
      ],
      "metadata": {
        "colab": {
          "base_uri": "https://localhost:8080/",
          "height": 544
        },
        "id": "JWw_KfBpQJr2",
        "outputId": "09c44247-4ef9-4c23-8805-db8cb783754f"
      },
      "execution_count": null,
      "outputs": [
        {
          "output_type": "execute_result",
          "data": {
            "text/plain": [
              "   자치구     동        시설명                     주소    위도     경도     위도UTMK  \\\n",
              "2  강동구  암사1동  암사1동 주민센터  서울특별시 강동구 올림픽로98가길 57 37.55 127.13 1949919.44   \n",
              "\n",
              "     경도UTMK   동별전체인구  동별시니어수  행정동별시니어비율      유동인구  디지털정보지수  주변특성  대중교통  \\\n",
              "2 967655.77 34486.00 9021.00       0.26 514245.86  9359.65  3.00  0.00   \n",
              "\n",
              "   kmeans  spca_component_1  spca_component_2  spca_component_3  \n",
              "2       0              2.99              0.88             -0.85  "
            ],
            "text/html": [
              "\n",
              "  <div id=\"df-782f8b59-9d2e-43af-8cab-f5d210a07cf3\">\n",
              "    <div class=\"colab-df-container\">\n",
              "      <div>\n",
              "<style scoped>\n",
              "    .dataframe tbody tr th:only-of-type {\n",
              "        vertical-align: middle;\n",
              "    }\n",
              "\n",
              "    .dataframe tbody tr th {\n",
              "        vertical-align: top;\n",
              "    }\n",
              "\n",
              "    .dataframe thead th {\n",
              "        text-align: right;\n",
              "    }\n",
              "</style>\n",
              "<table border=\"1\" class=\"dataframe\">\n",
              "  <thead>\n",
              "    <tr style=\"text-align: right;\">\n",
              "      <th></th>\n",
              "      <th>자치구</th>\n",
              "      <th>동</th>\n",
              "      <th>시설명</th>\n",
              "      <th>주소</th>\n",
              "      <th>위도</th>\n",
              "      <th>경도</th>\n",
              "      <th>위도UTMK</th>\n",
              "      <th>경도UTMK</th>\n",
              "      <th>동별전체인구</th>\n",
              "      <th>동별시니어수</th>\n",
              "      <th>행정동별시니어비율</th>\n",
              "      <th>유동인구</th>\n",
              "      <th>디지털정보지수</th>\n",
              "      <th>주변특성</th>\n",
              "      <th>대중교통</th>\n",
              "      <th>kmeans</th>\n",
              "      <th>spca_component_1</th>\n",
              "      <th>spca_component_2</th>\n",
              "      <th>spca_component_3</th>\n",
              "    </tr>\n",
              "  </thead>\n",
              "  <tbody>\n",
              "    <tr>\n",
              "      <th>2</th>\n",
              "      <td>강동구</td>\n",
              "      <td>암사1동</td>\n",
              "      <td>암사1동 주민센터</td>\n",
              "      <td>서울특별시 강동구 올림픽로98가길 57</td>\n",
              "      <td>37.55</td>\n",
              "      <td>127.13</td>\n",
              "      <td>1949919.44</td>\n",
              "      <td>967655.77</td>\n",
              "      <td>34486.00</td>\n",
              "      <td>9021.00</td>\n",
              "      <td>0.26</td>\n",
              "      <td>514245.86</td>\n",
              "      <td>9359.65</td>\n",
              "      <td>3.00</td>\n",
              "      <td>0.00</td>\n",
              "      <td>0</td>\n",
              "      <td>2.99</td>\n",
              "      <td>0.88</td>\n",
              "      <td>-0.85</td>\n",
              "    </tr>\n",
              "  </tbody>\n",
              "</table>\n",
              "</div>\n",
              "      <button class=\"colab-df-convert\" onclick=\"convertToInteractive('df-782f8b59-9d2e-43af-8cab-f5d210a07cf3')\"\n",
              "              title=\"Convert this dataframe to an interactive table.\"\n",
              "              style=\"display:none;\">\n",
              "        \n",
              "  <svg xmlns=\"http://www.w3.org/2000/svg\" height=\"24px\"viewBox=\"0 0 24 24\"\n",
              "       width=\"24px\">\n",
              "    <path d=\"M0 0h24v24H0V0z\" fill=\"none\"/>\n",
              "    <path d=\"M18.56 5.44l.94 2.06.94-2.06 2.06-.94-2.06-.94-.94-2.06-.94 2.06-2.06.94zm-11 1L8.5 8.5l.94-2.06 2.06-.94-2.06-.94L8.5 2.5l-.94 2.06-2.06.94zm10 10l.94 2.06.94-2.06 2.06-.94-2.06-.94-.94-2.06-.94 2.06-2.06.94z\"/><path d=\"M17.41 7.96l-1.37-1.37c-.4-.4-.92-.59-1.43-.59-.52 0-1.04.2-1.43.59L10.3 9.45l-7.72 7.72c-.78.78-.78 2.05 0 2.83L4 21.41c.39.39.9.59 1.41.59.51 0 1.02-.2 1.41-.59l7.78-7.78 2.81-2.81c.8-.78.8-2.07 0-2.86zM5.41 20L4 18.59l7.72-7.72 1.47 1.35L5.41 20z\"/>\n",
              "  </svg>\n",
              "      </button>\n",
              "      \n",
              "  <style>\n",
              "    .colab-df-container {\n",
              "      display:flex;\n",
              "      flex-wrap:wrap;\n",
              "      gap: 12px;\n",
              "    }\n",
              "\n",
              "    .colab-df-convert {\n",
              "      background-color: #E8F0FE;\n",
              "      border: none;\n",
              "      border-radius: 50%;\n",
              "      cursor: pointer;\n",
              "      display: none;\n",
              "      fill: #1967D2;\n",
              "      height: 32px;\n",
              "      padding: 0 0 0 0;\n",
              "      width: 32px;\n",
              "    }\n",
              "\n",
              "    .colab-df-convert:hover {\n",
              "      background-color: #E2EBFA;\n",
              "      box-shadow: 0px 1px 2px rgba(60, 64, 67, 0.3), 0px 1px 3px 1px rgba(60, 64, 67, 0.15);\n",
              "      fill: #174EA6;\n",
              "    }\n",
              "\n",
              "    [theme=dark] .colab-df-convert {\n",
              "      background-color: #3B4455;\n",
              "      fill: #D2E3FC;\n",
              "    }\n",
              "\n",
              "    [theme=dark] .colab-df-convert:hover {\n",
              "      background-color: #434B5C;\n",
              "      box-shadow: 0px 1px 3px 1px rgba(0, 0, 0, 0.15);\n",
              "      filter: drop-shadow(0px 1px 2px rgba(0, 0, 0, 0.3));\n",
              "      fill: #FFFFFF;\n",
              "    }\n",
              "  </style>\n",
              "\n",
              "      <script>\n",
              "        const buttonEl =\n",
              "          document.querySelector('#df-782f8b59-9d2e-43af-8cab-f5d210a07cf3 button.colab-df-convert');\n",
              "        buttonEl.style.display =\n",
              "          google.colab.kernel.accessAllowed ? 'block' : 'none';\n",
              "\n",
              "        async function convertToInteractive(key) {\n",
              "          const element = document.querySelector('#df-782f8b59-9d2e-43af-8cab-f5d210a07cf3');\n",
              "          const dataTable =\n",
              "            await google.colab.kernel.invokeFunction('convertToInteractive',\n",
              "                                                     [key], {});\n",
              "          if (!dataTable) return;\n",
              "\n",
              "          const docLinkHtml = 'Like what you see? Visit the ' +\n",
              "            '<a target=\"_blank\" href=https://colab.research.google.com/notebooks/data_table.ipynb>data table notebook</a>'\n",
              "            + ' to learn more about interactive tables.';\n",
              "          element.innerHTML = '';\n",
              "          dataTable['output_type'] = 'display_data';\n",
              "          await google.colab.output.renderOutput(dataTable, element);\n",
              "          const docLink = document.createElement('div');\n",
              "          docLink.innerHTML = docLinkHtml;\n",
              "          element.appendChild(docLink);\n",
              "        }\n",
              "      </script>\n",
              "    </div>\n",
              "  </div>\n",
              "  "
            ]
          },
          "metadata": {},
          "execution_count": 96
        }
      ]
    },
    {
      "cell_type": "markdown",
      "source": [
        "### 암사1동 주민센터 대중교통 0 이라 기각"
      ],
      "metadata": {
        "id": "XeS41dO1Qrlb"
      }
    },
    {
      "cell_type": "code",
      "source": [
        "rivereast.iloc[4:5]"
      ],
      "metadata": {
        "colab": {
          "base_uri": "https://localhost:8080/",
          "height": 492
        },
        "id": "kA5ei27PQxgU",
        "outputId": "b1ba4ab1-8704-4fd9-cf40-ad3813a5404f"
      },
      "execution_count": null,
      "outputs": [
        {
          "output_type": "execute_result",
          "data": {
            "text/plain": [
              "   자치구     동        시설명                  주소    위도     경도     위도UTMK    경도UTMK  \\\n",
              "4  강동구  천호2동  천호2동 주민센터  서울특별시 강동구 올림픽로 698 37.54 127.12 1948866.39 967003.02   \n",
              "\n",
              "    동별전체인구  동별시니어수  행정동별시니어비율      유동인구  디지털정보지수  주변특성  대중교통  kmeans  \\\n",
              "4 33154.00 8694.00       0.26 495605.09  8661.42  3.00  1.00       0   \n",
              "\n",
              "   spca_component_1  spca_component_2  spca_component_3  \n",
              "4              2.62              1.01             -0.24  "
            ],
            "text/html": [
              "\n",
              "  <div id=\"df-a7094452-db11-4d7b-8da9-99193aba5211\">\n",
              "    <div class=\"colab-df-container\">\n",
              "      <div>\n",
              "<style scoped>\n",
              "    .dataframe tbody tr th:only-of-type {\n",
              "        vertical-align: middle;\n",
              "    }\n",
              "\n",
              "    .dataframe tbody tr th {\n",
              "        vertical-align: top;\n",
              "    }\n",
              "\n",
              "    .dataframe thead th {\n",
              "        text-align: right;\n",
              "    }\n",
              "</style>\n",
              "<table border=\"1\" class=\"dataframe\">\n",
              "  <thead>\n",
              "    <tr style=\"text-align: right;\">\n",
              "      <th></th>\n",
              "      <th>자치구</th>\n",
              "      <th>동</th>\n",
              "      <th>시설명</th>\n",
              "      <th>주소</th>\n",
              "      <th>위도</th>\n",
              "      <th>경도</th>\n",
              "      <th>위도UTMK</th>\n",
              "      <th>경도UTMK</th>\n",
              "      <th>동별전체인구</th>\n",
              "      <th>동별시니어수</th>\n",
              "      <th>행정동별시니어비율</th>\n",
              "      <th>유동인구</th>\n",
              "      <th>디지털정보지수</th>\n",
              "      <th>주변특성</th>\n",
              "      <th>대중교통</th>\n",
              "      <th>kmeans</th>\n",
              "      <th>spca_component_1</th>\n",
              "      <th>spca_component_2</th>\n",
              "      <th>spca_component_3</th>\n",
              "    </tr>\n",
              "  </thead>\n",
              "  <tbody>\n",
              "    <tr>\n",
              "      <th>4</th>\n",
              "      <td>강동구</td>\n",
              "      <td>천호2동</td>\n",
              "      <td>천호2동 주민센터</td>\n",
              "      <td>서울특별시 강동구 올림픽로 698</td>\n",
              "      <td>37.54</td>\n",
              "      <td>127.12</td>\n",
              "      <td>1948866.39</td>\n",
              "      <td>967003.02</td>\n",
              "      <td>33154.00</td>\n",
              "      <td>8694.00</td>\n",
              "      <td>0.26</td>\n",
              "      <td>495605.09</td>\n",
              "      <td>8661.42</td>\n",
              "      <td>3.00</td>\n",
              "      <td>1.00</td>\n",
              "      <td>0</td>\n",
              "      <td>2.62</td>\n",
              "      <td>1.01</td>\n",
              "      <td>-0.24</td>\n",
              "    </tr>\n",
              "  </tbody>\n",
              "</table>\n",
              "</div>\n",
              "      <button class=\"colab-df-convert\" onclick=\"convertToInteractive('df-a7094452-db11-4d7b-8da9-99193aba5211')\"\n",
              "              title=\"Convert this dataframe to an interactive table.\"\n",
              "              style=\"display:none;\">\n",
              "        \n",
              "  <svg xmlns=\"http://www.w3.org/2000/svg\" height=\"24px\"viewBox=\"0 0 24 24\"\n",
              "       width=\"24px\">\n",
              "    <path d=\"M0 0h24v24H0V0z\" fill=\"none\"/>\n",
              "    <path d=\"M18.56 5.44l.94 2.06.94-2.06 2.06-.94-2.06-.94-.94-2.06-.94 2.06-2.06.94zm-11 1L8.5 8.5l.94-2.06 2.06-.94-2.06-.94L8.5 2.5l-.94 2.06-2.06.94zm10 10l.94 2.06.94-2.06 2.06-.94-2.06-.94-.94-2.06-.94 2.06-2.06.94z\"/><path d=\"M17.41 7.96l-1.37-1.37c-.4-.4-.92-.59-1.43-.59-.52 0-1.04.2-1.43.59L10.3 9.45l-7.72 7.72c-.78.78-.78 2.05 0 2.83L4 21.41c.39.39.9.59 1.41.59.51 0 1.02-.2 1.41-.59l7.78-7.78 2.81-2.81c.8-.78.8-2.07 0-2.86zM5.41 20L4 18.59l7.72-7.72 1.47 1.35L5.41 20z\"/>\n",
              "  </svg>\n",
              "      </button>\n",
              "      \n",
              "  <style>\n",
              "    .colab-df-container {\n",
              "      display:flex;\n",
              "      flex-wrap:wrap;\n",
              "      gap: 12px;\n",
              "    }\n",
              "\n",
              "    .colab-df-convert {\n",
              "      background-color: #E8F0FE;\n",
              "      border: none;\n",
              "      border-radius: 50%;\n",
              "      cursor: pointer;\n",
              "      display: none;\n",
              "      fill: #1967D2;\n",
              "      height: 32px;\n",
              "      padding: 0 0 0 0;\n",
              "      width: 32px;\n",
              "    }\n",
              "\n",
              "    .colab-df-convert:hover {\n",
              "      background-color: #E2EBFA;\n",
              "      box-shadow: 0px 1px 2px rgba(60, 64, 67, 0.3), 0px 1px 3px 1px rgba(60, 64, 67, 0.15);\n",
              "      fill: #174EA6;\n",
              "    }\n",
              "\n",
              "    [theme=dark] .colab-df-convert {\n",
              "      background-color: #3B4455;\n",
              "      fill: #D2E3FC;\n",
              "    }\n",
              "\n",
              "    [theme=dark] .colab-df-convert:hover {\n",
              "      background-color: #434B5C;\n",
              "      box-shadow: 0px 1px 3px 1px rgba(0, 0, 0, 0.15);\n",
              "      filter: drop-shadow(0px 1px 2px rgba(0, 0, 0, 0.3));\n",
              "      fill: #FFFFFF;\n",
              "    }\n",
              "  </style>\n",
              "\n",
              "      <script>\n",
              "        const buttonEl =\n",
              "          document.querySelector('#df-a7094452-db11-4d7b-8da9-99193aba5211 button.colab-df-convert');\n",
              "        buttonEl.style.display =\n",
              "          google.colab.kernel.accessAllowed ? 'block' : 'none';\n",
              "\n",
              "        async function convertToInteractive(key) {\n",
              "          const element = document.querySelector('#df-a7094452-db11-4d7b-8da9-99193aba5211');\n",
              "          const dataTable =\n",
              "            await google.colab.kernel.invokeFunction('convertToInteractive',\n",
              "                                                     [key], {});\n",
              "          if (!dataTable) return;\n",
              "\n",
              "          const docLinkHtml = 'Like what you see? Visit the ' +\n",
              "            '<a target=\"_blank\" href=https://colab.research.google.com/notebooks/data_table.ipynb>data table notebook</a>'\n",
              "            + ' to learn more about interactive tables.';\n",
              "          element.innerHTML = '';\n",
              "          dataTable['output_type'] = 'display_data';\n",
              "          await google.colab.output.renderOutput(dataTable, element);\n",
              "          const docLink = document.createElement('div');\n",
              "          docLink.innerHTML = docLinkHtml;\n",
              "          element.appendChild(docLink);\n",
              "        }\n",
              "      </script>\n",
              "    </div>\n",
              "  </div>\n",
              "  "
            ]
          },
          "metadata": {},
          "execution_count": 97
        }
      ]
    },
    {
      "cell_type": "code",
      "source": [
        "# 강동구 유동인구\n",
        "rivereast['유동인구'].mean()"
      ],
      "metadata": {
        "colab": {
          "base_uri": "https://localhost:8080/"
        },
        "id": "dSNyTk33a9Lo",
        "outputId": "9c932681-09cc-4d67-a57a-9b7ea401e419"
      },
      "execution_count": null,
      "outputs": [
        {
          "output_type": "execute_result",
          "data": {
            "text/plain": [
              "500992.8928876426"
            ]
          },
          "metadata": {},
          "execution_count": 113
        }
      ]
    },
    {
      "cell_type": "markdown",
      "source": [
        "## 천호2동 주민센터 연면적은 2707 - 평균은 1971 이라서 무난하여 채택."
      ],
      "metadata": {
        "id": "TWvr1Q_edcm7"
      }
    },
    {
      "cell_type": "markdown",
      "source": [
        "# 강동구는 천호2동 주민센터"
      ],
      "metadata": {
        "id": "8U6eXwWXTzlV"
      }
    },
    {
      "cell_type": "markdown",
      "source": [
        "# 결론 "
      ],
      "metadata": {
        "id": "zj7j9si7RmQ5"
      }
    },
    {
      "cell_type": "markdown",
      "source": [
        "강서구는 우장산동 주민센터, 노원구는 중계 2,3동 주민센터, 은평구는 역촌동 주민센터, 동대문구는 동대문노인종합복지관, 강동구는 천호2동 주민센터"
      ],
      "metadata": {
        "id": "141IrODelFp0"
      }
    }
  ]
}
