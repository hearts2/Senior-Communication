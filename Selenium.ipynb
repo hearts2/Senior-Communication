{
  "nbformat": 4,
  "nbformat_minor": 0,
  "metadata": {
    "colab": {
      "provenance": [],
      "include_colab_link": true
    },
    "kernelspec": {
      "name": "python3",
      "display_name": "Python 3"
    },
    "language_info": {
      "name": "python"
    }
  },
  "cells": [
    {
      "cell_type": "markdown",
      "metadata": {
        "id": "view-in-github",
        "colab_type": "text"
      },
      "source": [
        "<a href=\"https://colab.research.google.com/github/hearts2/Senior-Communication/blob/main/Selenium.ipynb\" target=\"_parent\"><img src=\"https://colab.research.google.com/assets/colab-badge.svg\" alt=\"Open In Colab\"/></a>"
      ]
    },
    {
      "cell_type": "markdown",
      "source": [
        "## 아래꺼 설치하고나서 기다리기 "
      ],
      "metadata": {
        "id": "p23Sfk4v20Is"
      }
    },
    {
      "cell_type": "code",
      "source": [
        "# 설치는 한번만 하면 된다고 함.\n",
        "!pip install selenium              # 동적 웹페이지를 크롤링하기 위한 라이브러리\n",
        "!pip install urllib\n",
        "!pip install pandas\n",
        "!pip install beautifulsoup4        # 정적 웹페이지를 크롤링을 할 수 있는 라이브러리\n",
        "!apt install chromium-chromedriver # 크롬드라이버"
      ],
      "metadata": {
        "id": "Nc6wkh3m5gRf"
      },
      "execution_count": null,
      "outputs": []
    },
    {
      "cell_type": "code",
      "source": [
        "import time\n",
        "from selenium import webdriver\n",
        "from bs4 import BeautifulSoup\n",
        "import pandas as pd\n",
        "from selenium.webdriver.common.keys import Keys\n",
        "from selenium.webdriver.common.by import By"
      ],
      "metadata": {
        "id": "Gp5pd-lN52PH"
      },
      "execution_count": null,
      "outputs": []
    },
    {
      "cell_type": "code",
      "source": [
        "chrome_options = webdriver.ChromeOptions()\n",
        "chrome_options.add_argument('--headless') #내부 창을 띄울 수 없으므로 설정\n",
        "chrome_options.add_argument('--no-sandbox') # sandbox 기능을 비활성화 하기\n",
        "chrome_options.add_argument('--disable-dev-shm-usage') # dev/shm/ 폴더를 사용하지 않기\n",
        "driver = webdriver.Chrome('chromedriver',options=chrome_options) # ,options=chrome_options"
      ],
      "metadata": {
        "id": "w-j7BEtR5_UW"
      },
      "execution_count": null,
      "outputs": []
    },
    {
      "cell_type": "code",
      "source": [
        "# driver.current_url  = 현재 url을 가르쳐 준다.\n",
        "# driver.page_source = 현재 페이지 소스를 보여준다."
      ],
      "metadata": {
        "id": "M_dn-EHfGisX"
      },
      "execution_count": null,
      "outputs": []
    },
    {
      "cell_type": "code",
      "source": [
        "# 1페이지 클릭\n",
        "# driver.find_element(By.XPATH, '//*[@id=\"pageDiv\"]/ul/li[3]/a').click()"
      ],
      "metadata": {
        "id": "di2yY6n0jwOp"
      },
      "execution_count": null,
      "outputs": []
    },
    {
      "cell_type": "code",
      "source": [
        "#사용할 URL\n",
        "driver.get(\"https://www.myhome.go.kr/hws/portal/cmt/selectCmtSrvCntrListView.do\")\n",
        "html = driver.page_source\n",
        "bsObject = BeautifulSoup(html, 'html.parser')"
      ],
      "metadata": {
        "id": "-D9r_lU06Hen"
      },
      "execution_count": null,
      "outputs": []
    },
    {
      "cell_type": "code",
      "execution_count": null,
      "metadata": {
        "id": "zkk3YJJh4e3z",
        "colab": {
          "base_uri": "https://localhost:8080/"
        },
        "outputId": "36311e0a-d6b6-4afe-a913-9553f7054319"
      },
      "outputs": [
        {
          "output_type": "execute_result",
          "data": {
            "text/plain": [
              "<table cellspacing=\"0\" class=\"bbs_type1\" summary=\"전국민주민센터검색\">\n",
              "<caption>전국민주민센터검색</caption>\n",
              "<colgroup>\n",
              "<col width=\"10%\"/>\n",
              "<col width=\"35%\"/>\n",
              "<col width=\"20%\"/>\n",
              "<col width=\"\"/>\n",
              "</colgroup>\n",
              "<thead>\n",
              "<tr>\n",
              "<th>번호</th>\n",
              "<th>주민센터명</th>\n",
              "<th class=\"al\">대표전화번호</th>\n",
              "<th>주소</th>\n",
              "</tr>\n",
              "</thead>\n",
              "<tbody id=\"schTbody\"><tr><td>1</td><td>청운효자동 주민센터</td><td class=\"al\">02-2148-5002</td><td class=\"al\"><a href=\"javascript:fnRentalHouseInfoMap('jumin','11','110','10300','청운효자동 주민센터');\">서울특별시 종로구 자하문로 92</a></td></tr><tr><td>2</td><td>사직동 주민센터</td><td class=\"al\">02-2148-5033</td><td class=\"al\"><a href=\"javascript:fnRentalHouseInfoMap('jumin','11','110','11500','사직동 주민센터');\">서울특별시 종로구 사직로9길 1</a></td></tr><tr><td>3</td><td>종로1-4가동 주민센터</td><td class=\"al\">02-2148-5243</td><td class=\"al\"><a href=\"javascript:fnRentalHouseInfoMap('jumin','11','110','13800','종로1-4가동 주민센터');\">서울특별시 종로구 종로17길 8</a></td></tr><tr><td>4</td><td>삼청동 주민센터</td><td class=\"al\">02-2148-5062</td><td class=\"al\"><a href=\"javascript:fnRentalHouseInfoMap('jumin','11','110','14000','삼청동 주민센터');\">서울특별시 종로구 삼청로 107</a></td></tr><tr><td>5</td><td>가회동 주민센터</td><td class=\"al\">02-2148-5213</td><td class=\"al\"><a href=\"javascript:fnRentalHouseInfoMap('jumin','11','110','14600','가회동 주민센터');\">서울특별시 종로구 북촌로 35</a></td></tr><tr><td>6</td><td>종로5-6가동 주민센터</td><td class=\"al\">02-2148-5273</td><td class=\"al\"><a href=\"javascript:fnRentalHouseInfoMap('jumin','11','110','16200','종로5-6가동 주민센터');\">서울특별시 종로구 종로35가길 19</a></td></tr><tr><td>7</td><td>이화동 주민센터</td><td class=\"al\">02-2148-5304</td><td class=\"al\"><a href=\"javascript:fnRentalHouseInfoMap('jumin','11','110','16500','이화동 주민센터');\">서울특별시 종로구 이화장길 33</a></td></tr><tr><td>8</td><td>혜화동 주민센터</td><td class=\"al\">02-2148-5334</td><td class=\"al\"><a href=\"javascript:fnRentalHouseInfoMap('jumin','11','110','16900','혜화동 주민센터');\">서울특별시 종로구 혜화로 12</a></td></tr><tr><td>9</td><td>창신1동 주민센터</td><td class=\"al\">02-2148-5392</td><td class=\"al\"><a href=\"javascript:fnRentalHouseInfoMap('jumin','11','110','17400','창신1동 주민센터');\">서울특별시 종로구 지봉로 8-6</a></td></tr><tr><td>10</td><td>창신2동 주민센터</td><td class=\"al\">02-2148-5423</td><td class=\"al\"><a href=\"javascript:fnRentalHouseInfoMap('jumin','11','110','17400','창신2동 주민센터');\">서울특별시 종로구 창신길 62</a></td></tr></tbody>\n",
              "</table>"
            ]
          },
          "metadata": {},
          "execution_count": 28
        }
      ],
      "source": [
        "# 해당 페이지 전체 소스코드\n",
        "temp = bsObject.find_all(\"table\")[0]\n",
        "temp"
      ]
    },
    {
      "cell_type": "code",
      "source": [
        "column = [\"번호\", \"주민센터명\", \"대표전화번호\", \"주소\"]\n",
        "df = pd.DataFrame(columns = column)\n",
        "templen = len(temp.find_all(\"tr\"))\n",
        "templen\n",
        "print(df, templen)"
      ],
      "metadata": {
        "id": "N_9SgBbN4izv",
        "colab": {
          "base_uri": "https://localhost:8080/"
        },
        "outputId": "d4ca4678-6e67-4874-fea7-098cd777c7ca"
      },
      "execution_count": null,
      "outputs": [
        {
          "output_type": "stream",
          "name": "stdout",
          "text": [
            "Empty DataFrame\n",
            "Columns: [번호, 주민센터명, 대표전화번호, 주소]\n",
            "Index: [] 11\n"
          ]
        }
      ]
    },
    {
      "cell_type": "code",
      "source": [
        "number = ['//*[@id=\"pageDiv\"]/ul/li[3]/a', '//*[@id=\"pageDiv\"]/ul/li[4]/a','//*[@id=\"pageDiv\"]/ul/li[5]/a','//*[@id=\"pageDiv\"]/ul/li[6]/a','//*[@id=\"pageDiv\"]/ul/li[7]/a','//*[@id=\"pageDiv\"]/ul/li[8]/a','//*[@id=\"pageDiv\"]/ul/li[9]/a','//*[@id=\"pageDiv\"]/ul/li[10]/a','//*[@id=\"pageDiv\"]/ul/li[11]/a','//*[@id=\"pageDiv\"]/ul/li[12]/a']\n",
        "len(number)"
      ],
      "metadata": {
        "colab": {
          "base_uri": "https://localhost:8080/"
        },
        "id": "39ZLhO-B3XnM",
        "outputId": "86b6fcd3-c896-4e7e-bd6f-26610e625913"
      },
      "execution_count": null,
      "outputs": [
        {
          "output_type": "execute_result",
          "data": {
            "text/plain": [
              "10"
            ]
          },
          "metadata": {},
          "execution_count": 30
        }
      ]
    },
    {
      "cell_type": "code",
      "source": [
        "# 위에꺼까지 전부 하면?\n",
        "df4 = pd.DataFrame(columns = column)                    # 빈 데이터프레임\n",
        "\n",
        "for Z in range(5):\n",
        "    for k in range(10):                                 # 각 행의 10개를 합침.\n",
        "        page = driver.find_element(By.XPATH, number[k]) # 페이지 번호위에 마우스를 올려놓음.\n",
        "        page.send_keys(Keys.ENTER)                      # 페이지 번호 클릭\n",
        "        time.sleep(1)                                   # 1초간 기다림.\n",
        "        html = driver.page_source                       # html 가져옴.\n",
        "        bsObject = BeautifulSoup(html, 'html.parser')   # 해당 페이지 긁어옴.\n",
        "        temp = bsObject.find_all(\"table\")[0]            # 페이지 중 테이블 가져옴.\n",
        "        column = [\"번호\", \"주민센터명\", \"대표전화번호\", \"주소\"]\n",
        "\n",
        "        df3 = pd.DataFrame(columns = column)            # for 문 돌릴때마다 데이터프레임 초기화\n",
        "        for i in range(1, 11):\n",
        "            tempTr = temp.find_all(\"tr\")[i]             # 소스코드 중 tr을 확인.\n",
        "            row = {}\n",
        "            column_idx = 0\n",
        "            for j in range(0, 4):                       # 번호, 주민센터명, 대표전화번호, 주소 이 4개에 대해서 각각 합침.\n",
        "                tempTd = tempTr.find_all(\"td\")[j].text  \n",
        "                row[column[column_idx]] = tempTd\n",
        "                column_idx += 1\n",
        "            df3 = df3.append(row,ignore_index=True)\n",
        "        df4 = df4.append(df3)\n",
        "\n",
        "# 다음 페이지(101번호)로 넘기기\n",
        "    pagedown = driver.find_element(By.XPATH, '//*[@id=\"page_last_a\"]') \n",
        "    pagedown.send_keys(Keys.ENTER)\n",
        "    time.sleep(1)\n",
        "df4"
      ],
      "metadata": {
        "colab": {
          "base_uri": "https://localhost:8080/",
          "height": 424
        },
        "id": "feCJyafS0KHt",
        "outputId": "c0e3c92f-9a60-4552-a681-213069faf13d"
      },
      "execution_count": null,
      "outputs": [
        {
          "output_type": "execute_result",
          "data": {
            "text/plain": [
              "     번호         주민센터명        대표전화번호                      주소\n",
              "0     1    청운효자동 주민센터  02-2148-5002       서울특별시 종로구 자하문로 92\n",
              "1     2      사직동 주민센터  02-2148-5033       서울특별시 종로구 사직로9길 1\n",
              "2     3  종로1-4가동 주민센터  02-2148-5243       서울특별시 종로구 종로17길 8\n",
              "3     4      삼청동 주민센터  02-2148-5062       서울특별시 종로구 삼청로 107\n",
              "4     5      가회동 주민센터  02-2148-5213        서울특별시 종로구 북촌로 35\n",
              "..  ...           ...           ...                     ...\n",
              "5   496      수민동 주민센터  051-550-6301  부산광역시 동래구 온천천로339번길 48\n",
              "6   497      복산동 주민센터  051-550-6321         부산광역시 동래구 복천로 1\n",
              "7   498      명륜동 주민센터  051-550-6361   부산광역시 동래구 명륜로207번길 26\n",
              "8   499     온천1동 주민센터  051-550-6381       부산광역시 동래구 금강로 127\n",
              "9   500     온천2동 주민센터  051-550-6401  부산광역시 동래구 충렬대로107번길 28\n",
              "\n",
              "[500 rows x 4 columns]"
            ],
            "text/html": [
              "\n",
              "  <div id=\"df-bf39f9fc-5a68-44d3-9de7-9a7fb37f4a4b\">\n",
              "    <div class=\"colab-df-container\">\n",
              "      <div>\n",
              "<style scoped>\n",
              "    .dataframe tbody tr th:only-of-type {\n",
              "        vertical-align: middle;\n",
              "    }\n",
              "\n",
              "    .dataframe tbody tr th {\n",
              "        vertical-align: top;\n",
              "    }\n",
              "\n",
              "    .dataframe thead th {\n",
              "        text-align: right;\n",
              "    }\n",
              "</style>\n",
              "<table border=\"1\" class=\"dataframe\">\n",
              "  <thead>\n",
              "    <tr style=\"text-align: right;\">\n",
              "      <th></th>\n",
              "      <th>번호</th>\n",
              "      <th>주민센터명</th>\n",
              "      <th>대표전화번호</th>\n",
              "      <th>주소</th>\n",
              "    </tr>\n",
              "  </thead>\n",
              "  <tbody>\n",
              "    <tr>\n",
              "      <th>0</th>\n",
              "      <td>1</td>\n",
              "      <td>청운효자동 주민센터</td>\n",
              "      <td>02-2148-5002</td>\n",
              "      <td>서울특별시 종로구 자하문로 92</td>\n",
              "    </tr>\n",
              "    <tr>\n",
              "      <th>1</th>\n",
              "      <td>2</td>\n",
              "      <td>사직동 주민센터</td>\n",
              "      <td>02-2148-5033</td>\n",
              "      <td>서울특별시 종로구 사직로9길 1</td>\n",
              "    </tr>\n",
              "    <tr>\n",
              "      <th>2</th>\n",
              "      <td>3</td>\n",
              "      <td>종로1-4가동 주민센터</td>\n",
              "      <td>02-2148-5243</td>\n",
              "      <td>서울특별시 종로구 종로17길 8</td>\n",
              "    </tr>\n",
              "    <tr>\n",
              "      <th>3</th>\n",
              "      <td>4</td>\n",
              "      <td>삼청동 주민센터</td>\n",
              "      <td>02-2148-5062</td>\n",
              "      <td>서울특별시 종로구 삼청로 107</td>\n",
              "    </tr>\n",
              "    <tr>\n",
              "      <th>4</th>\n",
              "      <td>5</td>\n",
              "      <td>가회동 주민센터</td>\n",
              "      <td>02-2148-5213</td>\n",
              "      <td>서울특별시 종로구 북촌로 35</td>\n",
              "    </tr>\n",
              "    <tr>\n",
              "      <th>...</th>\n",
              "      <td>...</td>\n",
              "      <td>...</td>\n",
              "      <td>...</td>\n",
              "      <td>...</td>\n",
              "    </tr>\n",
              "    <tr>\n",
              "      <th>5</th>\n",
              "      <td>496</td>\n",
              "      <td>수민동 주민센터</td>\n",
              "      <td>051-550-6301</td>\n",
              "      <td>부산광역시 동래구 온천천로339번길 48</td>\n",
              "    </tr>\n",
              "    <tr>\n",
              "      <th>6</th>\n",
              "      <td>497</td>\n",
              "      <td>복산동 주민센터</td>\n",
              "      <td>051-550-6321</td>\n",
              "      <td>부산광역시 동래구 복천로 1</td>\n",
              "    </tr>\n",
              "    <tr>\n",
              "      <th>7</th>\n",
              "      <td>498</td>\n",
              "      <td>명륜동 주민센터</td>\n",
              "      <td>051-550-6361</td>\n",
              "      <td>부산광역시 동래구 명륜로207번길 26</td>\n",
              "    </tr>\n",
              "    <tr>\n",
              "      <th>8</th>\n",
              "      <td>499</td>\n",
              "      <td>온천1동 주민센터</td>\n",
              "      <td>051-550-6381</td>\n",
              "      <td>부산광역시 동래구 금강로 127</td>\n",
              "    </tr>\n",
              "    <tr>\n",
              "      <th>9</th>\n",
              "      <td>500</td>\n",
              "      <td>온천2동 주민센터</td>\n",
              "      <td>051-550-6401</td>\n",
              "      <td>부산광역시 동래구 충렬대로107번길 28</td>\n",
              "    </tr>\n",
              "  </tbody>\n",
              "</table>\n",
              "<p>500 rows × 4 columns</p>\n",
              "</div>\n",
              "      <button class=\"colab-df-convert\" onclick=\"convertToInteractive('df-bf39f9fc-5a68-44d3-9de7-9a7fb37f4a4b')\"\n",
              "              title=\"Convert this dataframe to an interactive table.\"\n",
              "              style=\"display:none;\">\n",
              "        \n",
              "  <svg xmlns=\"http://www.w3.org/2000/svg\" height=\"24px\"viewBox=\"0 0 24 24\"\n",
              "       width=\"24px\">\n",
              "    <path d=\"M0 0h24v24H0V0z\" fill=\"none\"/>\n",
              "    <path d=\"M18.56 5.44l.94 2.06.94-2.06 2.06-.94-2.06-.94-.94-2.06-.94 2.06-2.06.94zm-11 1L8.5 8.5l.94-2.06 2.06-.94-2.06-.94L8.5 2.5l-.94 2.06-2.06.94zm10 10l.94 2.06.94-2.06 2.06-.94-2.06-.94-.94-2.06-.94 2.06-2.06.94z\"/><path d=\"M17.41 7.96l-1.37-1.37c-.4-.4-.92-.59-1.43-.59-.52 0-1.04.2-1.43.59L10.3 9.45l-7.72 7.72c-.78.78-.78 2.05 0 2.83L4 21.41c.39.39.9.59 1.41.59.51 0 1.02-.2 1.41-.59l7.78-7.78 2.81-2.81c.8-.78.8-2.07 0-2.86zM5.41 20L4 18.59l7.72-7.72 1.47 1.35L5.41 20z\"/>\n",
              "  </svg>\n",
              "      </button>\n",
              "      \n",
              "  <style>\n",
              "    .colab-df-container {\n",
              "      display:flex;\n",
              "      flex-wrap:wrap;\n",
              "      gap: 12px;\n",
              "    }\n",
              "\n",
              "    .colab-df-convert {\n",
              "      background-color: #E8F0FE;\n",
              "      border: none;\n",
              "      border-radius: 50%;\n",
              "      cursor: pointer;\n",
              "      display: none;\n",
              "      fill: #1967D2;\n",
              "      height: 32px;\n",
              "      padding: 0 0 0 0;\n",
              "      width: 32px;\n",
              "    }\n",
              "\n",
              "    .colab-df-convert:hover {\n",
              "      background-color: #E2EBFA;\n",
              "      box-shadow: 0px 1px 2px rgba(60, 64, 67, 0.3), 0px 1px 3px 1px rgba(60, 64, 67, 0.15);\n",
              "      fill: #174EA6;\n",
              "    }\n",
              "\n",
              "    [theme=dark] .colab-df-convert {\n",
              "      background-color: #3B4455;\n",
              "      fill: #D2E3FC;\n",
              "    }\n",
              "\n",
              "    [theme=dark] .colab-df-convert:hover {\n",
              "      background-color: #434B5C;\n",
              "      box-shadow: 0px 1px 3px 1px rgba(0, 0, 0, 0.15);\n",
              "      filter: drop-shadow(0px 1px 2px rgba(0, 0, 0, 0.3));\n",
              "      fill: #FFFFFF;\n",
              "    }\n",
              "  </style>\n",
              "\n",
              "      <script>\n",
              "        const buttonEl =\n",
              "          document.querySelector('#df-bf39f9fc-5a68-44d3-9de7-9a7fb37f4a4b button.colab-df-convert');\n",
              "        buttonEl.style.display =\n",
              "          google.colab.kernel.accessAllowed ? 'block' : 'none';\n",
              "\n",
              "        async function convertToInteractive(key) {\n",
              "          const element = document.querySelector('#df-bf39f9fc-5a68-44d3-9de7-9a7fb37f4a4b');\n",
              "          const dataTable =\n",
              "            await google.colab.kernel.invokeFunction('convertToInteractive',\n",
              "                                                     [key], {});\n",
              "          if (!dataTable) return;\n",
              "\n",
              "          const docLinkHtml = 'Like what you see? Visit the ' +\n",
              "            '<a target=\"_blank\" href=https://colab.research.google.com/notebooks/data_table.ipynb>data table notebook</a>'\n",
              "            + ' to learn more about interactive tables.';\n",
              "          element.innerHTML = '';\n",
              "          dataTable['output_type'] = 'display_data';\n",
              "          await google.colab.output.renderOutput(dataTable, element);\n",
              "          const docLink = document.createElement('div');\n",
              "          docLink.innerHTML = docLinkHtml;\n",
              "          element.appendChild(docLink);\n",
              "        }\n",
              "      </script>\n",
              "    </div>\n",
              "  </div>\n",
              "  "
            ]
          },
          "metadata": {},
          "execution_count": 31
        }
      ]
    },
    {
      "cell_type": "code",
      "source": [
        "df4 = df4.reset_index()\n",
        "df4.head(1)"
      ],
      "metadata": {
        "colab": {
          "base_uri": "https://localhost:8080/",
          "height": 81
        },
        "id": "b4F3mIq8DHph",
        "outputId": "52c3dd57-1b61-4381-985a-47e9905c357f"
      },
      "execution_count": null,
      "outputs": [
        {
          "output_type": "execute_result",
          "data": {
            "text/plain": [
              "   index 번호       주민센터명        대표전화번호                 주소\n",
              "0      0  1  청운효자동 주민센터  02-2148-5002  서울특별시 종로구 자하문로 92"
            ],
            "text/html": [
              "\n",
              "  <div id=\"df-e2ac37a0-0fbc-446f-b526-7421d7ba6562\">\n",
              "    <div class=\"colab-df-container\">\n",
              "      <div>\n",
              "<style scoped>\n",
              "    .dataframe tbody tr th:only-of-type {\n",
              "        vertical-align: middle;\n",
              "    }\n",
              "\n",
              "    .dataframe tbody tr th {\n",
              "        vertical-align: top;\n",
              "    }\n",
              "\n",
              "    .dataframe thead th {\n",
              "        text-align: right;\n",
              "    }\n",
              "</style>\n",
              "<table border=\"1\" class=\"dataframe\">\n",
              "  <thead>\n",
              "    <tr style=\"text-align: right;\">\n",
              "      <th></th>\n",
              "      <th>index</th>\n",
              "      <th>번호</th>\n",
              "      <th>주민센터명</th>\n",
              "      <th>대표전화번호</th>\n",
              "      <th>주소</th>\n",
              "    </tr>\n",
              "  </thead>\n",
              "  <tbody>\n",
              "    <tr>\n",
              "      <th>0</th>\n",
              "      <td>0</td>\n",
              "      <td>1</td>\n",
              "      <td>청운효자동 주민센터</td>\n",
              "      <td>02-2148-5002</td>\n",
              "      <td>서울특별시 종로구 자하문로 92</td>\n",
              "    </tr>\n",
              "  </tbody>\n",
              "</table>\n",
              "</div>\n",
              "      <button class=\"colab-df-convert\" onclick=\"convertToInteractive('df-e2ac37a0-0fbc-446f-b526-7421d7ba6562')\"\n",
              "              title=\"Convert this dataframe to an interactive table.\"\n",
              "              style=\"display:none;\">\n",
              "        \n",
              "  <svg xmlns=\"http://www.w3.org/2000/svg\" height=\"24px\"viewBox=\"0 0 24 24\"\n",
              "       width=\"24px\">\n",
              "    <path d=\"M0 0h24v24H0V0z\" fill=\"none\"/>\n",
              "    <path d=\"M18.56 5.44l.94 2.06.94-2.06 2.06-.94-2.06-.94-.94-2.06-.94 2.06-2.06.94zm-11 1L8.5 8.5l.94-2.06 2.06-.94-2.06-.94L8.5 2.5l-.94 2.06-2.06.94zm10 10l.94 2.06.94-2.06 2.06-.94-2.06-.94-.94-2.06-.94 2.06-2.06.94z\"/><path d=\"M17.41 7.96l-1.37-1.37c-.4-.4-.92-.59-1.43-.59-.52 0-1.04.2-1.43.59L10.3 9.45l-7.72 7.72c-.78.78-.78 2.05 0 2.83L4 21.41c.39.39.9.59 1.41.59.51 0 1.02-.2 1.41-.59l7.78-7.78 2.81-2.81c.8-.78.8-2.07 0-2.86zM5.41 20L4 18.59l7.72-7.72 1.47 1.35L5.41 20z\"/>\n",
              "  </svg>\n",
              "      </button>\n",
              "      \n",
              "  <style>\n",
              "    .colab-df-container {\n",
              "      display:flex;\n",
              "      flex-wrap:wrap;\n",
              "      gap: 12px;\n",
              "    }\n",
              "\n",
              "    .colab-df-convert {\n",
              "      background-color: #E8F0FE;\n",
              "      border: none;\n",
              "      border-radius: 50%;\n",
              "      cursor: pointer;\n",
              "      display: none;\n",
              "      fill: #1967D2;\n",
              "      height: 32px;\n",
              "      padding: 0 0 0 0;\n",
              "      width: 32px;\n",
              "    }\n",
              "\n",
              "    .colab-df-convert:hover {\n",
              "      background-color: #E2EBFA;\n",
              "      box-shadow: 0px 1px 2px rgba(60, 64, 67, 0.3), 0px 1px 3px 1px rgba(60, 64, 67, 0.15);\n",
              "      fill: #174EA6;\n",
              "    }\n",
              "\n",
              "    [theme=dark] .colab-df-convert {\n",
              "      background-color: #3B4455;\n",
              "      fill: #D2E3FC;\n",
              "    }\n",
              "\n",
              "    [theme=dark] .colab-df-convert:hover {\n",
              "      background-color: #434B5C;\n",
              "      box-shadow: 0px 1px 3px 1px rgba(0, 0, 0, 0.15);\n",
              "      filter: drop-shadow(0px 1px 2px rgba(0, 0, 0, 0.3));\n",
              "      fill: #FFFFFF;\n",
              "    }\n",
              "  </style>\n",
              "\n",
              "      <script>\n",
              "        const buttonEl =\n",
              "          document.querySelector('#df-e2ac37a0-0fbc-446f-b526-7421d7ba6562 button.colab-df-convert');\n",
              "        buttonEl.style.display =\n",
              "          google.colab.kernel.accessAllowed ? 'block' : 'none';\n",
              "\n",
              "        async function convertToInteractive(key) {\n",
              "          const element = document.querySelector('#df-e2ac37a0-0fbc-446f-b526-7421d7ba6562');\n",
              "          const dataTable =\n",
              "            await google.colab.kernel.invokeFunction('convertToInteractive',\n",
              "                                                     [key], {});\n",
              "          if (!dataTable) return;\n",
              "\n",
              "          const docLinkHtml = 'Like what you see? Visit the ' +\n",
              "            '<a target=\"_blank\" href=https://colab.research.google.com/notebooks/data_table.ipynb>data table notebook</a>'\n",
              "            + ' to learn more about interactive tables.';\n",
              "          element.innerHTML = '';\n",
              "          dataTable['output_type'] = 'display_data';\n",
              "          await google.colab.output.renderOutput(dataTable, element);\n",
              "          const docLink = document.createElement('div');\n",
              "          docLink.innerHTML = docLinkHtml;\n",
              "          element.appendChild(docLink);\n",
              "        }\n",
              "      </script>\n",
              "    </div>\n",
              "  </div>\n",
              "  "
            ]
          },
          "metadata": {},
          "execution_count": 32
        }
      ]
    },
    {
      "cell_type": "code",
      "source": [
        "df4 = df4.iloc[:,1:]\n",
        "df4 = df4.iloc[:424]\n",
        "df4"
      ],
      "metadata": {
        "colab": {
          "base_uri": "https://localhost:8080/",
          "height": 424
        },
        "id": "-Y_-9SSFD8hi",
        "outputId": "8a2cd956-9ded-4db4-acb4-e841531af971"
      },
      "execution_count": null,
      "outputs": [
        {
          "output_type": "execute_result",
          "data": {
            "text/plain": [
              "      번호         주민센터명        대표전화번호                      주소\n",
              "0      1    청운효자동 주민센터  02-2148-5002       서울특별시 종로구 자하문로 92\n",
              "1      2      사직동 주민센터  02-2148-5033       서울특별시 종로구 사직로9길 1\n",
              "2      3  종로1-4가동 주민센터  02-2148-5243       서울특별시 종로구 종로17길 8\n",
              "3      4      삼청동 주민센터  02-2148-5062       서울특별시 종로구 삼청로 107\n",
              "4      5      가회동 주민센터  02-2148-5213        서울특별시 종로구 북촌로 35\n",
              "..   ...           ...           ...                     ...\n",
              "419  420     성내3동 주민센터  02-3425-7820    서울특별시 강동구 강동대로53길 76\n",
              "420  421     천호1동 주민센터  02-3425-7670    서울특별시 강동구 구천면로42길 59\n",
              "421  422     천호2동 주민센터  02-3425-7700      서울특별시 강동구 올림픽로 698\n",
              "422  423     천호3동 주민센터  02-3425-7730     서울특별시 강동구 진황도로23길 7\n",
              "423  424      강일동 주민센터  02-3425-7400  서울특별시 강동구 아리수로93길 9-14\n",
              "\n",
              "[424 rows x 4 columns]"
            ],
            "text/html": [
              "\n",
              "  <div id=\"df-04fefd9a-506d-4f2c-8ab7-90001602b0fc\">\n",
              "    <div class=\"colab-df-container\">\n",
              "      <div>\n",
              "<style scoped>\n",
              "    .dataframe tbody tr th:only-of-type {\n",
              "        vertical-align: middle;\n",
              "    }\n",
              "\n",
              "    .dataframe tbody tr th {\n",
              "        vertical-align: top;\n",
              "    }\n",
              "\n",
              "    .dataframe thead th {\n",
              "        text-align: right;\n",
              "    }\n",
              "</style>\n",
              "<table border=\"1\" class=\"dataframe\">\n",
              "  <thead>\n",
              "    <tr style=\"text-align: right;\">\n",
              "      <th></th>\n",
              "      <th>번호</th>\n",
              "      <th>주민센터명</th>\n",
              "      <th>대표전화번호</th>\n",
              "      <th>주소</th>\n",
              "    </tr>\n",
              "  </thead>\n",
              "  <tbody>\n",
              "    <tr>\n",
              "      <th>0</th>\n",
              "      <td>1</td>\n",
              "      <td>청운효자동 주민센터</td>\n",
              "      <td>02-2148-5002</td>\n",
              "      <td>서울특별시 종로구 자하문로 92</td>\n",
              "    </tr>\n",
              "    <tr>\n",
              "      <th>1</th>\n",
              "      <td>2</td>\n",
              "      <td>사직동 주민센터</td>\n",
              "      <td>02-2148-5033</td>\n",
              "      <td>서울특별시 종로구 사직로9길 1</td>\n",
              "    </tr>\n",
              "    <tr>\n",
              "      <th>2</th>\n",
              "      <td>3</td>\n",
              "      <td>종로1-4가동 주민센터</td>\n",
              "      <td>02-2148-5243</td>\n",
              "      <td>서울특별시 종로구 종로17길 8</td>\n",
              "    </tr>\n",
              "    <tr>\n",
              "      <th>3</th>\n",
              "      <td>4</td>\n",
              "      <td>삼청동 주민센터</td>\n",
              "      <td>02-2148-5062</td>\n",
              "      <td>서울특별시 종로구 삼청로 107</td>\n",
              "    </tr>\n",
              "    <tr>\n",
              "      <th>4</th>\n",
              "      <td>5</td>\n",
              "      <td>가회동 주민센터</td>\n",
              "      <td>02-2148-5213</td>\n",
              "      <td>서울특별시 종로구 북촌로 35</td>\n",
              "    </tr>\n",
              "    <tr>\n",
              "      <th>...</th>\n",
              "      <td>...</td>\n",
              "      <td>...</td>\n",
              "      <td>...</td>\n",
              "      <td>...</td>\n",
              "    </tr>\n",
              "    <tr>\n",
              "      <th>419</th>\n",
              "      <td>420</td>\n",
              "      <td>성내3동 주민센터</td>\n",
              "      <td>02-3425-7820</td>\n",
              "      <td>서울특별시 강동구 강동대로53길 76</td>\n",
              "    </tr>\n",
              "    <tr>\n",
              "      <th>420</th>\n",
              "      <td>421</td>\n",
              "      <td>천호1동 주민센터</td>\n",
              "      <td>02-3425-7670</td>\n",
              "      <td>서울특별시 강동구 구천면로42길 59</td>\n",
              "    </tr>\n",
              "    <tr>\n",
              "      <th>421</th>\n",
              "      <td>422</td>\n",
              "      <td>천호2동 주민센터</td>\n",
              "      <td>02-3425-7700</td>\n",
              "      <td>서울특별시 강동구 올림픽로 698</td>\n",
              "    </tr>\n",
              "    <tr>\n",
              "      <th>422</th>\n",
              "      <td>423</td>\n",
              "      <td>천호3동 주민센터</td>\n",
              "      <td>02-3425-7730</td>\n",
              "      <td>서울특별시 강동구 진황도로23길 7</td>\n",
              "    </tr>\n",
              "    <tr>\n",
              "      <th>423</th>\n",
              "      <td>424</td>\n",
              "      <td>강일동 주민센터</td>\n",
              "      <td>02-3425-7400</td>\n",
              "      <td>서울특별시 강동구 아리수로93길 9-14</td>\n",
              "    </tr>\n",
              "  </tbody>\n",
              "</table>\n",
              "<p>424 rows × 4 columns</p>\n",
              "</div>\n",
              "      <button class=\"colab-df-convert\" onclick=\"convertToInteractive('df-04fefd9a-506d-4f2c-8ab7-90001602b0fc')\"\n",
              "              title=\"Convert this dataframe to an interactive table.\"\n",
              "              style=\"display:none;\">\n",
              "        \n",
              "  <svg xmlns=\"http://www.w3.org/2000/svg\" height=\"24px\"viewBox=\"0 0 24 24\"\n",
              "       width=\"24px\">\n",
              "    <path d=\"M0 0h24v24H0V0z\" fill=\"none\"/>\n",
              "    <path d=\"M18.56 5.44l.94 2.06.94-2.06 2.06-.94-2.06-.94-.94-2.06-.94 2.06-2.06.94zm-11 1L8.5 8.5l.94-2.06 2.06-.94-2.06-.94L8.5 2.5l-.94 2.06-2.06.94zm10 10l.94 2.06.94-2.06 2.06-.94-2.06-.94-.94-2.06-.94 2.06-2.06.94z\"/><path d=\"M17.41 7.96l-1.37-1.37c-.4-.4-.92-.59-1.43-.59-.52 0-1.04.2-1.43.59L10.3 9.45l-7.72 7.72c-.78.78-.78 2.05 0 2.83L4 21.41c.39.39.9.59 1.41.59.51 0 1.02-.2 1.41-.59l7.78-7.78 2.81-2.81c.8-.78.8-2.07 0-2.86zM5.41 20L4 18.59l7.72-7.72 1.47 1.35L5.41 20z\"/>\n",
              "  </svg>\n",
              "      </button>\n",
              "      \n",
              "  <style>\n",
              "    .colab-df-container {\n",
              "      display:flex;\n",
              "      flex-wrap:wrap;\n",
              "      gap: 12px;\n",
              "    }\n",
              "\n",
              "    .colab-df-convert {\n",
              "      background-color: #E8F0FE;\n",
              "      border: none;\n",
              "      border-radius: 50%;\n",
              "      cursor: pointer;\n",
              "      display: none;\n",
              "      fill: #1967D2;\n",
              "      height: 32px;\n",
              "      padding: 0 0 0 0;\n",
              "      width: 32px;\n",
              "    }\n",
              "\n",
              "    .colab-df-convert:hover {\n",
              "      background-color: #E2EBFA;\n",
              "      box-shadow: 0px 1px 2px rgba(60, 64, 67, 0.3), 0px 1px 3px 1px rgba(60, 64, 67, 0.15);\n",
              "      fill: #174EA6;\n",
              "    }\n",
              "\n",
              "    [theme=dark] .colab-df-convert {\n",
              "      background-color: #3B4455;\n",
              "      fill: #D2E3FC;\n",
              "    }\n",
              "\n",
              "    [theme=dark] .colab-df-convert:hover {\n",
              "      background-color: #434B5C;\n",
              "      box-shadow: 0px 1px 3px 1px rgba(0, 0, 0, 0.15);\n",
              "      filter: drop-shadow(0px 1px 2px rgba(0, 0, 0, 0.3));\n",
              "      fill: #FFFFFF;\n",
              "    }\n",
              "  </style>\n",
              "\n",
              "      <script>\n",
              "        const buttonEl =\n",
              "          document.querySelector('#df-04fefd9a-506d-4f2c-8ab7-90001602b0fc button.colab-df-convert');\n",
              "        buttonEl.style.display =\n",
              "          google.colab.kernel.accessAllowed ? 'block' : 'none';\n",
              "\n",
              "        async function convertToInteractive(key) {\n",
              "          const element = document.querySelector('#df-04fefd9a-506d-4f2c-8ab7-90001602b0fc');\n",
              "          const dataTable =\n",
              "            await google.colab.kernel.invokeFunction('convertToInteractive',\n",
              "                                                     [key], {});\n",
              "          if (!dataTable) return;\n",
              "\n",
              "          const docLinkHtml = 'Like what you see? Visit the ' +\n",
              "            '<a target=\"_blank\" href=https://colab.research.google.com/notebooks/data_table.ipynb>data table notebook</a>'\n",
              "            + ' to learn more about interactive tables.';\n",
              "          element.innerHTML = '';\n",
              "          dataTable['output_type'] = 'display_data';\n",
              "          await google.colab.output.renderOutput(dataTable, element);\n",
              "          const docLink = document.createElement('div');\n",
              "          docLink.innerHTML = docLinkHtml;\n",
              "          element.appendChild(docLink);\n",
              "        }\n",
              "      </script>\n",
              "    </div>\n",
              "  </div>\n",
              "  "
            ]
          },
          "metadata": {},
          "execution_count": 33
        }
      ]
    },
    {
      "cell_type": "code",
      "source": [
        "# df.to_csv('서울 주민센터.csv')"
      ],
      "metadata": {
        "id": "0Pj9FvI9Fh6V"
      },
      "execution_count": null,
      "outputs": []
    },
    {
      "cell_type": "markdown",
      "source": [
        "## 안됐던 90~100"
      ],
      "metadata": {
        "id": "pdblUBptbI5E"
      }
    },
    {
      "cell_type": "code",
      "source": [
        "# 소스코드\n",
        "page = driver.find_element(By.XPATH, '//*[@id=\"pageDiv\"]/ul/li[12]/a')\n",
        "page.send_keys(Keys.ENTER)\n",
        "time.sleep(2)\n",
        "html = driver.page_source\n",
        "bsObject = BeautifulSoup(html, 'html.parser')\n",
        "temp = bsObject.find_all(\"table\")[0]\n",
        "column = [\"번호\", \"주민센터명\", \"대표전화번호\", \"주소\"]\n",
        "\n",
        "df10 = pd.DataFrame(columns = column)\n",
        "for i in range(1, 11):\n",
        "    tempTr = temp.find_all(\"tr\")[i]\n",
        "    row = {}\n",
        "    column_idx = 0\n",
        "    for j in range(0, 4):\n",
        "        tempTd = tempTr.find_all(\"td\")[j].text\n",
        "        row[column[column_idx]] = tempTd\n",
        "        column_idx += 1\n",
        "    df10 = df10.append(row,ignore_index=True)\n",
        "df10"
      ],
      "metadata": {
        "id": "6xLmUrXwUaHh"
      },
      "execution_count": null,
      "outputs": []
    },
    {
      "cell_type": "code",
      "source": [],
      "metadata": {
        "id": "Qb7NHNNe4s3r"
      },
      "execution_count": null,
      "outputs": []
    }
  ]
}