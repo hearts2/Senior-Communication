{
  "nbformat": 4,
  "nbformat_minor": 0,
  "metadata": {
    "colab": {
      "provenance": [],
      "collapsed_sections": [
        "2IB9GeVJBeXN",
        "eKD_qtxysyPD"
      ],
      "include_colab_link": true
    },
    "kernelspec": {
      "name": "python3",
      "display_name": "Python 3"
    },
    "language_info": {
      "name": "python"
    }
  },
  "cells": [
    {
      "cell_type": "markdown",
      "metadata": {
        "id": "view-in-github",
        "colab_type": "text"
      },
      "source": [
        "<a href=\"https://colab.research.google.com/github/hearts2/Senior-Communication/blob/main/(%EB%AF%BC%ED%9D%AC)%EC%8B%A4%EB%A3%A8%EC%97%A3%EA%B3%84%EC%88%98.ipynb\" target=\"_parent\"><img src=\"https://colab.research.google.com/assets/colab-badge.svg\" alt=\"Open In Colab\"/></a>"
      ]
    },
    {
      "cell_type": "code",
      "execution_count": null,
      "metadata": {
        "id": "i8jbuT78d74w"
      },
      "outputs": [],
      "source": [
        "import pandas as pd\n",
        "import numpy as np\n",
        "import scipy.stats # 통계 함수 사용\n",
        "import matplotlib.pyplot as plt\n",
        "import seaborn as sns\n",
        "\n",
        "from sklearn.preprocessing import StandardScaler\n",
        "from sklearn.cluster import KMeans\n",
        "\n",
        "# 경고 무시\n",
        "import warnings\n",
        "warnings.filterwarnings(action = 'ignore')\n"
      ]
    },
    {
      "cell_type": "code",
      "source": [
        "# 코렙 한글깨짐\n",
        "!sudo apt-get install -y fonts-nanum\n",
        "!sudo fc-cache -fv\n",
        "!rm ~/.cache/matplotlib -rf\n",
        "# 코렙에서 한글 깨짐 현상 있을때 설치 후 밑코드로 해결완료\n",
        "\n",
        "plt.rc('font', family='NanumBarunGothic') "
      ],
      "metadata": {
        "colab": {
          "base_uri": "https://localhost:8080/"
        },
        "id": "6EmCtDDuVtcT",
        "outputId": "4c58ce29-50ed-4104-bec2-25f2029761ab"
      },
      "execution_count": null,
      "outputs": [
        {
          "output_type": "stream",
          "name": "stdout",
          "text": [
            "Reading package lists... Done\n",
            "Building dependency tree       \n",
            "Reading state information... Done\n",
            "fonts-nanum is already the newest version (20170925-1).\n",
            "The following package was automatically installed and is no longer required:\n",
            "  libnvidia-common-460\n",
            "Use 'sudo apt autoremove' to remove it.\n",
            "0 upgraded, 0 newly installed, 0 to remove and 20 not upgraded.\n",
            "/usr/share/fonts: caching, new cache contents: 0 fonts, 1 dirs\n",
            "/usr/share/fonts/truetype: caching, new cache contents: 0 fonts, 3 dirs\n",
            "/usr/share/fonts/truetype/humor-sans: caching, new cache contents: 1 fonts, 0 dirs\n",
            "/usr/share/fonts/truetype/liberation: caching, new cache contents: 16 fonts, 0 dirs\n",
            "/usr/share/fonts/truetype/nanum: caching, new cache contents: 10 fonts, 0 dirs\n",
            "/usr/local/share/fonts: caching, new cache contents: 0 fonts, 0 dirs\n",
            "/root/.local/share/fonts: skipping, no such directory\n",
            "/root/.fonts: skipping, no such directory\n",
            "/var/cache/fontconfig: cleaning cache directory\n",
            "/root/.cache/fontconfig: not cleaning non-existent cache directory\n",
            "/root/.fontconfig: not cleaning non-existent cache directory\n",
            "fc-cache: succeeded\n"
          ]
        }
      ]
    },
    {
      "cell_type": "code",
      "source": [
        "from google.colab import drive\n",
        "drive.mount('/content/drive')"
      ],
      "metadata": {
        "colab": {
          "base_uri": "https://localhost:8080/"
        },
        "id": "xgZ2nEOjCst8",
        "outputId": "a40f02d2-1754-4fc8-eaf4-17feb8ee6f73"
      },
      "execution_count": null,
      "outputs": [
        {
          "output_type": "stream",
          "name": "stdout",
          "text": [
            "Drive already mounted at /content/drive; to attempt to forcibly remount, call drive.mount(\"/content/drive\", force_remount=True).\n"
          ]
        }
      ]
    },
    {
      "cell_type": "code",
      "source": [
        "data = pd.read_excel('/content/drive/MyDrive/시소프로젝트/NEW(공모전용)/main_seoul_senior_data.xlsx', thousands=',')\n",
        "data.head(1)"
      ],
      "metadata": {
        "id": "Y1lPUSR4eB7L",
        "colab": {
          "base_uri": "https://localhost:8080/",
          "height": 189
        },
        "outputId": "55582cc5-6e56-4edb-da73-e86327d5986e"
      },
      "execution_count": null,
      "outputs": [
        {
          "output_type": "execute_result",
          "data": {
            "text/plain": [
              "   자치구      동         시설명                 주소         위도          경도  \\\n",
              "0  종로구  청운효자동  청운효자동 주민센터  서울특별시 종로구 자하문로 92  37.584083  126.970636   \n",
              "\n",
              "         위도UTMK         경도UTMK     연면적  도서관(500)  ...  병원(500)  공원(500)  \\\n",
              "0  1.953680e+06  953451.030567  965.52       0.0  ...      0.0      0.0   \n",
              "\n",
              "   버스(100)  지하철(250)   동별전체인구    60세~  60세~/전체인구  60세~/구별전체             비율  \\\n",
              "0      1.0       0.0  11978.0  2945.0   0.245867   0.075281  336867.539821   \n",
              "\n",
              "   디지털정보지수  \n",
              "0  2933.53  \n",
              "\n",
              "[1 rows x 21 columns]"
            ],
            "text/html": [
              "\n",
              "  <div id=\"df-190906ed-c4b2-46c0-9629-7ea040490e9a\">\n",
              "    <div class=\"colab-df-container\">\n",
              "      <div>\n",
              "<style scoped>\n",
              "    .dataframe tbody tr th:only-of-type {\n",
              "        vertical-align: middle;\n",
              "    }\n",
              "\n",
              "    .dataframe tbody tr th {\n",
              "        vertical-align: top;\n",
              "    }\n",
              "\n",
              "    .dataframe thead th {\n",
              "        text-align: right;\n",
              "    }\n",
              "</style>\n",
              "<table border=\"1\" class=\"dataframe\">\n",
              "  <thead>\n",
              "    <tr style=\"text-align: right;\">\n",
              "      <th></th>\n",
              "      <th>자치구</th>\n",
              "      <th>동</th>\n",
              "      <th>시설명</th>\n",
              "      <th>주소</th>\n",
              "      <th>위도</th>\n",
              "      <th>경도</th>\n",
              "      <th>위도UTMK</th>\n",
              "      <th>경도UTMK</th>\n",
              "      <th>연면적</th>\n",
              "      <th>도서관(500)</th>\n",
              "      <th>...</th>\n",
              "      <th>병원(500)</th>\n",
              "      <th>공원(500)</th>\n",
              "      <th>버스(100)</th>\n",
              "      <th>지하철(250)</th>\n",
              "      <th>동별전체인구</th>\n",
              "      <th>60세~</th>\n",
              "      <th>60세~/전체인구</th>\n",
              "      <th>60세~/구별전체</th>\n",
              "      <th>비율</th>\n",
              "      <th>디지털정보지수</th>\n",
              "    </tr>\n",
              "  </thead>\n",
              "  <tbody>\n",
              "    <tr>\n",
              "      <th>0</th>\n",
              "      <td>종로구</td>\n",
              "      <td>청운효자동</td>\n",
              "      <td>청운효자동 주민센터</td>\n",
              "      <td>서울특별시 종로구 자하문로 92</td>\n",
              "      <td>37.584083</td>\n",
              "      <td>126.970636</td>\n",
              "      <td>1.953680e+06</td>\n",
              "      <td>953451.030567</td>\n",
              "      <td>965.52</td>\n",
              "      <td>0.0</td>\n",
              "      <td>...</td>\n",
              "      <td>0.0</td>\n",
              "      <td>0.0</td>\n",
              "      <td>1.0</td>\n",
              "      <td>0.0</td>\n",
              "      <td>11978.0</td>\n",
              "      <td>2945.0</td>\n",
              "      <td>0.245867</td>\n",
              "      <td>0.075281</td>\n",
              "      <td>336867.539821</td>\n",
              "      <td>2933.53</td>\n",
              "    </tr>\n",
              "  </tbody>\n",
              "</table>\n",
              "<p>1 rows × 21 columns</p>\n",
              "</div>\n",
              "      <button class=\"colab-df-convert\" onclick=\"convertToInteractive('df-190906ed-c4b2-46c0-9629-7ea040490e9a')\"\n",
              "              title=\"Convert this dataframe to an interactive table.\"\n",
              "              style=\"display:none;\">\n",
              "        \n",
              "  <svg xmlns=\"http://www.w3.org/2000/svg\" height=\"24px\"viewBox=\"0 0 24 24\"\n",
              "       width=\"24px\">\n",
              "    <path d=\"M0 0h24v24H0V0z\" fill=\"none\"/>\n",
              "    <path d=\"M18.56 5.44l.94 2.06.94-2.06 2.06-.94-2.06-.94-.94-2.06-.94 2.06-2.06.94zm-11 1L8.5 8.5l.94-2.06 2.06-.94-2.06-.94L8.5 2.5l-.94 2.06-2.06.94zm10 10l.94 2.06.94-2.06 2.06-.94-2.06-.94-.94-2.06-.94 2.06-2.06.94z\"/><path d=\"M17.41 7.96l-1.37-1.37c-.4-.4-.92-.59-1.43-.59-.52 0-1.04.2-1.43.59L10.3 9.45l-7.72 7.72c-.78.78-.78 2.05 0 2.83L4 21.41c.39.39.9.59 1.41.59.51 0 1.02-.2 1.41-.59l7.78-7.78 2.81-2.81c.8-.78.8-2.07 0-2.86zM5.41 20L4 18.59l7.72-7.72 1.47 1.35L5.41 20z\"/>\n",
              "  </svg>\n",
              "      </button>\n",
              "      \n",
              "  <style>\n",
              "    .colab-df-container {\n",
              "      display:flex;\n",
              "      flex-wrap:wrap;\n",
              "      gap: 12px;\n",
              "    }\n",
              "\n",
              "    .colab-df-convert {\n",
              "      background-color: #E8F0FE;\n",
              "      border: none;\n",
              "      border-radius: 50%;\n",
              "      cursor: pointer;\n",
              "      display: none;\n",
              "      fill: #1967D2;\n",
              "      height: 32px;\n",
              "      padding: 0 0 0 0;\n",
              "      width: 32px;\n",
              "    }\n",
              "\n",
              "    .colab-df-convert:hover {\n",
              "      background-color: #E2EBFA;\n",
              "      box-shadow: 0px 1px 2px rgba(60, 64, 67, 0.3), 0px 1px 3px 1px rgba(60, 64, 67, 0.15);\n",
              "      fill: #174EA6;\n",
              "    }\n",
              "\n",
              "    [theme=dark] .colab-df-convert {\n",
              "      background-color: #3B4455;\n",
              "      fill: #D2E3FC;\n",
              "    }\n",
              "\n",
              "    [theme=dark] .colab-df-convert:hover {\n",
              "      background-color: #434B5C;\n",
              "      box-shadow: 0px 1px 3px 1px rgba(0, 0, 0, 0.15);\n",
              "      filter: drop-shadow(0px 1px 2px rgba(0, 0, 0, 0.3));\n",
              "      fill: #FFFFFF;\n",
              "    }\n",
              "  </style>\n",
              "\n",
              "      <script>\n",
              "        const buttonEl =\n",
              "          document.querySelector('#df-190906ed-c4b2-46c0-9629-7ea040490e9a button.colab-df-convert');\n",
              "        buttonEl.style.display =\n",
              "          google.colab.kernel.accessAllowed ? 'block' : 'none';\n",
              "\n",
              "        async function convertToInteractive(key) {\n",
              "          const element = document.querySelector('#df-190906ed-c4b2-46c0-9629-7ea040490e9a');\n",
              "          const dataTable =\n",
              "            await google.colab.kernel.invokeFunction('convertToInteractive',\n",
              "                                                     [key], {});\n",
              "          if (!dataTable) return;\n",
              "\n",
              "          const docLinkHtml = 'Like what you see? Visit the ' +\n",
              "            '<a target=\"_blank\" href=https://colab.research.google.com/notebooks/data_table.ipynb>data table notebook</a>'\n",
              "            + ' to learn more about interactive tables.';\n",
              "          element.innerHTML = '';\n",
              "          dataTable['output_type'] = 'display_data';\n",
              "          await google.colab.output.renderOutput(dataTable, element);\n",
              "          const docLink = document.createElement('div');\n",
              "          docLink.innerHTML = docLinkHtml;\n",
              "          element.appendChild(docLink);\n",
              "        }\n",
              "      </script>\n",
              "    </div>\n",
              "  </div>\n",
              "  "
            ]
          },
          "metadata": {},
          "execution_count": 6
        }
      ]
    },
    {
      "cell_type": "code",
      "source": [
        "data.shape"
      ],
      "metadata": {
        "id": "PRALzQoDeUkD",
        "colab": {
          "base_uri": "https://localhost:8080/"
        },
        "outputId": "ef3fee46-027e-4b5c-b145-2b5499b4df2d"
      },
      "execution_count": null,
      "outputs": [
        {
          "output_type": "execute_result",
          "data": {
            "text/plain": [
              "(509, 21)"
            ]
          },
          "metadata": {},
          "execution_count": 7
        }
      ]
    },
    {
      "cell_type": "markdown",
      "source": [
        "# 데이터 탐색"
      ],
      "metadata": {
        "id": "WHFvu4vjUhIQ"
      }
    },
    {
      "cell_type": "code",
      "source": [
        "#데이터 탐색\n",
        "sns.boxplot(x='동별전체인구' ,data = data)\n",
        "plt.show()"
      ],
      "metadata": {
        "colab": {
          "base_uri": "https://localhost:8080/",
          "height": 296
        },
        "id": "61AyE8wzWMKA",
        "outputId": "054138a4-2f90-44d3-89c0-91d24988a65f"
      },
      "execution_count": null,
      "outputs": [
        {
          "output_type": "stream",
          "name": "stderr",
          "text": [
            "WARNING:matplotlib.font_manager:findfont: Font family ['NanumBarunGothic'] not found. Falling back to DejaVu Sans.\n"
          ]
        },
        {
          "output_type": "display_data",
          "data": {
            "text/plain": [
              "<Figure size 432x288 with 1 Axes>"
            ],
            "image/png": "[encoded data removed]"
          },
          "metadata": {
            "needs_background": "light"
          }
        }
      ]
    },
    {
      "cell_type": "code",
      "source": [
        "data.columns = ['자치구', '동', '시설명', '주소', '연면적', '위도', '경도', '위도UTMK', '경도UTMK',\n",
        "       '도서관(500)', '배움터(500)', '병원(500)', '공원(500)', '버스(100)', '지하철(250)',\n",
        "       '동별전체인구', '동별시니어수', '행정동별시니어비율', '구별행정동시니어비율', '유동인구', '디지털정보지수']"
      ],
      "metadata": {
        "id": "-LYkutMjcWIJ"
      },
      "execution_count": null,
      "outputs": []
    },
    {
      "cell_type": "code",
      "source": [
        "#주변특성을 다 더한 데이터 df 생성 (버스 + 지하철도 합침)\n",
        "df = data.copy() \n",
        "df.head(1)"
      ],
      "metadata": {
        "colab": {
          "base_uri": "https://localhost:8080/",
          "height": 223
        },
        "id": "L9tvewoKxwQZ",
        "outputId": "41cb453a-387a-432b-e885-53598a9c3099"
      },
      "execution_count": null,
      "outputs": [
        {
          "output_type": "execute_result",
          "data": {
            "text/plain": [
              "   자치구      동         시설명                 주소        연면적          위도  \\\n",
              "0  종로구  청운효자동  청운효자동 주민센터  서울특별시 종로구 자하문로 92  37.584083  126.970636   \n",
              "\n",
              "             경도         위도UTMK  경도UTMK  도서관(500)  ...  병원(500)  공원(500)  \\\n",
              "0  1.953680e+06  953451.030567  965.52       0.0  ...      0.0      0.0   \n",
              "\n",
              "   버스(100)  지하철(250)   동별전체인구  동별시니어수  행정동별시니어비율  구별행정동시니어비율           유동인구  \\\n",
              "0      1.0       0.0  11978.0  2945.0   0.245867    0.075281  336867.539821   \n",
              "\n",
              "   디지털정보지수  \n",
              "0  2933.53  \n",
              "\n",
              "[1 rows x 21 columns]"
            ],
            "text/html": [
              "\n",
              "  <div id=\"df-aa987251-fd1c-4d48-84e2-4f6e8c03d8e1\">\n",
              "    <div class=\"colab-df-container\">\n",
              "      <div>\n",
              "<style scoped>\n",
              "    .dataframe tbody tr th:only-of-type {\n",
              "        vertical-align: middle;\n",
              "    }\n",
              "\n",
              "    .dataframe tbody tr th {\n",
              "        vertical-align: top;\n",
              "    }\n",
              "\n",
              "    .dataframe thead th {\n",
              "        text-align: right;\n",
              "    }\n",
              "</style>\n",
              "<table border=\"1\" class=\"dataframe\">\n",
              "  <thead>\n",
              "    <tr style=\"text-align: right;\">\n",
              "      <th></th>\n",
              "      <th>자치구</th>\n",
              "      <th>동</th>\n",
              "      <th>시설명</th>\n",
              "      <th>주소</th>\n",
              "      <th>연면적</th>\n",
              "      <th>위도</th>\n",
              "      <th>경도</th>\n",
              "      <th>위도UTMK</th>\n",
              "      <th>경도UTMK</th>\n",
              "      <th>도서관(500)</th>\n",
              "      <th>...</th>\n",
              "      <th>병원(500)</th>\n",
              "      <th>공원(500)</th>\n",
              "      <th>버스(100)</th>\n",
              "      <th>지하철(250)</th>\n",
              "      <th>동별전체인구</th>\n",
              "      <th>동별시니어수</th>\n",
              "      <th>행정동별시니어비율</th>\n",
              "      <th>구별행정동시니어비율</th>\n",
              "      <th>유동인구</th>\n",
              "      <th>디지털정보지수</th>\n",
              "    </tr>\n",
              "  </thead>\n",
              "  <tbody>\n",
              "    <tr>\n",
              "      <th>0</th>\n",
              "      <td>종로구</td>\n",
              "      <td>청운효자동</td>\n",
              "      <td>청운효자동 주민센터</td>\n",
              "      <td>서울특별시 종로구 자하문로 92</td>\n",
              "      <td>37.584083</td>\n",
              "      <td>126.970636</td>\n",
              "      <td>1.953680e+06</td>\n",
              "      <td>953451.030567</td>\n",
              "      <td>965.52</td>\n",
              "      <td>0.0</td>\n",
              "      <td>...</td>\n",
              "      <td>0.0</td>\n",
              "      <td>0.0</td>\n",
              "      <td>1.0</td>\n",
              "      <td>0.0</td>\n",
              "      <td>11978.0</td>\n",
              "      <td>2945.0</td>\n",
              "      <td>0.245867</td>\n",
              "      <td>0.075281</td>\n",
              "      <td>336867.539821</td>\n",
              "      <td>2933.53</td>\n",
              "    </tr>\n",
              "  </tbody>\n",
              "</table>\n",
              "<p>1 rows × 21 columns</p>\n",
              "</div>\n",
              "      <button class=\"colab-df-convert\" onclick=\"convertToInteractive('df-aa987251-fd1c-4d48-84e2-4f6e8c03d8e1')\"\n",
              "              title=\"Convert this dataframe to an interactive table.\"\n",
              "              style=\"display:none;\">\n",
              "        \n",
              "  <svg xmlns=\"http://www.w3.org/2000/svg\" height=\"24px\"viewBox=\"0 0 24 24\"\n",
              "       width=\"24px\">\n",
              "    <path d=\"M0 0h24v24H0V0z\" fill=\"none\"/>\n",
              "    <path d=\"M18.56 5.44l.94 2.06.94-2.06 2.06-.94-2.06-.94-.94-2.06-.94 2.06-2.06.94zm-11 1L8.5 8.5l.94-2.06 2.06-.94-2.06-.94L8.5 2.5l-.94 2.06-2.06.94zm10 10l.94 2.06.94-2.06 2.06-.94-2.06-.94-.94-2.06-.94 2.06-2.06.94z\"/><path d=\"M17.41 7.96l-1.37-1.37c-.4-.4-.92-.59-1.43-.59-.52 0-1.04.2-1.43.59L10.3 9.45l-7.72 7.72c-.78.78-.78 2.05 0 2.83L4 21.41c.39.39.9.59 1.41.59.51 0 1.02-.2 1.41-.59l7.78-7.78 2.81-2.81c.8-.78.8-2.07 0-2.86zM5.41 20L4 18.59l7.72-7.72 1.47 1.35L5.41 20z\"/>\n",
              "  </svg>\n",
              "      </button>\n",
              "      \n",
              "  <style>\n",
              "    .colab-df-container {\n",
              "      display:flex;\n",
              "      flex-wrap:wrap;\n",
              "      gap: 12px;\n",
              "    }\n",
              "\n",
              "    .colab-df-convert {\n",
              "      background-color: #E8F0FE;\n",
              "      border: none;\n",
              "      border-radius: 50%;\n",
              "      cursor: pointer;\n",
              "      display: none;\n",
              "      fill: #1967D2;\n",
              "      height: 32px;\n",
              "      padding: 0 0 0 0;\n",
              "      width: 32px;\n",
              "    }\n",
              "\n",
              "    .colab-df-convert:hover {\n",
              "      background-color: #E2EBFA;\n",
              "      box-shadow: 0px 1px 2px rgba(60, 64, 67, 0.3), 0px 1px 3px 1px rgba(60, 64, 67, 0.15);\n",
              "      fill: #174EA6;\n",
              "    }\n",
              "\n",
              "    [theme=dark] .colab-df-convert {\n",
              "      background-color: #3B4455;\n",
              "      fill: #D2E3FC;\n",
              "    }\n",
              "\n",
              "    [theme=dark] .colab-df-convert:hover {\n",
              "      background-color: #434B5C;\n",
              "      box-shadow: 0px 1px 3px 1px rgba(0, 0, 0, 0.15);\n",
              "      filter: drop-shadow(0px 1px 2px rgba(0, 0, 0, 0.3));\n",
              "      fill: #FFFFFF;\n",
              "    }\n",
              "  </style>\n",
              "\n",
              "      <script>\n",
              "        const buttonEl =\n",
              "          document.querySelector('#df-aa987251-fd1c-4d48-84e2-4f6e8c03d8e1 button.colab-df-convert');\n",
              "        buttonEl.style.display =\n",
              "          google.colab.kernel.accessAllowed ? 'block' : 'none';\n",
              "\n",
              "        async function convertToInteractive(key) {\n",
              "          const element = document.querySelector('#df-aa987251-fd1c-4d48-84e2-4f6e8c03d8e1');\n",
              "          const dataTable =\n",
              "            await google.colab.kernel.invokeFunction('convertToInteractive',\n",
              "                                                     [key], {});\n",
              "          if (!dataTable) return;\n",
              "\n",
              "          const docLinkHtml = 'Like what you see? Visit the ' +\n",
              "            '<a target=\"_blank\" href=https://colab.research.google.com/notebooks/data_table.ipynb>data table notebook</a>'\n",
              "            + ' to learn more about interactive tables.';\n",
              "          element.innerHTML = '';\n",
              "          dataTable['output_type'] = 'display_data';\n",
              "          await google.colab.output.renderOutput(dataTable, element);\n",
              "          const docLink = document.createElement('div');\n",
              "          docLink.innerHTML = docLinkHtml;\n",
              "          element.appendChild(docLink);\n",
              "        }\n",
              "      </script>\n",
              "    </div>\n",
              "  </div>\n",
              "  "
            ]
          },
          "metadata": {},
          "execution_count": 10
        }
      ]
    },
    {
      "cell_type": "code",
      "source": [
        "data['유동인구'].sort_values(ascending = False)\n",
        "#똑같은 이유 : 같은 동에 위치한 주민센터 및 복지관이라 "
      ],
      "metadata": {
        "colab": {
          "base_uri": "https://localhost:8080/"
        },
        "id": "6NWOEIFYWNUO",
        "outputId": "d42227d6-3fa2-45af-8c43-9497facc7981"
      },
      "execution_count": null,
      "outputs": [
        {
          "output_type": "execute_result",
          "data": {
            "text/plain": [
              "345    781018.306871\n",
              "490    781018.306871\n",
              "373    742686.898217\n",
              "411    692729.819311\n",
              "86     675296.756898\n",
              "           ...      \n",
              "3       94597.438184\n",
              "23      77203.734008\n",
              "17      46135.362979\n",
              "351     30995.225550\n",
              "412      2907.276232\n",
              "Name: 유동인구, Length: 509, dtype: float64"
            ]
          },
          "metadata": {},
          "execution_count": 11
        }
      ]
    },
    {
      "cell_type": "code",
      "source": [
        "q1 = df['유동인구'].quantile(0.25)\n",
        "q3 = df['유동인구'].quantile(0.75)\n",
        "iqr = q3-q1\n",
        "rev_range = 3 #제거 범위 조절 변수 \n",
        "df = df[(df['유동인구'] <= q3 + (rev_range*iqr) ) & (df['유동인구' ]>= q1 - (rev_range*iqr))]"
      ],
      "metadata": {
        "id": "uoSlrL-VX1fg"
      },
      "execution_count": null,
      "outputs": []
    },
    {
      "cell_type": "code",
      "source": [
        "df.shape, data.shape"
      ],
      "metadata": {
        "colab": {
          "base_uri": "https://localhost:8080/"
        },
        "id": "PI4XyxAJY7t-",
        "outputId": "f6f3d6fa-34de-4d1e-9805-a8abaa360a01"
      },
      "execution_count": null,
      "outputs": [
        {
          "output_type": "execute_result",
          "data": {
            "text/plain": [
              "((509, 21), (509, 21))"
            ]
          },
          "metadata": {},
          "execution_count": 13
        }
      ]
    },
    {
      "cell_type": "code",
      "source": [
        "#df.drop(columns = ['위도', '경도','위도UTMK', '경도UTMK'], inplace = True)"
      ],
      "metadata": {
        "id": "vdXsWSvTNzzY"
      },
      "execution_count": null,
      "outputs": []
    },
    {
      "cell_type": "code",
      "source": [
        "df.head(1)\n",
        "df.columns"
      ],
      "metadata": {
        "colab": {
          "base_uri": "https://localhost:8080/"
        },
        "id": "WKTk69fbXSAv",
        "outputId": "90a136ba-0f0d-4b8f-b93a-cb71344f66e4"
      },
      "execution_count": null,
      "outputs": [
        {
          "output_type": "execute_result",
          "data": {
            "text/plain": [
              "Index(['자치구', '동', '시설명', '주소', '연면적', '위도', '경도', '위도UTMK', '경도UTMK',\n",
              "       '도서관(500)', '배움터(500)', '병원(500)', '공원(500)', '버스(100)', '지하철(250)',\n",
              "       '동별전체인구', '동별시니어수', '행정동별시니어비율', '구별행정동시니어비율', '유동인구', '디지털정보지수'],\n",
              "      dtype='object')"
            ]
          },
          "metadata": {},
          "execution_count": 15
        }
      ]
    },
    {
      "cell_type": "code",
      "source": [
        "df.drop(columns = [ '구별행정동시니어비율','연면적'], inplace = True)"
      ],
      "metadata": {
        "id": "7ybWwJHL7eEh"
      },
      "execution_count": null,
      "outputs": []
    },
    {
      "cell_type": "code",
      "source": [
        "df['주변특성'] = df['도서관(500)'] + df['배움터(500)'] + df['병원(500)'] + df['공원(500)']\n",
        "df['대중교통'] = df['버스(100)'] + df['지하철(250)']"
      ],
      "metadata": {
        "id": "4sYE52_bx6Dx"
      },
      "execution_count": null,
      "outputs": []
    },
    {
      "cell_type": "code",
      "source": [
        "df.columns"
      ],
      "metadata": {
        "colab": {
          "base_uri": "https://localhost:8080/"
        },
        "id": "aOZ72bbmyYNl",
        "outputId": "b0a393ab-87d7-4d79-d23b-fffed91f0af1"
      },
      "execution_count": null,
      "outputs": [
        {
          "output_type": "execute_result",
          "data": {
            "text/plain": [
              "Index(['자치구', '동', '시설명', '주소', '위도', '경도', '위도UTMK', '경도UTMK', '도서관(500)',\n",
              "       '배움터(500)', '병원(500)', '공원(500)', '버스(100)', '지하철(250)', '동별전체인구',\n",
              "       '동별시니어수', '행정동별시니어비율', '유동인구', '디지털정보지수', '주변특성', '대중교통'],\n",
              "      dtype='object')"
            ]
          },
          "metadata": {},
          "execution_count": 18
        }
      ]
    },
    {
      "cell_type": "code",
      "source": [
        "df.drop(columns = ['도서관(500)', '배움터(500)', '병원(500)',\n",
        "       '공원(500)', '버스(100)', '지하철(250)'], inplace = True)"
      ],
      "metadata": {
        "id": "Ehg7co2ZydN0"
      },
      "execution_count": null,
      "outputs": []
    },
    {
      "cell_type": "code",
      "source": [
        "df.head(1)"
      ],
      "metadata": {
        "colab": {
          "base_uri": "https://localhost:8080/",
          "height": 81
        },
        "id": "lucsnem9yr27",
        "outputId": "43814d5c-c01a-4d74-abf4-a4a64e148417"
      },
      "execution_count": null,
      "outputs": [
        {
          "output_type": "execute_result",
          "data": {
            "text/plain": [
              "   자치구      동         시설명                 주소          위도            경도  \\\n",
              "0  종로구  청운효자동  청운효자동 주민센터  서울특별시 종로구 자하문로 92  126.970636  1.953680e+06   \n",
              "\n",
              "          위도UTMK  경도UTMK   동별전체인구  동별시니어수  행정동별시니어비율           유동인구  디지털정보지수  \\\n",
              "0  953451.030567  965.52  11978.0  2945.0   0.245867  336867.539821  2933.53   \n",
              "\n",
              "   주변특성  대중교통  \n",
              "0   0.0   1.0  "
            ],
            "text/html": [
              "\n",
              "  <div id=\"df-fd5f20c3-384d-4470-ad4b-ebdf9398e75b\">\n",
              "    <div class=\"colab-df-container\">\n",
              "      <div>\n",
              "<style scoped>\n",
              "    .dataframe tbody tr th:only-of-type {\n",
              "        vertical-align: middle;\n",
              "    }\n",
              "\n",
              "    .dataframe tbody tr th {\n",
              "        vertical-align: top;\n",
              "    }\n",
              "\n",
              "    .dataframe thead th {\n",
              "        text-align: right;\n",
              "    }\n",
              "</style>\n",
              "<table border=\"1\" class=\"dataframe\">\n",
              "  <thead>\n",
              "    <tr style=\"text-align: right;\">\n",
              "      <th></th>\n",
              "      <th>자치구</th>\n",
              "      <th>동</th>\n",
              "      <th>시설명</th>\n",
              "      <th>주소</th>\n",
              "      <th>위도</th>\n",
              "      <th>경도</th>\n",
              "      <th>위도UTMK</th>\n",
              "      <th>경도UTMK</th>\n",
              "      <th>동별전체인구</th>\n",
              "      <th>동별시니어수</th>\n",
              "      <th>행정동별시니어비율</th>\n",
              "      <th>유동인구</th>\n",
              "      <th>디지털정보지수</th>\n",
              "      <th>주변특성</th>\n",
              "      <th>대중교통</th>\n",
              "    </tr>\n",
              "  </thead>\n",
              "  <tbody>\n",
              "    <tr>\n",
              "      <th>0</th>\n",
              "      <td>종로구</td>\n",
              "      <td>청운효자동</td>\n",
              "      <td>청운효자동 주민센터</td>\n",
              "      <td>서울특별시 종로구 자하문로 92</td>\n",
              "      <td>126.970636</td>\n",
              "      <td>1.953680e+06</td>\n",
              "      <td>953451.030567</td>\n",
              "      <td>965.52</td>\n",
              "      <td>11978.0</td>\n",
              "      <td>2945.0</td>\n",
              "      <td>0.245867</td>\n",
              "      <td>336867.539821</td>\n",
              "      <td>2933.53</td>\n",
              "      <td>0.0</td>\n",
              "      <td>1.0</td>\n",
              "    </tr>\n",
              "  </tbody>\n",
              "</table>\n",
              "</div>\n",
              "      <button class=\"colab-df-convert\" onclick=\"convertToInteractive('df-fd5f20c3-384d-4470-ad4b-ebdf9398e75b')\"\n",
              "              title=\"Convert this dataframe to an interactive table.\"\n",
              "              style=\"display:none;\">\n",
              "        \n",
              "  <svg xmlns=\"http://www.w3.org/2000/svg\" height=\"24px\"viewBox=\"0 0 24 24\"\n",
              "       width=\"24px\">\n",
              "    <path d=\"M0 0h24v24H0V0z\" fill=\"none\"/>\n",
              "    <path d=\"M18.56 5.44l.94 2.06.94-2.06 2.06-.94-2.06-.94-.94-2.06-.94 2.06-2.06.94zm-11 1L8.5 8.5l.94-2.06 2.06-.94-2.06-.94L8.5 2.5l-.94 2.06-2.06.94zm10 10l.94 2.06.94-2.06 2.06-.94-2.06-.94-.94-2.06-.94 2.06-2.06.94z\"/><path d=\"M17.41 7.96l-1.37-1.37c-.4-.4-.92-.59-1.43-.59-.52 0-1.04.2-1.43.59L10.3 9.45l-7.72 7.72c-.78.78-.78 2.05 0 2.83L4 21.41c.39.39.9.59 1.41.59.51 0 1.02-.2 1.41-.59l7.78-7.78 2.81-2.81c.8-.78.8-2.07 0-2.86zM5.41 20L4 18.59l7.72-7.72 1.47 1.35L5.41 20z\"/>\n",
              "  </svg>\n",
              "      </button>\n",
              "      \n",
              "  <style>\n",
              "    .colab-df-container {\n",
              "      display:flex;\n",
              "      flex-wrap:wrap;\n",
              "      gap: 12px;\n",
              "    }\n",
              "\n",
              "    .colab-df-convert {\n",
              "      background-color: #E8F0FE;\n",
              "      border: none;\n",
              "      border-radius: 50%;\n",
              "      cursor: pointer;\n",
              "      display: none;\n",
              "      fill: #1967D2;\n",
              "      height: 32px;\n",
              "      padding: 0 0 0 0;\n",
              "      width: 32px;\n",
              "    }\n",
              "\n",
              "    .colab-df-convert:hover {\n",
              "      background-color: #E2EBFA;\n",
              "      box-shadow: 0px 1px 2px rgba(60, 64, 67, 0.3), 0px 1px 3px 1px rgba(60, 64, 67, 0.15);\n",
              "      fill: #174EA6;\n",
              "    }\n",
              "\n",
              "    [theme=dark] .colab-df-convert {\n",
              "      background-color: #3B4455;\n",
              "      fill: #D2E3FC;\n",
              "    }\n",
              "\n",
              "    [theme=dark] .colab-df-convert:hover {\n",
              "      background-color: #434B5C;\n",
              "      box-shadow: 0px 1px 3px 1px rgba(0, 0, 0, 0.15);\n",
              "      filter: drop-shadow(0px 1px 2px rgba(0, 0, 0, 0.3));\n",
              "      fill: #FFFFFF;\n",
              "    }\n",
              "  </style>\n",
              "\n",
              "      <script>\n",
              "        const buttonEl =\n",
              "          document.querySelector('#df-fd5f20c3-384d-4470-ad4b-ebdf9398e75b button.colab-df-convert');\n",
              "        buttonEl.style.display =\n",
              "          google.colab.kernel.accessAllowed ? 'block' : 'none';\n",
              "\n",
              "        async function convertToInteractive(key) {\n",
              "          const element = document.querySelector('#df-fd5f20c3-384d-4470-ad4b-ebdf9398e75b');\n",
              "          const dataTable =\n",
              "            await google.colab.kernel.invokeFunction('convertToInteractive',\n",
              "                                                     [key], {});\n",
              "          if (!dataTable) return;\n",
              "\n",
              "          const docLinkHtml = 'Like what you see? Visit the ' +\n",
              "            '<a target=\"_blank\" href=https://colab.research.google.com/notebooks/data_table.ipynb>data table notebook</a>'\n",
              "            + ' to learn more about interactive tables.';\n",
              "          element.innerHTML = '';\n",
              "          dataTable['output_type'] = 'display_data';\n",
              "          await google.colab.output.renderOutput(dataTable, element);\n",
              "          const docLink = document.createElement('div');\n",
              "          docLink.innerHTML = docLinkHtml;\n",
              "          element.appendChild(docLink);\n",
              "        }\n",
              "      </script>\n",
              "    </div>\n",
              "  </div>\n",
              "  "
            ]
          },
          "metadata": {},
          "execution_count": 20
        }
      ]
    },
    {
      "cell_type": "code",
      "source": [
        "# feature 변수만 X 변수로 저장 \n",
        "#X2 = df.select_dtypes(exclude = [object])"
      ],
      "metadata": {
        "id": "dWeCS4tbakqw"
      },
      "execution_count": null,
      "outputs": []
    },
    {
      "cell_type": "code",
      "source": [
        "# P-median 하기 위해 별도 생성 \n",
        "X2 = df.iloc[:, 8:]"
      ],
      "metadata": {
        "id": "iKsW1XfnHGZ3"
      },
      "execution_count": null,
      "outputs": []
    },
    {
      "cell_type": "code",
      "source": [
        "X2.columns"
      ],
      "metadata": {
        "colab": {
          "base_uri": "https://localhost:8080/"
        },
        "id": "ZtUsDQl4I58Z",
        "outputId": "d1ac99b8-1ea6-475c-9fdc-d2fd3e00082c"
      },
      "execution_count": null,
      "outputs": [
        {
          "output_type": "execute_result",
          "data": {
            "text/plain": [
              "Index(['동별전체인구', '동별시니어수', '행정동별시니어비율', '유동인구', '디지털정보지수', '주변특성', '대중교통'], dtype='object')"
            ]
          },
          "metadata": {},
          "execution_count": 23
        }
      ]
    },
    {
      "cell_type": "code",
      "source": [
        "pd.options.display.float_format = '{:.2f}'.format"
      ],
      "metadata": {
        "id": "4NUSE0BFcim9"
      },
      "execution_count": null,
      "outputs": []
    },
    {
      "cell_type": "code",
      "source": [
        "#Standardize data \n",
        "sc = StandardScaler()\n",
        "X2_sc = sc.fit_transform(X2)\n",
        "X2_sc"
      ],
      "metadata": {
        "id": "ptDyGgu-j4ha",
        "colab": {
          "base_uri": "https://localhost:8080/"
        },
        "outputId": "e2fd8f55-c92c-4bcc-9f09-fbbc614189ba"
      },
      "execution_count": null,
      "outputs": [
        {
          "output_type": "execute_result",
          "data": {
            "text/plain": [
              "array([[-1.18161867, -1.18315737, -0.10230478, ..., -1.23245372,\n",
              "        -0.95345728, -0.35057602],\n",
              "       [-1.46551641, -1.3969157 ,  0.25232014, ..., -1.46560497,\n",
              "         1.73275908, -0.35057602],\n",
              "       [-1.702461  , -1.30101574,  2.47134563, ..., -1.51050935,\n",
              "         2.62816453,  2.27358857],\n",
              "       ...,\n",
              "       [ 2.40196392,  1.48187563, -1.07072693, ...,  1.83560661,\n",
              "        -0.05805183,  0.96150628],\n",
              "       [-0.4402817 , -0.30616568,  0.20447717, ..., -0.34090115,\n",
              "        -0.95345728,  0.96150628],\n",
              "       [-1.21767782, -1.11235273,  0.31490026, ..., -1.13413517,\n",
              "        -0.05805183, -0.35057602]])"
            ]
          },
          "metadata": {},
          "execution_count": 25
        }
      ]
    },
    {
      "cell_type": "markdown",
      "source": [
        "#Sparse PCA "
      ],
      "metadata": {
        "id": "GYtLkEkx3Bgq"
      }
    },
    {
      "cell_type": "code",
      "source": [
        "from sklearn.decomposition import SparsePCA "
      ],
      "metadata": {
        "id": "5KP_1dxh3ENY"
      },
      "execution_count": null,
      "outputs": []
    },
    {
      "cell_type": "code",
      "source": [
        "spca = SparsePCA( alpha = 0.01, random_state = 42)\n",
        "pc = spca.fit_transform(X2_sc) # df 변수 확인 \n",
        "\n",
        "explained_variance = np.var(pc, axis=0) # 설명변수 \n",
        "explained_variance_ratio = explained_variance / np.sum(explained_variance) #누적 설명변수 \n",
        "\n",
        "print(\"variance ratio(분산비율) : \", np.var(pc, axis=0))\n",
        "print(\"culmulative variance ratio at SPC3 component : \", np.cumsum([e for e in explained_variance_ratio if e !=0]))\n"
      ],
      "metadata": {
        "id": "BlfFVVUW3FKR",
        "colab": {
          "base_uri": "https://localhost:8080/"
        },
        "outputId": "ed12ab2b-3c49-4f3b-fb45-a72af5e50f8b"
      },
      "execution_count": null,
      "outputs": [
        {
          "output_type": "stream",
          "name": "stdout",
          "text": [
            "variance ratio(분산비율) :  [2.65112229 0.81332618 0.95764062 0.83642131 0.28462836 0.23307647\n",
            " 0.06682052]\n",
            "culmulative variance ratio at SPC3 component :  [0.45372344 0.59291927 0.75681363 0.89996205 0.94867446 0.98856408\n",
            " 1.        ]\n"
          ]
        }
      ]
    },
    {
      "cell_type": "markdown",
      "source": [
        "* 궁금한 부분  \n",
        " * alpha값 조정은 무슨 기준으로 하면 되는지 \n",
        " * 분산비율이 어느정도가 적절한건지 \n",
        " * 누적이 이렇게 나오는게 맞는건지 ^^"
      ],
      "metadata": {
        "id": "i3WG7619eaI7"
      }
    },
    {
      "cell_type": "code",
      "source": [
        "# cumulative variance plot \n",
        "plt.figure(figsize = (15,6))\n",
        "plt.plot(range(0,np.cumsum([e for e in explained_variance_ratio if e !=0]).shape[0]), \n",
        "         np.cumsum([e for e in explained_variance_ratio if e !=0]), marker = 'o', linestyle = '--')\n",
        "\n",
        "plt.title('Explained Variance of Components')\n",
        "plt.xlabel('# of components')\n",
        "plt.ylabel('Cumulative explained variance')\n",
        "plt.show()"
      ],
      "metadata": {
        "colab": {
          "base_uri": "https://localhost:8080/",
          "height": 421
        },
        "id": "AL_Dw8qqerUG",
        "outputId": "9a186a18-9a2c-4892-8f37-ac9c49eef986"
      },
      "execution_count": null,
      "outputs": [
        {
          "output_type": "stream",
          "name": "stderr",
          "text": [
            "WARNING:matplotlib.font_manager:findfont: Font family ['NanumBarunGothic'] not found. Falling back to DejaVu Sans.\n"
          ]
        },
        {
          "output_type": "display_data",
          "data": {
            "text/plain": [
              "<Figure size 1080x432 with 1 Axes>"
            ],
            "image/png": "[encoded data removed]"
          },
          "metadata": {
            "needs_background": "light"
          }
        }
      ]
    },
    {
      "cell_type": "code",
      "source": [
        "spca = SparsePCA( n_components = 3, alpha = 0.01)\n",
        "pc = spca.fit_transform(X2_sc) # df 변수 확인 \n",
        "\n",
        "explained_variance = np.var(pc, axis=0) # 설명변수 \n",
        "explained_variance_ratio = explained_variance / np.sum(explained_variance) #누적 설명변수 \n",
        "\n",
        "print(\"variance ratio(분산비율) : \", np.var(pc, axis=0))\n",
        "print(\"culmulative variance ratio at SPC3 component : \", np.cumsum([e for e in explained_variance_ratio if e !=0]))\n"
      ],
      "metadata": {
        "colab": {
          "base_uri": "https://localhost:8080/"
        },
        "id": "8XUK_bRAf0pv",
        "outputId": "4f9938d0-4d74-40d5-c41d-1308a2130178"
      },
      "execution_count": null,
      "outputs": [
        {
          "output_type": "stream",
          "name": "stdout",
          "text": [
            "variance ratio(분산비율) :  [3.59046629 1.27364165 0.95530352]\n",
            "culmulative variance ratio at SPC3 component :  [0.616981  0.8358419 1.       ]\n"
          ]
        }
      ]
    },
    {
      "cell_type": "code",
      "source": [
        "spca_col = ['spca_component_'+ str(x+1) for x in range(3) ]\n",
        "f_spca = pd.DataFrame(pc, columns = spca_col)"
      ],
      "metadata": {
        "id": "1Q-bIGG541xL"
      },
      "execution_count": null,
      "outputs": []
    },
    {
      "cell_type": "code",
      "source": [
        "spca_components = pd.DataFrame(spca.components_, columns = list(X2.columns)) \n",
        "spca_components"
      ],
      "metadata": {
        "id": "QVpQqFjj5bEy",
        "colab": {
          "base_uri": "https://localhost:8080/",
          "height": 143
        },
        "outputId": "22e262df-3566-486d-b2e6-05573241a67b"
      },
      "execution_count": null,
      "outputs": [
        {
          "output_type": "execute_result",
          "data": {
            "text/plain": [
              "   동별전체인구  동별시니어수  행정동별시니어비율  유동인구  디지털정보지수  주변특성  대중교통\n",
              "0    0.49    0.51       0.00  0.48     0.51  0.05  0.00\n",
              "1   -0.26    0.10       0.76  0.13    -0.05  0.54  0.20\n",
              "2    0.07   -0.05      -0.26 -0.04     0.00  0.12  0.95"
            ],
            "text/html": [
              "\n",
              "  <div id=\"df-83482d66-d21b-49f1-80d8-2e765c131060\">\n",
              "    <div class=\"colab-df-container\">\n",
              "      <div>\n",
              "<style scoped>\n",
              "    .dataframe tbody tr th:only-of-type {\n",
              "        vertical-align: middle;\n",
              "    }\n",
              "\n",
              "    .dataframe tbody tr th {\n",
              "        vertical-align: top;\n",
              "    }\n",
              "\n",
              "    .dataframe thead th {\n",
              "        text-align: right;\n",
              "    }\n",
              "</style>\n",
              "<table border=\"1\" class=\"dataframe\">\n",
              "  <thead>\n",
              "    <tr style=\"text-align: right;\">\n",
              "      <th></th>\n",
              "      <th>동별전체인구</th>\n",
              "      <th>동별시니어수</th>\n",
              "      <th>행정동별시니어비율</th>\n",
              "      <th>유동인구</th>\n",
              "      <th>디지털정보지수</th>\n",
              "      <th>주변특성</th>\n",
              "      <th>대중교통</th>\n",
              "    </tr>\n",
              "  </thead>\n",
              "  <tbody>\n",
              "    <tr>\n",
              "      <th>0</th>\n",
              "      <td>0.49</td>\n",
              "      <td>0.51</td>\n",
              "      <td>0.00</td>\n",
              "      <td>0.48</td>\n",
              "      <td>0.51</td>\n",
              "      <td>0.05</td>\n",
              "      <td>0.00</td>\n",
              "    </tr>\n",
              "    <tr>\n",
              "      <th>1</th>\n",
              "      <td>-0.26</td>\n",
              "      <td>0.10</td>\n",
              "      <td>0.76</td>\n",
              "      <td>0.13</td>\n",
              "      <td>-0.05</td>\n",
              "      <td>0.54</td>\n",
              "      <td>0.20</td>\n",
              "    </tr>\n",
              "    <tr>\n",
              "      <th>2</th>\n",
              "      <td>0.07</td>\n",
              "      <td>-0.05</td>\n",
              "      <td>-0.26</td>\n",
              "      <td>-0.04</td>\n",
              "      <td>0.00</td>\n",
              "      <td>0.12</td>\n",
              "      <td>0.95</td>\n",
              "    </tr>\n",
              "  </tbody>\n",
              "</table>\n",
              "</div>\n",
              "      <button class=\"colab-df-convert\" onclick=\"convertToInteractive('df-83482d66-d21b-49f1-80d8-2e765c131060')\"\n",
              "              title=\"Convert this dataframe to an interactive table.\"\n",
              "              style=\"display:none;\">\n",
              "        \n",
              "  <svg xmlns=\"http://www.w3.org/2000/svg\" height=\"24px\"viewBox=\"0 0 24 24\"\n",
              "       width=\"24px\">\n",
              "    <path d=\"M0 0h24v24H0V0z\" fill=\"none\"/>\n",
              "    <path d=\"M18.56 5.44l.94 2.06.94-2.06 2.06-.94-2.06-.94-.94-2.06-.94 2.06-2.06.94zm-11 1L8.5 8.5l.94-2.06 2.06-.94-2.06-.94L8.5 2.5l-.94 2.06-2.06.94zm10 10l.94 2.06.94-2.06 2.06-.94-2.06-.94-.94-2.06-.94 2.06-2.06.94z\"/><path d=\"M17.41 7.96l-1.37-1.37c-.4-.4-.92-.59-1.43-.59-.52 0-1.04.2-1.43.59L10.3 9.45l-7.72 7.72c-.78.78-.78 2.05 0 2.83L4 21.41c.39.39.9.59 1.41.59.51 0 1.02-.2 1.41-.59l7.78-7.78 2.81-2.81c.8-.78.8-2.07 0-2.86zM5.41 20L4 18.59l7.72-7.72 1.47 1.35L5.41 20z\"/>\n",
              "  </svg>\n",
              "      </button>\n",
              "      \n",
              "  <style>\n",
              "    .colab-df-container {\n",
              "      display:flex;\n",
              "      flex-wrap:wrap;\n",
              "      gap: 12px;\n",
              "    }\n",
              "\n",
              "    .colab-df-convert {\n",
              "      background-color: #E8F0FE;\n",
              "      border: none;\n",
              "      border-radius: 50%;\n",
              "      cursor: pointer;\n",
              "      display: none;\n",
              "      fill: #1967D2;\n",
              "      height: 32px;\n",
              "      padding: 0 0 0 0;\n",
              "      width: 32px;\n",
              "    }\n",
              "\n",
              "    .colab-df-convert:hover {\n",
              "      background-color: #E2EBFA;\n",
              "      box-shadow: 0px 1px 2px rgba(60, 64, 67, 0.3), 0px 1px 3px 1px rgba(60, 64, 67, 0.15);\n",
              "      fill: #174EA6;\n",
              "    }\n",
              "\n",
              "    [theme=dark] .colab-df-convert {\n",
              "      background-color: #3B4455;\n",
              "      fill: #D2E3FC;\n",
              "    }\n",
              "\n",
              "    [theme=dark] .colab-df-convert:hover {\n",
              "      background-color: #434B5C;\n",
              "      box-shadow: 0px 1px 3px 1px rgba(0, 0, 0, 0.15);\n",
              "      filter: drop-shadow(0px 1px 2px rgba(0, 0, 0, 0.3));\n",
              "      fill: #FFFFFF;\n",
              "    }\n",
              "  </style>\n",
              "\n",
              "      <script>\n",
              "        const buttonEl =\n",
              "          document.querySelector('#df-83482d66-d21b-49f1-80d8-2e765c131060 button.colab-df-convert');\n",
              "        buttonEl.style.display =\n",
              "          google.colab.kernel.accessAllowed ? 'block' : 'none';\n",
              "\n",
              "        async function convertToInteractive(key) {\n",
              "          const element = document.querySelector('#df-83482d66-d21b-49f1-80d8-2e765c131060');\n",
              "          const dataTable =\n",
              "            await google.colab.kernel.invokeFunction('convertToInteractive',\n",
              "                                                     [key], {});\n",
              "          if (!dataTable) return;\n",
              "\n",
              "          const docLinkHtml = 'Like what you see? Visit the ' +\n",
              "            '<a target=\"_blank\" href=https://colab.research.google.com/notebooks/data_table.ipynb>data table notebook</a>'\n",
              "            + ' to learn more about interactive tables.';\n",
              "          element.innerHTML = '';\n",
              "          dataTable['output_type'] = 'display_data';\n",
              "          await google.colab.output.renderOutput(dataTable, element);\n",
              "          const docLink = document.createElement('div');\n",
              "          docLink.innerHTML = docLinkHtml;\n",
              "          element.appendChild(docLink);\n",
              "        }\n",
              "      </script>\n",
              "    </div>\n",
              "  </div>\n",
              "  "
            ]
          },
          "metadata": {},
          "execution_count": 31
        }
      ]
    },
    {
      "cell_type": "code",
      "source": [
        "# SPCA축의 가장 중요한 변수\n",
        "n_pcs= spca.components_.shape[0]\n",
        "most_important = [np.abs(spca.components_[i]).argmax() for i in range(n_pcs)]\n",
        "\n",
        "initial_feature_names = X2.columns # Xcolumns\n",
        "most_important_names = [initial_feature_names[most_important[i]] for i in range(n_pcs)]\n",
        "\n",
        "dic = {'PC{}'.format(i+1): most_important_names[i] for i in range(n_pcs)}\n",
        "\n",
        "df_pca = pd.DataFrame(dic.items())\n",
        "df_pca.columns = ['spca','element']\n",
        "df_pca['value']=None\n",
        "for i in range(len(df_pca)):\n",
        "    a = df_pca['element'][i]\n",
        "    df_pca['value'][i] = spca_components[a][i]\n",
        "    \n",
        "df_pca"
      ],
      "metadata": {
        "id": "3o3sSK5H6Elt",
        "colab": {
          "base_uri": "https://localhost:8080/",
          "height": 143
        },
        "outputId": "e1990dd3-939f-4bfb-a61c-68e4b7ba1686"
      },
      "execution_count": null,
      "outputs": [
        {
          "output_type": "execute_result",
          "data": {
            "text/plain": [
              "  spca    element value\n",
              "0  PC1    디지털정보지수  0.51\n",
              "1  PC2  행정동별시니어비율  0.76\n",
              "2  PC3       대중교통  0.95"
            ],
            "text/html": [
              "\n",
              "  <div id=\"df-bc4009ac-e27f-4de2-a9a0-5eedfd69ab4e\">\n",
              "    <div class=\"colab-df-container\">\n",
              "      <div>\n",
              "<style scoped>\n",
              "    .dataframe tbody tr th:only-of-type {\n",
              "        vertical-align: middle;\n",
              "    }\n",
              "\n",
              "    .dataframe tbody tr th {\n",
              "        vertical-align: top;\n",
              "    }\n",
              "\n",
              "    .dataframe thead th {\n",
              "        text-align: right;\n",
              "    }\n",
              "</style>\n",
              "<table border=\"1\" class=\"dataframe\">\n",
              "  <thead>\n",
              "    <tr style=\"text-align: right;\">\n",
              "      <th></th>\n",
              "      <th>spca</th>\n",
              "      <th>element</th>\n",
              "      <th>value</th>\n",
              "    </tr>\n",
              "  </thead>\n",
              "  <tbody>\n",
              "    <tr>\n",
              "      <th>0</th>\n",
              "      <td>PC1</td>\n",
              "      <td>디지털정보지수</td>\n",
              "      <td>0.51</td>\n",
              "    </tr>\n",
              "    <tr>\n",
              "      <th>1</th>\n",
              "      <td>PC2</td>\n",
              "      <td>행정동별시니어비율</td>\n",
              "      <td>0.76</td>\n",
              "    </tr>\n",
              "    <tr>\n",
              "      <th>2</th>\n",
              "      <td>PC3</td>\n",
              "      <td>대중교통</td>\n",
              "      <td>0.95</td>\n",
              "    </tr>\n",
              "  </tbody>\n",
              "</table>\n",
              "</div>\n",
              "      <button class=\"colab-df-convert\" onclick=\"convertToInteractive('df-bc4009ac-e27f-4de2-a9a0-5eedfd69ab4e')\"\n",
              "              title=\"Convert this dataframe to an interactive table.\"\n",
              "              style=\"display:none;\">\n",
              "        \n",
              "  <svg xmlns=\"http://www.w3.org/2000/svg\" height=\"24px\"viewBox=\"0 0 24 24\"\n",
              "       width=\"24px\">\n",
              "    <path d=\"M0 0h24v24H0V0z\" fill=\"none\"/>\n",
              "    <path d=\"M18.56 5.44l.94 2.06.94-2.06 2.06-.94-2.06-.94-.94-2.06-.94 2.06-2.06.94zm-11 1L8.5 8.5l.94-2.06 2.06-.94-2.06-.94L8.5 2.5l-.94 2.06-2.06.94zm10 10l.94 2.06.94-2.06 2.06-.94-2.06-.94-.94-2.06-.94 2.06-2.06.94z\"/><path d=\"M17.41 7.96l-1.37-1.37c-.4-.4-.92-.59-1.43-.59-.52 0-1.04.2-1.43.59L10.3 9.45l-7.72 7.72c-.78.78-.78 2.05 0 2.83L4 21.41c.39.39.9.59 1.41.59.51 0 1.02-.2 1.41-.59l7.78-7.78 2.81-2.81c.8-.78.8-2.07 0-2.86zM5.41 20L4 18.59l7.72-7.72 1.47 1.35L5.41 20z\"/>\n",
              "  </svg>\n",
              "      </button>\n",
              "      \n",
              "  <style>\n",
              "    .colab-df-container {\n",
              "      display:flex;\n",
              "      flex-wrap:wrap;\n",
              "      gap: 12px;\n",
              "    }\n",
              "\n",
              "    .colab-df-convert {\n",
              "      background-color: #E8F0FE;\n",
              "      border: none;\n",
              "      border-radius: 50%;\n",
              "      cursor: pointer;\n",
              "      display: none;\n",
              "      fill: #1967D2;\n",
              "      height: 32px;\n",
              "      padding: 0 0 0 0;\n",
              "      width: 32px;\n",
              "    }\n",
              "\n",
              "    .colab-df-convert:hover {\n",
              "      background-color: #E2EBFA;\n",
              "      box-shadow: 0px 1px 2px rgba(60, 64, 67, 0.3), 0px 1px 3px 1px rgba(60, 64, 67, 0.15);\n",
              "      fill: #174EA6;\n",
              "    }\n",
              "\n",
              "    [theme=dark] .colab-df-convert {\n",
              "      background-color: #3B4455;\n",
              "      fill: #D2E3FC;\n",
              "    }\n",
              "\n",
              "    [theme=dark] .colab-df-convert:hover {\n",
              "      background-color: #434B5C;\n",
              "      box-shadow: 0px 1px 3px 1px rgba(0, 0, 0, 0.15);\n",
              "      filter: drop-shadow(0px 1px 2px rgba(0, 0, 0, 0.3));\n",
              "      fill: #FFFFFF;\n",
              "    }\n",
              "  </style>\n",
              "\n",
              "      <script>\n",
              "        const buttonEl =\n",
              "          document.querySelector('#df-bc4009ac-e27f-4de2-a9a0-5eedfd69ab4e button.colab-df-convert');\n",
              "        buttonEl.style.display =\n",
              "          google.colab.kernel.accessAllowed ? 'block' : 'none';\n",
              "\n",
              "        async function convertToInteractive(key) {\n",
              "          const element = document.querySelector('#df-bc4009ac-e27f-4de2-a9a0-5eedfd69ab4e');\n",
              "          const dataTable =\n",
              "            await google.colab.kernel.invokeFunction('convertToInteractive',\n",
              "                                                     [key], {});\n",
              "          if (!dataTable) return;\n",
              "\n",
              "          const docLinkHtml = 'Like what you see? Visit the ' +\n",
              "            '<a target=\"_blank\" href=https://colab.research.google.com/notebooks/data_table.ipynb>data table notebook</a>'\n",
              "            + ' to learn more about interactive tables.';\n",
              "          element.innerHTML = '';\n",
              "          dataTable['output_type'] = 'display_data';\n",
              "          await google.colab.output.renderOutput(dataTable, element);\n",
              "          const docLink = document.createElement('div');\n",
              "          docLink.innerHTML = docLinkHtml;\n",
              "          element.appendChild(docLink);\n",
              "        }\n",
              "      </script>\n",
              "    </div>\n",
              "  </div>\n",
              "  "
            ]
          },
          "metadata": {},
          "execution_count": 32
        }
      ]
    },
    {
      "cell_type": "markdown",
      "source": [
        "# K-MEANS Clustering "
      ],
      "metadata": {
        "id": "wAV3CPTSlhJ1"
      }
    },
    {
      "cell_type": "code",
      "source": [
        "#K-means Clustering \n",
        "inertia = []\n",
        "for i in range(1,10):\n",
        "    kmeans_spca = KMeans(n_clusters = i, init = 'k-means++', random_state = 42)\n",
        "    kmeans_spca.fit(pc)\n",
        "    inertia.append(kmeans_spca.inertia_)\n",
        "    \n",
        "# 최적의 Cluster 개수 찾기 (elbow point)\n",
        "plt.figure(figsize = (10,8))\n",
        "plt.plot(range(1,10), inertia, marker = 'o', linestyle = '--')\n",
        "plt.xlabel('# of clusters')\n",
        "plt.ylabel('inertia')\n",
        "plt.title('K-means with SPCA clustering')\n",
        "plt.show()"
      ],
      "metadata": {
        "colab": {
          "base_uri": "https://localhost:8080/",
          "height": 513
        },
        "id": "bbpSsbWph38n",
        "outputId": "1dd6c260-3e06-4f43-abfe-c67b5a0508b6"
      },
      "execution_count": null,
      "outputs": [
        {
          "output_type": "display_data",
          "data": {
            "text/plain": [
              "<Figure size 720x576 with 1 Axes>"
            ],
            "image/png": "[encoded data removed]"
          },
          "metadata": {
            "needs_background": "light"
          }
        }
      ]
    },
    {
      "cell_type": "markdown",
      "source": [
        "* inertia : k-평균 알고리즘은 클러스터 중심과 클러스터에 속한 샘플 사이의 거리를 잴 수 있는데,이 거리의 제곱 합을 이너셔(intertia)라고 부른다.이너셔는 클러스터에 속한 샘플이 얼마나 가깝게 모여 있는지를 나타내는 값이라고 생각할 수 있다.일반적으로 클러스터의 개수가 늘어나면 클러스터 개개의 크기는 줄어들기 때문에, 이너셔 또한 함께 줄어든다."
      ],
      "metadata": {
        "id": "H8C0SdZJnowH"
      }
    },
    {
      "cell_type": "code",
      "source": [
        "kmeans_spca = KMeans(n_clusters = 3, init = 'k-means++', random_state = 100)\n",
        "kmeans_spca.fit(pc)\n",
        "\n",
        "df['kmeans'] = kmeans_spca.labels_\n",
        "\n",
        "kmeans_spca_df = pd.concat([df, f_spca], axis = 1)\n",
        "kmeans_spca_df.head(3)\n"
      ],
      "metadata": {
        "colab": {
          "base_uri": "https://localhost:8080/",
          "height": 257
        },
        "id": "81gVt1CBoXGL",
        "outputId": "89d39552-8254-49d1-9242-b006f159cf6d"
      },
      "execution_count": null,
      "outputs": [
        {
          "output_type": "execute_result",
          "data": {
            "text/plain": [
              "   자치구            동           시설명                 주소     위도         경도  \\\n",
              "0  종로구        청운효자동    청운효자동 주민센터  서울특별시 종로구 자하문로 92 126.97 1953680.41   \n",
              "1  종로구          사직동      사직동 주민센터  서울특별시 종로구 사직로9길 1 126.97 1952805.72   \n",
              "2  종로구  종로1.2.3.4가동  종로1-4가동 주민센터  서울특별시 종로구 종로17길 8 126.99 1952189.71   \n",
              "\n",
              "     위도UTMK  경도UTMK   동별전체인구  동별시니어수  행정동별시니어비율      유동인구  디지털정보지수  주변특성  \\\n",
              "0 953451.03  965.52 11978.00 2945.00       0.25 336867.54  2933.53  0.00   \n",
              "1 953286.59  346.65  9372.00 2468.00       0.26 282305.29  2406.94  3.00   \n",
              "2 955056.68 1981.09  7197.00 2682.00       0.37 306783.95  2305.52  4.00   \n",
              "\n",
              "   대중교통  kmeans  spca_component_1  spca_component_2  spca_component_3  \n",
              "0  1.00       2             -1.86             -0.42             -0.44  \n",
              "1  1.00       2             -2.28              1.27             -0.25  \n",
              "2  5.00       2             -2.20              3.97              1.66  "
            ],
            "text/html": [
              "\n",
              "  <div id=\"df-5ebc6936-060f-4df6-864f-6b5581cac520\">\n",
              "    <div class=\"colab-df-container\">\n",
              "      <div>\n",
              "<style scoped>\n",
              "    .dataframe tbody tr th:only-of-type {\n",
              "        vertical-align: middle;\n",
              "    }\n",
              "\n",
              "    .dataframe tbody tr th {\n",
              "        vertical-align: top;\n",
              "    }\n",
              "\n",
              "    .dataframe thead th {\n",
              "        text-align: right;\n",
              "    }\n",
              "</style>\n",
              "<table border=\"1\" class=\"dataframe\">\n",
              "  <thead>\n",
              "    <tr style=\"text-align: right;\">\n",
              "      <th></th>\n",
              "      <th>자치구</th>\n",
              "      <th>동</th>\n",
              "      <th>시설명</th>\n",
              "      <th>주소</th>\n",
              "      <th>위도</th>\n",
              "      <th>경도</th>\n",
              "      <th>위도UTMK</th>\n",
              "      <th>경도UTMK</th>\n",
              "      <th>동별전체인구</th>\n",
              "      <th>동별시니어수</th>\n",
              "      <th>행정동별시니어비율</th>\n",
              "      <th>유동인구</th>\n",
              "      <th>디지털정보지수</th>\n",
              "      <th>주변특성</th>\n",
              "      <th>대중교통</th>\n",
              "      <th>kmeans</th>\n",
              "      <th>spca_component_1</th>\n",
              "      <th>spca_component_2</th>\n",
              "      <th>spca_component_3</th>\n",
              "    </tr>\n",
              "  </thead>\n",
              "  <tbody>\n",
              "    <tr>\n",
              "      <th>0</th>\n",
              "      <td>종로구</td>\n",
              "      <td>청운효자동</td>\n",
              "      <td>청운효자동 주민센터</td>\n",
              "      <td>서울특별시 종로구 자하문로 92</td>\n",
              "      <td>126.97</td>\n",
              "      <td>1953680.41</td>\n",
              "      <td>953451.03</td>\n",
              "      <td>965.52</td>\n",
              "      <td>11978.00</td>\n",
              "      <td>2945.00</td>\n",
              "      <td>0.25</td>\n",
              "      <td>336867.54</td>\n",
              "      <td>2933.53</td>\n",
              "      <td>0.00</td>\n",
              "      <td>1.00</td>\n",
              "      <td>2</td>\n",
              "      <td>-1.86</td>\n",
              "      <td>-0.42</td>\n",
              "      <td>-0.44</td>\n",
              "    </tr>\n",
              "    <tr>\n",
              "      <th>1</th>\n",
              "      <td>종로구</td>\n",
              "      <td>사직동</td>\n",
              "      <td>사직동 주민센터</td>\n",
              "      <td>서울특별시 종로구 사직로9길 1</td>\n",
              "      <td>126.97</td>\n",
              "      <td>1952805.72</td>\n",
              "      <td>953286.59</td>\n",
              "      <td>346.65</td>\n",
              "      <td>9372.00</td>\n",
              "      <td>2468.00</td>\n",
              "      <td>0.26</td>\n",
              "      <td>282305.29</td>\n",
              "      <td>2406.94</td>\n",
              "      <td>3.00</td>\n",
              "      <td>1.00</td>\n",
              "      <td>2</td>\n",
              "      <td>-2.28</td>\n",
              "      <td>1.27</td>\n",
              "      <td>-0.25</td>\n",
              "    </tr>\n",
              "    <tr>\n",
              "      <th>2</th>\n",
              "      <td>종로구</td>\n",
              "      <td>종로1.2.3.4가동</td>\n",
              "      <td>종로1-4가동 주민센터</td>\n",
              "      <td>서울특별시 종로구 종로17길 8</td>\n",
              "      <td>126.99</td>\n",
              "      <td>1952189.71</td>\n",
              "      <td>955056.68</td>\n",
              "      <td>1981.09</td>\n",
              "      <td>7197.00</td>\n",
              "      <td>2682.00</td>\n",
              "      <td>0.37</td>\n",
              "      <td>306783.95</td>\n",
              "      <td>2305.52</td>\n",
              "      <td>4.00</td>\n",
              "      <td>5.00</td>\n",
              "      <td>2</td>\n",
              "      <td>-2.20</td>\n",
              "      <td>3.97</td>\n",
              "      <td>1.66</td>\n",
              "    </tr>\n",
              "  </tbody>\n",
              "</table>\n",
              "</div>\n",
              "      <button class=\"colab-df-convert\" onclick=\"convertToInteractive('df-5ebc6936-060f-4df6-864f-6b5581cac520')\"\n",
              "              title=\"Convert this dataframe to an interactive table.\"\n",
              "              style=\"display:none;\">\n",
              "        \n",
              "  <svg xmlns=\"http://www.w3.org/2000/svg\" height=\"24px\"viewBox=\"0 0 24 24\"\n",
              "       width=\"24px\">\n",
              "    <path d=\"M0 0h24v24H0V0z\" fill=\"none\"/>\n",
              "    <path d=\"M18.56 5.44l.94 2.06.94-2.06 2.06-.94-2.06-.94-.94-2.06-.94 2.06-2.06.94zm-11 1L8.5 8.5l.94-2.06 2.06-.94-2.06-.94L8.5 2.5l-.94 2.06-2.06.94zm10 10l.94 2.06.94-2.06 2.06-.94-2.06-.94-.94-2.06-.94 2.06-2.06.94z\"/><path d=\"M17.41 7.96l-1.37-1.37c-.4-.4-.92-.59-1.43-.59-.52 0-1.04.2-1.43.59L10.3 9.45l-7.72 7.72c-.78.78-.78 2.05 0 2.83L4 21.41c.39.39.9.59 1.41.59.51 0 1.02-.2 1.41-.59l7.78-7.78 2.81-2.81c.8-.78.8-2.07 0-2.86zM5.41 20L4 18.59l7.72-7.72 1.47 1.35L5.41 20z\"/>\n",
              "  </svg>\n",
              "      </button>\n",
              "      \n",
              "  <style>\n",
              "    .colab-df-container {\n",
              "      display:flex;\n",
              "      flex-wrap:wrap;\n",
              "      gap: 12px;\n",
              "    }\n",
              "\n",
              "    .colab-df-convert {\n",
              "      background-color: #E8F0FE;\n",
              "      border: none;\n",
              "      border-radius: 50%;\n",
              "      cursor: pointer;\n",
              "      display: none;\n",
              "      fill: #1967D2;\n",
              "      height: 32px;\n",
              "      padding: 0 0 0 0;\n",
              "      width: 32px;\n",
              "    }\n",
              "\n",
              "    .colab-df-convert:hover {\n",
              "      background-color: #E2EBFA;\n",
              "      box-shadow: 0px 1px 2px rgba(60, 64, 67, 0.3), 0px 1px 3px 1px rgba(60, 64, 67, 0.15);\n",
              "      fill: #174EA6;\n",
              "    }\n",
              "\n",
              "    [theme=dark] .colab-df-convert {\n",
              "      background-color: #3B4455;\n",
              "      fill: #D2E3FC;\n",
              "    }\n",
              "\n",
              "    [theme=dark] .colab-df-convert:hover {\n",
              "      background-color: #434B5C;\n",
              "      box-shadow: 0px 1px 3px 1px rgba(0, 0, 0, 0.15);\n",
              "      filter: drop-shadow(0px 1px 2px rgba(0, 0, 0, 0.3));\n",
              "      fill: #FFFFFF;\n",
              "    }\n",
              "  </style>\n",
              "\n",
              "      <script>\n",
              "        const buttonEl =\n",
              "          document.querySelector('#df-5ebc6936-060f-4df6-864f-6b5581cac520 button.colab-df-convert');\n",
              "        buttonEl.style.display =\n",
              "          google.colab.kernel.accessAllowed ? 'block' : 'none';\n",
              "\n",
              "        async function convertToInteractive(key) {\n",
              "          const element = document.querySelector('#df-5ebc6936-060f-4df6-864f-6b5581cac520');\n",
              "          const dataTable =\n",
              "            await google.colab.kernel.invokeFunction('convertToInteractive',\n",
              "                                                     [key], {});\n",
              "          if (!dataTable) return;\n",
              "\n",
              "          const docLinkHtml = 'Like what you see? Visit the ' +\n",
              "            '<a target=\"_blank\" href=https://colab.research.google.com/notebooks/data_table.ipynb>data table notebook</a>'\n",
              "            + ' to learn more about interactive tables.';\n",
              "          element.innerHTML = '';\n",
              "          dataTable['output_type'] = 'display_data';\n",
              "          await google.colab.output.renderOutput(dataTable, element);\n",
              "          const docLink = document.createElement('div');\n",
              "          docLink.innerHTML = docLinkHtml;\n",
              "          element.appendChild(docLink);\n",
              "        }\n",
              "      </script>\n",
              "    </div>\n",
              "  </div>\n",
              "  "
            ]
          },
          "metadata": {},
          "execution_count": 34
        }
      ]
    },
    {
      "cell_type": "code",
      "source": [
        "# kmeans group \n",
        "group0 = kmeans_spca_df[kmeans_spca_df[\"kmeans\"] == 0]\n",
        "group1 = kmeans_spca_df[kmeans_spca_df[\"kmeans\"] == 1]\n",
        "group2 = kmeans_spca_df[kmeans_spca_df[\"kmeans\"] == 2]\n",
        "#group3 = kmeans_spca_df[kmeans_spca_df[\"kmeans\"] == 3]\n",
        "\n",
        "group0.shape, group1.shape, group2.shape#, group3.shape"
      ],
      "metadata": {
        "colab": {
          "base_uri": "https://localhost:8080/"
        },
        "id": "4906Bw7_p23c",
        "outputId": "aae282d0-6a7c-4622-a2aa-5a62dbad3429"
      },
      "execution_count": null,
      "outputs": [
        {
          "output_type": "execute_result",
          "data": {
            "text/plain": [
              "((101, 19), (251, 19), (157, 19))"
            ]
          },
          "metadata": {},
          "execution_count": 35
        }
      ]
    },
    {
      "cell_type": "code",
      "source": [
        "kmeans_spca_df['kmeans'].value_counts()"
      ],
      "metadata": {
        "colab": {
          "base_uri": "https://localhost:8080/"
        },
        "id": "kn6BdGYvsXOd",
        "outputId": "4a5a46ae-f2c0-4578-ff68-1f6b0b3b3ba6"
      },
      "execution_count": null,
      "outputs": [
        {
          "output_type": "execute_result",
          "data": {
            "text/plain": [
              "1    251\n",
              "2    157\n",
              "0    101\n",
              "Name: kmeans, dtype: int64"
            ]
          },
          "metadata": {},
          "execution_count": 36
        }
      ]
    },
    {
      "cell_type": "code",
      "source": [
        "cluster_mean = kmeans_spca_df.groupby('kmeans').mean()\n",
        "cluster_mean"
      ],
      "metadata": {
        "colab": {
          "base_uri": "https://localhost:8080/",
          "height": 175
        },
        "id": "fzEKIgKb1zlK",
        "outputId": "3ff925f2-5935-44a2-9c08-afe3a859afca"
      },
      "execution_count": null,
      "outputs": [
        {
          "output_type": "execute_result",
          "data": {
            "text/plain": [
              "           위도         경도    위도UTMK  경도UTMK   동별전체인구  동별시니어수  행정동별시니어비율  \\\n",
              "kmeans                                                                   \n",
              "0      126.98 1951129.23 954444.44 1860.37 35087.24 8905.78       0.26   \n",
              "1      127.00 1949650.23 955681.81 2004.38 23854.45 5687.67       0.24   \n",
              "2      126.99 1949934.48 955580.62 1842.74 13289.14 3285.24       0.26   \n",
              "\n",
              "            유동인구  디지털정보지수  주변특성  대중교통  spca_component_1  spca_component_2  \\\n",
              "kmeans                                                                      \n",
              "0      513966.90  8998.05  1.39  1.60              2.84              0.25   \n",
              "1      341911.32  5898.89  0.92  1.66              0.12             -0.19   \n",
              "2      221364.72  3315.86  1.09  1.29             -2.02              0.14   \n",
              "\n",
              "        spca_component_3  \n",
              "kmeans                    \n",
              "0                   0.00  \n",
              "1                   0.11  \n",
              "2                  -0.17  "
            ],
            "text/html": [
              "\n",
              "  <div id=\"df-2222b13f-81b8-41ca-a70d-32e748570100\">\n",
              "    <div class=\"colab-df-container\">\n",
              "      <div>\n",
              "<style scoped>\n",
              "    .dataframe tbody tr th:only-of-type {\n",
              "        vertical-align: middle;\n",
              "    }\n",
              "\n",
              "    .dataframe tbody tr th {\n",
              "        vertical-align: top;\n",
              "    }\n",
              "\n",
              "    .dataframe thead th {\n",
              "        text-align: right;\n",
              "    }\n",
              "</style>\n",
              "<table border=\"1\" class=\"dataframe\">\n",
              "  <thead>\n",
              "    <tr style=\"text-align: right;\">\n",
              "      <th></th>\n",
              "      <th>위도</th>\n",
              "      <th>경도</th>\n",
              "      <th>위도UTMK</th>\n",
              "      <th>경도UTMK</th>\n",
              "      <th>동별전체인구</th>\n",
              "      <th>동별시니어수</th>\n",
              "      <th>행정동별시니어비율</th>\n",
              "      <th>유동인구</th>\n",
              "      <th>디지털정보지수</th>\n",
              "      <th>주변특성</th>\n",
              "      <th>대중교통</th>\n",
              "      <th>spca_component_1</th>\n",
              "      <th>spca_component_2</th>\n",
              "      <th>spca_component_3</th>\n",
              "    </tr>\n",
              "    <tr>\n",
              "      <th>kmeans</th>\n",
              "      <th></th>\n",
              "      <th></th>\n",
              "      <th></th>\n",
              "      <th></th>\n",
              "      <th></th>\n",
              "      <th></th>\n",
              "      <th></th>\n",
              "      <th></th>\n",
              "      <th></th>\n",
              "      <th></th>\n",
              "      <th></th>\n",
              "      <th></th>\n",
              "      <th></th>\n",
              "      <th></th>\n",
              "    </tr>\n",
              "  </thead>\n",
              "  <tbody>\n",
              "    <tr>\n",
              "      <th>0</th>\n",
              "      <td>126.98</td>\n",
              "      <td>1951129.23</td>\n",
              "      <td>954444.44</td>\n",
              "      <td>1860.37</td>\n",
              "      <td>35087.24</td>\n",
              "      <td>8905.78</td>\n",
              "      <td>0.26</td>\n",
              "      <td>513966.90</td>\n",
              "      <td>8998.05</td>\n",
              "      <td>1.39</td>\n",
              "      <td>1.60</td>\n",
              "      <td>2.84</td>\n",
              "      <td>0.25</td>\n",
              "      <td>0.00</td>\n",
              "    </tr>\n",
              "    <tr>\n",
              "      <th>1</th>\n",
              "      <td>127.00</td>\n",
              "      <td>1949650.23</td>\n",
              "      <td>955681.81</td>\n",
              "      <td>2004.38</td>\n",
              "      <td>23854.45</td>\n",
              "      <td>5687.67</td>\n",
              "      <td>0.24</td>\n",
              "      <td>341911.32</td>\n",
              "      <td>5898.89</td>\n",
              "      <td>0.92</td>\n",
              "      <td>1.66</td>\n",
              "      <td>0.12</td>\n",
              "      <td>-0.19</td>\n",
              "      <td>0.11</td>\n",
              "    </tr>\n",
              "    <tr>\n",
              "      <th>2</th>\n",
              "      <td>126.99</td>\n",
              "      <td>1949934.48</td>\n",
              "      <td>955580.62</td>\n",
              "      <td>1842.74</td>\n",
              "      <td>13289.14</td>\n",
              "      <td>3285.24</td>\n",
              "      <td>0.26</td>\n",
              "      <td>221364.72</td>\n",
              "      <td>3315.86</td>\n",
              "      <td>1.09</td>\n",
              "      <td>1.29</td>\n",
              "      <td>-2.02</td>\n",
              "      <td>0.14</td>\n",
              "      <td>-0.17</td>\n",
              "    </tr>\n",
              "  </tbody>\n",
              "</table>\n",
              "</div>\n",
              "      <button class=\"colab-df-convert\" onclick=\"convertToInteractive('df-2222b13f-81b8-41ca-a70d-32e748570100')\"\n",
              "              title=\"Convert this dataframe to an interactive table.\"\n",
              "              style=\"display:none;\">\n",
              "        \n",
              "  <svg xmlns=\"http://www.w3.org/2000/svg\" height=\"24px\"viewBox=\"0 0 24 24\"\n",
              "       width=\"24px\">\n",
              "    <path d=\"M0 0h24v24H0V0z\" fill=\"none\"/>\n",
              "    <path d=\"M18.56 5.44l.94 2.06.94-2.06 2.06-.94-2.06-.94-.94-2.06-.94 2.06-2.06.94zm-11 1L8.5 8.5l.94-2.06 2.06-.94-2.06-.94L8.5 2.5l-.94 2.06-2.06.94zm10 10l.94 2.06.94-2.06 2.06-.94-2.06-.94-.94-2.06-.94 2.06-2.06.94z\"/><path d=\"M17.41 7.96l-1.37-1.37c-.4-.4-.92-.59-1.43-.59-.52 0-1.04.2-1.43.59L10.3 9.45l-7.72 7.72c-.78.78-.78 2.05 0 2.83L4 21.41c.39.39.9.59 1.41.59.51 0 1.02-.2 1.41-.59l7.78-7.78 2.81-2.81c.8-.78.8-2.07 0-2.86zM5.41 20L4 18.59l7.72-7.72 1.47 1.35L5.41 20z\"/>\n",
              "  </svg>\n",
              "      </button>\n",
              "      \n",
              "  <style>\n",
              "    .colab-df-container {\n",
              "      display:flex;\n",
              "      flex-wrap:wrap;\n",
              "      gap: 12px;\n",
              "    }\n",
              "\n",
              "    .colab-df-convert {\n",
              "      background-color: #E8F0FE;\n",
              "      border: none;\n",
              "      border-radius: 50%;\n",
              "      cursor: pointer;\n",
              "      display: none;\n",
              "      fill: #1967D2;\n",
              "      height: 32px;\n",
              "      padding: 0 0 0 0;\n",
              "      width: 32px;\n",
              "    }\n",
              "\n",
              "    .colab-df-convert:hover {\n",
              "      background-color: #E2EBFA;\n",
              "      box-shadow: 0px 1px 2px rgba(60, 64, 67, 0.3), 0px 1px 3px 1px rgba(60, 64, 67, 0.15);\n",
              "      fill: #174EA6;\n",
              "    }\n",
              "\n",
              "    [theme=dark] .colab-df-convert {\n",
              "      background-color: #3B4455;\n",
              "      fill: #D2E3FC;\n",
              "    }\n",
              "\n",
              "    [theme=dark] .colab-df-convert:hover {\n",
              "      background-color: #434B5C;\n",
              "      box-shadow: 0px 1px 3px 1px rgba(0, 0, 0, 0.15);\n",
              "      filter: drop-shadow(0px 1px 2px rgba(0, 0, 0, 0.3));\n",
              "      fill: #FFFFFF;\n",
              "    }\n",
              "  </style>\n",
              "\n",
              "      <script>\n",
              "        const buttonEl =\n",
              "          document.querySelector('#df-2222b13f-81b8-41ca-a70d-32e748570100 button.colab-df-convert');\n",
              "        buttonEl.style.display =\n",
              "          google.colab.kernel.accessAllowed ? 'block' : 'none';\n",
              "\n",
              "        async function convertToInteractive(key) {\n",
              "          const element = document.querySelector('#df-2222b13f-81b8-41ca-a70d-32e748570100');\n",
              "          const dataTable =\n",
              "            await google.colab.kernel.invokeFunction('convertToInteractive',\n",
              "                                                     [key], {});\n",
              "          if (!dataTable) return;\n",
              "\n",
              "          const docLinkHtml = 'Like what you see? Visit the ' +\n",
              "            '<a target=\"_blank\" href=https://colab.research.google.com/notebooks/data_table.ipynb>data table notebook</a>'\n",
              "            + ' to learn more about interactive tables.';\n",
              "          element.innerHTML = '';\n",
              "          dataTable['output_type'] = 'display_data';\n",
              "          await google.colab.output.renderOutput(dataTable, element);\n",
              "          const docLink = document.createElement('div');\n",
              "          docLink.innerHTML = docLinkHtml;\n",
              "          element.appendChild(docLink);\n",
              "        }\n",
              "      </script>\n",
              "    </div>\n",
              "  </div>\n",
              "  "
            ]
          },
          "metadata": {},
          "execution_count": 37
        }
      ]
    },
    {
      "cell_type": "code",
      "source": [
        "cluster_mean.loc[:,'동별전체인구'].min()"
      ],
      "metadata": {
        "colab": {
          "base_uri": "https://localhost:8080/"
        },
        "id": "VaA88AbZZJL8",
        "outputId": "f23f3ccb-8f9a-4e5a-95f4-a5781e0c7f08"
      },
      "execution_count": null,
      "outputs": [
        {
          "output_type": "execute_result",
          "data": {
            "text/plain": [
              "13289.140127388535"
            ]
          },
          "metadata": {},
          "execution_count": 38
        }
      ]
    },
    {
      "cell_type": "code",
      "source": [
        "cp_colunms = ['동별전체인구', '동별시니어수', '행정동별시니어비율', '유동인구', '디지털정보지수', '주변특성', '대중교통']\n",
        "\n",
        "for c in cp_colunms:\n",
        "    sang = cluster_mean.loc[:,c].max()\n",
        "    ha = cluster_mean.loc[:,c].min()\n",
        "    for j in range(2):\n",
        "        if cluster_mean.loc[:,c][j] == ha:\n",
        "            cluster_mean.loc[:,c][j] = '하'\n",
        "        elif cluster_mean.loc[:,c][j] == sang:\n",
        "            cluster_mean.loc[:,c][j] = '상'\n",
        "cluster_mean"
      ],
      "metadata": {
        "colab": {
          "base_uri": "https://localhost:8080/",
          "height": 175
        },
        "id": "7Q6rv-KJYN1P",
        "outputId": "c9046f0a-5d96-430a-e5b1-292613ca1730"
      },
      "execution_count": null,
      "outputs": [
        {
          "output_type": "execute_result",
          "data": {
            "text/plain": [
              "           위도         경도    위도UTMK  경도UTMK   동별전체인구  동별시니어수 행정동별시니어비율  \\\n",
              "kmeans                                                                  \n",
              "0      126.98 1951129.23 954444.44 1860.37        상       상         상   \n",
              "1      127.00 1949650.23 955681.81 2004.38 23854.45 5687.67         하   \n",
              "2      126.99 1949934.48 955580.62 1842.74 13289.14 3285.24      0.26   \n",
              "\n",
              "            유동인구 디지털정보지수 주변특성 대중교통  spca_component_1  spca_component_2  \\\n",
              "kmeans                                                                   \n",
              "0              상       상    상 1.60              2.84              0.25   \n",
              "1      341911.32 5898.89    하    상              0.12             -0.19   \n",
              "2      221364.72 3315.86 1.09 1.29             -2.02              0.14   \n",
              "\n",
              "        spca_component_3  \n",
              "kmeans                    \n",
              "0                   0.00  \n",
              "1                   0.11  \n",
              "2                  -0.17  "
            ],
            "text/html": [
              "\n",
              "  <div id=\"df-7b1cdf7a-4f84-4641-a5c1-b762d5fece62\">\n",
              "    <div class=\"colab-df-container\">\n",
              "      <div>\n",
              "<style scoped>\n",
              "    .dataframe tbody tr th:only-of-type {\n",
              "        vertical-align: middle;\n",
              "    }\n",
              "\n",
              "    .dataframe tbody tr th {\n",
              "        vertical-align: top;\n",
              "    }\n",
              "\n",
              "    .dataframe thead th {\n",
              "        text-align: right;\n",
              "    }\n",
              "</style>\n",
              "<table border=\"1\" class=\"dataframe\">\n",
              "  <thead>\n",
              "    <tr style=\"text-align: right;\">\n",
              "      <th></th>\n",
              "      <th>위도</th>\n",
              "      <th>경도</th>\n",
              "      <th>위도UTMK</th>\n",
              "      <th>경도UTMK</th>\n",
              "      <th>동별전체인구</th>\n",
              "      <th>동별시니어수</th>\n",
              "      <th>행정동별시니어비율</th>\n",
              "      <th>유동인구</th>\n",
              "      <th>디지털정보지수</th>\n",
              "      <th>주변특성</th>\n",
              "      <th>대중교통</th>\n",
              "      <th>spca_component_1</th>\n",
              "      <th>spca_component_2</th>\n",
              "      <th>spca_component_3</th>\n",
              "    </tr>\n",
              "    <tr>\n",
              "      <th>kmeans</th>\n",
              "      <th></th>\n",
              "      <th></th>\n",
              "      <th></th>\n",
              "      <th></th>\n",
              "      <th></th>\n",
              "      <th></th>\n",
              "      <th></th>\n",
              "      <th></th>\n",
              "      <th></th>\n",
              "      <th></th>\n",
              "      <th></th>\n",
              "      <th></th>\n",
              "      <th></th>\n",
              "      <th></th>\n",
              "    </tr>\n",
              "  </thead>\n",
              "  <tbody>\n",
              "    <tr>\n",
              "      <th>0</th>\n",
              "      <td>126.98</td>\n",
              "      <td>1951129.23</td>\n",
              "      <td>954444.44</td>\n",
              "      <td>1860.37</td>\n",
              "      <td>상</td>\n",
              "      <td>상</td>\n",
              "      <td>상</td>\n",
              "      <td>상</td>\n",
              "      <td>상</td>\n",
              "      <td>상</td>\n",
              "      <td>1.60</td>\n",
              "      <td>2.84</td>\n",
              "      <td>0.25</td>\n",
              "      <td>0.00</td>\n",
              "    </tr>\n",
              "    <tr>\n",
              "      <th>1</th>\n",
              "      <td>127.00</td>\n",
              "      <td>1949650.23</td>\n",
              "      <td>955681.81</td>\n",
              "      <td>2004.38</td>\n",
              "      <td>23854.45</td>\n",
              "      <td>5687.67</td>\n",
              "      <td>하</td>\n",
              "      <td>341911.32</td>\n",
              "      <td>5898.89</td>\n",
              "      <td>하</td>\n",
              "      <td>상</td>\n",
              "      <td>0.12</td>\n",
              "      <td>-0.19</td>\n",
              "      <td>0.11</td>\n",
              "    </tr>\n",
              "    <tr>\n",
              "      <th>2</th>\n",
              "      <td>126.99</td>\n",
              "      <td>1949934.48</td>\n",
              "      <td>955580.62</td>\n",
              "      <td>1842.74</td>\n",
              "      <td>13289.14</td>\n",
              "      <td>3285.24</td>\n",
              "      <td>0.26</td>\n",
              "      <td>221364.72</td>\n",
              "      <td>3315.86</td>\n",
              "      <td>1.09</td>\n",
              "      <td>1.29</td>\n",
              "      <td>-2.02</td>\n",
              "      <td>0.14</td>\n",
              "      <td>-0.17</td>\n",
              "    </tr>\n",
              "  </tbody>\n",
              "</table>\n",
              "</div>\n",
              "      <button class=\"colab-df-convert\" onclick=\"convertToInteractive('df-7b1cdf7a-4f84-4641-a5c1-b762d5fece62')\"\n",
              "              title=\"Convert this dataframe to an interactive table.\"\n",
              "              style=\"display:none;\">\n",
              "        \n",
              "  <svg xmlns=\"http://www.w3.org/2000/svg\" height=\"24px\"viewBox=\"0 0 24 24\"\n",
              "       width=\"24px\">\n",
              "    <path d=\"M0 0h24v24H0V0z\" fill=\"none\"/>\n",
              "    <path d=\"M18.56 5.44l.94 2.06.94-2.06 2.06-.94-2.06-.94-.94-2.06-.94 2.06-2.06.94zm-11 1L8.5 8.5l.94-2.06 2.06-.94-2.06-.94L8.5 2.5l-.94 2.06-2.06.94zm10 10l.94 2.06.94-2.06 2.06-.94-2.06-.94-.94-2.06-.94 2.06-2.06.94z\"/><path d=\"M17.41 7.96l-1.37-1.37c-.4-.4-.92-.59-1.43-.59-.52 0-1.04.2-1.43.59L10.3 9.45l-7.72 7.72c-.78.78-.78 2.05 0 2.83L4 21.41c.39.39.9.59 1.41.59.51 0 1.02-.2 1.41-.59l7.78-7.78 2.81-2.81c.8-.78.8-2.07 0-2.86zM5.41 20L4 18.59l7.72-7.72 1.47 1.35L5.41 20z\"/>\n",
              "  </svg>\n",
              "      </button>\n",
              "      \n",
              "  <style>\n",
              "    .colab-df-container {\n",
              "      display:flex;\n",
              "      flex-wrap:wrap;\n",
              "      gap: 12px;\n",
              "    }\n",
              "\n",
              "    .colab-df-convert {\n",
              "      background-color: #E8F0FE;\n",
              "      border: none;\n",
              "      border-radius: 50%;\n",
              "      cursor: pointer;\n",
              "      display: none;\n",
              "      fill: #1967D2;\n",
              "      height: 32px;\n",
              "      padding: 0 0 0 0;\n",
              "      width: 32px;\n",
              "    }\n",
              "\n",
              "    .colab-df-convert:hover {\n",
              "      background-color: #E2EBFA;\n",
              "      box-shadow: 0px 1px 2px rgba(60, 64, 67, 0.3), 0px 1px 3px 1px rgba(60, 64, 67, 0.15);\n",
              "      fill: #174EA6;\n",
              "    }\n",
              "\n",
              "    [theme=dark] .colab-df-convert {\n",
              "      background-color: #3B4455;\n",
              "      fill: #D2E3FC;\n",
              "    }\n",
              "\n",
              "    [theme=dark] .colab-df-convert:hover {\n",
              "      background-color: #434B5C;\n",
              "      box-shadow: 0px 1px 3px 1px rgba(0, 0, 0, 0.15);\n",
              "      filter: drop-shadow(0px 1px 2px rgba(0, 0, 0, 0.3));\n",
              "      fill: #FFFFFF;\n",
              "    }\n",
              "  </style>\n",
              "\n",
              "      <script>\n",
              "        const buttonEl =\n",
              "          document.querySelector('#df-7b1cdf7a-4f84-4641-a5c1-b762d5fece62 button.colab-df-convert');\n",
              "        buttonEl.style.display =\n",
              "          google.colab.kernel.accessAllowed ? 'block' : 'none';\n",
              "\n",
              "        async function convertToInteractive(key) {\n",
              "          const element = document.querySelector('#df-7b1cdf7a-4f84-4641-a5c1-b762d5fece62');\n",
              "          const dataTable =\n",
              "            await google.colab.kernel.invokeFunction('convertToInteractive',\n",
              "                                                     [key], {});\n",
              "          if (!dataTable) return;\n",
              "\n",
              "          const docLinkHtml = 'Like what you see? Visit the ' +\n",
              "            '<a target=\"_blank\" href=https://colab.research.google.com/notebooks/data_table.ipynb>data table notebook</a>'\n",
              "            + ' to learn more about interactive tables.';\n",
              "          element.innerHTML = '';\n",
              "          dataTable['output_type'] = 'display_data';\n",
              "          await google.colab.output.renderOutput(dataTable, element);\n",
              "          const docLink = document.createElement('div');\n",
              "          docLink.innerHTML = docLinkHtml;\n",
              "          element.appendChild(docLink);\n",
              "        }\n",
              "      </script>\n",
              "    </div>\n",
              "  </div>\n",
              "  "
            ]
          },
          "metadata": {},
          "execution_count": 39
        }
      ]
    },
    {
      "cell_type": "code",
      "source": [
        "from statsmodels.formula.api import ols\n",
        "from statsmodels.stats.anova import anova_lm\n",
        "\n",
        "def CompareGroups(target, n_clusters) : \n",
        "    \n",
        "    '''\n",
        "    ANOVA Test : 그룹 간의 평균의 차이가 유의미한지 검정\n",
        "    Box Plot : 그룹 간의 차이 시각화 \n",
        "    '''\n",
        "    \n",
        "    # ANOVA Test \n",
        "    anovamodel = ols(f'{target} ~ C(kmeans)', kmeans_spca_df[['kmeans', target, 'spca_component_1', 'spca_component_2', 'spca_component_3']]).fit()\n",
        "    print(anova_lm(anovamodel), \"\\n\")\n",
        "    \n",
        "    # Box Plot \n",
        "    #color_list = {n:c for n,c in color_list.items() if n < n_clusters}\n",
        "    plt.figure(figsize=(15, 7))\n",
        "    sns.boxplot(x='kmeans', y=target, \n",
        "                data=kmeans_spca_df[['kmeans', target, 'spca_component_1', 'spca_component_2', 'spca_component_3']])\n",
        "\n",
        "    plt.show()"
      ],
      "metadata": {
        "id": "HJkzlUmVq3y2"
      },
      "execution_count": null,
      "outputs": []
    },
    {
      "cell_type": "code",
      "source": [
        "CompareGroups('행정동별시니어비율', 3) "
      ],
      "metadata": {
        "id": "6VTUJeQ4q7H5",
        "colab": {
          "base_uri": "https://localhost:8080/",
          "height": 511
        },
        "outputId": "a6c442a4-b0f6-4a62-b1e6-2e1f912285f8"
      },
      "execution_count": null,
      "outputs": [
        {
          "output_type": "stream",
          "name": "stdout",
          "text": [
            "              df  sum_sq  mean_sq    F  PR(>F)\n",
            "C(kmeans)   2.00    0.03     0.01 5.40    0.00\n",
            "Residual  506.00    1.21     0.00  NaN     NaN \n",
            "\n"
          ]
        },
        {
          "output_type": "display_data",
          "data": {
            "text/plain": [
              "<Figure size 1080x504 with 1 Axes>"
            ],
            "image/png": "[encoded data removed]"
          },
          "metadata": {
            "needs_background": "light"
          }
        }
      ]
    },
    {
      "cell_type": "markdown",
      "source": [
        "# 그래프"
      ],
      "metadata": {
        "id": "2IB9GeVJBeXN"
      }
    },
    {
      "cell_type": "code",
      "source": [
        "color_list = {0:\"crimson\", 1:\"orange\", 2:\"green\", 3:\"royalblue\", 4: \"purple\", 5: \"dimgrey\", 6: \"gold\"}\n",
        "\n",
        "def ClusteringPlot( n_clusters, color_list) : \n",
        "    fig = plt.figure(figsize=(10, 7))\n",
        "    ax = fig.add_subplot(111, projection='3d')\n",
        "    color_list = {n:c for n,c in color_list.items() if n < n_clusters}\n",
        "    ax.scatter(kmeans_spca_df['spca_component_1'], kmeans_spca_df['spca_component_2'], kmeans_spca_df['spca_component_3'],\n",
        "               s=60, c = kmeans_spca_df['kmeans'].apply(lambda x: color_list[x]))\n",
        "    \n",
        "    # label the axes\n",
        "    plt.title('spca & K-means Clustering', fontsize = 15)\n",
        "    ax.set_xlabel(\"SPC1\")\n",
        "    ax.set_ylabel(\"SPC2\")\n",
        "    ax.set_zlabel(\"SPC3\")\n",
        "    markers = [plt.Line2D([0,0],[0,0],color=color, marker='o', linestyle='') for color in color_list.values()]\n",
        "    plt.legend(markers, color_list.keys(), numpoints=1, bbox_to_anchor = (1.2,0.5))\n",
        "    plt.show()"
      ],
      "metadata": {
        "id": "NtL5IqqLbnZd"
      },
      "execution_count": null,
      "outputs": []
    },
    {
      "cell_type": "code",
      "source": [
        "ClusteringPlot( 3, color_list)"
      ],
      "metadata": {
        "colab": {
          "base_uri": "https://localhost:8080/",
          "height": 428
        },
        "id": "aXS2Lem9sdwS",
        "outputId": "623b1ec9-d36d-4e0b-af6e-7398157876f6"
      },
      "execution_count": null,
      "outputs": [
        {
          "output_type": "stream",
          "name": "stderr",
          "text": [
            "WARNING:matplotlib.font_manager:findfont: Font family ['NanumBarunGothic'] not found. Falling back to DejaVu Sans.\n"
          ]
        },
        {
          "output_type": "display_data",
          "data": {
            "text/plain": [
              "<Figure size 720x504 with 1 Axes>"
            ],
            "image/png": "[encoded data removed]"
          },
          "metadata": {
            "needs_background": "light"
          }
        }
      ]
    },
    {
      "cell_type": "markdown",
      "source": [
        "# 스테나인 후 진행"
      ],
      "metadata": {
        "id": "eKD_qtxysyPD"
      }
    },
    {
      "cell_type": "markdown",
      "source": [
        "## 0번 군집 추출"
      ],
      "metadata": {
        "id": "dvVd83tZCMYO"
      }
    },
    {
      "cell_type": "code",
      "source": [
        "# df standard 한 것중 kmeans번만 index추출\n",
        "dfclu2 = kmeans_spca_df[kmeans_spca_df['kmeans']==0]\n",
        "dfclu2.head(1)"
      ],
      "metadata": {
        "colab": {
          "base_uri": "https://localhost:8080/",
          "height": 194
        },
        "id": "Hf-aokjlCDxU",
        "outputId": "704dd19d-7dce-4b68-eb10-f5a5f3de00f8"
      },
      "execution_count": null,
      "outputs": [
        {
          "output_type": "execute_result",
          "data": {
            "text/plain": [
              "    자치구     동        시설명                  주소     위도         경도    위도UTMK  \\\n",
              "68  광진구  중곡4동  중곡4동 주민센터  서울특별시 광진구 긴고랑로 131 127.09 1950853.71 963932.13   \n",
              "\n",
              "    경도UTMK   동별전체인구  동별시니어수  행정동별시니어비율      유동인구  디지털정보지수  주변특성  대중교통  kmeans  \\\n",
              "68 1707.99 28577.00 7834.00       0.27 423334.68  8239.49  0.00  4.00       0   \n",
              "\n",
              "    spca_component_1  spca_component_2  spca_component_3  \n",
              "68              1.67              0.12              1.26  "
            ],
            "text/html": [
              "\n",
              "  <div id=\"df-797d1090-9de4-49d1-9d73-02dac47b771a\">\n",
              "    <div class=\"colab-df-container\">\n",
              "      <div>\n",
              "<style scoped>\n",
              "    .dataframe tbody tr th:only-of-type {\n",
              "        vertical-align: middle;\n",
              "    }\n",
              "\n",
              "    .dataframe tbody tr th {\n",
              "        vertical-align: top;\n",
              "    }\n",
              "\n",
              "    .dataframe thead th {\n",
              "        text-align: right;\n",
              "    }\n",
              "</style>\n",
              "<table border=\"1\" class=\"dataframe\">\n",
              "  <thead>\n",
              "    <tr style=\"text-align: right;\">\n",
              "      <th></th>\n",
              "      <th>자치구</th>\n",
              "      <th>동</th>\n",
              "      <th>시설명</th>\n",
              "      <th>주소</th>\n",
              "      <th>위도</th>\n",
              "      <th>경도</th>\n",
              "      <th>위도UTMK</th>\n",
              "      <th>경도UTMK</th>\n",
              "      <th>동별전체인구</th>\n",
              "      <th>동별시니어수</th>\n",
              "      <th>행정동별시니어비율</th>\n",
              "      <th>유동인구</th>\n",
              "      <th>디지털정보지수</th>\n",
              "      <th>주변특성</th>\n",
              "      <th>대중교통</th>\n",
              "      <th>kmeans</th>\n",
              "      <th>spca_component_1</th>\n",
              "      <th>spca_component_2</th>\n",
              "      <th>spca_component_3</th>\n",
              "    </tr>\n",
              "  </thead>\n",
              "  <tbody>\n",
              "    <tr>\n",
              "      <th>68</th>\n",
              "      <td>광진구</td>\n",
              "      <td>중곡4동</td>\n",
              "      <td>중곡4동 주민센터</td>\n",
              "      <td>서울특별시 광진구 긴고랑로 131</td>\n",
              "      <td>127.09</td>\n",
              "      <td>1950853.71</td>\n",
              "      <td>963932.13</td>\n",
              "      <td>1707.99</td>\n",
              "      <td>28577.00</td>\n",
              "      <td>7834.00</td>\n",
              "      <td>0.27</td>\n",
              "      <td>423334.68</td>\n",
              "      <td>8239.49</td>\n",
              "      <td>0.00</td>\n",
              "      <td>4.00</td>\n",
              "      <td>0</td>\n",
              "      <td>1.67</td>\n",
              "      <td>0.12</td>\n",
              "      <td>1.26</td>\n",
              "    </tr>\n",
              "  </tbody>\n",
              "</table>\n",
              "</div>\n",
              "      <button class=\"colab-df-convert\" onclick=\"convertToInteractive('df-797d1090-9de4-49d1-9d73-02dac47b771a')\"\n",
              "              title=\"Convert this dataframe to an interactive table.\"\n",
              "              style=\"display:none;\">\n",
              "        \n",
              "  <svg xmlns=\"http://www.w3.org/2000/svg\" height=\"24px\"viewBox=\"0 0 24 24\"\n",
              "       width=\"24px\">\n",
              "    <path d=\"M0 0h24v24H0V0z\" fill=\"none\"/>\n",
              "    <path d=\"M18.56 5.44l.94 2.06.94-2.06 2.06-.94-2.06-.94-.94-2.06-.94 2.06-2.06.94zm-11 1L8.5 8.5l.94-2.06 2.06-.94-2.06-.94L8.5 2.5l-.94 2.06-2.06.94zm10 10l.94 2.06.94-2.06 2.06-.94-2.06-.94-.94-2.06-.94 2.06-2.06.94z\"/><path d=\"M17.41 7.96l-1.37-1.37c-.4-.4-.92-.59-1.43-.59-.52 0-1.04.2-1.43.59L10.3 9.45l-7.72 7.72c-.78.78-.78 2.05 0 2.83L4 21.41c.39.39.9.59 1.41.59.51 0 1.02-.2 1.41-.59l7.78-7.78 2.81-2.81c.8-.78.8-2.07 0-2.86zM5.41 20L4 18.59l7.72-7.72 1.47 1.35L5.41 20z\"/>\n",
              "  </svg>\n",
              "      </button>\n",
              "      \n",
              "  <style>\n",
              "    .colab-df-container {\n",
              "      display:flex;\n",
              "      flex-wrap:wrap;\n",
              "      gap: 12px;\n",
              "    }\n",
              "\n",
              "    .colab-df-convert {\n",
              "      background-color: #E8F0FE;\n",
              "      border: none;\n",
              "      border-radius: 50%;\n",
              "      cursor: pointer;\n",
              "      display: none;\n",
              "      fill: #1967D2;\n",
              "      height: 32px;\n",
              "      padding: 0 0 0 0;\n",
              "      width: 32px;\n",
              "    }\n",
              "\n",
              "    .colab-df-convert:hover {\n",
              "      background-color: #E2EBFA;\n",
              "      box-shadow: 0px 1px 2px rgba(60, 64, 67, 0.3), 0px 1px 3px 1px rgba(60, 64, 67, 0.15);\n",
              "      fill: #174EA6;\n",
              "    }\n",
              "\n",
              "    [theme=dark] .colab-df-convert {\n",
              "      background-color: #3B4455;\n",
              "      fill: #D2E3FC;\n",
              "    }\n",
              "\n",
              "    [theme=dark] .colab-df-convert:hover {\n",
              "      background-color: #434B5C;\n",
              "      box-shadow: 0px 1px 3px 1px rgba(0, 0, 0, 0.15);\n",
              "      filter: drop-shadow(0px 1px 2px rgba(0, 0, 0, 0.3));\n",
              "      fill: #FFFFFF;\n",
              "    }\n",
              "  </style>\n",
              "\n",
              "      <script>\n",
              "        const buttonEl =\n",
              "          document.querySelector('#df-797d1090-9de4-49d1-9d73-02dac47b771a button.colab-df-convert');\n",
              "        buttonEl.style.display =\n",
              "          google.colab.kernel.accessAllowed ? 'block' : 'none';\n",
              "\n",
              "        async function convertToInteractive(key) {\n",
              "          const element = document.querySelector('#df-797d1090-9de4-49d1-9d73-02dac47b771a');\n",
              "          const dataTable =\n",
              "            await google.colab.kernel.invokeFunction('convertToInteractive',\n",
              "                                                     [key], {});\n",
              "          if (!dataTable) return;\n",
              "\n",
              "          const docLinkHtml = 'Like what you see? Visit the ' +\n",
              "            '<a target=\"_blank\" href=https://colab.research.google.com/notebooks/data_table.ipynb>data table notebook</a>'\n",
              "            + ' to learn more about interactive tables.';\n",
              "          element.innerHTML = '';\n",
              "          dataTable['output_type'] = 'display_data';\n",
              "          await google.colab.output.renderOutput(dataTable, element);\n",
              "          const docLink = document.createElement('div');\n",
              "          docLink.innerHTML = docLinkHtml;\n",
              "          element.appendChild(docLink);\n",
              "        }\n",
              "      </script>\n",
              "    </div>\n",
              "  </div>\n",
              "  "
            ]
          },
          "metadata": {},
          "execution_count": 44
        }
      ]
    },
    {
      "cell_type": "code",
      "source": [
        "dfclu2.shape"
      ],
      "metadata": {
        "colab": {
          "base_uri": "https://localhost:8080/"
        },
        "id": "TyLm3XtzDOFZ",
        "outputId": "6284c44b-88dd-44c1-d3ea-af374af64c9f"
      },
      "execution_count": null,
      "outputs": [
        {
          "output_type": "execute_result",
          "data": {
            "text/plain": [
              "(101, 19)"
            ]
          },
          "metadata": {},
          "execution_count": 45
        }
      ]
    },
    {
      "cell_type": "code",
      "source": [
        "dfclu2['자치구'].value_counts()"
      ],
      "metadata": {
        "colab": {
          "base_uri": "https://localhost:8080/"
        },
        "id": "orPbTNB8DnOY",
        "outputId": "c8dfbfb4-ca8e-4c4c-b43e-f44286d38cd4"
      },
      "execution_count": null,
      "outputs": [
        {
          "output_type": "execute_result",
          "data": {
            "text/plain": [
              "강서구     10\n",
              "노원구      9\n",
              "은평구      9\n",
              "동대문구     8\n",
              "강동구      7\n",
              "동작구      6\n",
              "구로구      6\n",
              "중랑구      5\n",
              "금천구      5\n",
              "양천구      4\n",
              "서대문구     4\n",
              "도봉구      4\n",
              "강북구      4\n",
              "성북구      4\n",
              "영등포구     3\n",
              "서초구      3\n",
              "강남구      3\n",
              "마포구      2\n",
              "관악구      2\n",
              "송파구      2\n",
              "광진구      1\n",
              "Name: 자치구, dtype: int64"
            ]
          },
          "metadata": {},
          "execution_count": 46
        }
      ]
    },
    {
      "cell_type": "markdown",
      "source": [
        "## 강서구 시작"
      ],
      "metadata": {
        "id": "c3wOGw_RFD29"
      }
    },
    {
      "cell_type": "code",
      "source": [
        "# 강서구 추출.\n",
        "dfganeseo = dfclu2[dfclu2['자치구']=='강서구']\n",
        "dfganeseo['시설명'].head(10)"
      ],
      "metadata": {
        "colab": {
          "base_uri": "https://localhost:8080/"
        },
        "id": "uRQasIU8Dw7x",
        "outputId": "dec8f8ea-2cf8-46ba-fe45-22e616ab124f"
      },
      "execution_count": null,
      "outputs": [
        {
          "output_type": "execute_result",
          "data": {
            "text/plain": [
              "240     염창동 주민센터\n",
              "243    등촌3동 주민센터\n",
              "244    우장산동 주민센터\n",
              "245    화곡1동 주민센터\n",
              "251    화곡본동 주민센터\n",
              "255    발산1동 주민센터\n",
              "257    방화1동 주민센터\n",
              "474    강서노인종합복지관\n",
              "475    화곡어르신복지센터\n",
              "477    봉제산노인복지센터\n",
              "Name: 시설명, dtype: object"
            ]
          },
          "metadata": {},
          "execution_count": 47
        }
      ]
    },
    {
      "cell_type": "code",
      "source": [
        "# 인덱스 조정 작업.(240 -> 0)\n",
        "dfganeseo = dfganeseo.reset_index()\n",
        "gangseo = dfganeseo.iloc[:,1:]\n",
        "gangseo.head(1)"
      ],
      "metadata": {
        "colab": {
          "base_uri": "https://localhost:8080/",
          "height": 194
        },
        "id": "QhHyO85sFMrq",
        "outputId": "a865a4d3-a99f-4ff4-bd20-2aea9230f021"
      },
      "execution_count": null,
      "outputs": [
        {
          "output_type": "execute_result",
          "data": {
            "text/plain": [
              "   자치구    동       시설명                    주소     위도         경도    위도UTMK  \\\n",
              "0  강서구  염창동  염창동 주민센터  서울특별시 강서구 양천로67가길 63 126.87 1950334.30 944651.04   \n",
              "\n",
              "   경도UTMK   동별전체인구  동별시니어수  행정동별시니어비율      유동인구  디지털정보지수  주변특성  대중교통  kmeans  \\\n",
              "0 1843.44 41637.00 7029.00       0.17 379099.07  8687.28  0.00  2.00       0   \n",
              "\n",
              "   spca_component_1  spca_component_2  spca_component_3  \n",
              "0              2.08             -2.18              0.77  "
            ],
            "text/html": [
              "\n",
              "  <div id=\"df-be2da97c-9696-41d7-a76b-f73f27b53f33\">\n",
              "    <div class=\"colab-df-container\">\n",
              "      <div>\n",
              "<style scoped>\n",
              "    .dataframe tbody tr th:only-of-type {\n",
              "        vertical-align: middle;\n",
              "    }\n",
              "\n",
              "    .dataframe tbody tr th {\n",
              "        vertical-align: top;\n",
              "    }\n",
              "\n",
              "    .dataframe thead th {\n",
              "        text-align: right;\n",
              "    }\n",
              "</style>\n",
              "<table border=\"1\" class=\"dataframe\">\n",
              "  <thead>\n",
              "    <tr style=\"text-align: right;\">\n",
              "      <th></th>\n",
              "      <th>자치구</th>\n",
              "      <th>동</th>\n",
              "      <th>시설명</th>\n",
              "      <th>주소</th>\n",
              "      <th>위도</th>\n",
              "      <th>경도</th>\n",
              "      <th>위도UTMK</th>\n",
              "      <th>경도UTMK</th>\n",
              "      <th>동별전체인구</th>\n",
              "      <th>동별시니어수</th>\n",
              "      <th>행정동별시니어비율</th>\n",
              "      <th>유동인구</th>\n",
              "      <th>디지털정보지수</th>\n",
              "      <th>주변특성</th>\n",
              "      <th>대중교통</th>\n",
              "      <th>kmeans</th>\n",
              "      <th>spca_component_1</th>\n",
              "      <th>spca_component_2</th>\n",
              "      <th>spca_component_3</th>\n",
              "    </tr>\n",
              "  </thead>\n",
              "  <tbody>\n",
              "    <tr>\n",
              "      <th>0</th>\n",
              "      <td>강서구</td>\n",
              "      <td>염창동</td>\n",
              "      <td>염창동 주민센터</td>\n",
              "      <td>서울특별시 강서구 양천로67가길 63</td>\n",
              "      <td>126.87</td>\n",
              "      <td>1950334.30</td>\n",
              "      <td>944651.04</td>\n",
              "      <td>1843.44</td>\n",
              "      <td>41637.00</td>\n",
              "      <td>7029.00</td>\n",
              "      <td>0.17</td>\n",
              "      <td>379099.07</td>\n",
              "      <td>8687.28</td>\n",
              "      <td>0.00</td>\n",
              "      <td>2.00</td>\n",
              "      <td>0</td>\n",
              "      <td>2.08</td>\n",
              "      <td>-2.18</td>\n",
              "      <td>0.77</td>\n",
              "    </tr>\n",
              "  </tbody>\n",
              "</table>\n",
              "</div>\n",
              "      <button class=\"colab-df-convert\" onclick=\"convertToInteractive('df-be2da97c-9696-41d7-a76b-f73f27b53f33')\"\n",
              "              title=\"Convert this dataframe to an interactive table.\"\n",
              "              style=\"display:none;\">\n",
              "        \n",
              "  <svg xmlns=\"http://www.w3.org/2000/svg\" height=\"24px\"viewBox=\"0 0 24 24\"\n",
              "       width=\"24px\">\n",
              "    <path d=\"M0 0h24v24H0V0z\" fill=\"none\"/>\n",
              "    <path d=\"M18.56 5.44l.94 2.06.94-2.06 2.06-.94-2.06-.94-.94-2.06-.94 2.06-2.06.94zm-11 1L8.5 8.5l.94-2.06 2.06-.94-2.06-.94L8.5 2.5l-.94 2.06-2.06.94zm10 10l.94 2.06.94-2.06 2.06-.94-2.06-.94-.94-2.06-.94 2.06-2.06.94z\"/><path d=\"M17.41 7.96l-1.37-1.37c-.4-.4-.92-.59-1.43-.59-.52 0-1.04.2-1.43.59L10.3 9.45l-7.72 7.72c-.78.78-.78 2.05 0 2.83L4 21.41c.39.39.9.59 1.41.59.51 0 1.02-.2 1.41-.59l7.78-7.78 2.81-2.81c.8-.78.8-2.07 0-2.86zM5.41 20L4 18.59l7.72-7.72 1.47 1.35L5.41 20z\"/>\n",
              "  </svg>\n",
              "      </button>\n",
              "      \n",
              "  <style>\n",
              "    .colab-df-container {\n",
              "      display:flex;\n",
              "      flex-wrap:wrap;\n",
              "      gap: 12px;\n",
              "    }\n",
              "\n",
              "    .colab-df-convert {\n",
              "      background-color: #E8F0FE;\n",
              "      border: none;\n",
              "      border-radius: 50%;\n",
              "      cursor: pointer;\n",
              "      display: none;\n",
              "      fill: #1967D2;\n",
              "      height: 32px;\n",
              "      padding: 0 0 0 0;\n",
              "      width: 32px;\n",
              "    }\n",
              "\n",
              "    .colab-df-convert:hover {\n",
              "      background-color: #E2EBFA;\n",
              "      box-shadow: 0px 1px 2px rgba(60, 64, 67, 0.3), 0px 1px 3px 1px rgba(60, 64, 67, 0.15);\n",
              "      fill: #174EA6;\n",
              "    }\n",
              "\n",
              "    [theme=dark] .colab-df-convert {\n",
              "      background-color: #3B4455;\n",
              "      fill: #D2E3FC;\n",
              "    }\n",
              "\n",
              "    [theme=dark] .colab-df-convert:hover {\n",
              "      background-color: #434B5C;\n",
              "      box-shadow: 0px 1px 3px 1px rgba(0, 0, 0, 0.15);\n",
              "      filter: drop-shadow(0px 1px 2px rgba(0, 0, 0, 0.3));\n",
              "      fill: #FFFFFF;\n",
              "    }\n",
              "  </style>\n",
              "\n",
              "      <script>\n",
              "        const buttonEl =\n",
              "          document.querySelector('#df-be2da97c-9696-41d7-a76b-f73f27b53f33 button.colab-df-convert');\n",
              "        buttonEl.style.display =\n",
              "          google.colab.kernel.accessAllowed ? 'block' : 'none';\n",
              "\n",
              "        async function convertToInteractive(key) {\n",
              "          const element = document.querySelector('#df-be2da97c-9696-41d7-a76b-f73f27b53f33');\n",
              "          const dataTable =\n",
              "            await google.colab.kernel.invokeFunction('convertToInteractive',\n",
              "                                                     [key], {});\n",
              "          if (!dataTable) return;\n",
              "\n",
              "          const docLinkHtml = 'Like what you see? Visit the ' +\n",
              "            '<a target=\"_blank\" href=https://colab.research.google.com/notebooks/data_table.ipynb>data table notebook</a>'\n",
              "            + ' to learn more about interactive tables.';\n",
              "          element.innerHTML = '';\n",
              "          dataTable['output_type'] = 'display_data';\n",
              "          await google.colab.output.renderOutput(dataTable, element);\n",
              "          const docLink = document.createElement('div');\n",
              "          docLink.innerHTML = docLinkHtml;\n",
              "          element.appendChild(docLink);\n",
              "        }\n",
              "      </script>\n",
              "    </div>\n",
              "  </div>\n",
              "  "
            ]
          },
          "metadata": {},
          "execution_count": 48
        }
      ]
    },
    {
      "cell_type": "code",
      "source": [
        "# 강서구중 각 주민센터(입지선정)과 다른 주민센터와의 거리합.\n",
        "distance = []\n",
        "distance2 = []\n",
        "for i in range(len(gangseo)):\n",
        "    for j in range(len(gangseo)):\n",
        "        distance.append(np.sqrt((gangseo['위도UTMK'][i] - gangseo['위도UTMK'][j])**2 + (gangseo['경도UTMK'][i] - gangseo['경도UTMK'][j])**2))\n",
        "    distance2.append(sum(distance))\n",
        "    distance= []\n",
        "distance2"
      ],
      "metadata": {
        "colab": {
          "base_uri": "https://localhost:8080/"
        },
        "id": "fh-q7PnQFV5b",
        "outputId": "a9b87561-f75a-4713-b919-468bb05dbd03"
      },
      "execution_count": null,
      "outputs": [
        {
          "output_type": "execute_result",
          "data": {
            "text/plain": [
              "[26165.241695617104,\n",
              " 13305.89429582004,\n",
              " 24418.864023872633,\n",
              " 13609.840963915876,\n",
              " 13521.238500076879,\n",
              " 15823.07788902908,\n",
              " 28239.926183276333,\n",
              " 15513.120459510857,\n",
              " 18549.525108152393,\n",
              " 15592.083872001782]"
            ]
          },
          "metadata": {},
          "execution_count": 49
        }
      ]
    },
    {
      "cell_type": "code",
      "source": [
        "# 강서구의 인구 * 거리 값.\n",
        "# ex) 1행은 염창동 주민센터에서 각 주민센터마다의 거리 * 염창동의 동별시니어수.\n",
        "# p median 식이 수요 * 거리곱의 최소화. \n",
        "gangseopopdist = gangseo['동별시니어수']*distance2\n",
        "print(gangseopopdist.sort_values())\n",
        "a = gangseopopdist.argmin()\n",
        "gangseo.iloc[a:a+1:]"
      ],
      "metadata": {
        "colab": {
          "base_uri": "https://localhost:8080/",
          "height": 385
        },
        "id": "X1-eo4hYNcmd",
        "outputId": "2b46e2ab-fe1e-4911-fd7e-fc196ad612b2"
      },
      "execution_count": null,
      "outputs": [
        {
          "output_type": "stream",
          "name": "stdout",
          "text": [
            "4    99800261.37\n",
            "5   114337560.83\n",
            "9   115085171.06\n",
            "1   130796940.93\n",
            "7   152493974.12\n",
            "3   168449001.61\n",
            "0   183915483.88\n",
            "2   211320849.26\n",
            "8   229587472.26\n",
            "6   280563666.63\n",
            "Name: 동별시니어수, dtype: float64\n"
          ]
        },
        {
          "output_type": "execute_result",
          "data": {
            "text/plain": [
              "   자치구     동        시설명                    주소     위도         경도    위도UTMK  \\\n",
              "4  강서구  화곡본동  화곡본동 주민센터  서울특별시 강서구 초록마을로5길 29 126.85 1949313.09 942559.17   \n",
              "\n",
              "   경도UTMK   동별전체인구  동별시니어수  행정동별시니어비율      유동인구  디지털정보지수  주변특성  대중교통  kmeans  \\\n",
              "4 1422.55 34202.00 7381.00       0.22 398083.68  7706.07  1.00  0.00       0   \n",
              "\n",
              "   spca_component_1  spca_component_2  spca_component_3  \n",
              "4              1.67             -0.94             -0.71  "
            ],
            "text/html": [
              "\n",
              "  <div id=\"df-c7556eeb-eef6-4da7-95b2-f9638346d9fa\">\n",
              "    <div class=\"colab-df-container\">\n",
              "      <div>\n",
              "<style scoped>\n",
              "    .dataframe tbody tr th:only-of-type {\n",
              "        vertical-align: middle;\n",
              "    }\n",
              "\n",
              "    .dataframe tbody tr th {\n",
              "        vertical-align: top;\n",
              "    }\n",
              "\n",
              "    .dataframe thead th {\n",
              "        text-align: right;\n",
              "    }\n",
              "</style>\n",
              "<table border=\"1\" class=\"dataframe\">\n",
              "  <thead>\n",
              "    <tr style=\"text-align: right;\">\n",
              "      <th></th>\n",
              "      <th>자치구</th>\n",
              "      <th>동</th>\n",
              "      <th>시설명</th>\n",
              "      <th>주소</th>\n",
              "      <th>위도</th>\n",
              "      <th>경도</th>\n",
              "      <th>위도UTMK</th>\n",
              "      <th>경도UTMK</th>\n",
              "      <th>동별전체인구</th>\n",
              "      <th>동별시니어수</th>\n",
              "      <th>행정동별시니어비율</th>\n",
              "      <th>유동인구</th>\n",
              "      <th>디지털정보지수</th>\n",
              "      <th>주변특성</th>\n",
              "      <th>대중교통</th>\n",
              "      <th>kmeans</th>\n",
              "      <th>spca_component_1</th>\n",
              "      <th>spca_component_2</th>\n",
              "      <th>spca_component_3</th>\n",
              "    </tr>\n",
              "  </thead>\n",
              "  <tbody>\n",
              "    <tr>\n",
              "      <th>4</th>\n",
              "      <td>강서구</td>\n",
              "      <td>화곡본동</td>\n",
              "      <td>화곡본동 주민센터</td>\n",
              "      <td>서울특별시 강서구 초록마을로5길 29</td>\n",
              "      <td>126.85</td>\n",
              "      <td>1949313.09</td>\n",
              "      <td>942559.17</td>\n",
              "      <td>1422.55</td>\n",
              "      <td>34202.00</td>\n",
              "      <td>7381.00</td>\n",
              "      <td>0.22</td>\n",
              "      <td>398083.68</td>\n",
              "      <td>7706.07</td>\n",
              "      <td>1.00</td>\n",
              "      <td>0.00</td>\n",
              "      <td>0</td>\n",
              "      <td>1.67</td>\n",
              "      <td>-0.94</td>\n",
              "      <td>-0.71</td>\n",
              "    </tr>\n",
              "  </tbody>\n",
              "</table>\n",
              "</div>\n",
              "      <button class=\"colab-df-convert\" onclick=\"convertToInteractive('df-c7556eeb-eef6-4da7-95b2-f9638346d9fa')\"\n",
              "              title=\"Convert this dataframe to an interactive table.\"\n",
              "              style=\"display:none;\">\n",
              "        \n",
              "  <svg xmlns=\"http://www.w3.org/2000/svg\" height=\"24px\"viewBox=\"0 0 24 24\"\n",
              "       width=\"24px\">\n",
              "    <path d=\"M0 0h24v24H0V0z\" fill=\"none\"/>\n",
              "    <path d=\"M18.56 5.44l.94 2.06.94-2.06 2.06-.94-2.06-.94-.94-2.06-.94 2.06-2.06.94zm-11 1L8.5 8.5l.94-2.06 2.06-.94-2.06-.94L8.5 2.5l-.94 2.06-2.06.94zm10 10l.94 2.06.94-2.06 2.06-.94-2.06-.94-.94-2.06-.94 2.06-2.06.94z\"/><path d=\"M17.41 7.96l-1.37-1.37c-.4-.4-.92-.59-1.43-.59-.52 0-1.04.2-1.43.59L10.3 9.45l-7.72 7.72c-.78.78-.78 2.05 0 2.83L4 21.41c.39.39.9.59 1.41.59.51 0 1.02-.2 1.41-.59l7.78-7.78 2.81-2.81c.8-.78.8-2.07 0-2.86zM5.41 20L4 18.59l7.72-7.72 1.47 1.35L5.41 20z\"/>\n",
              "  </svg>\n",
              "      </button>\n",
              "      \n",
              "  <style>\n",
              "    .colab-df-container {\n",
              "      display:flex;\n",
              "      flex-wrap:wrap;\n",
              "      gap: 12px;\n",
              "    }\n",
              "\n",
              "    .colab-df-convert {\n",
              "      background-color: #E8F0FE;\n",
              "      border: none;\n",
              "      border-radius: 50%;\n",
              "      cursor: pointer;\n",
              "      display: none;\n",
              "      fill: #1967D2;\n",
              "      height: 32px;\n",
              "      padding: 0 0 0 0;\n",
              "      width: 32px;\n",
              "    }\n",
              "\n",
              "    .colab-df-convert:hover {\n",
              "      background-color: #E2EBFA;\n",
              "      box-shadow: 0px 1px 2px rgba(60, 64, 67, 0.3), 0px 1px 3px 1px rgba(60, 64, 67, 0.15);\n",
              "      fill: #174EA6;\n",
              "    }\n",
              "\n",
              "    [theme=dark] .colab-df-convert {\n",
              "      background-color: #3B4455;\n",
              "      fill: #D2E3FC;\n",
              "    }\n",
              "\n",
              "    [theme=dark] .colab-df-convert:hover {\n",
              "      background-color: #434B5C;\n",
              "      box-shadow: 0px 1px 3px 1px rgba(0, 0, 0, 0.15);\n",
              "      filter: drop-shadow(0px 1px 2px rgba(0, 0, 0, 0.3));\n",
              "      fill: #FFFFFF;\n",
              "    }\n",
              "  </style>\n",
              "\n",
              "      <script>\n",
              "        const buttonEl =\n",
              "          document.querySelector('#df-c7556eeb-eef6-4da7-95b2-f9638346d9fa button.colab-df-convert');\n",
              "        buttonEl.style.display =\n",
              "          google.colab.kernel.accessAllowed ? 'block' : 'none';\n",
              "\n",
              "        async function convertToInteractive(key) {\n",
              "          const element = document.querySelector('#df-c7556eeb-eef6-4da7-95b2-f9638346d9fa');\n",
              "          const dataTable =\n",
              "            await google.colab.kernel.invokeFunction('convertToInteractive',\n",
              "                                                     [key], {});\n",
              "          if (!dataTable) return;\n",
              "\n",
              "          const docLinkHtml = 'Like what you see? Visit the ' +\n",
              "            '<a target=\"_blank\" href=https://colab.research.google.com/notebooks/data_table.ipynb>data table notebook</a>'\n",
              "            + ' to learn more about interactive tables.';\n",
              "          element.innerHTML = '';\n",
              "          dataTable['output_type'] = 'display_data';\n",
              "          await google.colab.output.renderOutput(dataTable, element);\n",
              "          const docLink = document.createElement('div');\n",
              "          docLink.innerHTML = docLinkHtml;\n",
              "          element.appendChild(docLink);\n",
              "        }\n",
              "      </script>\n",
              "    </div>\n",
              "  </div>\n",
              "  "
            ]
          },
          "metadata": {},
          "execution_count": 50
        }
      ]
    },
    {
      "cell_type": "markdown",
      "source": [
        "## 화곡본동 주민센터는 대중교통 0 이라 넘김"
      ],
      "metadata": {
        "id": "js7LZnTc-wmO"
      }
    },
    {
      "cell_type": "code",
      "source": [
        "gangseo.iloc[2:3,:]"
      ],
      "metadata": {
        "colab": {
          "base_uri": "https://localhost:8080/",
          "height": 194
        },
        "id": "CiyeL4TP-3pY",
        "outputId": "87d3c904-25be-425a-b206-30d354adbce4"
      },
      "execution_count": null,
      "outputs": [
        {
          "output_type": "execute_result",
          "data": {
            "text/plain": [
              "   자치구     동        시설명                주소     위도         경도    위도UTMK  경도UTMK  \\\n",
              "2  강서구  우장산동  우장산동 주민센터  서울특별시 강서구 우현로 34 126.84 1949788.78 942044.36 4104.56   \n",
              "\n",
              "    동별전체인구  동별시니어수  행정동별시니어비율      유동인구  디지털정보지수  주변특성  대중교통  kmeans  \\\n",
              "2 42923.00 8654.00       0.20 466741.12  9995.12  1.00  2.00       0   \n",
              "\n",
              "   spca_component_1  spca_component_2  spca_component_3  \n",
              "2              3.21             -1.09              0.63  "
            ],
            "text/html": [
              "\n",
              "  <div id=\"df-1f4794bc-8697-4ad6-9f28-a464410e7049\">\n",
              "    <div class=\"colab-df-container\">\n",
              "      <div>\n",
              "<style scoped>\n",
              "    .dataframe tbody tr th:only-of-type {\n",
              "        vertical-align: middle;\n",
              "    }\n",
              "\n",
              "    .dataframe tbody tr th {\n",
              "        vertical-align: top;\n",
              "    }\n",
              "\n",
              "    .dataframe thead th {\n",
              "        text-align: right;\n",
              "    }\n",
              "</style>\n",
              "<table border=\"1\" class=\"dataframe\">\n",
              "  <thead>\n",
              "    <tr style=\"text-align: right;\">\n",
              "      <th></th>\n",
              "      <th>자치구</th>\n",
              "      <th>동</th>\n",
              "      <th>시설명</th>\n",
              "      <th>주소</th>\n",
              "      <th>위도</th>\n",
              "      <th>경도</th>\n",
              "      <th>위도UTMK</th>\n",
              "      <th>경도UTMK</th>\n",
              "      <th>동별전체인구</th>\n",
              "      <th>동별시니어수</th>\n",
              "      <th>행정동별시니어비율</th>\n",
              "      <th>유동인구</th>\n",
              "      <th>디지털정보지수</th>\n",
              "      <th>주변특성</th>\n",
              "      <th>대중교통</th>\n",
              "      <th>kmeans</th>\n",
              "      <th>spca_component_1</th>\n",
              "      <th>spca_component_2</th>\n",
              "      <th>spca_component_3</th>\n",
              "    </tr>\n",
              "  </thead>\n",
              "  <tbody>\n",
              "    <tr>\n",
              "      <th>2</th>\n",
              "      <td>강서구</td>\n",
              "      <td>우장산동</td>\n",
              "      <td>우장산동 주민센터</td>\n",
              "      <td>서울특별시 강서구 우현로 34</td>\n",
              "      <td>126.84</td>\n",
              "      <td>1949788.78</td>\n",
              "      <td>942044.36</td>\n",
              "      <td>4104.56</td>\n",
              "      <td>42923.00</td>\n",
              "      <td>8654.00</td>\n",
              "      <td>0.20</td>\n",
              "      <td>466741.12</td>\n",
              "      <td>9995.12</td>\n",
              "      <td>1.00</td>\n",
              "      <td>2.00</td>\n",
              "      <td>0</td>\n",
              "      <td>3.21</td>\n",
              "      <td>-1.09</td>\n",
              "      <td>0.63</td>\n",
              "    </tr>\n",
              "  </tbody>\n",
              "</table>\n",
              "</div>\n",
              "      <button class=\"colab-df-convert\" onclick=\"convertToInteractive('df-1f4794bc-8697-4ad6-9f28-a464410e7049')\"\n",
              "              title=\"Convert this dataframe to an interactive table.\"\n",
              "              style=\"display:none;\">\n",
              "        \n",
              "  <svg xmlns=\"http://www.w3.org/2000/svg\" height=\"24px\"viewBox=\"0 0 24 24\"\n",
              "       width=\"24px\">\n",
              "    <path d=\"M0 0h24v24H0V0z\" fill=\"none\"/>\n",
              "    <path d=\"M18.56 5.44l.94 2.06.94-2.06 2.06-.94-2.06-.94-.94-2.06-.94 2.06-2.06.94zm-11 1L8.5 8.5l.94-2.06 2.06-.94-2.06-.94L8.5 2.5l-.94 2.06-2.06.94zm10 10l.94 2.06.94-2.06 2.06-.94-2.06-.94-.94-2.06-.94 2.06-2.06.94z\"/><path d=\"M17.41 7.96l-1.37-1.37c-.4-.4-.92-.59-1.43-.59-.52 0-1.04.2-1.43.59L10.3 9.45l-7.72 7.72c-.78.78-.78 2.05 0 2.83L4 21.41c.39.39.9.59 1.41.59.51 0 1.02-.2 1.41-.59l7.78-7.78 2.81-2.81c.8-.78.8-2.07 0-2.86zM5.41 20L4 18.59l7.72-7.72 1.47 1.35L5.41 20z\"/>\n",
              "  </svg>\n",
              "      </button>\n",
              "      \n",
              "  <style>\n",
              "    .colab-df-container {\n",
              "      display:flex;\n",
              "      flex-wrap:wrap;\n",
              "      gap: 12px;\n",
              "    }\n",
              "\n",
              "    .colab-df-convert {\n",
              "      background-color: #E8F0FE;\n",
              "      border: none;\n",
              "      border-radius: 50%;\n",
              "      cursor: pointer;\n",
              "      display: none;\n",
              "      fill: #1967D2;\n",
              "      height: 32px;\n",
              "      padding: 0 0 0 0;\n",
              "      width: 32px;\n",
              "    }\n",
              "\n",
              "    .colab-df-convert:hover {\n",
              "      background-color: #E2EBFA;\n",
              "      box-shadow: 0px 1px 2px rgba(60, 64, 67, 0.3), 0px 1px 3px 1px rgba(60, 64, 67, 0.15);\n",
              "      fill: #174EA6;\n",
              "    }\n",
              "\n",
              "    [theme=dark] .colab-df-convert {\n",
              "      background-color: #3B4455;\n",
              "      fill: #D2E3FC;\n",
              "    }\n",
              "\n",
              "    [theme=dark] .colab-df-convert:hover {\n",
              "      background-color: #434B5C;\n",
              "      box-shadow: 0px 1px 3px 1px rgba(0, 0, 0, 0.15);\n",
              "      filter: drop-shadow(0px 1px 2px rgba(0, 0, 0, 0.3));\n",
              "      fill: #FFFFFF;\n",
              "    }\n",
              "  </style>\n",
              "\n",
              "      <script>\n",
              "        const buttonEl =\n",
              "          document.querySelector('#df-1f4794bc-8697-4ad6-9f28-a464410e7049 button.colab-df-convert');\n",
              "        buttonEl.style.display =\n",
              "          google.colab.kernel.accessAllowed ? 'block' : 'none';\n",
              "\n",
              "        async function convertToInteractive(key) {\n",
              "          const element = document.querySelector('#df-1f4794bc-8697-4ad6-9f28-a464410e7049');\n",
              "          const dataTable =\n",
              "            await google.colab.kernel.invokeFunction('convertToInteractive',\n",
              "                                                     [key], {});\n",
              "          if (!dataTable) return;\n",
              "\n",
              "          const docLinkHtml = 'Like what you see? Visit the ' +\n",
              "            '<a target=\"_blank\" href=https://colab.research.google.com/notebooks/data_table.ipynb>data table notebook</a>'\n",
              "            + ' to learn more about interactive tables.';\n",
              "          element.innerHTML = '';\n",
              "          dataTable['output_type'] = 'display_data';\n",
              "          await google.colab.output.renderOutput(dataTable, element);\n",
              "          const docLink = document.createElement('div');\n",
              "          docLink.innerHTML = docLinkHtml;\n",
              "          element.appendChild(docLink);\n",
              "        }\n",
              "      </script>\n",
              "    </div>\n",
              "  </div>\n",
              "  "
            ]
          },
          "metadata": {},
          "execution_count": 51
        }
      ]
    },
    {
      "cell_type": "markdown",
      "source": [
        "### 강서구 10개행 연면적 평균은 1944.502 , 우장산동 주민센터는 그보다 높은 4104.56 이라서 가능"
      ],
      "metadata": {
        "id": "ZACe9D6vCnuP"
      }
    },
    {
      "cell_type": "markdown",
      "source": [
        "### 우장산동 주민센터는 대중교통, 연면적, 주변특성(평균 1.1), 유동인구가 적절하여 채택."
      ],
      "metadata": {
        "id": "gD2xIJ4SCzug"
      }
    },
    {
      "cell_type": "markdown",
      "source": [
        "## 강서구는 우장산동 주민센터"
      ],
      "metadata": {
        "id": "ZABDIutPPTXa"
      }
    },
    {
      "cell_type": "markdown",
      "source": [
        "## 노원구 시작"
      ],
      "metadata": {
        "id": "Sc0vqnP7Pe0y"
      }
    },
    {
      "cell_type": "code",
      "source": [
        "# 노원구 추출.\n",
        "dfnowon = dfclu2[dfclu2['자치구']=='노원구']\n",
        "dfnowon['시설명'].head(10)"
      ],
      "metadata": {
        "colab": {
          "base_uri": "https://localhost:8080/"
        },
        "outputId": "0ebc3278-3770-4cfb-d11f-f46042e4ea20",
        "id": "u81BBUUUPkAW"
      },
      "execution_count": null,
      "outputs": [
        {
          "output_type": "execute_result",
          "data": {
            "text/plain": [
              "158      월계2동 주민센터\n",
              "159      월계3동 주민센터\n",
              "160      공릉1동 주민센터\n",
              "161      공릉2동 주민센터\n",
              "165      상계1동 주민센터\n",
              "167     상계3.4동주민센터\n",
              "169     상계6.7동주민센터\n",
              "173    중계2.3동 주민센터\n",
              "454      공릉어르신복지센터\n",
              "Name: 시설명, dtype: object"
            ]
          },
          "metadata": {},
          "execution_count": 52
        }
      ]
    },
    {
      "cell_type": "code",
      "source": [
        "# 인덱스 조정 작업.(158 -> 0)\n",
        "dfnowon = dfnowon.reset_index()\n",
        "nowon = dfnowon.iloc[:,1:]\n",
        "nowon.head(1)"
      ],
      "metadata": {
        "colab": {
          "base_uri": "https://localhost:8080/",
          "height": 194
        },
        "outputId": "2211f2a3-b8ba-4836-df40-9a3b3e120582",
        "id": "1Hh-lWP_PkAX"
      },
      "execution_count": null,
      "outputs": [
        {
          "output_type": "execute_result",
          "data": {
            "text/plain": [
              "   자치구     동        시설명                   주소     위도         경도    위도UTMK  \\\n",
              "0  노원구  월계2동  월계2동 주민센터  서울특별시 노원구 초안산로5길 28 127.05 1958993.28 960436.12   \n",
              "\n",
              "   경도UTMK   동별전체인구  동별시니어수  행정동별시니어비율      유동인구  디지털정보지수  주변특성  대중교통  kmeans  \\\n",
              "0 2242.89 26568.00 8264.00       0.31 469066.11  7618.33  0.00  0.00       0   \n",
              "\n",
              "   spca_component_1  spca_component_2  spca_component_3  \n",
              "0              1.69              0.39             -1.45  "
            ],
            "text/html": [
              "\n",
              "  <div id=\"df-610d84f1-6bcd-4b15-8e6c-c39272933c04\">\n",
              "    <div class=\"colab-df-container\">\n",
              "      <div>\n",
              "<style scoped>\n",
              "    .dataframe tbody tr th:only-of-type {\n",
              "        vertical-align: middle;\n",
              "    }\n",
              "\n",
              "    .dataframe tbody tr th {\n",
              "        vertical-align: top;\n",
              "    }\n",
              "\n",
              "    .dataframe thead th {\n",
              "        text-align: right;\n",
              "    }\n",
              "</style>\n",
              "<table border=\"1\" class=\"dataframe\">\n",
              "  <thead>\n",
              "    <tr style=\"text-align: right;\">\n",
              "      <th></th>\n",
              "      <th>자치구</th>\n",
              "      <th>동</th>\n",
              "      <th>시설명</th>\n",
              "      <th>주소</th>\n",
              "      <th>위도</th>\n",
              "      <th>경도</th>\n",
              "      <th>위도UTMK</th>\n",
              "      <th>경도UTMK</th>\n",
              "      <th>동별전체인구</th>\n",
              "      <th>동별시니어수</th>\n",
              "      <th>행정동별시니어비율</th>\n",
              "      <th>유동인구</th>\n",
              "      <th>디지털정보지수</th>\n",
              "      <th>주변특성</th>\n",
              "      <th>대중교통</th>\n",
              "      <th>kmeans</th>\n",
              "      <th>spca_component_1</th>\n",
              "      <th>spca_component_2</th>\n",
              "      <th>spca_component_3</th>\n",
              "    </tr>\n",
              "  </thead>\n",
              "  <tbody>\n",
              "    <tr>\n",
              "      <th>0</th>\n",
              "      <td>노원구</td>\n",
              "      <td>월계2동</td>\n",
              "      <td>월계2동 주민센터</td>\n",
              "      <td>서울특별시 노원구 초안산로5길 28</td>\n",
              "      <td>127.05</td>\n",
              "      <td>1958993.28</td>\n",
              "      <td>960436.12</td>\n",
              "      <td>2242.89</td>\n",
              "      <td>26568.00</td>\n",
              "      <td>8264.00</td>\n",
              "      <td>0.31</td>\n",
              "      <td>469066.11</td>\n",
              "      <td>7618.33</td>\n",
              "      <td>0.00</td>\n",
              "      <td>0.00</td>\n",
              "      <td>0</td>\n",
              "      <td>1.69</td>\n",
              "      <td>0.39</td>\n",
              "      <td>-1.45</td>\n",
              "    </tr>\n",
              "  </tbody>\n",
              "</table>\n",
              "</div>\n",
              "      <button class=\"colab-df-convert\" onclick=\"convertToInteractive('df-610d84f1-6bcd-4b15-8e6c-c39272933c04')\"\n",
              "              title=\"Convert this dataframe to an interactive table.\"\n",
              "              style=\"display:none;\">\n",
              "        \n",
              "  <svg xmlns=\"http://www.w3.org/2000/svg\" height=\"24px\"viewBox=\"0 0 24 24\"\n",
              "       width=\"24px\">\n",
              "    <path d=\"M0 0h24v24H0V0z\" fill=\"none\"/>\n",
              "    <path d=\"M18.56 5.44l.94 2.06.94-2.06 2.06-.94-2.06-.94-.94-2.06-.94 2.06-2.06.94zm-11 1L8.5 8.5l.94-2.06 2.06-.94-2.06-.94L8.5 2.5l-.94 2.06-2.06.94zm10 10l.94 2.06.94-2.06 2.06-.94-2.06-.94-.94-2.06-.94 2.06-2.06.94z\"/><path d=\"M17.41 7.96l-1.37-1.37c-.4-.4-.92-.59-1.43-.59-.52 0-1.04.2-1.43.59L10.3 9.45l-7.72 7.72c-.78.78-.78 2.05 0 2.83L4 21.41c.39.39.9.59 1.41.59.51 0 1.02-.2 1.41-.59l7.78-7.78 2.81-2.81c.8-.78.8-2.07 0-2.86zM5.41 20L4 18.59l7.72-7.72 1.47 1.35L5.41 20z\"/>\n",
              "  </svg>\n",
              "      </button>\n",
              "      \n",
              "  <style>\n",
              "    .colab-df-container {\n",
              "      display:flex;\n",
              "      flex-wrap:wrap;\n",
              "      gap: 12px;\n",
              "    }\n",
              "\n",
              "    .colab-df-convert {\n",
              "      background-color: #E8F0FE;\n",
              "      border: none;\n",
              "      border-radius: 50%;\n",
              "      cursor: pointer;\n",
              "      display: none;\n",
              "      fill: #1967D2;\n",
              "      height: 32px;\n",
              "      padding: 0 0 0 0;\n",
              "      width: 32px;\n",
              "    }\n",
              "\n",
              "    .colab-df-convert:hover {\n",
              "      background-color: #E2EBFA;\n",
              "      box-shadow: 0px 1px 2px rgba(60, 64, 67, 0.3), 0px 1px 3px 1px rgba(60, 64, 67, 0.15);\n",
              "      fill: #174EA6;\n",
              "    }\n",
              "\n",
              "    [theme=dark] .colab-df-convert {\n",
              "      background-color: #3B4455;\n",
              "      fill: #D2E3FC;\n",
              "    }\n",
              "\n",
              "    [theme=dark] .colab-df-convert:hover {\n",
              "      background-color: #434B5C;\n",
              "      box-shadow: 0px 1px 3px 1px rgba(0, 0, 0, 0.15);\n",
              "      filter: drop-shadow(0px 1px 2px rgba(0, 0, 0, 0.3));\n",
              "      fill: #FFFFFF;\n",
              "    }\n",
              "  </style>\n",
              "\n",
              "      <script>\n",
              "        const buttonEl =\n",
              "          document.querySelector('#df-610d84f1-6bcd-4b15-8e6c-c39272933c04 button.colab-df-convert');\n",
              "        buttonEl.style.display =\n",
              "          google.colab.kernel.accessAllowed ? 'block' : 'none';\n",
              "\n",
              "        async function convertToInteractive(key) {\n",
              "          const element = document.querySelector('#df-610d84f1-6bcd-4b15-8e6c-c39272933c04');\n",
              "          const dataTable =\n",
              "            await google.colab.kernel.invokeFunction('convertToInteractive',\n",
              "                                                     [key], {});\n",
              "          if (!dataTable) return;\n",
              "\n",
              "          const docLinkHtml = 'Like what you see? Visit the ' +\n",
              "            '<a target=\"_blank\" href=https://colab.research.google.com/notebooks/data_table.ipynb>data table notebook</a>'\n",
              "            + ' to learn more about interactive tables.';\n",
              "          element.innerHTML = '';\n",
              "          dataTable['output_type'] = 'display_data';\n",
              "          await google.colab.output.renderOutput(dataTable, element);\n",
              "          const docLink = document.createElement('div');\n",
              "          docLink.innerHTML = docLinkHtml;\n",
              "          element.appendChild(docLink);\n",
              "        }\n",
              "      </script>\n",
              "    </div>\n",
              "  </div>\n",
              "  "
            ]
          },
          "metadata": {},
          "execution_count": 53
        }
      ]
    },
    {
      "cell_type": "code",
      "source": [
        "# 노원구중 각 주민센터(입지선정)과 다른 주민센터와의 거리합.\n",
        "distance = []\n",
        "distance2 = []\n",
        "for i in range(len(nowon)):\n",
        "    for j in range(len(nowon)):\n",
        "        distance.append(np.sqrt((nowon['위도UTMK'][i] - nowon['위도UTMK'][j])**2 + (nowon['경도UTMK'][i] - nowon['경도UTMK'][j])**2))\n",
        "    distance2.append(sum(distance))\n",
        "    distance= []\n",
        "distance2"
      ],
      "metadata": {
        "colab": {
          "base_uri": "https://localhost:8080/"
        },
        "outputId": "82937e99-4cbd-4acd-bfa8-80f57ff72077",
        "id": "MyY2o23zPkAY"
      },
      "execution_count": null,
      "outputs": [
        {
          "output_type": "execute_result",
          "data": {
            "text/plain": [
              "[17675.350253329434,\n",
              " 12659.709054866102,\n",
              " 11295.44518731485,\n",
              " 18403.88421119438,\n",
              " 13520.437358038314,\n",
              " 16355.376065575298,\n",
              " 11216.947043183703,\n",
              " 14911.472420831084,\n",
              " 11499.246386789653]"
            ]
          },
          "metadata": {},
          "execution_count": 54
        }
      ]
    },
    {
      "cell_type": "code",
      "source": [
        "# 노원구의 인구 * 거리 값.\n",
        "# p median 식이 수요 * 거리곱의 최소화. \n",
        "nowonpopdist = nowon['동별시니어수']*distance2\n",
        "print(nowonpopdist.sort_values())\n",
        "a = nowonpopdist.argmin()\n",
        "nowon.iloc[a:a+1:]"
      ],
      "metadata": {
        "colab": {
          "base_uri": "https://localhost:8080/",
          "height": 368
        },
        "outputId": "31d3ed06-2678-4ac6-b8ce-4d0c98ee6573",
        "id": "xxIjDREOPkAY"
      },
      "execution_count": null,
      "outputs": [
        {
          "output_type": "stream",
          "name": "stdout",
          "text": [
            "6    83364350.42\n",
            "8    95213760.08\n",
            "2   109136591.40\n",
            "1   109810316.34\n",
            "5   139691266.98\n",
            "4   144033219.18\n",
            "0   146069094.49\n",
            "7   151008481.21\n",
            "3   152384161.27\n",
            "Name: 동별시니어수, dtype: float64\n"
          ]
        },
        {
          "output_type": "execute_result",
          "data": {
            "text/plain": [
              "   자치구       동         시설명                 주소     위도         경도    위도UTMK  \\\n",
              "6  노원구  상계6.7동  상계6.7동주민센터  서울특별시 노원구 노원로 429 127.07 1961488.88 961996.78   \n",
              "\n",
              "   경도UTMK   동별전체인구  동별시니어수  행정동별시니어비율      유동인구  디지털정보지수  주변특성  대중교통  kmeans  \\\n",
              "6  653.28 32641.00 7432.00       0.23 421841.64  8382.82  1.00  3.00       0   \n",
              "\n",
              "   spca_component_1  spca_component_2  spca_component_3  \n",
              "6              1.86             -0.37              1.05  "
            ],
            "text/html": [
              "\n",
              "  <div id=\"df-9a916331-9d65-4127-a288-ba4c58f588eb\">\n",
              "    <div class=\"colab-df-container\">\n",
              "      <div>\n",
              "<style scoped>\n",
              "    .dataframe tbody tr th:only-of-type {\n",
              "        vertical-align: middle;\n",
              "    }\n",
              "\n",
              "    .dataframe tbody tr th {\n",
              "        vertical-align: top;\n",
              "    }\n",
              "\n",
              "    .dataframe thead th {\n",
              "        text-align: right;\n",
              "    }\n",
              "</style>\n",
              "<table border=\"1\" class=\"dataframe\">\n",
              "  <thead>\n",
              "    <tr style=\"text-align: right;\">\n",
              "      <th></th>\n",
              "      <th>자치구</th>\n",
              "      <th>동</th>\n",
              "      <th>시설명</th>\n",
              "      <th>주소</th>\n",
              "      <th>위도</th>\n",
              "      <th>경도</th>\n",
              "      <th>위도UTMK</th>\n",
              "      <th>경도UTMK</th>\n",
              "      <th>동별전체인구</th>\n",
              "      <th>동별시니어수</th>\n",
              "      <th>행정동별시니어비율</th>\n",
              "      <th>유동인구</th>\n",
              "      <th>디지털정보지수</th>\n",
              "      <th>주변특성</th>\n",
              "      <th>대중교통</th>\n",
              "      <th>kmeans</th>\n",
              "      <th>spca_component_1</th>\n",
              "      <th>spca_component_2</th>\n",
              "      <th>spca_component_3</th>\n",
              "    </tr>\n",
              "  </thead>\n",
              "  <tbody>\n",
              "    <tr>\n",
              "      <th>6</th>\n",
              "      <td>노원구</td>\n",
              "      <td>상계6.7동</td>\n",
              "      <td>상계6.7동주민센터</td>\n",
              "      <td>서울특별시 노원구 노원로 429</td>\n",
              "      <td>127.07</td>\n",
              "      <td>1961488.88</td>\n",
              "      <td>961996.78</td>\n",
              "      <td>653.28</td>\n",
              "      <td>32641.00</td>\n",
              "      <td>7432.00</td>\n",
              "      <td>0.23</td>\n",
              "      <td>421841.64</td>\n",
              "      <td>8382.82</td>\n",
              "      <td>1.00</td>\n",
              "      <td>3.00</td>\n",
              "      <td>0</td>\n",
              "      <td>1.86</td>\n",
              "      <td>-0.37</td>\n",
              "      <td>1.05</td>\n",
              "    </tr>\n",
              "  </tbody>\n",
              "</table>\n",
              "</div>\n",
              "      <button class=\"colab-df-convert\" onclick=\"convertToInteractive('df-9a916331-9d65-4127-a288-ba4c58f588eb')\"\n",
              "              title=\"Convert this dataframe to an interactive table.\"\n",
              "              style=\"display:none;\">\n",
              "        \n",
              "  <svg xmlns=\"http://www.w3.org/2000/svg\" height=\"24px\"viewBox=\"0 0 24 24\"\n",
              "       width=\"24px\">\n",
              "    <path d=\"M0 0h24v24H0V0z\" fill=\"none\"/>\n",
              "    <path d=\"M18.56 5.44l.94 2.06.94-2.06 2.06-.94-2.06-.94-.94-2.06-.94 2.06-2.06.94zm-11 1L8.5 8.5l.94-2.06 2.06-.94-2.06-.94L8.5 2.5l-.94 2.06-2.06.94zm10 10l.94 2.06.94-2.06 2.06-.94-2.06-.94-.94-2.06-.94 2.06-2.06.94z\"/><path d=\"M17.41 7.96l-1.37-1.37c-.4-.4-.92-.59-1.43-.59-.52 0-1.04.2-1.43.59L10.3 9.45l-7.72 7.72c-.78.78-.78 2.05 0 2.83L4 21.41c.39.39.9.59 1.41.59.51 0 1.02-.2 1.41-.59l7.78-7.78 2.81-2.81c.8-.78.8-2.07 0-2.86zM5.41 20L4 18.59l7.72-7.72 1.47 1.35L5.41 20z\"/>\n",
              "  </svg>\n",
              "      </button>\n",
              "      \n",
              "  <style>\n",
              "    .colab-df-container {\n",
              "      display:flex;\n",
              "      flex-wrap:wrap;\n",
              "      gap: 12px;\n",
              "    }\n",
              "\n",
              "    .colab-df-convert {\n",
              "      background-color: #E8F0FE;\n",
              "      border: none;\n",
              "      border-radius: 50%;\n",
              "      cursor: pointer;\n",
              "      display: none;\n",
              "      fill: #1967D2;\n",
              "      height: 32px;\n",
              "      padding: 0 0 0 0;\n",
              "      width: 32px;\n",
              "    }\n",
              "\n",
              "    .colab-df-convert:hover {\n",
              "      background-color: #E2EBFA;\n",
              "      box-shadow: 0px 1px 2px rgba(60, 64, 67, 0.3), 0px 1px 3px 1px rgba(60, 64, 67, 0.15);\n",
              "      fill: #174EA6;\n",
              "    }\n",
              "\n",
              "    [theme=dark] .colab-df-convert {\n",
              "      background-color: #3B4455;\n",
              "      fill: #D2E3FC;\n",
              "    }\n",
              "\n",
              "    [theme=dark] .colab-df-convert:hover {\n",
              "      background-color: #434B5C;\n",
              "      box-shadow: 0px 1px 3px 1px rgba(0, 0, 0, 0.15);\n",
              "      filter: drop-shadow(0px 1px 2px rgba(0, 0, 0, 0.3));\n",
              "      fill: #FFFFFF;\n",
              "    }\n",
              "  </style>\n",
              "\n",
              "      <script>\n",
              "        const buttonEl =\n",
              "          document.querySelector('#df-9a916331-9d65-4127-a288-ba4c58f588eb button.colab-df-convert');\n",
              "        buttonEl.style.display =\n",
              "          google.colab.kernel.accessAllowed ? 'block' : 'none';\n",
              "\n",
              "        async function convertToInteractive(key) {\n",
              "          const element = document.querySelector('#df-9a916331-9d65-4127-a288-ba4c58f588eb');\n",
              "          const dataTable =\n",
              "            await google.colab.kernel.invokeFunction('convertToInteractive',\n",
              "                                                     [key], {});\n",
              "          if (!dataTable) return;\n",
              "\n",
              "          const docLinkHtml = 'Like what you see? Visit the ' +\n",
              "            '<a target=\"_blank\" href=https://colab.research.google.com/notebooks/data_table.ipynb>data table notebook</a>'\n",
              "            + ' to learn more about interactive tables.';\n",
              "          element.innerHTML = '';\n",
              "          dataTable['output_type'] = 'display_data';\n",
              "          await google.colab.output.renderOutput(dataTable, element);\n",
              "          const docLink = document.createElement('div');\n",
              "          docLink.innerHTML = docLinkHtml;\n",
              "          element.appendChild(docLink);\n",
              "        }\n",
              "      </script>\n",
              "    </div>\n",
              "  </div>\n",
              "  "
            ]
          },
          "metadata": {},
          "execution_count": 55
        }
      ]
    },
    {
      "cell_type": "markdown",
      "source": [
        "### 노원구 9개 행 연면적 평균은 1520 이고, 공릉어르신복지센터는 584라서 부적절"
      ],
      "metadata": {
        "id": "OlRlDQysEWr5"
      }
    },
    {
      "cell_type": "code",
      "source": [
        "nowon.iloc[6:7]"
      ],
      "metadata": {
        "colab": {
          "base_uri": "https://localhost:8080/",
          "height": 194
        },
        "id": "RSa0ciHcFO9L",
        "outputId": "6417c5a2-23dc-428c-c7ff-59a0511d9596"
      },
      "execution_count": null,
      "outputs": [
        {
          "output_type": "execute_result",
          "data": {
            "text/plain": [
              "   자치구       동         시설명                 주소     위도         경도    위도UTMK  \\\n",
              "6  노원구  상계6.7동  상계6.7동주민센터  서울특별시 노원구 노원로 429 127.07 1961488.88 961996.78   \n",
              "\n",
              "   경도UTMK   동별전체인구  동별시니어수  행정동별시니어비율      유동인구  디지털정보지수  주변특성  대중교통  kmeans  \\\n",
              "6  653.28 32641.00 7432.00       0.23 421841.64  8382.82  1.00  3.00       0   \n",
              "\n",
              "   spca_component_1  spca_component_2  spca_component_3  \n",
              "6              1.86             -0.37              1.05  "
            ],
            "text/html": [
              "\n",
              "  <div id=\"df-87a37e1c-a493-4d5d-9271-9f91892bd641\">\n",
              "    <div class=\"colab-df-container\">\n",
              "      <div>\n",
              "<style scoped>\n",
              "    .dataframe tbody tr th:only-of-type {\n",
              "        vertical-align: middle;\n",
              "    }\n",
              "\n",
              "    .dataframe tbody tr th {\n",
              "        vertical-align: top;\n",
              "    }\n",
              "\n",
              "    .dataframe thead th {\n",
              "        text-align: right;\n",
              "    }\n",
              "</style>\n",
              "<table border=\"1\" class=\"dataframe\">\n",
              "  <thead>\n",
              "    <tr style=\"text-align: right;\">\n",
              "      <th></th>\n",
              "      <th>자치구</th>\n",
              "      <th>동</th>\n",
              "      <th>시설명</th>\n",
              "      <th>주소</th>\n",
              "      <th>위도</th>\n",
              "      <th>경도</th>\n",
              "      <th>위도UTMK</th>\n",
              "      <th>경도UTMK</th>\n",
              "      <th>동별전체인구</th>\n",
              "      <th>동별시니어수</th>\n",
              "      <th>행정동별시니어비율</th>\n",
              "      <th>유동인구</th>\n",
              "      <th>디지털정보지수</th>\n",
              "      <th>주변특성</th>\n",
              "      <th>대중교통</th>\n",
              "      <th>kmeans</th>\n",
              "      <th>spca_component_1</th>\n",
              "      <th>spca_component_2</th>\n",
              "      <th>spca_component_3</th>\n",
              "    </tr>\n",
              "  </thead>\n",
              "  <tbody>\n",
              "    <tr>\n",
              "      <th>6</th>\n",
              "      <td>노원구</td>\n",
              "      <td>상계6.7동</td>\n",
              "      <td>상계6.7동주민센터</td>\n",
              "      <td>서울특별시 노원구 노원로 429</td>\n",
              "      <td>127.07</td>\n",
              "      <td>1961488.88</td>\n",
              "      <td>961996.78</td>\n",
              "      <td>653.28</td>\n",
              "      <td>32641.00</td>\n",
              "      <td>7432.00</td>\n",
              "      <td>0.23</td>\n",
              "      <td>421841.64</td>\n",
              "      <td>8382.82</td>\n",
              "      <td>1.00</td>\n",
              "      <td>3.00</td>\n",
              "      <td>0</td>\n",
              "      <td>1.86</td>\n",
              "      <td>-0.37</td>\n",
              "      <td>1.05</td>\n",
              "    </tr>\n",
              "  </tbody>\n",
              "</table>\n",
              "</div>\n",
              "      <button class=\"colab-df-convert\" onclick=\"convertToInteractive('df-87a37e1c-a493-4d5d-9271-9f91892bd641')\"\n",
              "              title=\"Convert this dataframe to an interactive table.\"\n",
              "              style=\"display:none;\">\n",
              "        \n",
              "  <svg xmlns=\"http://www.w3.org/2000/svg\" height=\"24px\"viewBox=\"0 0 24 24\"\n",
              "       width=\"24px\">\n",
              "    <path d=\"M0 0h24v24H0V0z\" fill=\"none\"/>\n",
              "    <path d=\"M18.56 5.44l.94 2.06.94-2.06 2.06-.94-2.06-.94-.94-2.06-.94 2.06-2.06.94zm-11 1L8.5 8.5l.94-2.06 2.06-.94-2.06-.94L8.5 2.5l-.94 2.06-2.06.94zm10 10l.94 2.06.94-2.06 2.06-.94-2.06-.94-.94-2.06-.94 2.06-2.06.94z\"/><path d=\"M17.41 7.96l-1.37-1.37c-.4-.4-.92-.59-1.43-.59-.52 0-1.04.2-1.43.59L10.3 9.45l-7.72 7.72c-.78.78-.78 2.05 0 2.83L4 21.41c.39.39.9.59 1.41.59.51 0 1.02-.2 1.41-.59l7.78-7.78 2.81-2.81c.8-.78.8-2.07 0-2.86zM5.41 20L4 18.59l7.72-7.72 1.47 1.35L5.41 20z\"/>\n",
              "  </svg>\n",
              "      </button>\n",
              "      \n",
              "  <style>\n",
              "    .colab-df-container {\n",
              "      display:flex;\n",
              "      flex-wrap:wrap;\n",
              "      gap: 12px;\n",
              "    }\n",
              "\n",
              "    .colab-df-convert {\n",
              "      background-color: #E8F0FE;\n",
              "      border: none;\n",
              "      border-radius: 50%;\n",
              "      cursor: pointer;\n",
              "      display: none;\n",
              "      fill: #1967D2;\n",
              "      height: 32px;\n",
              "      padding: 0 0 0 0;\n",
              "      width: 32px;\n",
              "    }\n",
              "\n",
              "    .colab-df-convert:hover {\n",
              "      background-color: #E2EBFA;\n",
              "      box-shadow: 0px 1px 2px rgba(60, 64, 67, 0.3), 0px 1px 3px 1px rgba(60, 64, 67, 0.15);\n",
              "      fill: #174EA6;\n",
              "    }\n",
              "\n",
              "    [theme=dark] .colab-df-convert {\n",
              "      background-color: #3B4455;\n",
              "      fill: #D2E3FC;\n",
              "    }\n",
              "\n",
              "    [theme=dark] .colab-df-convert:hover {\n",
              "      background-color: #434B5C;\n",
              "      box-shadow: 0px 1px 3px 1px rgba(0, 0, 0, 0.15);\n",
              "      filter: drop-shadow(0px 1px 2px rgba(0, 0, 0, 0.3));\n",
              "      fill: #FFFFFF;\n",
              "    }\n",
              "  </style>\n",
              "\n",
              "      <script>\n",
              "        const buttonEl =\n",
              "          document.querySelector('#df-87a37e1c-a493-4d5d-9271-9f91892bd641 button.colab-df-convert');\n",
              "        buttonEl.style.display =\n",
              "          google.colab.kernel.accessAllowed ? 'block' : 'none';\n",
              "\n",
              "        async function convertToInteractive(key) {\n",
              "          const element = document.querySelector('#df-87a37e1c-a493-4d5d-9271-9f91892bd641');\n",
              "          const dataTable =\n",
              "            await google.colab.kernel.invokeFunction('convertToInteractive',\n",
              "                                                     [key], {});\n",
              "          if (!dataTable) return;\n",
              "\n",
              "          const docLinkHtml = 'Like what you see? Visit the ' +\n",
              "            '<a target=\"_blank\" href=https://colab.research.google.com/notebooks/data_table.ipynb>data table notebook</a>'\n",
              "            + ' to learn more about interactive tables.';\n",
              "          element.innerHTML = '';\n",
              "          dataTable['output_type'] = 'display_data';\n",
              "          await google.colab.output.renderOutput(dataTable, element);\n",
              "          const docLink = document.createElement('div');\n",
              "          docLink.innerHTML = docLinkHtml;\n",
              "          element.appendChild(docLink);\n",
              "        }\n",
              "      </script>\n",
              "    </div>\n",
              "  </div>\n",
              "  "
            ]
          },
          "metadata": {},
          "execution_count": 56
        }
      ]
    },
    {
      "cell_type": "markdown",
      "source": [
        "### 노원구 9개 행 연면적 평균은 1520 이고, 공릉어르신복지센터는 653이라서 부적절"
      ],
      "metadata": {
        "id": "X9dlmIfgFfGQ"
      }
    },
    {
      "cell_type": "code",
      "source": [
        "nowon.iloc[1:2]"
      ],
      "metadata": {
        "colab": {
          "base_uri": "https://localhost:8080/",
          "height": 194
        },
        "id": "koA-bLFSFo9x",
        "outputId": "a852916b-875d-4ea9-a134-e82a662152e3"
      },
      "execution_count": null,
      "outputs": [
        {
          "output_type": "execute_result",
          "data": {
            "text/plain": [
              "   자치구     동        시설명                주소     위도         경도    위도UTMK  경도UTMK  \\\n",
              "1  노원구  월계3동  월계3동 주민센터  서울특별시 노원구 마들로 57 127.06 1959213.35 961372.55  660.50   \n",
              "\n",
              "    동별전체인구  동별시니어수  행정동별시니어비율      유동인구  디지털정보지수  주변특성  대중교통  kmeans  \\\n",
              "1 29885.00 8674.00       0.29 492337.78  7956.12  0.00  2.00       0   \n",
              "\n",
              "   spca_component_1  spca_component_2  spca_component_3  \n",
              "1              2.13              0.23             -0.09  "
            ],
            "text/html": [
              "\n",
              "  <div id=\"df-fa0983b3-de8b-41bd-9a3c-d0efad81c605\">\n",
              "    <div class=\"colab-df-container\">\n",
              "      <div>\n",
              "<style scoped>\n",
              "    .dataframe tbody tr th:only-of-type {\n",
              "        vertical-align: middle;\n",
              "    }\n",
              "\n",
              "    .dataframe tbody tr th {\n",
              "        vertical-align: top;\n",
              "    }\n",
              "\n",
              "    .dataframe thead th {\n",
              "        text-align: right;\n",
              "    }\n",
              "</style>\n",
              "<table border=\"1\" class=\"dataframe\">\n",
              "  <thead>\n",
              "    <tr style=\"text-align: right;\">\n",
              "      <th></th>\n",
              "      <th>자치구</th>\n",
              "      <th>동</th>\n",
              "      <th>시설명</th>\n",
              "      <th>주소</th>\n",
              "      <th>위도</th>\n",
              "      <th>경도</th>\n",
              "      <th>위도UTMK</th>\n",
              "      <th>경도UTMK</th>\n",
              "      <th>동별전체인구</th>\n",
              "      <th>동별시니어수</th>\n",
              "      <th>행정동별시니어비율</th>\n",
              "      <th>유동인구</th>\n",
              "      <th>디지털정보지수</th>\n",
              "      <th>주변특성</th>\n",
              "      <th>대중교통</th>\n",
              "      <th>kmeans</th>\n",
              "      <th>spca_component_1</th>\n",
              "      <th>spca_component_2</th>\n",
              "      <th>spca_component_3</th>\n",
              "    </tr>\n",
              "  </thead>\n",
              "  <tbody>\n",
              "    <tr>\n",
              "      <th>1</th>\n",
              "      <td>노원구</td>\n",
              "      <td>월계3동</td>\n",
              "      <td>월계3동 주민센터</td>\n",
              "      <td>서울특별시 노원구 마들로 57</td>\n",
              "      <td>127.06</td>\n",
              "      <td>1959213.35</td>\n",
              "      <td>961372.55</td>\n",
              "      <td>660.50</td>\n",
              "      <td>29885.00</td>\n",
              "      <td>8674.00</td>\n",
              "      <td>0.29</td>\n",
              "      <td>492337.78</td>\n",
              "      <td>7956.12</td>\n",
              "      <td>0.00</td>\n",
              "      <td>2.00</td>\n",
              "      <td>0</td>\n",
              "      <td>2.13</td>\n",
              "      <td>0.23</td>\n",
              "      <td>-0.09</td>\n",
              "    </tr>\n",
              "  </tbody>\n",
              "</table>\n",
              "</div>\n",
              "      <button class=\"colab-df-convert\" onclick=\"convertToInteractive('df-fa0983b3-de8b-41bd-9a3c-d0efad81c605')\"\n",
              "              title=\"Convert this dataframe to an interactive table.\"\n",
              "              style=\"display:none;\">\n",
              "        \n",
              "  <svg xmlns=\"http://www.w3.org/2000/svg\" height=\"24px\"viewBox=\"0 0 24 24\"\n",
              "       width=\"24px\">\n",
              "    <path d=\"M0 0h24v24H0V0z\" fill=\"none\"/>\n",
              "    <path d=\"M18.56 5.44l.94 2.06.94-2.06 2.06-.94-2.06-.94-.94-2.06-.94 2.06-2.06.94zm-11 1L8.5 8.5l.94-2.06 2.06-.94-2.06-.94L8.5 2.5l-.94 2.06-2.06.94zm10 10l.94 2.06.94-2.06 2.06-.94-2.06-.94-.94-2.06-.94 2.06-2.06.94z\"/><path d=\"M17.41 7.96l-1.37-1.37c-.4-.4-.92-.59-1.43-.59-.52 0-1.04.2-1.43.59L10.3 9.45l-7.72 7.72c-.78.78-.78 2.05 0 2.83L4 21.41c.39.39.9.59 1.41.59.51 0 1.02-.2 1.41-.59l7.78-7.78 2.81-2.81c.8-.78.8-2.07 0-2.86zM5.41 20L4 18.59l7.72-7.72 1.47 1.35L5.41 20z\"/>\n",
              "  </svg>\n",
              "      </button>\n",
              "      \n",
              "  <style>\n",
              "    .colab-df-container {\n",
              "      display:flex;\n",
              "      flex-wrap:wrap;\n",
              "      gap: 12px;\n",
              "    }\n",
              "\n",
              "    .colab-df-convert {\n",
              "      background-color: #E8F0FE;\n",
              "      border: none;\n",
              "      border-radius: 50%;\n",
              "      cursor: pointer;\n",
              "      display: none;\n",
              "      fill: #1967D2;\n",
              "      height: 32px;\n",
              "      padding: 0 0 0 0;\n",
              "      width: 32px;\n",
              "    }\n",
              "\n",
              "    .colab-df-convert:hover {\n",
              "      background-color: #E2EBFA;\n",
              "      box-shadow: 0px 1px 2px rgba(60, 64, 67, 0.3), 0px 1px 3px 1px rgba(60, 64, 67, 0.15);\n",
              "      fill: #174EA6;\n",
              "    }\n",
              "\n",
              "    [theme=dark] .colab-df-convert {\n",
              "      background-color: #3B4455;\n",
              "      fill: #D2E3FC;\n",
              "    }\n",
              "\n",
              "    [theme=dark] .colab-df-convert:hover {\n",
              "      background-color: #434B5C;\n",
              "      box-shadow: 0px 1px 3px 1px rgba(0, 0, 0, 0.15);\n",
              "      filter: drop-shadow(0px 1px 2px rgba(0, 0, 0, 0.3));\n",
              "      fill: #FFFFFF;\n",
              "    }\n",
              "  </style>\n",
              "\n",
              "      <script>\n",
              "        const buttonEl =\n",
              "          document.querySelector('#df-fa0983b3-de8b-41bd-9a3c-d0efad81c605 button.colab-df-convert');\n",
              "        buttonEl.style.display =\n",
              "          google.colab.kernel.accessAllowed ? 'block' : 'none';\n",
              "\n",
              "        async function convertToInteractive(key) {\n",
              "          const element = document.querySelector('#df-fa0983b3-de8b-41bd-9a3c-d0efad81c605');\n",
              "          const dataTable =\n",
              "            await google.colab.kernel.invokeFunction('convertToInteractive',\n",
              "                                                     [key], {});\n",
              "          if (!dataTable) return;\n",
              "\n",
              "          const docLinkHtml = 'Like what you see? Visit the ' +\n",
              "            '<a target=\"_blank\" href=https://colab.research.google.com/notebooks/data_table.ipynb>data table notebook</a>'\n",
              "            + ' to learn more about interactive tables.';\n",
              "          element.innerHTML = '';\n",
              "          dataTable['output_type'] = 'display_data';\n",
              "          await google.colab.output.renderOutput(dataTable, element);\n",
              "          const docLink = document.createElement('div');\n",
              "          docLink.innerHTML = docLinkHtml;\n",
              "          element.appendChild(docLink);\n",
              "        }\n",
              "      </script>\n",
              "    </div>\n",
              "  </div>\n",
              "  "
            ]
          },
          "metadata": {},
          "execution_count": 57
        }
      ]
    },
    {
      "cell_type": "markdown",
      "source": [
        "### 주변특성이 0 이라 기각."
      ],
      "metadata": {
        "id": "-ljnugzrF6en"
      }
    },
    {
      "cell_type": "code",
      "source": [
        "nowon.iloc[7:8]"
      ],
      "metadata": {
        "colab": {
          "base_uri": "https://localhost:8080/",
          "height": 194
        },
        "id": "MAVOUDWEFvAW",
        "outputId": "90a42114-b16f-4c21-8689-b31e9e2896c1"
      },
      "execution_count": null,
      "outputs": [
        {
          "output_type": "execute_result",
          "data": {
            "text/plain": [
              "   자치구       동          시설명                   주소     위도         경도    위도UTMK  \\\n",
              "7  노원구  중계2.3동  중계2.3동 주민센터  서울특별시 노원구 노원로17길 56 127.07 1960076.42 962139.41   \n",
              "\n",
              "   경도UTMK   동별전체인구   동별시니어수  행정동별시니어비율      유동인구  디지털정보지수  주변특성  대중교통  kmeans  \\\n",
              "7 2695.00 34196.00 10127.00       0.30 574810.32  9232.26  3.00  2.00       0   \n",
              "\n",
              "   spca_component_1  spca_component_2  spca_component_3  \n",
              "7              3.45              1.76              0.14  "
            ],
            "text/html": [
              "\n",
              "  <div id=\"df-eb19b349-3394-4fc0-a703-b4786c0fe6d8\">\n",
              "    <div class=\"colab-df-container\">\n",
              "      <div>\n",
              "<style scoped>\n",
              "    .dataframe tbody tr th:only-of-type {\n",
              "        vertical-align: middle;\n",
              "    }\n",
              "\n",
              "    .dataframe tbody tr th {\n",
              "        vertical-align: top;\n",
              "    }\n",
              "\n",
              "    .dataframe thead th {\n",
              "        text-align: right;\n",
              "    }\n",
              "</style>\n",
              "<table border=\"1\" class=\"dataframe\">\n",
              "  <thead>\n",
              "    <tr style=\"text-align: right;\">\n",
              "      <th></th>\n",
              "      <th>자치구</th>\n",
              "      <th>동</th>\n",
              "      <th>시설명</th>\n",
              "      <th>주소</th>\n",
              "      <th>위도</th>\n",
              "      <th>경도</th>\n",
              "      <th>위도UTMK</th>\n",
              "      <th>경도UTMK</th>\n",
              "      <th>동별전체인구</th>\n",
              "      <th>동별시니어수</th>\n",
              "      <th>행정동별시니어비율</th>\n",
              "      <th>유동인구</th>\n",
              "      <th>디지털정보지수</th>\n",
              "      <th>주변특성</th>\n",
              "      <th>대중교통</th>\n",
              "      <th>kmeans</th>\n",
              "      <th>spca_component_1</th>\n",
              "      <th>spca_component_2</th>\n",
              "      <th>spca_component_3</th>\n",
              "    </tr>\n",
              "  </thead>\n",
              "  <tbody>\n",
              "    <tr>\n",
              "      <th>7</th>\n",
              "      <td>노원구</td>\n",
              "      <td>중계2.3동</td>\n",
              "      <td>중계2.3동 주민센터</td>\n",
              "      <td>서울특별시 노원구 노원로17길 56</td>\n",
              "      <td>127.07</td>\n",
              "      <td>1960076.42</td>\n",
              "      <td>962139.41</td>\n",
              "      <td>2695.00</td>\n",
              "      <td>34196.00</td>\n",
              "      <td>10127.00</td>\n",
              "      <td>0.30</td>\n",
              "      <td>574810.32</td>\n",
              "      <td>9232.26</td>\n",
              "      <td>3.00</td>\n",
              "      <td>2.00</td>\n",
              "      <td>0</td>\n",
              "      <td>3.45</td>\n",
              "      <td>1.76</td>\n",
              "      <td>0.14</td>\n",
              "    </tr>\n",
              "  </tbody>\n",
              "</table>\n",
              "</div>\n",
              "      <button class=\"colab-df-convert\" onclick=\"convertToInteractive('df-eb19b349-3394-4fc0-a703-b4786c0fe6d8')\"\n",
              "              title=\"Convert this dataframe to an interactive table.\"\n",
              "              style=\"display:none;\">\n",
              "        \n",
              "  <svg xmlns=\"http://www.w3.org/2000/svg\" height=\"24px\"viewBox=\"0 0 24 24\"\n",
              "       width=\"24px\">\n",
              "    <path d=\"M0 0h24v24H0V0z\" fill=\"none\"/>\n",
              "    <path d=\"M18.56 5.44l.94 2.06.94-2.06 2.06-.94-2.06-.94-.94-2.06-.94 2.06-2.06.94zm-11 1L8.5 8.5l.94-2.06 2.06-.94-2.06-.94L8.5 2.5l-.94 2.06-2.06.94zm10 10l.94 2.06.94-2.06 2.06-.94-2.06-.94-.94-2.06-.94 2.06-2.06.94z\"/><path d=\"M17.41 7.96l-1.37-1.37c-.4-.4-.92-.59-1.43-.59-.52 0-1.04.2-1.43.59L10.3 9.45l-7.72 7.72c-.78.78-.78 2.05 0 2.83L4 21.41c.39.39.9.59 1.41.59.51 0 1.02-.2 1.41-.59l7.78-7.78 2.81-2.81c.8-.78.8-2.07 0-2.86zM5.41 20L4 18.59l7.72-7.72 1.47 1.35L5.41 20z\"/>\n",
              "  </svg>\n",
              "      </button>\n",
              "      \n",
              "  <style>\n",
              "    .colab-df-container {\n",
              "      display:flex;\n",
              "      flex-wrap:wrap;\n",
              "      gap: 12px;\n",
              "    }\n",
              "\n",
              "    .colab-df-convert {\n",
              "      background-color: #E8F0FE;\n",
              "      border: none;\n",
              "      border-radius: 50%;\n",
              "      cursor: pointer;\n",
              "      display: none;\n",
              "      fill: #1967D2;\n",
              "      height: 32px;\n",
              "      padding: 0 0 0 0;\n",
              "      width: 32px;\n",
              "    }\n",
              "\n",
              "    .colab-df-convert:hover {\n",
              "      background-color: #E2EBFA;\n",
              "      box-shadow: 0px 1px 2px rgba(60, 64, 67, 0.3), 0px 1px 3px 1px rgba(60, 64, 67, 0.15);\n",
              "      fill: #174EA6;\n",
              "    }\n",
              "\n",
              "    [theme=dark] .colab-df-convert {\n",
              "      background-color: #3B4455;\n",
              "      fill: #D2E3FC;\n",
              "    }\n",
              "\n",
              "    [theme=dark] .colab-df-convert:hover {\n",
              "      background-color: #434B5C;\n",
              "      box-shadow: 0px 1px 3px 1px rgba(0, 0, 0, 0.15);\n",
              "      filter: drop-shadow(0px 1px 2px rgba(0, 0, 0, 0.3));\n",
              "      fill: #FFFFFF;\n",
              "    }\n",
              "  </style>\n",
              "\n",
              "      <script>\n",
              "        const buttonEl =\n",
              "          document.querySelector('#df-eb19b349-3394-4fc0-a703-b4786c0fe6d8 button.colab-df-convert');\n",
              "        buttonEl.style.display =\n",
              "          google.colab.kernel.accessAllowed ? 'block' : 'none';\n",
              "\n",
              "        async function convertToInteractive(key) {\n",
              "          const element = document.querySelector('#df-eb19b349-3394-4fc0-a703-b4786c0fe6d8');\n",
              "          const dataTable =\n",
              "            await google.colab.kernel.invokeFunction('convertToInteractive',\n",
              "                                                     [key], {});\n",
              "          if (!dataTable) return;\n",
              "\n",
              "          const docLinkHtml = 'Like what you see? Visit the ' +\n",
              "            '<a target=\"_blank\" href=https://colab.research.google.com/notebooks/data_table.ipynb>data table notebook</a>'\n",
              "            + ' to learn more about interactive tables.';\n",
              "          element.innerHTML = '';\n",
              "          dataTable['output_type'] = 'display_data';\n",
              "          await google.colab.output.renderOutput(dataTable, element);\n",
              "          const docLink = document.createElement('div');\n",
              "          docLink.innerHTML = docLinkHtml;\n",
              "          element.appendChild(docLink);\n",
              "        }\n",
              "      </script>\n",
              "    </div>\n",
              "  </div>\n",
              "  "
            ]
          },
          "metadata": {},
          "execution_count": 58
        }
      ]
    },
    {
      "cell_type": "markdown",
      "source": [
        "## 대중교통, 연면적(2695) - 평균은 1520, 주변특성, 유동인구 준수하여 채택."
      ],
      "metadata": {
        "id": "XUhFQXBdF8zq"
      }
    },
    {
      "cell_type": "markdown",
      "source": [
        "### 노원구는 중계 2,3동 주민센터"
      ],
      "metadata": {
        "id": "53AQF9qHP7yF"
      }
    },
    {
      "cell_type": "markdown",
      "source": [
        "## 은평구 시작"
      ],
      "metadata": {
        "id": "kDwElMf0QBVO"
      }
    },
    {
      "cell_type": "code",
      "source": [
        "# 은평구 추출.\n",
        "dfeunpyeong = dfclu2[dfclu2['자치구']=='은평구']\n",
        "dfeunpyeong['시설명'].head(10)"
      ],
      "metadata": {
        "colab": {
          "base_uri": "https://localhost:8080/"
        },
        "outputId": "d09093c5-4755-4f2f-ee9a-81f0b928fc94",
        "id": "Q9wIWMJeQEKr"
      },
      "execution_count": null,
      "outputs": [
        {
          "output_type": "execute_result",
          "data": {
            "text/plain": [
              "177     녹번동 주민센터\n",
              "178    불광1동 주민센터\n",
              "179    불광2동 주민센터\n",
              "182     구산동 주민센터\n",
              "187     역촌동 주민센터\n",
              "191     진관동 주민센터\n",
              "455    은평노인종합복지관\n",
              "456     역촌노인복지센터\n",
              "459      불광노인복지관\n",
              "Name: 시설명, dtype: object"
            ]
          },
          "metadata": {},
          "execution_count": 59
        }
      ]
    },
    {
      "cell_type": "code",
      "source": [
        "# 인덱스 조정 작업.(177 -> 0)\n",
        "dfeunpyeong = dfeunpyeong.reset_index()\n",
        "eunpyeong = dfeunpyeong.iloc[:,1:]\n",
        "eunpyeong.head(1)"
      ],
      "metadata": {
        "colab": {
          "base_uri": "https://localhost:8080/",
          "height": 194
        },
        "outputId": "1a2884e6-d2cf-4ff9-fbf7-5cef82b8a40b",
        "id": "G5ShYEtBQEKs"
      },
      "execution_count": null,
      "outputs": [
        {
          "output_type": "execute_result",
          "data": {
            "text/plain": [
              "   자치구    동       시설명                 주소     위도         경도    위도UTMK  경도UTMK  \\\n",
              "0  은평구  녹번동  녹번동 주민센터  서울특별시 은평구 은평로 195 126.92 1955373.67 948630.70 2420.45   \n",
              "\n",
              "    동별전체인구  동별시니어수  행정동별시니어비율      유동인구  디지털정보지수  주변특성  대중교통  kmeans  \\\n",
              "0 36807.00 9958.00       0.27 492122.87  9604.62  1.00  3.00       0   \n",
              "\n",
              "   spca_component_1  spca_component_2  spca_component_3  \n",
              "0              3.21              0.35              0.76  "
            ],
            "text/html": [
              "\n",
              "  <div id=\"df-a8fd91be-8637-4359-951f-a5d6ecaccd08\">\n",
              "    <div class=\"colab-df-container\">\n",
              "      <div>\n",
              "<style scoped>\n",
              "    .dataframe tbody tr th:only-of-type {\n",
              "        vertical-align: middle;\n",
              "    }\n",
              "\n",
              "    .dataframe tbody tr th {\n",
              "        vertical-align: top;\n",
              "    }\n",
              "\n",
              "    .dataframe thead th {\n",
              "        text-align: right;\n",
              "    }\n",
              "</style>\n",
              "<table border=\"1\" class=\"dataframe\">\n",
              "  <thead>\n",
              "    <tr style=\"text-align: right;\">\n",
              "      <th></th>\n",
              "      <th>자치구</th>\n",
              "      <th>동</th>\n",
              "      <th>시설명</th>\n",
              "      <th>주소</th>\n",
              "      <th>위도</th>\n",
              "      <th>경도</th>\n",
              "      <th>위도UTMK</th>\n",
              "      <th>경도UTMK</th>\n",
              "      <th>동별전체인구</th>\n",
              "      <th>동별시니어수</th>\n",
              "      <th>행정동별시니어비율</th>\n",
              "      <th>유동인구</th>\n",
              "      <th>디지털정보지수</th>\n",
              "      <th>주변특성</th>\n",
              "      <th>대중교통</th>\n",
              "      <th>kmeans</th>\n",
              "      <th>spca_component_1</th>\n",
              "      <th>spca_component_2</th>\n",
              "      <th>spca_component_3</th>\n",
              "    </tr>\n",
              "  </thead>\n",
              "  <tbody>\n",
              "    <tr>\n",
              "      <th>0</th>\n",
              "      <td>은평구</td>\n",
              "      <td>녹번동</td>\n",
              "      <td>녹번동 주민센터</td>\n",
              "      <td>서울특별시 은평구 은평로 195</td>\n",
              "      <td>126.92</td>\n",
              "      <td>1955373.67</td>\n",
              "      <td>948630.70</td>\n",
              "      <td>2420.45</td>\n",
              "      <td>36807.00</td>\n",
              "      <td>9958.00</td>\n",
              "      <td>0.27</td>\n",
              "      <td>492122.87</td>\n",
              "      <td>9604.62</td>\n",
              "      <td>1.00</td>\n",
              "      <td>3.00</td>\n",
              "      <td>0</td>\n",
              "      <td>3.21</td>\n",
              "      <td>0.35</td>\n",
              "      <td>0.76</td>\n",
              "    </tr>\n",
              "  </tbody>\n",
              "</table>\n",
              "</div>\n",
              "      <button class=\"colab-df-convert\" onclick=\"convertToInteractive('df-a8fd91be-8637-4359-951f-a5d6ecaccd08')\"\n",
              "              title=\"Convert this dataframe to an interactive table.\"\n",
              "              style=\"display:none;\">\n",
              "        \n",
              "  <svg xmlns=\"http://www.w3.org/2000/svg\" height=\"24px\"viewBox=\"0 0 24 24\"\n",
              "       width=\"24px\">\n",
              "    <path d=\"M0 0h24v24H0V0z\" fill=\"none\"/>\n",
              "    <path d=\"M18.56 5.44l.94 2.06.94-2.06 2.06-.94-2.06-.94-.94-2.06-.94 2.06-2.06.94zm-11 1L8.5 8.5l.94-2.06 2.06-.94-2.06-.94L8.5 2.5l-.94 2.06-2.06.94zm10 10l.94 2.06.94-2.06 2.06-.94-2.06-.94-.94-2.06-.94 2.06-2.06.94z\"/><path d=\"M17.41 7.96l-1.37-1.37c-.4-.4-.92-.59-1.43-.59-.52 0-1.04.2-1.43.59L10.3 9.45l-7.72 7.72c-.78.78-.78 2.05 0 2.83L4 21.41c.39.39.9.59 1.41.59.51 0 1.02-.2 1.41-.59l7.78-7.78 2.81-2.81c.8-.78.8-2.07 0-2.86zM5.41 20L4 18.59l7.72-7.72 1.47 1.35L5.41 20z\"/>\n",
              "  </svg>\n",
              "      </button>\n",
              "      \n",
              "  <style>\n",
              "    .colab-df-container {\n",
              "      display:flex;\n",
              "      flex-wrap:wrap;\n",
              "      gap: 12px;\n",
              "    }\n",
              "\n",
              "    .colab-df-convert {\n",
              "      background-color: #E8F0FE;\n",
              "      border: none;\n",
              "      border-radius: 50%;\n",
              "      cursor: pointer;\n",
              "      display: none;\n",
              "      fill: #1967D2;\n",
              "      height: 32px;\n",
              "      padding: 0 0 0 0;\n",
              "      width: 32px;\n",
              "    }\n",
              "\n",
              "    .colab-df-convert:hover {\n",
              "      background-color: #E2EBFA;\n",
              "      box-shadow: 0px 1px 2px rgba(60, 64, 67, 0.3), 0px 1px 3px 1px rgba(60, 64, 67, 0.15);\n",
              "      fill: #174EA6;\n",
              "    }\n",
              "\n",
              "    [theme=dark] .colab-df-convert {\n",
              "      background-color: #3B4455;\n",
              "      fill: #D2E3FC;\n",
              "    }\n",
              "\n",
              "    [theme=dark] .colab-df-convert:hover {\n",
              "      background-color: #434B5C;\n",
              "      box-shadow: 0px 1px 3px 1px rgba(0, 0, 0, 0.15);\n",
              "      filter: drop-shadow(0px 1px 2px rgba(0, 0, 0, 0.3));\n",
              "      fill: #FFFFFF;\n",
              "    }\n",
              "  </style>\n",
              "\n",
              "      <script>\n",
              "        const buttonEl =\n",
              "          document.querySelector('#df-a8fd91be-8637-4359-951f-a5d6ecaccd08 button.colab-df-convert');\n",
              "        buttonEl.style.display =\n",
              "          google.colab.kernel.accessAllowed ? 'block' : 'none';\n",
              "\n",
              "        async function convertToInteractive(key) {\n",
              "          const element = document.querySelector('#df-a8fd91be-8637-4359-951f-a5d6ecaccd08');\n",
              "          const dataTable =\n",
              "            await google.colab.kernel.invokeFunction('convertToInteractive',\n",
              "                                                     [key], {});\n",
              "          if (!dataTable) return;\n",
              "\n",
              "          const docLinkHtml = 'Like what you see? Visit the ' +\n",
              "            '<a target=\"_blank\" href=https://colab.research.google.com/notebooks/data_table.ipynb>data table notebook</a>'\n",
              "            + ' to learn more about interactive tables.';\n",
              "          element.innerHTML = '';\n",
              "          dataTable['output_type'] = 'display_data';\n",
              "          await google.colab.output.renderOutput(dataTable, element);\n",
              "          const docLink = document.createElement('div');\n",
              "          docLink.innerHTML = docLinkHtml;\n",
              "          element.appendChild(docLink);\n",
              "        }\n",
              "      </script>\n",
              "    </div>\n",
              "  </div>\n",
              "  "
            ]
          },
          "metadata": {},
          "execution_count": 60
        }
      ]
    },
    {
      "cell_type": "code",
      "source": [
        "# 은평구중 각 주민센터(입지선정)과 다른 주민센터와의 거리합.\n",
        "distance = []\n",
        "distance2 = []\n",
        "for i in range(len(eunpyeong)):\n",
        "    for j in range(len(eunpyeong)):\n",
        "        distance.append(np.sqrt((eunpyeong['위도UTMK'][i] - eunpyeong['위도UTMK'][j])**2 + (eunpyeong['경도UTMK'][i] - eunpyeong['경도UTMK'][j])**2))\n",
        "    distance2.append(sum(distance))\n",
        "    distance= []\n",
        "distance2"
      ],
      "metadata": {
        "colab": {
          "base_uri": "https://localhost:8080/"
        },
        "outputId": "2e5ec282-9c04-4ec6-c9cc-1e718a127af3",
        "id": "ybqFgptmQEKt"
      },
      "execution_count": null,
      "outputs": [
        {
          "output_type": "execute_result",
          "data": {
            "text/plain": [
              "[10823.868140215112,\n",
              " 12950.4788920931,\n",
              " 10204.717758001192,\n",
              " 12666.640075407,\n",
              " 9271.765227191696,\n",
              " 13106.72321744851,\n",
              " 16187.154566256098,\n",
              " 10684.99548945671,\n",
              " 10592.131058937004]"
            ]
          },
          "metadata": {},
          "execution_count": 61
        }
      ]
    },
    {
      "cell_type": "code",
      "source": [
        "# 은평구의 인구 * 거리 값.\n",
        "# p median 식이 수요 * 거리곱의 최소화. \n",
        "eunpyeongpopdist = eunpyeong['동별시니어수']*distance2\n",
        "print(eunpyeongpopdist.sort_values())\n",
        "a = eunpyeongpopdist.argmin()\n",
        "eunpyeong.iloc[a:a+1:]"
      ],
      "metadata": {
        "colab": {
          "base_uri": "https://localhost:8080/",
          "height": 368
        },
        "outputId": "9134304e-966f-4b4f-e942-13ceefb7a10a",
        "id": "0FZOhEWUQEKt"
      },
      "execution_count": null,
      "outputs": [
        {
          "output_type": "stream",
          "name": "stdout",
          "text": [
            "2    87015628.32\n",
            "8    90319101.54\n",
            "0   107784078.94\n",
            "4   112021467.47\n",
            "3   112885096.35\n",
            "7   129096115.50\n",
            "1   142804930.74\n",
            "5   157346212.23\n",
            "6   194326790.57\n",
            "Name: 동별시니어수, dtype: float64\n"
          ]
        },
        {
          "output_type": "execute_result",
          "data": {
            "text/plain": [
              "   자치구     동        시설명                   주소     위도         경도    위도UTMK  \\\n",
              "2  은평구  불광2동  불광2동 주민센터  서울특별시 은평구 연서로41길 16 126.93 1958396.03 949647.22   \n",
              "\n",
              "   경도UTMK   동별전체인구  동별시니어수  행정동별시니어비율      유동인구  디지털정보지수  주변특성  대중교통  kmeans  \\\n",
              "2 1266.42 27545.00 8527.00       0.31 421403.06  7905.73  1.00  0.00       0   \n",
              "\n",
              "   spca_component_1  spca_component_2  spca_component_3  \n",
              "2              1.73              0.76             -1.33  "
            ],
            "text/html": [
              "\n",
              "  <div id=\"df-7e4c948c-ce04-46da-a58b-031fc0782ece\">\n",
              "    <div class=\"colab-df-container\">\n",
              "      <div>\n",
              "<style scoped>\n",
              "    .dataframe tbody tr th:only-of-type {\n",
              "        vertical-align: middle;\n",
              "    }\n",
              "\n",
              "    .dataframe tbody tr th {\n",
              "        vertical-align: top;\n",
              "    }\n",
              "\n",
              "    .dataframe thead th {\n",
              "        text-align: right;\n",
              "    }\n",
              "</style>\n",
              "<table border=\"1\" class=\"dataframe\">\n",
              "  <thead>\n",
              "    <tr style=\"text-align: right;\">\n",
              "      <th></th>\n",
              "      <th>자치구</th>\n",
              "      <th>동</th>\n",
              "      <th>시설명</th>\n",
              "      <th>주소</th>\n",
              "      <th>위도</th>\n",
              "      <th>경도</th>\n",
              "      <th>위도UTMK</th>\n",
              "      <th>경도UTMK</th>\n",
              "      <th>동별전체인구</th>\n",
              "      <th>동별시니어수</th>\n",
              "      <th>행정동별시니어비율</th>\n",
              "      <th>유동인구</th>\n",
              "      <th>디지털정보지수</th>\n",
              "      <th>주변특성</th>\n",
              "      <th>대중교통</th>\n",
              "      <th>kmeans</th>\n",
              "      <th>spca_component_1</th>\n",
              "      <th>spca_component_2</th>\n",
              "      <th>spca_component_3</th>\n",
              "    </tr>\n",
              "  </thead>\n",
              "  <tbody>\n",
              "    <tr>\n",
              "      <th>2</th>\n",
              "      <td>은평구</td>\n",
              "      <td>불광2동</td>\n",
              "      <td>불광2동 주민센터</td>\n",
              "      <td>서울특별시 은평구 연서로41길 16</td>\n",
              "      <td>126.93</td>\n",
              "      <td>1958396.03</td>\n",
              "      <td>949647.22</td>\n",
              "      <td>1266.42</td>\n",
              "      <td>27545.00</td>\n",
              "      <td>8527.00</td>\n",
              "      <td>0.31</td>\n",
              "      <td>421403.06</td>\n",
              "      <td>7905.73</td>\n",
              "      <td>1.00</td>\n",
              "      <td>0.00</td>\n",
              "      <td>0</td>\n",
              "      <td>1.73</td>\n",
              "      <td>0.76</td>\n",
              "      <td>-1.33</td>\n",
              "    </tr>\n",
              "  </tbody>\n",
              "</table>\n",
              "</div>\n",
              "      <button class=\"colab-df-convert\" onclick=\"convertToInteractive('df-7e4c948c-ce04-46da-a58b-031fc0782ece')\"\n",
              "              title=\"Convert this dataframe to an interactive table.\"\n",
              "              style=\"display:none;\">\n",
              "        \n",
              "  <svg xmlns=\"http://www.w3.org/2000/svg\" height=\"24px\"viewBox=\"0 0 24 24\"\n",
              "       width=\"24px\">\n",
              "    <path d=\"M0 0h24v24H0V0z\" fill=\"none\"/>\n",
              "    <path d=\"M18.56 5.44l.94 2.06.94-2.06 2.06-.94-2.06-.94-.94-2.06-.94 2.06-2.06.94zm-11 1L8.5 8.5l.94-2.06 2.06-.94-2.06-.94L8.5 2.5l-.94 2.06-2.06.94zm10 10l.94 2.06.94-2.06 2.06-.94-2.06-.94-.94-2.06-.94 2.06-2.06.94z\"/><path d=\"M17.41 7.96l-1.37-1.37c-.4-.4-.92-.59-1.43-.59-.52 0-1.04.2-1.43.59L10.3 9.45l-7.72 7.72c-.78.78-.78 2.05 0 2.83L4 21.41c.39.39.9.59 1.41.59.51 0 1.02-.2 1.41-.59l7.78-7.78 2.81-2.81c.8-.78.8-2.07 0-2.86zM5.41 20L4 18.59l7.72-7.72 1.47 1.35L5.41 20z\"/>\n",
              "  </svg>\n",
              "      </button>\n",
              "      \n",
              "  <style>\n",
              "    .colab-df-container {\n",
              "      display:flex;\n",
              "      flex-wrap:wrap;\n",
              "      gap: 12px;\n",
              "    }\n",
              "\n",
              "    .colab-df-convert {\n",
              "      background-color: #E8F0FE;\n",
              "      border: none;\n",
              "      border-radius: 50%;\n",
              "      cursor: pointer;\n",
              "      display: none;\n",
              "      fill: #1967D2;\n",
              "      height: 32px;\n",
              "      padding: 0 0 0 0;\n",
              "      width: 32px;\n",
              "    }\n",
              "\n",
              "    .colab-df-convert:hover {\n",
              "      background-color: #E2EBFA;\n",
              "      box-shadow: 0px 1px 2px rgba(60, 64, 67, 0.3), 0px 1px 3px 1px rgba(60, 64, 67, 0.15);\n",
              "      fill: #174EA6;\n",
              "    }\n",
              "\n",
              "    [theme=dark] .colab-df-convert {\n",
              "      background-color: #3B4455;\n",
              "      fill: #D2E3FC;\n",
              "    }\n",
              "\n",
              "    [theme=dark] .colab-df-convert:hover {\n",
              "      background-color: #434B5C;\n",
              "      box-shadow: 0px 1px 3px 1px rgba(0, 0, 0, 0.15);\n",
              "      filter: drop-shadow(0px 1px 2px rgba(0, 0, 0, 0.3));\n",
              "      fill: #FFFFFF;\n",
              "    }\n",
              "  </style>\n",
              "\n",
              "      <script>\n",
              "        const buttonEl =\n",
              "          document.querySelector('#df-7e4c948c-ce04-46da-a58b-031fc0782ece button.colab-df-convert');\n",
              "        buttonEl.style.display =\n",
              "          google.colab.kernel.accessAllowed ? 'block' : 'none';\n",
              "\n",
              "        async function convertToInteractive(key) {\n",
              "          const element = document.querySelector('#df-7e4c948c-ce04-46da-a58b-031fc0782ece');\n",
              "          const dataTable =\n",
              "            await google.colab.kernel.invokeFunction('convertToInteractive',\n",
              "                                                     [key], {});\n",
              "          if (!dataTable) return;\n",
              "\n",
              "          const docLinkHtml = 'Like what you see? Visit the ' +\n",
              "            '<a target=\"_blank\" href=https://colab.research.google.com/notebooks/data_table.ipynb>data table notebook</a>'\n",
              "            + ' to learn more about interactive tables.';\n",
              "          element.innerHTML = '';\n",
              "          dataTable['output_type'] = 'display_data';\n",
              "          await google.colab.output.renderOutput(dataTable, element);\n",
              "          const docLink = document.createElement('div');\n",
              "          docLink.innerHTML = docLinkHtml;\n",
              "          element.appendChild(docLink);\n",
              "        }\n",
              "      </script>\n",
              "    </div>\n",
              "  </div>\n",
              "  "
            ]
          },
          "metadata": {},
          "execution_count": 62
        }
      ]
    },
    {
      "cell_type": "markdown",
      "source": [
        "### 은평구는 불광2동 - 불광노인복지관"
      ],
      "metadata": {
        "id": "UoGv162VQYIh"
      }
    },
    {
      "cell_type": "markdown",
      "source": [
        "## 동대문구 시작"
      ],
      "metadata": {
        "id": "Sw2NlIuP6sRO"
      }
    },
    {
      "cell_type": "code",
      "source": [
        "# 동대문구 추출.\n",
        "dfeastbigdoor = dfclu2[dfclu2['자치구']=='동대문구']\n",
        "dfeastbigdoor.head(1)"
      ],
      "metadata": {
        "colab": {
          "base_uri": "https://localhost:8080/",
          "height": 177
        },
        "outputId": "1a28656a-1ead-494c-9a12-9c448de7ec18",
        "id": "HkIn-iq56sRP"
      },
      "execution_count": null,
      "outputs": [
        {
          "output_type": "execute_result",
          "data": {
            "text/plain": [
              "     자치구    동       시설명                     주소     위도         경도    위도UTMK  \\\n",
              "80  동대문구  용신동  용신동 주민센터  서울특별시 동대문구 천호대로27길 35 127.04 1952731.88 959331.47   \n",
              "\n",
              "    경도UTMK   동별전체인구  동별시니어수  행정동별시니어비율      유동인구  디지털정보지수  주변특성  대중교통  kmeans  \\\n",
              "80 1591.58 31619.00 8144.00       0.26 569731.36  7787.33  2.00  3.00       0   \n",
              "\n",
              "    spca_component_1  spca_component_2  spca_component_3  \n",
              "80              2.47              0.80              0.90  "
            ],
            "text/html": [
              "\n",
              "  <div id=\"df-d97728b0-9d10-4de6-af56-ca612b388d16\">\n",
              "    <div class=\"colab-df-container\">\n",
              "      <div>\n",
              "<style scoped>\n",
              "    .dataframe tbody tr th:only-of-type {\n",
              "        vertical-align: middle;\n",
              "    }\n",
              "\n",
              "    .dataframe tbody tr th {\n",
              "        vertical-align: top;\n",
              "    }\n",
              "\n",
              "    .dataframe thead th {\n",
              "        text-align: right;\n",
              "    }\n",
              "</style>\n",
              "<table border=\"1\" class=\"dataframe\">\n",
              "  <thead>\n",
              "    <tr style=\"text-align: right;\">\n",
              "      <th></th>\n",
              "      <th>자치구</th>\n",
              "      <th>동</th>\n",
              "      <th>시설명</th>\n",
              "      <th>주소</th>\n",
              "      <th>위도</th>\n",
              "      <th>경도</th>\n",
              "      <th>위도UTMK</th>\n",
              "      <th>경도UTMK</th>\n",
              "      <th>동별전체인구</th>\n",
              "      <th>동별시니어수</th>\n",
              "      <th>행정동별시니어비율</th>\n",
              "      <th>유동인구</th>\n",
              "      <th>디지털정보지수</th>\n",
              "      <th>주변특성</th>\n",
              "      <th>대중교통</th>\n",
              "      <th>kmeans</th>\n",
              "      <th>spca_component_1</th>\n",
              "      <th>spca_component_2</th>\n",
              "      <th>spca_component_3</th>\n",
              "    </tr>\n",
              "  </thead>\n",
              "  <tbody>\n",
              "    <tr>\n",
              "      <th>80</th>\n",
              "      <td>동대문구</td>\n",
              "      <td>용신동</td>\n",
              "      <td>용신동 주민센터</td>\n",
              "      <td>서울특별시 동대문구 천호대로27길 35</td>\n",
              "      <td>127.04</td>\n",
              "      <td>1952731.88</td>\n",
              "      <td>959331.47</td>\n",
              "      <td>1591.58</td>\n",
              "      <td>31619.00</td>\n",
              "      <td>8144.00</td>\n",
              "      <td>0.26</td>\n",
              "      <td>569731.36</td>\n",
              "      <td>7787.33</td>\n",
              "      <td>2.00</td>\n",
              "      <td>3.00</td>\n",
              "      <td>0</td>\n",
              "      <td>2.47</td>\n",
              "      <td>0.80</td>\n",
              "      <td>0.90</td>\n",
              "    </tr>\n",
              "  </tbody>\n",
              "</table>\n",
              "</div>\n",
              "      <button class=\"colab-df-convert\" onclick=\"convertToInteractive('df-d97728b0-9d10-4de6-af56-ca612b388d16')\"\n",
              "              title=\"Convert this dataframe to an interactive table.\"\n",
              "              style=\"display:none;\">\n",
              "        \n",
              "  <svg xmlns=\"http://www.w3.org/2000/svg\" height=\"24px\"viewBox=\"0 0 24 24\"\n",
              "       width=\"24px\">\n",
              "    <path d=\"M0 0h24v24H0V0z\" fill=\"none\"/>\n",
              "    <path d=\"M18.56 5.44l.94 2.06.94-2.06 2.06-.94-2.06-.94-.94-2.06-.94 2.06-2.06.94zm-11 1L8.5 8.5l.94-2.06 2.06-.94-2.06-.94L8.5 2.5l-.94 2.06-2.06.94zm10 10l.94 2.06.94-2.06 2.06-.94-2.06-.94-.94-2.06-.94 2.06-2.06.94z\"/><path d=\"M17.41 7.96l-1.37-1.37c-.4-.4-.92-.59-1.43-.59-.52 0-1.04.2-1.43.59L10.3 9.45l-7.72 7.72c-.78.78-.78 2.05 0 2.83L4 21.41c.39.39.9.59 1.41.59.51 0 1.02-.2 1.41-.59l7.78-7.78 2.81-2.81c.8-.78.8-2.07 0-2.86zM5.41 20L4 18.59l7.72-7.72 1.47 1.35L5.41 20z\"/>\n",
              "  </svg>\n",
              "      </button>\n",
              "      \n",
              "  <style>\n",
              "    .colab-df-container {\n",
              "      display:flex;\n",
              "      flex-wrap:wrap;\n",
              "      gap: 12px;\n",
              "    }\n",
              "\n",
              "    .colab-df-convert {\n",
              "      background-color: #E8F0FE;\n",
              "      border: none;\n",
              "      border-radius: 50%;\n",
              "      cursor: pointer;\n",
              "      display: none;\n",
              "      fill: #1967D2;\n",
              "      height: 32px;\n",
              "      padding: 0 0 0 0;\n",
              "      width: 32px;\n",
              "    }\n",
              "\n",
              "    .colab-df-convert:hover {\n",
              "      background-color: #E2EBFA;\n",
              "      box-shadow: 0px 1px 2px rgba(60, 64, 67, 0.3), 0px 1px 3px 1px rgba(60, 64, 67, 0.15);\n",
              "      fill: #174EA6;\n",
              "    }\n",
              "\n",
              "    [theme=dark] .colab-df-convert {\n",
              "      background-color: #3B4455;\n",
              "      fill: #D2E3FC;\n",
              "    }\n",
              "\n",
              "    [theme=dark] .colab-df-convert:hover {\n",
              "      background-color: #434B5C;\n",
              "      box-shadow: 0px 1px 3px 1px rgba(0, 0, 0, 0.15);\n",
              "      filter: drop-shadow(0px 1px 2px rgba(0, 0, 0, 0.3));\n",
              "      fill: #FFFFFF;\n",
              "    }\n",
              "  </style>\n",
              "\n",
              "      <script>\n",
              "        const buttonEl =\n",
              "          document.querySelector('#df-d97728b0-9d10-4de6-af56-ca612b388d16 button.colab-df-convert');\n",
              "        buttonEl.style.display =\n",
              "          google.colab.kernel.accessAllowed ? 'block' : 'none';\n",
              "\n",
              "        async function convertToInteractive(key) {\n",
              "          const element = document.querySelector('#df-d97728b0-9d10-4de6-af56-ca612b388d16');\n",
              "          const dataTable =\n",
              "            await google.colab.kernel.invokeFunction('convertToInteractive',\n",
              "                                                     [key], {});\n",
              "          if (!dataTable) return;\n",
              "\n",
              "          const docLinkHtml = 'Like what you see? Visit the ' +\n",
              "            '<a target=\"_blank\" href=https://colab.research.google.com/notebooks/data_table.ipynb>data table notebook</a>'\n",
              "            + ' to learn more about interactive tables.';\n",
              "          element.innerHTML = '';\n",
              "          dataTable['output_type'] = 'display_data';\n",
              "          await google.colab.output.renderOutput(dataTable, element);\n",
              "          const docLink = document.createElement('div');\n",
              "          docLink.innerHTML = docLinkHtml;\n",
              "          element.appendChild(docLink);\n",
              "        }\n",
              "      </script>\n",
              "    </div>\n",
              "  </div>\n",
              "  "
            ]
          },
          "metadata": {},
          "execution_count": 63
        }
      ]
    },
    {
      "cell_type": "code",
      "source": [
        "# 인덱스 조정 작업.(80 -> 0)\n",
        "dfeastbigdoor = dfeastbigdoor.reset_index()\n",
        "eastbigdoor = dfeastbigdoor.iloc[:,1:]\n",
        "eastbigdoor.head(1)"
      ],
      "metadata": {
        "colab": {
          "base_uri": "https://localhost:8080/",
          "height": 177
        },
        "outputId": "da91d42b-b0b5-4c57-deb5-c7bbcff239c7",
        "id": "Argq6pqG6sRQ"
      },
      "execution_count": null,
      "outputs": [
        {
          "output_type": "execute_result",
          "data": {
            "text/plain": [
              "    자치구    동       시설명                     주소     위도         경도    위도UTMK  \\\n",
              "0  동대문구  용신동  용신동 주민센터  서울특별시 동대문구 천호대로27길 35 127.04 1952731.88 959331.47   \n",
              "\n",
              "   경도UTMK   동별전체인구  동별시니어수  행정동별시니어비율      유동인구  디지털정보지수  주변특성  대중교통  kmeans  \\\n",
              "0 1591.58 31619.00 8144.00       0.26 569731.36  7787.33  2.00  3.00       0   \n",
              "\n",
              "   spca_component_1  spca_component_2  spca_component_3  \n",
              "0              2.47              0.80              0.90  "
            ],
            "text/html": [
              "\n",
              "  <div id=\"df-f266e269-1c6b-4364-bdc2-a61034960c00\">\n",
              "    <div class=\"colab-df-container\">\n",
              "      <div>\n",
              "<style scoped>\n",
              "    .dataframe tbody tr th:only-of-type {\n",
              "        vertical-align: middle;\n",
              "    }\n",
              "\n",
              "    .dataframe tbody tr th {\n",
              "        vertical-align: top;\n",
              "    }\n",
              "\n",
              "    .dataframe thead th {\n",
              "        text-align: right;\n",
              "    }\n",
              "</style>\n",
              "<table border=\"1\" class=\"dataframe\">\n",
              "  <thead>\n",
              "    <tr style=\"text-align: right;\">\n",
              "      <th></th>\n",
              "      <th>자치구</th>\n",
              "      <th>동</th>\n",
              "      <th>시설명</th>\n",
              "      <th>주소</th>\n",
              "      <th>위도</th>\n",
              "      <th>경도</th>\n",
              "      <th>위도UTMK</th>\n",
              "      <th>경도UTMK</th>\n",
              "      <th>동별전체인구</th>\n",
              "      <th>동별시니어수</th>\n",
              "      <th>행정동별시니어비율</th>\n",
              "      <th>유동인구</th>\n",
              "      <th>디지털정보지수</th>\n",
              "      <th>주변특성</th>\n",
              "      <th>대중교통</th>\n",
              "      <th>kmeans</th>\n",
              "      <th>spca_component_1</th>\n",
              "      <th>spca_component_2</th>\n",
              "      <th>spca_component_3</th>\n",
              "    </tr>\n",
              "  </thead>\n",
              "  <tbody>\n",
              "    <tr>\n",
              "      <th>0</th>\n",
              "      <td>동대문구</td>\n",
              "      <td>용신동</td>\n",
              "      <td>용신동 주민센터</td>\n",
              "      <td>서울특별시 동대문구 천호대로27길 35</td>\n",
              "      <td>127.04</td>\n",
              "      <td>1952731.88</td>\n",
              "      <td>959331.47</td>\n",
              "      <td>1591.58</td>\n",
              "      <td>31619.00</td>\n",
              "      <td>8144.00</td>\n",
              "      <td>0.26</td>\n",
              "      <td>569731.36</td>\n",
              "      <td>7787.33</td>\n",
              "      <td>2.00</td>\n",
              "      <td>3.00</td>\n",
              "      <td>0</td>\n",
              "      <td>2.47</td>\n",
              "      <td>0.80</td>\n",
              "      <td>0.90</td>\n",
              "    </tr>\n",
              "  </tbody>\n",
              "</table>\n",
              "</div>\n",
              "      <button class=\"colab-df-convert\" onclick=\"convertToInteractive('df-f266e269-1c6b-4364-bdc2-a61034960c00')\"\n",
              "              title=\"Convert this dataframe to an interactive table.\"\n",
              "              style=\"display:none;\">\n",
              "        \n",
              "  <svg xmlns=\"http://www.w3.org/2000/svg\" height=\"24px\"viewBox=\"0 0 24 24\"\n",
              "       width=\"24px\">\n",
              "    <path d=\"M0 0h24v24H0V0z\" fill=\"none\"/>\n",
              "    <path d=\"M18.56 5.44l.94 2.06.94-2.06 2.06-.94-2.06-.94-.94-2.06-.94 2.06-2.06.94zm-11 1L8.5 8.5l.94-2.06 2.06-.94-2.06-.94L8.5 2.5l-.94 2.06-2.06.94zm10 10l.94 2.06.94-2.06 2.06-.94-2.06-.94-.94-2.06-.94 2.06-2.06.94z\"/><path d=\"M17.41 7.96l-1.37-1.37c-.4-.4-.92-.59-1.43-.59-.52 0-1.04.2-1.43.59L10.3 9.45l-7.72 7.72c-.78.78-.78 2.05 0 2.83L4 21.41c.39.39.9.59 1.41.59.51 0 1.02-.2 1.41-.59l7.78-7.78 2.81-2.81c.8-.78.8-2.07 0-2.86zM5.41 20L4 18.59l7.72-7.72 1.47 1.35L5.41 20z\"/>\n",
              "  </svg>\n",
              "      </button>\n",
              "      \n",
              "  <style>\n",
              "    .colab-df-container {\n",
              "      display:flex;\n",
              "      flex-wrap:wrap;\n",
              "      gap: 12px;\n",
              "    }\n",
              "\n",
              "    .colab-df-convert {\n",
              "      background-color: #E8F0FE;\n",
              "      border: none;\n",
              "      border-radius: 50%;\n",
              "      cursor: pointer;\n",
              "      display: none;\n",
              "      fill: #1967D2;\n",
              "      height: 32px;\n",
              "      padding: 0 0 0 0;\n",
              "      width: 32px;\n",
              "    }\n",
              "\n",
              "    .colab-df-convert:hover {\n",
              "      background-color: #E2EBFA;\n",
              "      box-shadow: 0px 1px 2px rgba(60, 64, 67, 0.3), 0px 1px 3px 1px rgba(60, 64, 67, 0.15);\n",
              "      fill: #174EA6;\n",
              "    }\n",
              "\n",
              "    [theme=dark] .colab-df-convert {\n",
              "      background-color: #3B4455;\n",
              "      fill: #D2E3FC;\n",
              "    }\n",
              "\n",
              "    [theme=dark] .colab-df-convert:hover {\n",
              "      background-color: #434B5C;\n",
              "      box-shadow: 0px 1px 3px 1px rgba(0, 0, 0, 0.15);\n",
              "      filter: drop-shadow(0px 1px 2px rgba(0, 0, 0, 0.3));\n",
              "      fill: #FFFFFF;\n",
              "    }\n",
              "  </style>\n",
              "\n",
              "      <script>\n",
              "        const buttonEl =\n",
              "          document.querySelector('#df-f266e269-1c6b-4364-bdc2-a61034960c00 button.colab-df-convert');\n",
              "        buttonEl.style.display =\n",
              "          google.colab.kernel.accessAllowed ? 'block' : 'none';\n",
              "\n",
              "        async function convertToInteractive(key) {\n",
              "          const element = document.querySelector('#df-f266e269-1c6b-4364-bdc2-a61034960c00');\n",
              "          const dataTable =\n",
              "            await google.colab.kernel.invokeFunction('convertToInteractive',\n",
              "                                                     [key], {});\n",
              "          if (!dataTable) return;\n",
              "\n",
              "          const docLinkHtml = 'Like what you see? Visit the ' +\n",
              "            '<a target=\"_blank\" href=https://colab.research.google.com/notebooks/data_table.ipynb>data table notebook</a>'\n",
              "            + ' to learn more about interactive tables.';\n",
              "          element.innerHTML = '';\n",
              "          dataTable['output_type'] = 'display_data';\n",
              "          await google.colab.output.renderOutput(dataTable, element);\n",
              "          const docLink = document.createElement('div');\n",
              "          docLink.innerHTML = docLinkHtml;\n",
              "          element.appendChild(docLink);\n",
              "        }\n",
              "      </script>\n",
              "    </div>\n",
              "  </div>\n",
              "  "
            ]
          },
          "metadata": {},
          "execution_count": 64
        }
      ]
    },
    {
      "cell_type": "code",
      "source": [
        "# 동대문구중 각 주민센터(입지선정)과 다른 주민센터와의 거리합.\n",
        "distance = []\n",
        "distance2 = []\n",
        "for i in range(len(eastbigdoor)):\n",
        "    for j in range(len(eastbigdoor)):\n",
        "        distance.append(np.sqrt((eastbigdoor['위도UTMK'][i] - eastbigdoor['위도UTMK'][j])**2 + (eastbigdoor['경도UTMK'][i] - eastbigdoor['경도UTMK'][j])**2))\n",
        "    distance2.append(sum(distance))\n",
        "    distance= []\n",
        "distance2"
      ],
      "metadata": {
        "colab": {
          "base_uri": "https://localhost:8080/"
        },
        "outputId": "fa7d96c9-52ee-4e9a-8659-32c26892f40e",
        "id": "szFkevem6sRQ"
      },
      "execution_count": null,
      "outputs": [
        {
          "output_type": "execute_result",
          "data": {
            "text/plain": [
              "[11931.23930794988,\n",
              " 12543.660580793263,\n",
              " 9294.331432078594,\n",
              " 10139.557726937159,\n",
              " 12039.901773388428,\n",
              " 14356.799050464342,\n",
              " 9069.260709216296,\n",
              " 11444.641574922536]"
            ]
          },
          "metadata": {},
          "execution_count": 65
        }
      ]
    },
    {
      "cell_type": "code",
      "source": [
        "# 동대문구의 인구 * 거리 값.\n",
        "# p median 식이 수요 * 거리곱의 최소화. \n",
        "eastbigdoorpopdist = eastbigdoor['동별시니어수']*distance2\n",
        "print(eastbigdoorpopdist.sort_values())\n",
        "a = eastbigdoorpopdist.argmin()\n",
        "eastbigdoor.iloc[a:a+1:]"
      ],
      "metadata": {
        "colab": {
          "base_uri": "https://localhost:8080/",
          "height": 350
        },
        "outputId": "d20679f8-4b18-4f33-c2b8-45269ffaf915",
        "id": "a86X7O5t6sRR"
      },
      "execution_count": null,
      "outputs": [
        {
          "output_type": "stream",
          "name": "stdout",
          "text": [
            "6    66051425.75\n",
            "2    74689247.39\n",
            "3    80923810.22\n",
            "7    83351324.59\n",
            "0    97168012.92\n",
            "1    98944394.66\n",
            "5   109571090.35\n",
            "4   116221171.82\n",
            "Name: 동별시니어수, dtype: float64\n"
          ]
        },
        {
          "output_type": "execute_result",
          "data": {
            "text/plain": [
              "    자치구     동        시설명                    주소     위도         경도    위도UTMK  \\\n",
              "6  동대문구  청량리동  청량리동 주민센터  서울특별시 동대문구 왕산로43다길 5 127.05 1953886.36 960218.93   \n",
              "\n",
              "   경도UTMK   동별전체인구  동별시니어수  행정동별시니어비율      유동인구  디지털정보지수  주변특성  대중교통  kmeans  \\\n",
              "6  988.37 18813.00 7283.00       0.39 509498.22  5953.89  4.00  2.00       0   \n",
              "\n",
              "   spca_component_1  spca_component_2  spca_component_3  \n",
              "6              1.07              3.92             -0.33  "
            ],
            "text/html": [
              "\n",
              "  <div id=\"df-6018e95c-be8d-44a2-93d0-3705767bcba8\">\n",
              "    <div class=\"colab-df-container\">\n",
              "      <div>\n",
              "<style scoped>\n",
              "    .dataframe tbody tr th:only-of-type {\n",
              "        vertical-align: middle;\n",
              "    }\n",
              "\n",
              "    .dataframe tbody tr th {\n",
              "        vertical-align: top;\n",
              "    }\n",
              "\n",
              "    .dataframe thead th {\n",
              "        text-align: right;\n",
              "    }\n",
              "</style>\n",
              "<table border=\"1\" class=\"dataframe\">\n",
              "  <thead>\n",
              "    <tr style=\"text-align: right;\">\n",
              "      <th></th>\n",
              "      <th>자치구</th>\n",
              "      <th>동</th>\n",
              "      <th>시설명</th>\n",
              "      <th>주소</th>\n",
              "      <th>위도</th>\n",
              "      <th>경도</th>\n",
              "      <th>위도UTMK</th>\n",
              "      <th>경도UTMK</th>\n",
              "      <th>동별전체인구</th>\n",
              "      <th>동별시니어수</th>\n",
              "      <th>행정동별시니어비율</th>\n",
              "      <th>유동인구</th>\n",
              "      <th>디지털정보지수</th>\n",
              "      <th>주변특성</th>\n",
              "      <th>대중교통</th>\n",
              "      <th>kmeans</th>\n",
              "      <th>spca_component_1</th>\n",
              "      <th>spca_component_2</th>\n",
              "      <th>spca_component_3</th>\n",
              "    </tr>\n",
              "  </thead>\n",
              "  <tbody>\n",
              "    <tr>\n",
              "      <th>6</th>\n",
              "      <td>동대문구</td>\n",
              "      <td>청량리동</td>\n",
              "      <td>청량리동 주민센터</td>\n",
              "      <td>서울특별시 동대문구 왕산로43다길 5</td>\n",
              "      <td>127.05</td>\n",
              "      <td>1953886.36</td>\n",
              "      <td>960218.93</td>\n",
              "      <td>988.37</td>\n",
              "      <td>18813.00</td>\n",
              "      <td>7283.00</td>\n",
              "      <td>0.39</td>\n",
              "      <td>509498.22</td>\n",
              "      <td>5953.89</td>\n",
              "      <td>4.00</td>\n",
              "      <td>2.00</td>\n",
              "      <td>0</td>\n",
              "      <td>1.07</td>\n",
              "      <td>3.92</td>\n",
              "      <td>-0.33</td>\n",
              "    </tr>\n",
              "  </tbody>\n",
              "</table>\n",
              "</div>\n",
              "      <button class=\"colab-df-convert\" onclick=\"convertToInteractive('df-6018e95c-be8d-44a2-93d0-3705767bcba8')\"\n",
              "              title=\"Convert this dataframe to an interactive table.\"\n",
              "              style=\"display:none;\">\n",
              "        \n",
              "  <svg xmlns=\"http://www.w3.org/2000/svg\" height=\"24px\"viewBox=\"0 0 24 24\"\n",
              "       width=\"24px\">\n",
              "    <path d=\"M0 0h24v24H0V0z\" fill=\"none\"/>\n",
              "    <path d=\"M18.56 5.44l.94 2.06.94-2.06 2.06-.94-2.06-.94-.94-2.06-.94 2.06-2.06.94zm-11 1L8.5 8.5l.94-2.06 2.06-.94-2.06-.94L8.5 2.5l-.94 2.06-2.06.94zm10 10l.94 2.06.94-2.06 2.06-.94-2.06-.94-.94-2.06-.94 2.06-2.06.94z\"/><path d=\"M17.41 7.96l-1.37-1.37c-.4-.4-.92-.59-1.43-.59-.52 0-1.04.2-1.43.59L10.3 9.45l-7.72 7.72c-.78.78-.78 2.05 0 2.83L4 21.41c.39.39.9.59 1.41.59.51 0 1.02-.2 1.41-.59l7.78-7.78 2.81-2.81c.8-.78.8-2.07 0-2.86zM5.41 20L4 18.59l7.72-7.72 1.47 1.35L5.41 20z\"/>\n",
              "  </svg>\n",
              "      </button>\n",
              "      \n",
              "  <style>\n",
              "    .colab-df-container {\n",
              "      display:flex;\n",
              "      flex-wrap:wrap;\n",
              "      gap: 12px;\n",
              "    }\n",
              "\n",
              "    .colab-df-convert {\n",
              "      background-color: #E8F0FE;\n",
              "      border: none;\n",
              "      border-radius: 50%;\n",
              "      cursor: pointer;\n",
              "      display: none;\n",
              "      fill: #1967D2;\n",
              "      height: 32px;\n",
              "      padding: 0 0 0 0;\n",
              "      width: 32px;\n",
              "    }\n",
              "\n",
              "    .colab-df-convert:hover {\n",
              "      background-color: #E2EBFA;\n",
              "      box-shadow: 0px 1px 2px rgba(60, 64, 67, 0.3), 0px 1px 3px 1px rgba(60, 64, 67, 0.15);\n",
              "      fill: #174EA6;\n",
              "    }\n",
              "\n",
              "    [theme=dark] .colab-df-convert {\n",
              "      background-color: #3B4455;\n",
              "      fill: #D2E3FC;\n",
              "    }\n",
              "\n",
              "    [theme=dark] .colab-df-convert:hover {\n",
              "      background-color: #434B5C;\n",
              "      box-shadow: 0px 1px 3px 1px rgba(0, 0, 0, 0.15);\n",
              "      filter: drop-shadow(0px 1px 2px rgba(0, 0, 0, 0.3));\n",
              "      fill: #FFFFFF;\n",
              "    }\n",
              "  </style>\n",
              "\n",
              "      <script>\n",
              "        const buttonEl =\n",
              "          document.querySelector('#df-6018e95c-be8d-44a2-93d0-3705767bcba8 button.colab-df-convert');\n",
              "        buttonEl.style.display =\n",
              "          google.colab.kernel.accessAllowed ? 'block' : 'none';\n",
              "\n",
              "        async function convertToInteractive(key) {\n",
              "          const element = document.querySelector('#df-6018e95c-be8d-44a2-93d0-3705767bcba8');\n",
              "          const dataTable =\n",
              "            await google.colab.kernel.invokeFunction('convertToInteractive',\n",
              "                                                     [key], {});\n",
              "          if (!dataTable) return;\n",
              "\n",
              "          const docLinkHtml = 'Like what you see? Visit the ' +\n",
              "            '<a target=\"_blank\" href=https://colab.research.google.com/notebooks/data_table.ipynb>data table notebook</a>'\n",
              "            + ' to learn more about interactive tables.';\n",
              "          element.innerHTML = '';\n",
              "          dataTable['output_type'] = 'display_data';\n",
              "          await google.colab.output.renderOutput(dataTable, element);\n",
              "          const docLink = document.createElement('div');\n",
              "          docLink.innerHTML = docLinkHtml;\n",
              "          element.appendChild(docLink);\n",
              "        }\n",
              "      </script>\n",
              "    </div>\n",
              "  </div>\n",
              "  "
            ]
          },
          "metadata": {},
          "execution_count": 66
        }
      ]
    },
    {
      "cell_type": "markdown",
      "source": [
        "### 동대문구는 전농1동 - 전농1동 주민센터"
      ],
      "metadata": {
        "id": "mGgYgvNr6sRR"
      }
    },
    {
      "cell_type": "markdown",
      "source": [
        "## 강동구 시작"
      ],
      "metadata": {
        "id": "zEeSZ4YT7vaw"
      }
    },
    {
      "cell_type": "code",
      "source": [
        "# 강동구 추출.\n",
        "dfrivereast = dfclu2[dfclu2['자치구']=='강동구']\n",
        "dfrivereast.head(1)"
      ],
      "metadata": {
        "colab": {
          "base_uri": "https://localhost:8080/",
          "height": 194
        },
        "outputId": "33ed7ff4-c740-4fa6-8d68-9e75b9944760",
        "id": "zietJMf97vax"
      },
      "execution_count": null,
      "outputs": [
        {
          "output_type": "execute_result",
          "data": {
            "text/plain": [
              "     자치구     동       시설명               주소     위도         경도    위도UTMK  경도UTMK  \\\n",
              "410  강동구  상일1동  상일동 주민센터  서울 강동구 구천면로 633 127.17 1949897.14 970898.01 2097.06   \n",
              "\n",
              "      동별전체인구  동별시니어수  행정동별시니어비율      유동인구  디지털정보지수  주변특성  대중교통  kmeans  \\\n",
              "410 38834.00 7184.00       0.18 409526.91 10692.29  0.00  2.00       0   \n",
              "\n",
              "     spca_component_1  spca_component_2  spca_component_3  \n",
              "410              2.54             -1.85              0.64  "
            ],
            "text/html": [
              "\n",
              "  <div id=\"df-ab0902bd-e9b1-40c3-8428-aef5387e2746\">\n",
              "    <div class=\"colab-df-container\">\n",
              "      <div>\n",
              "<style scoped>\n",
              "    .dataframe tbody tr th:only-of-type {\n",
              "        vertical-align: middle;\n",
              "    }\n",
              "\n",
              "    .dataframe tbody tr th {\n",
              "        vertical-align: top;\n",
              "    }\n",
              "\n",
              "    .dataframe thead th {\n",
              "        text-align: right;\n",
              "    }\n",
              "</style>\n",
              "<table border=\"1\" class=\"dataframe\">\n",
              "  <thead>\n",
              "    <tr style=\"text-align: right;\">\n",
              "      <th></th>\n",
              "      <th>자치구</th>\n",
              "      <th>동</th>\n",
              "      <th>시설명</th>\n",
              "      <th>주소</th>\n",
              "      <th>위도</th>\n",
              "      <th>경도</th>\n",
              "      <th>위도UTMK</th>\n",
              "      <th>경도UTMK</th>\n",
              "      <th>동별전체인구</th>\n",
              "      <th>동별시니어수</th>\n",
              "      <th>행정동별시니어비율</th>\n",
              "      <th>유동인구</th>\n",
              "      <th>디지털정보지수</th>\n",
              "      <th>주변특성</th>\n",
              "      <th>대중교통</th>\n",
              "      <th>kmeans</th>\n",
              "      <th>spca_component_1</th>\n",
              "      <th>spca_component_2</th>\n",
              "      <th>spca_component_3</th>\n",
              "    </tr>\n",
              "  </thead>\n",
              "  <tbody>\n",
              "    <tr>\n",
              "      <th>410</th>\n",
              "      <td>강동구</td>\n",
              "      <td>상일1동</td>\n",
              "      <td>상일동 주민센터</td>\n",
              "      <td>서울 강동구 구천면로 633</td>\n",
              "      <td>127.17</td>\n",
              "      <td>1949897.14</td>\n",
              "      <td>970898.01</td>\n",
              "      <td>2097.06</td>\n",
              "      <td>38834.00</td>\n",
              "      <td>7184.00</td>\n",
              "      <td>0.18</td>\n",
              "      <td>409526.91</td>\n",
              "      <td>10692.29</td>\n",
              "      <td>0.00</td>\n",
              "      <td>2.00</td>\n",
              "      <td>0</td>\n",
              "      <td>2.54</td>\n",
              "      <td>-1.85</td>\n",
              "      <td>0.64</td>\n",
              "    </tr>\n",
              "  </tbody>\n",
              "</table>\n",
              "</div>\n",
              "      <button class=\"colab-df-convert\" onclick=\"convertToInteractive('df-ab0902bd-e9b1-40c3-8428-aef5387e2746')\"\n",
              "              title=\"Convert this dataframe to an interactive table.\"\n",
              "              style=\"display:none;\">\n",
              "        \n",
              "  <svg xmlns=\"http://www.w3.org/2000/svg\" height=\"24px\"viewBox=\"0 0 24 24\"\n",
              "       width=\"24px\">\n",
              "    <path d=\"M0 0h24v24H0V0z\" fill=\"none\"/>\n",
              "    <path d=\"M18.56 5.44l.94 2.06.94-2.06 2.06-.94-2.06-.94-.94-2.06-.94 2.06-2.06.94zm-11 1L8.5 8.5l.94-2.06 2.06-.94-2.06-.94L8.5 2.5l-.94 2.06-2.06.94zm10 10l.94 2.06.94-2.06 2.06-.94-2.06-.94-.94-2.06-.94 2.06-2.06.94z\"/><path d=\"M17.41 7.96l-1.37-1.37c-.4-.4-.92-.59-1.43-.59-.52 0-1.04.2-1.43.59L10.3 9.45l-7.72 7.72c-.78.78-.78 2.05 0 2.83L4 21.41c.39.39.9.59 1.41.59.51 0 1.02-.2 1.41-.59l7.78-7.78 2.81-2.81c.8-.78.8-2.07 0-2.86zM5.41 20L4 18.59l7.72-7.72 1.47 1.35L5.41 20z\"/>\n",
              "  </svg>\n",
              "      </button>\n",
              "      \n",
              "  <style>\n",
              "    .colab-df-container {\n",
              "      display:flex;\n",
              "      flex-wrap:wrap;\n",
              "      gap: 12px;\n",
              "    }\n",
              "\n",
              "    .colab-df-convert {\n",
              "      background-color: #E8F0FE;\n",
              "      border: none;\n",
              "      border-radius: 50%;\n",
              "      cursor: pointer;\n",
              "      display: none;\n",
              "      fill: #1967D2;\n",
              "      height: 32px;\n",
              "      padding: 0 0 0 0;\n",
              "      width: 32px;\n",
              "    }\n",
              "\n",
              "    .colab-df-convert:hover {\n",
              "      background-color: #E2EBFA;\n",
              "      box-shadow: 0px 1px 2px rgba(60, 64, 67, 0.3), 0px 1px 3px 1px rgba(60, 64, 67, 0.15);\n",
              "      fill: #174EA6;\n",
              "    }\n",
              "\n",
              "    [theme=dark] .colab-df-convert {\n",
              "      background-color: #3B4455;\n",
              "      fill: #D2E3FC;\n",
              "    }\n",
              "\n",
              "    [theme=dark] .colab-df-convert:hover {\n",
              "      background-color: #434B5C;\n",
              "      box-shadow: 0px 1px 3px 1px rgba(0, 0, 0, 0.15);\n",
              "      filter: drop-shadow(0px 1px 2px rgba(0, 0, 0, 0.3));\n",
              "      fill: #FFFFFF;\n",
              "    }\n",
              "  </style>\n",
              "\n",
              "      <script>\n",
              "        const buttonEl =\n",
              "          document.querySelector('#df-ab0902bd-e9b1-40c3-8428-aef5387e2746 button.colab-df-convert');\n",
              "        buttonEl.style.display =\n",
              "          google.colab.kernel.accessAllowed ? 'block' : 'none';\n",
              "\n",
              "        async function convertToInteractive(key) {\n",
              "          const element = document.querySelector('#df-ab0902bd-e9b1-40c3-8428-aef5387e2746');\n",
              "          const dataTable =\n",
              "            await google.colab.kernel.invokeFunction('convertToInteractive',\n",
              "                                                     [key], {});\n",
              "          if (!dataTable) return;\n",
              "\n",
              "          const docLinkHtml = 'Like what you see? Visit the ' +\n",
              "            '<a target=\"_blank\" href=https://colab.research.google.com/notebooks/data_table.ipynb>data table notebook</a>'\n",
              "            + ' to learn more about interactive tables.';\n",
              "          element.innerHTML = '';\n",
              "          dataTable['output_type'] = 'display_data';\n",
              "          await google.colab.output.renderOutput(dataTable, element);\n",
              "          const docLink = document.createElement('div');\n",
              "          docLink.innerHTML = docLinkHtml;\n",
              "          element.appendChild(docLink);\n",
              "        }\n",
              "      </script>\n",
              "    </div>\n",
              "  </div>\n",
              "  "
            ]
          },
          "metadata": {},
          "execution_count": 67
        }
      ]
    },
    {
      "cell_type": "code",
      "source": [
        "# 인덱스 조정 작업.(410 -> 0)\n",
        "dfrivereast = dfrivereast.reset_index()\n",
        "rivereast = dfrivereast.iloc[:,1:]\n",
        "rivereast.head(1)"
      ],
      "metadata": {
        "colab": {
          "base_uri": "https://localhost:8080/",
          "height": 194
        },
        "outputId": "a1572836-571d-4b09-8fa3-95acb4917d44",
        "id": "xvnwVQ907vay"
      },
      "execution_count": null,
      "outputs": [
        {
          "output_type": "execute_result",
          "data": {
            "text/plain": [
              "   자치구     동       시설명               주소     위도         경도    위도UTMK  경도UTMK  \\\n",
              "0  강동구  상일1동  상일동 주민센터  서울 강동구 구천면로 633 127.17 1949897.14 970898.01 2097.06   \n",
              "\n",
              "    동별전체인구  동별시니어수  행정동별시니어비율      유동인구  디지털정보지수  주변특성  대중교통  kmeans  \\\n",
              "0 38834.00 7184.00       0.18 409526.91 10692.29  0.00  2.00       0   \n",
              "\n",
              "   spca_component_1  spca_component_2  spca_component_3  \n",
              "0              2.54             -1.85              0.64  "
            ],
            "text/html": [
              "\n",
              "  <div id=\"df-e7b73cf8-442d-40a2-a427-190bcbebafea\">\n",
              "    <div class=\"colab-df-container\">\n",
              "      <div>\n",
              "<style scoped>\n",
              "    .dataframe tbody tr th:only-of-type {\n",
              "        vertical-align: middle;\n",
              "    }\n",
              "\n",
              "    .dataframe tbody tr th {\n",
              "        vertical-align: top;\n",
              "    }\n",
              "\n",
              "    .dataframe thead th {\n",
              "        text-align: right;\n",
              "    }\n",
              "</style>\n",
              "<table border=\"1\" class=\"dataframe\">\n",
              "  <thead>\n",
              "    <tr style=\"text-align: right;\">\n",
              "      <th></th>\n",
              "      <th>자치구</th>\n",
              "      <th>동</th>\n",
              "      <th>시설명</th>\n",
              "      <th>주소</th>\n",
              "      <th>위도</th>\n",
              "      <th>경도</th>\n",
              "      <th>위도UTMK</th>\n",
              "      <th>경도UTMK</th>\n",
              "      <th>동별전체인구</th>\n",
              "      <th>동별시니어수</th>\n",
              "      <th>행정동별시니어비율</th>\n",
              "      <th>유동인구</th>\n",
              "      <th>디지털정보지수</th>\n",
              "      <th>주변특성</th>\n",
              "      <th>대중교통</th>\n",
              "      <th>kmeans</th>\n",
              "      <th>spca_component_1</th>\n",
              "      <th>spca_component_2</th>\n",
              "      <th>spca_component_3</th>\n",
              "    </tr>\n",
              "  </thead>\n",
              "  <tbody>\n",
              "    <tr>\n",
              "      <th>0</th>\n",
              "      <td>강동구</td>\n",
              "      <td>상일1동</td>\n",
              "      <td>상일동 주민센터</td>\n",
              "      <td>서울 강동구 구천면로 633</td>\n",
              "      <td>127.17</td>\n",
              "      <td>1949897.14</td>\n",
              "      <td>970898.01</td>\n",
              "      <td>2097.06</td>\n",
              "      <td>38834.00</td>\n",
              "      <td>7184.00</td>\n",
              "      <td>0.18</td>\n",
              "      <td>409526.91</td>\n",
              "      <td>10692.29</td>\n",
              "      <td>0.00</td>\n",
              "      <td>2.00</td>\n",
              "      <td>0</td>\n",
              "      <td>2.54</td>\n",
              "      <td>-1.85</td>\n",
              "      <td>0.64</td>\n",
              "    </tr>\n",
              "  </tbody>\n",
              "</table>\n",
              "</div>\n",
              "      <button class=\"colab-df-convert\" onclick=\"convertToInteractive('df-e7b73cf8-442d-40a2-a427-190bcbebafea')\"\n",
              "              title=\"Convert this dataframe to an interactive table.\"\n",
              "              style=\"display:none;\">\n",
              "        \n",
              "  <svg xmlns=\"http://www.w3.org/2000/svg\" height=\"24px\"viewBox=\"0 0 24 24\"\n",
              "       width=\"24px\">\n",
              "    <path d=\"M0 0h24v24H0V0z\" fill=\"none\"/>\n",
              "    <path d=\"M18.56 5.44l.94 2.06.94-2.06 2.06-.94-2.06-.94-.94-2.06-.94 2.06-2.06.94zm-11 1L8.5 8.5l.94-2.06 2.06-.94-2.06-.94L8.5 2.5l-.94 2.06-2.06.94zm10 10l.94 2.06.94-2.06 2.06-.94-2.06-.94-.94-2.06-.94 2.06-2.06.94z\"/><path d=\"M17.41 7.96l-1.37-1.37c-.4-.4-.92-.59-1.43-.59-.52 0-1.04.2-1.43.59L10.3 9.45l-7.72 7.72c-.78.78-.78 2.05 0 2.83L4 21.41c.39.39.9.59 1.41.59.51 0 1.02-.2 1.41-.59l7.78-7.78 2.81-2.81c.8-.78.8-2.07 0-2.86zM5.41 20L4 18.59l7.72-7.72 1.47 1.35L5.41 20z\"/>\n",
              "  </svg>\n",
              "      </button>\n",
              "      \n",
              "  <style>\n",
              "    .colab-df-container {\n",
              "      display:flex;\n",
              "      flex-wrap:wrap;\n",
              "      gap: 12px;\n",
              "    }\n",
              "\n",
              "    .colab-df-convert {\n",
              "      background-color: #E8F0FE;\n",
              "      border: none;\n",
              "      border-radius: 50%;\n",
              "      cursor: pointer;\n",
              "      display: none;\n",
              "      fill: #1967D2;\n",
              "      height: 32px;\n",
              "      padding: 0 0 0 0;\n",
              "      width: 32px;\n",
              "    }\n",
              "\n",
              "    .colab-df-convert:hover {\n",
              "      background-color: #E2EBFA;\n",
              "      box-shadow: 0px 1px 2px rgba(60, 64, 67, 0.3), 0px 1px 3px 1px rgba(60, 64, 67, 0.15);\n",
              "      fill: #174EA6;\n",
              "    }\n",
              "\n",
              "    [theme=dark] .colab-df-convert {\n",
              "      background-color: #3B4455;\n",
              "      fill: #D2E3FC;\n",
              "    }\n",
              "\n",
              "    [theme=dark] .colab-df-convert:hover {\n",
              "      background-color: #434B5C;\n",
              "      box-shadow: 0px 1px 3px 1px rgba(0, 0, 0, 0.15);\n",
              "      filter: drop-shadow(0px 1px 2px rgba(0, 0, 0, 0.3));\n",
              "      fill: #FFFFFF;\n",
              "    }\n",
              "  </style>\n",
              "\n",
              "      <script>\n",
              "        const buttonEl =\n",
              "          document.querySelector('#df-e7b73cf8-442d-40a2-a427-190bcbebafea button.colab-df-convert');\n",
              "        buttonEl.style.display =\n",
              "          google.colab.kernel.accessAllowed ? 'block' : 'none';\n",
              "\n",
              "        async function convertToInteractive(key) {\n",
              "          const element = document.querySelector('#df-e7b73cf8-442d-40a2-a427-190bcbebafea');\n",
              "          const dataTable =\n",
              "            await google.colab.kernel.invokeFunction('convertToInteractive',\n",
              "                                                     [key], {});\n",
              "          if (!dataTable) return;\n",
              "\n",
              "          const docLinkHtml = 'Like what you see? Visit the ' +\n",
              "            '<a target=\"_blank\" href=https://colab.research.google.com/notebooks/data_table.ipynb>data table notebook</a>'\n",
              "            + ' to learn more about interactive tables.';\n",
              "          element.innerHTML = '';\n",
              "          dataTable['output_type'] = 'display_data';\n",
              "          await google.colab.output.renderOutput(dataTable, element);\n",
              "          const docLink = document.createElement('div');\n",
              "          docLink.innerHTML = docLinkHtml;\n",
              "          element.appendChild(docLink);\n",
              "        }\n",
              "      </script>\n",
              "    </div>\n",
              "  </div>\n",
              "  "
            ]
          },
          "metadata": {},
          "execution_count": 68
        }
      ]
    },
    {
      "cell_type": "code",
      "source": [
        "# 강동구중 각 주민센터(입지선정)과 다른 주민센터와의 거리합.\n",
        "distance = []\n",
        "distance2 = []\n",
        "for i in range(len(rivereast)):\n",
        "    for j in range(len(rivereast)):\n",
        "        distance.append(np.sqrt((rivereast['위도UTMK'][i] - rivereast['위도UTMK'][j])**2 + (rivereast['경도UTMK'][i] - rivereast['경도UTMK'][j])**2))\n",
        "    distance2.append(sum(distance))\n",
        "    distance= []\n",
        "distance2"
      ],
      "metadata": {
        "colab": {
          "base_uri": "https://localhost:8080/"
        },
        "outputId": "1603cdde-17db-427b-ce7b-0cdefea1f598",
        "id": "YL3nglvd7vay"
      },
      "execution_count": null,
      "outputs": [
        {
          "output_type": "execute_result",
          "data": {
            "text/plain": [
              "[19205.59418724403,\n",
              " 14534.21696216015,\n",
              " 13963.31271111828,\n",
              " 13149.934878913467,\n",
              " 17047.386643596732,\n",
              " 28133.018626464327,\n",
              " 14646.324220842784]"
            ]
          },
          "metadata": {},
          "execution_count": 69
        }
      ]
    },
    {
      "cell_type": "code",
      "source": [
        "# 강동구의 인구 * 거리 값.\n",
        "# p median 식이 수요 * 거리곱의 최소화. \n",
        "rivereastpopdist = rivereast['동별시니어수']*distance2\n",
        "print(rivereastpopdist.sort_values())\n",
        "a = rivereastpopdist.argmin()\n",
        "rivereast.iloc[a:a+1:]"
      ],
      "metadata": {
        "colab": {
          "base_uri": "https://localhost:8080/",
          "height": 333
        },
        "outputId": "a7dec70a-449a-43a9-e722-4884a83b7f28",
        "id": "KbjnpSQl7vay"
      },
      "execution_count": null,
      "outputs": [
        {
          "output_type": "stream",
          "name": "stdout",
          "text": [
            "3   102096094.40\n",
            "2   125963043.97\n",
            "6   127335142.78\n",
            "0   137972988.64\n",
            "4   148209979.48\n",
            "1   176619804.52\n",
            "5   221238058.48\n",
            "Name: 동별시니어수, dtype: float64\n"
          ]
        },
        {
          "output_type": "execute_result",
          "data": {
            "text/plain": [
              "   자치구     동        시설명                    주소     위도         경도    위도UTMK  \\\n",
              "3  강동구  천호1동  천호1동 주민센터  서울특별시 강동구 구천면로42길 59 127.14 1949387.65 968010.59   \n",
              "\n",
              "   경도UTMK   동별전체인구  동별시니어수  행정동별시니어비율      유동인구  디지털정보지수  주변특성  대중교통  kmeans  \\\n",
              "3 2139.32 26738.00 7764.00       0.29 442590.05  7519.02  2.00  0.00       0   \n",
              "\n",
              "   spca_component_1  spca_component_2  spca_component_3  \n",
              "3              1.56              0.96             -1.13  "
            ],
            "text/html": [
              "\n",
              "  <div id=\"df-b597fa9e-b8d8-42da-9cc8-6dab82f780df\">\n",
              "    <div class=\"colab-df-container\">\n",
              "      <div>\n",
              "<style scoped>\n",
              "    .dataframe tbody tr th:only-of-type {\n",
              "        vertical-align: middle;\n",
              "    }\n",
              "\n",
              "    .dataframe tbody tr th {\n",
              "        vertical-align: top;\n",
              "    }\n",
              "\n",
              "    .dataframe thead th {\n",
              "        text-align: right;\n",
              "    }\n",
              "</style>\n",
              "<table border=\"1\" class=\"dataframe\">\n",
              "  <thead>\n",
              "    <tr style=\"text-align: right;\">\n",
              "      <th></th>\n",
              "      <th>자치구</th>\n",
              "      <th>동</th>\n",
              "      <th>시설명</th>\n",
              "      <th>주소</th>\n",
              "      <th>위도</th>\n",
              "      <th>경도</th>\n",
              "      <th>위도UTMK</th>\n",
              "      <th>경도UTMK</th>\n",
              "      <th>동별전체인구</th>\n",
              "      <th>동별시니어수</th>\n",
              "      <th>행정동별시니어비율</th>\n",
              "      <th>유동인구</th>\n",
              "      <th>디지털정보지수</th>\n",
              "      <th>주변특성</th>\n",
              "      <th>대중교통</th>\n",
              "      <th>kmeans</th>\n",
              "      <th>spca_component_1</th>\n",
              "      <th>spca_component_2</th>\n",
              "      <th>spca_component_3</th>\n",
              "    </tr>\n",
              "  </thead>\n",
              "  <tbody>\n",
              "    <tr>\n",
              "      <th>3</th>\n",
              "      <td>강동구</td>\n",
              "      <td>천호1동</td>\n",
              "      <td>천호1동 주민센터</td>\n",
              "      <td>서울특별시 강동구 구천면로42길 59</td>\n",
              "      <td>127.14</td>\n",
              "      <td>1949387.65</td>\n",
              "      <td>968010.59</td>\n",
              "      <td>2139.32</td>\n",
              "      <td>26738.00</td>\n",
              "      <td>7764.00</td>\n",
              "      <td>0.29</td>\n",
              "      <td>442590.05</td>\n",
              "      <td>7519.02</td>\n",
              "      <td>2.00</td>\n",
              "      <td>0.00</td>\n",
              "      <td>0</td>\n",
              "      <td>1.56</td>\n",
              "      <td>0.96</td>\n",
              "      <td>-1.13</td>\n",
              "    </tr>\n",
              "  </tbody>\n",
              "</table>\n",
              "</div>\n",
              "      <button class=\"colab-df-convert\" onclick=\"convertToInteractive('df-b597fa9e-b8d8-42da-9cc8-6dab82f780df')\"\n",
              "              title=\"Convert this dataframe to an interactive table.\"\n",
              "              style=\"display:none;\">\n",
              "        \n",
              "  <svg xmlns=\"http://www.w3.org/2000/svg\" height=\"24px\"viewBox=\"0 0 24 24\"\n",
              "       width=\"24px\">\n",
              "    <path d=\"M0 0h24v24H0V0z\" fill=\"none\"/>\n",
              "    <path d=\"M18.56 5.44l.94 2.06.94-2.06 2.06-.94-2.06-.94-.94-2.06-.94 2.06-2.06.94zm-11 1L8.5 8.5l.94-2.06 2.06-.94-2.06-.94L8.5 2.5l-.94 2.06-2.06.94zm10 10l.94 2.06.94-2.06 2.06-.94-2.06-.94-.94-2.06-.94 2.06-2.06.94z\"/><path d=\"M17.41 7.96l-1.37-1.37c-.4-.4-.92-.59-1.43-.59-.52 0-1.04.2-1.43.59L10.3 9.45l-7.72 7.72c-.78.78-.78 2.05 0 2.83L4 21.41c.39.39.9.59 1.41.59.51 0 1.02-.2 1.41-.59l7.78-7.78 2.81-2.81c.8-.78.8-2.07 0-2.86zM5.41 20L4 18.59l7.72-7.72 1.47 1.35L5.41 20z\"/>\n",
              "  </svg>\n",
              "      </button>\n",
              "      \n",
              "  <style>\n",
              "    .colab-df-container {\n",
              "      display:flex;\n",
              "      flex-wrap:wrap;\n",
              "      gap: 12px;\n",
              "    }\n",
              "\n",
              "    .colab-df-convert {\n",
              "      background-color: #E8F0FE;\n",
              "      border: none;\n",
              "      border-radius: 50%;\n",
              "      cursor: pointer;\n",
              "      display: none;\n",
              "      fill: #1967D2;\n",
              "      height: 32px;\n",
              "      padding: 0 0 0 0;\n",
              "      width: 32px;\n",
              "    }\n",
              "\n",
              "    .colab-df-convert:hover {\n",
              "      background-color: #E2EBFA;\n",
              "      box-shadow: 0px 1px 2px rgba(60, 64, 67, 0.3), 0px 1px 3px 1px rgba(60, 64, 67, 0.15);\n",
              "      fill: #174EA6;\n",
              "    }\n",
              "\n",
              "    [theme=dark] .colab-df-convert {\n",
              "      background-color: #3B4455;\n",
              "      fill: #D2E3FC;\n",
              "    }\n",
              "\n",
              "    [theme=dark] .colab-df-convert:hover {\n",
              "      background-color: #434B5C;\n",
              "      box-shadow: 0px 1px 3px 1px rgba(0, 0, 0, 0.15);\n",
              "      filter: drop-shadow(0px 1px 2px rgba(0, 0, 0, 0.3));\n",
              "      fill: #FFFFFF;\n",
              "    }\n",
              "  </style>\n",
              "\n",
              "      <script>\n",
              "        const buttonEl =\n",
              "          document.querySelector('#df-b597fa9e-b8d8-42da-9cc8-6dab82f780df button.colab-df-convert');\n",
              "        buttonEl.style.display =\n",
              "          google.colab.kernel.accessAllowed ? 'block' : 'none';\n",
              "\n",
              "        async function convertToInteractive(key) {\n",
              "          const element = document.querySelector('#df-b597fa9e-b8d8-42da-9cc8-6dab82f780df');\n",
              "          const dataTable =\n",
              "            await google.colab.kernel.invokeFunction('convertToInteractive',\n",
              "                                                     [key], {});\n",
              "          if (!dataTable) return;\n",
              "\n",
              "          const docLinkHtml = 'Like what you see? Visit the ' +\n",
              "            '<a target=\"_blank\" href=https://colab.research.google.com/notebooks/data_table.ipynb>data table notebook</a>'\n",
              "            + ' to learn more about interactive tables.';\n",
              "          element.innerHTML = '';\n",
              "          dataTable['output_type'] = 'display_data';\n",
              "          await google.colab.output.renderOutput(dataTable, element);\n",
              "          const docLink = document.createElement('div');\n",
              "          docLink.innerHTML = docLinkHtml;\n",
              "          element.appendChild(docLink);\n",
              "        }\n",
              "      </script>\n",
              "    </div>\n",
              "  </div>\n",
              "  "
            ]
          },
          "metadata": {},
          "execution_count": 70
        }
      ]
    },
    {
      "cell_type": "markdown",
      "source": [
        "### 강동구는 천호1동 주민센터"
      ],
      "metadata": {
        "id": "-25VRirB7vaz"
      }
    },
    {
      "cell_type": "markdown",
      "source": [
        "# 결론 : 강서구는 화곡본동 주민센터, 노원구는 공릉어르신복지센터, 은평구는 불광노인복지관, 동대문구는 전농1동 주민센터, 강동구는 천호1동 주민센터"
      ],
      "metadata": {
        "id": "qh5SRBJG8M3g"
      }
    },
    {
      "cell_type": "markdown",
      "source": [
        "# 실루엣계수 분산"
      ],
      "metadata": {
        "id": "2B5CTxjQIvTB"
      }
    },
    {
      "cell_type": "code",
      "source": [
        "column = X2.columns\n",
        "column"
      ],
      "metadata": {
        "colab": {
          "base_uri": "https://localhost:8080/"
        },
        "id": "1LRCahjXLS5M",
        "outputId": "f9e538bf-2175-486d-c3c8-f5db777b6e7d"
      },
      "execution_count": null,
      "outputs": [
        {
          "output_type": "execute_result",
          "data": {
            "text/plain": [
              "Index(['동별전체인구', '동별시니어수', '행정동별시니어비율', '유동인구', '디지털정보지수', '주변특성', '대중교통'], dtype='object')"
            ]
          },
          "metadata": {},
          "execution_count": 79
        }
      ]
    },
    {
      "cell_type": "code",
      "source": [
        "sc = StandardScaler()\n",
        "X2_sc = sc.fit_transform(X2)\n",
        "df2_scaled = pd.DataFrame(X2_sc, columns = column)\n",
        "df2_scaled.head(1)"
      ],
      "metadata": {
        "colab": {
          "base_uri": "https://localhost:8080/",
          "height": 81
        },
        "id": "qOhncWK1JZiU",
        "outputId": "40c713ef-5790-4185-eff0-28483a766e54"
      },
      "execution_count": null,
      "outputs": [
        {
          "output_type": "execute_result",
          "data": {
            "text/plain": [
              "   동별전체인구  동별시니어수  행정동별시니어비율  유동인구  디지털정보지수  주변특성  대중교통\n",
              "0   -1.18   -1.18      -0.10 -0.02    -1.23 -0.95 -0.35"
            ],
            "text/html": [
              "\n",
              "  <div id=\"df-c74dd0bd-3103-49f7-9792-cf6b7bb4b518\">\n",
              "    <div class=\"colab-df-container\">\n",
              "      <div>\n",
              "<style scoped>\n",
              "    .dataframe tbody tr th:only-of-type {\n",
              "        vertical-align: middle;\n",
              "    }\n",
              "\n",
              "    .dataframe tbody tr th {\n",
              "        vertical-align: top;\n",
              "    }\n",
              "\n",
              "    .dataframe thead th {\n",
              "        text-align: right;\n",
              "    }\n",
              "</style>\n",
              "<table border=\"1\" class=\"dataframe\">\n",
              "  <thead>\n",
              "    <tr style=\"text-align: right;\">\n",
              "      <th></th>\n",
              "      <th>동별전체인구</th>\n",
              "      <th>동별시니어수</th>\n",
              "      <th>행정동별시니어비율</th>\n",
              "      <th>유동인구</th>\n",
              "      <th>디지털정보지수</th>\n",
              "      <th>주변특성</th>\n",
              "      <th>대중교통</th>\n",
              "    </tr>\n",
              "  </thead>\n",
              "  <tbody>\n",
              "    <tr>\n",
              "      <th>0</th>\n",
              "      <td>-1.18</td>\n",
              "      <td>-1.18</td>\n",
              "      <td>-0.10</td>\n",
              "      <td>-0.02</td>\n",
              "      <td>-1.23</td>\n",
              "      <td>-0.95</td>\n",
              "      <td>-0.35</td>\n",
              "    </tr>\n",
              "  </tbody>\n",
              "</table>\n",
              "</div>\n",
              "      <button class=\"colab-df-convert\" onclick=\"convertToInteractive('df-c74dd0bd-3103-49f7-9792-cf6b7bb4b518')\"\n",
              "              title=\"Convert this dataframe to an interactive table.\"\n",
              "              style=\"display:none;\">\n",
              "        \n",
              "  <svg xmlns=\"http://www.w3.org/2000/svg\" height=\"24px\"viewBox=\"0 0 24 24\"\n",
              "       width=\"24px\">\n",
              "    <path d=\"M0 0h24v24H0V0z\" fill=\"none\"/>\n",
              "    <path d=\"M18.56 5.44l.94 2.06.94-2.06 2.06-.94-2.06-.94-.94-2.06-.94 2.06-2.06.94zm-11 1L8.5 8.5l.94-2.06 2.06-.94-2.06-.94L8.5 2.5l-.94 2.06-2.06.94zm10 10l.94 2.06.94-2.06 2.06-.94-2.06-.94-.94-2.06-.94 2.06-2.06.94z\"/><path d=\"M17.41 7.96l-1.37-1.37c-.4-.4-.92-.59-1.43-.59-.52 0-1.04.2-1.43.59L10.3 9.45l-7.72 7.72c-.78.78-.78 2.05 0 2.83L4 21.41c.39.39.9.59 1.41.59.51 0 1.02-.2 1.41-.59l7.78-7.78 2.81-2.81c.8-.78.8-2.07 0-2.86zM5.41 20L4 18.59l7.72-7.72 1.47 1.35L5.41 20z\"/>\n",
              "  </svg>\n",
              "      </button>\n",
              "      \n",
              "  <style>\n",
              "    .colab-df-container {\n",
              "      display:flex;\n",
              "      flex-wrap:wrap;\n",
              "      gap: 12px;\n",
              "    }\n",
              "\n",
              "    .colab-df-convert {\n",
              "      background-color: #E8F0FE;\n",
              "      border: none;\n",
              "      border-radius: 50%;\n",
              "      cursor: pointer;\n",
              "      display: none;\n",
              "      fill: #1967D2;\n",
              "      height: 32px;\n",
              "      padding: 0 0 0 0;\n",
              "      width: 32px;\n",
              "    }\n",
              "\n",
              "    .colab-df-convert:hover {\n",
              "      background-color: #E2EBFA;\n",
              "      box-shadow: 0px 1px 2px rgba(60, 64, 67, 0.3), 0px 1px 3px 1px rgba(60, 64, 67, 0.15);\n",
              "      fill: #174EA6;\n",
              "    }\n",
              "\n",
              "    [theme=dark] .colab-df-convert {\n",
              "      background-color: #3B4455;\n",
              "      fill: #D2E3FC;\n",
              "    }\n",
              "\n",
              "    [theme=dark] .colab-df-convert:hover {\n",
              "      background-color: #434B5C;\n",
              "      box-shadow: 0px 1px 3px 1px rgba(0, 0, 0, 0.15);\n",
              "      filter: drop-shadow(0px 1px 2px rgba(0, 0, 0, 0.3));\n",
              "      fill: #FFFFFF;\n",
              "    }\n",
              "  </style>\n",
              "\n",
              "      <script>\n",
              "        const buttonEl =\n",
              "          document.querySelector('#df-c74dd0bd-3103-49f7-9792-cf6b7bb4b518 button.colab-df-convert');\n",
              "        buttonEl.style.display =\n",
              "          google.colab.kernel.accessAllowed ? 'block' : 'none';\n",
              "\n",
              "        async function convertToInteractive(key) {\n",
              "          const element = document.querySelector('#df-c74dd0bd-3103-49f7-9792-cf6b7bb4b518');\n",
              "          const dataTable =\n",
              "            await google.colab.kernel.invokeFunction('convertToInteractive',\n",
              "                                                     [key], {});\n",
              "          if (!dataTable) return;\n",
              "\n",
              "          const docLinkHtml = 'Like what you see? Visit the ' +\n",
              "            '<a target=\"_blank\" href=https://colab.research.google.com/notebooks/data_table.ipynb>data table notebook</a>'\n",
              "            + ' to learn more about interactive tables.';\n",
              "          element.innerHTML = '';\n",
              "          dataTable['output_type'] = 'display_data';\n",
              "          await google.colab.output.renderOutput(dataTable, element);\n",
              "          const docLink = document.createElement('div');\n",
              "          docLink.innerHTML = docLinkHtml;\n",
              "          element.appendChild(docLink);\n",
              "        }\n",
              "      </script>\n",
              "    </div>\n",
              "  </div>\n",
              "  "
            ]
          },
          "metadata": {},
          "execution_count": 80
        }
      ]
    },
    {
      "cell_type": "code",
      "source": [
        "df3 = df2_scaled.copy()\n",
        "df3.head(1)"
      ],
      "metadata": {
        "colab": {
          "base_uri": "https://localhost:8080/",
          "height": 81
        },
        "id": "21gYB6CnLomh",
        "outputId": "b3e514d9-a5f5-4067-e87b-6a64898e5224"
      },
      "execution_count": null,
      "outputs": [
        {
          "output_type": "execute_result",
          "data": {
            "text/plain": [
              "   동별전체인구  동별시니어수  행정동별시니어비율  유동인구  디지털정보지수  주변특성  대중교통\n",
              "0   -1.18   -1.18      -0.10 -0.02    -1.23 -0.95 -0.35"
            ],
            "text/html": [
              "\n",
              "  <div id=\"df-07c8d220-c733-4427-8539-79ceed26a343\">\n",
              "    <div class=\"colab-df-container\">\n",
              "      <div>\n",
              "<style scoped>\n",
              "    .dataframe tbody tr th:only-of-type {\n",
              "        vertical-align: middle;\n",
              "    }\n",
              "\n",
              "    .dataframe tbody tr th {\n",
              "        vertical-align: top;\n",
              "    }\n",
              "\n",
              "    .dataframe thead th {\n",
              "        text-align: right;\n",
              "    }\n",
              "</style>\n",
              "<table border=\"1\" class=\"dataframe\">\n",
              "  <thead>\n",
              "    <tr style=\"text-align: right;\">\n",
              "      <th></th>\n",
              "      <th>동별전체인구</th>\n",
              "      <th>동별시니어수</th>\n",
              "      <th>행정동별시니어비율</th>\n",
              "      <th>유동인구</th>\n",
              "      <th>디지털정보지수</th>\n",
              "      <th>주변특성</th>\n",
              "      <th>대중교통</th>\n",
              "    </tr>\n",
              "  </thead>\n",
              "  <tbody>\n",
              "    <tr>\n",
              "      <th>0</th>\n",
              "      <td>-1.18</td>\n",
              "      <td>-1.18</td>\n",
              "      <td>-0.10</td>\n",
              "      <td>-0.02</td>\n",
              "      <td>-1.23</td>\n",
              "      <td>-0.95</td>\n",
              "      <td>-0.35</td>\n",
              "    </tr>\n",
              "  </tbody>\n",
              "</table>\n",
              "</div>\n",
              "      <button class=\"colab-df-convert\" onclick=\"convertToInteractive('df-07c8d220-c733-4427-8539-79ceed26a343')\"\n",
              "              title=\"Convert this dataframe to an interactive table.\"\n",
              "              style=\"display:none;\">\n",
              "        \n",
              "  <svg xmlns=\"http://www.w3.org/2000/svg\" height=\"24px\"viewBox=\"0 0 24 24\"\n",
              "       width=\"24px\">\n",
              "    <path d=\"M0 0h24v24H0V0z\" fill=\"none\"/>\n",
              "    <path d=\"M18.56 5.44l.94 2.06.94-2.06 2.06-.94-2.06-.94-.94-2.06-.94 2.06-2.06.94zm-11 1L8.5 8.5l.94-2.06 2.06-.94-2.06-.94L8.5 2.5l-.94 2.06-2.06.94zm10 10l.94 2.06.94-2.06 2.06-.94-2.06-.94-.94-2.06-.94 2.06-2.06.94z\"/><path d=\"M17.41 7.96l-1.37-1.37c-.4-.4-.92-.59-1.43-.59-.52 0-1.04.2-1.43.59L10.3 9.45l-7.72 7.72c-.78.78-.78 2.05 0 2.83L4 21.41c.39.39.9.59 1.41.59.51 0 1.02-.2 1.41-.59l7.78-7.78 2.81-2.81c.8-.78.8-2.07 0-2.86zM5.41 20L4 18.59l7.72-7.72 1.47 1.35L5.41 20z\"/>\n",
              "  </svg>\n",
              "      </button>\n",
              "      \n",
              "  <style>\n",
              "    .colab-df-container {\n",
              "      display:flex;\n",
              "      flex-wrap:wrap;\n",
              "      gap: 12px;\n",
              "    }\n",
              "\n",
              "    .colab-df-convert {\n",
              "      background-color: #E8F0FE;\n",
              "      border: none;\n",
              "      border-radius: 50%;\n",
              "      cursor: pointer;\n",
              "      display: none;\n",
              "      fill: #1967D2;\n",
              "      height: 32px;\n",
              "      padding: 0 0 0 0;\n",
              "      width: 32px;\n",
              "    }\n",
              "\n",
              "    .colab-df-convert:hover {\n",
              "      background-color: #E2EBFA;\n",
              "      box-shadow: 0px 1px 2px rgba(60, 64, 67, 0.3), 0px 1px 3px 1px rgba(60, 64, 67, 0.15);\n",
              "      fill: #174EA6;\n",
              "    }\n",
              "\n",
              "    [theme=dark] .colab-df-convert {\n",
              "      background-color: #3B4455;\n",
              "      fill: #D2E3FC;\n",
              "    }\n",
              "\n",
              "    [theme=dark] .colab-df-convert:hover {\n",
              "      background-color: #434B5C;\n",
              "      box-shadow: 0px 1px 3px 1px rgba(0, 0, 0, 0.15);\n",
              "      filter: drop-shadow(0px 1px 2px rgba(0, 0, 0, 0.3));\n",
              "      fill: #FFFFFF;\n",
              "    }\n",
              "  </style>\n",
              "\n",
              "      <script>\n",
              "        const buttonEl =\n",
              "          document.querySelector('#df-07c8d220-c733-4427-8539-79ceed26a343 button.colab-df-convert');\n",
              "        buttonEl.style.display =\n",
              "          google.colab.kernel.accessAllowed ? 'block' : 'none';\n",
              "\n",
              "        async function convertToInteractive(key) {\n",
              "          const element = document.querySelector('#df-07c8d220-c733-4427-8539-79ceed26a343');\n",
              "          const dataTable =\n",
              "            await google.colab.kernel.invokeFunction('convertToInteractive',\n",
              "                                                     [key], {});\n",
              "          if (!dataTable) return;\n",
              "\n",
              "          const docLinkHtml = 'Like what you see? Visit the ' +\n",
              "            '<a target=\"_blank\" href=https://colab.research.google.com/notebooks/data_table.ipynb>data table notebook</a>'\n",
              "            + ' to learn more about interactive tables.';\n",
              "          element.innerHTML = '';\n",
              "          dataTable['output_type'] = 'display_data';\n",
              "          await google.colab.output.renderOutput(dataTable, element);\n",
              "          const docLink = document.createElement('div');\n",
              "          docLink.innerHTML = docLinkHtml;\n",
              "          element.appendChild(docLink);\n",
              "        }\n",
              "      </script>\n",
              "    </div>\n",
              "  </div>\n",
              "  "
            ]
          },
          "metadata": {},
          "execution_count": 81
        }
      ]
    },
    {
      "cell_type": "code",
      "source": [
        "from sklearn.metrics import silhouette_samples, silhouette_score,davies_bouldin_score\n",
        "from yellowbrick.cluster import SilhouetteVisualizer"
      ],
      "metadata": {
        "id": "hAFAVHlGLxaJ"
      },
      "execution_count": null,
      "outputs": []
    },
    {
      "cell_type": "markdown",
      "source": [
        "## KMeans 실루엣 시작."
      ],
      "metadata": {
        "id": "ZsdVeAZSDtM4"
      }
    },
    {
      "cell_type": "code",
      "source": [
        "print('k = 2 일때')\n",
        "kmeans = KMeans(n_clusters=2, init='k-means++', max_iter=300, random_state=100)\n",
        "kmeans.fit(pc)\n",
        "df3['cluster'] = kmeans.labels_\n",
        "\n",
        "score_samples = silhouette_samples(pc, df3['cluster'])\n",
        "# print(score_samples.shape)\n",
        "# print(score_samples)\n",
        "df3['silhoutte_coeff'] = score_samples\n",
        "\n",
        "average_score = silhouette_score(pc, df3['cluster'])\n",
        "print(average_score)\n",
        "print(df3.groupby('cluster')['silhoutte_coeff'].count())\n",
        "print(df3.groupby('cluster')['silhoutte_coeff'].mean())\n",
        "print(np.var(df3['silhoutte_coeff']))"
      ],
      "metadata": {
        "colab": {
          "base_uri": "https://localhost:8080/"
        },
        "id": "fWgt1--RDli6",
        "outputId": "50f04264-78a7-4df2-bc89-803ce5dfb914"
      },
      "execution_count": null,
      "outputs": [
        {
          "output_type": "stream",
          "name": "stdout",
          "text": [
            "k = 2 일때\n",
            "0.3322922191107916\n",
            "cluster\n",
            "0    316\n",
            "1    193\n",
            "Name: silhoutte_coeff, dtype: int64\n",
            "cluster\n",
            "0   0.36\n",
            "1   0.28\n",
            "Name: silhoutte_coeff, dtype: float64\n",
            "0.024694242865563657\n"
          ]
        }
      ]
    },
    {
      "cell_type": "code",
      "source": [
        "print('k = 2 일때')\n",
        "kmeans_2 = KMeans(n_clusters=2, random_state=100, init='k-means++')\n",
        "#visualizer 생성\n",
        "visualizer_2 = SilhouetteVisualizer(kmeans_2, colors='yellowbrick')\n",
        "#생성된 visualizer에 데이터 입력 \n",
        "visualizer_2.fit(df2_scaled)\n",
        "visualizer_2.show()"
      ],
      "metadata": {
        "colab": {
          "base_uri": "https://localhost:8080/",
          "height": 411
        },
        "id": "G2qhUuIvD1KF",
        "outputId": "652cc6c5-e860-4503-8623-e4d3ab3e3c23"
      },
      "execution_count": null,
      "outputs": [
        {
          "output_type": "stream",
          "name": "stdout",
          "text": [
            "k = 2 일때\n"
          ]
        },
        {
          "output_type": "display_data",
          "data": {
            "text/plain": [
              "<Figure size 576x396 with 1 Axes>"
            ],
            "image/png": "[encoded data removed]"
          },
          "metadata": {}
        },
        {
          "output_type": "execute_result",
          "data": {
            "text/plain": [
              "<matplotlib.axes._subplots.AxesSubplot at 0x7fd021a24710>"
            ]
          },
          "metadata": {},
          "execution_count": 130
        }
      ]
    },
    {
      "cell_type": "code",
      "source": [
        "df3 = df2_scaled.copy()"
      ],
      "metadata": {
        "id": "YNGDSx-BD3-a"
      },
      "execution_count": null,
      "outputs": []
    },
    {
      "cell_type": "code",
      "source": [
        "print('k = 3 일 때')\n",
        "kmeans = KMeans(n_clusters=3, init='k-means++', max_iter=300, random_state=100)\n",
        "kmeans.fit(pc)\n",
        "df3['cluster'] = kmeans.labels_\n",
        "\n",
        "score_samples = silhouette_samples(pc, df3['cluster'])\n",
        "# print(score_samples.shape)\n",
        "# print(score_samples)\n",
        "df3['silhoutte_coeff'] = score_samples\n",
        "\n",
        "average_score = silhouette_score(pc, df3['cluster'])\n",
        "print(average_score)\n",
        "print(df3.groupby('cluster')['silhoutte_coeff'].count())\n",
        "print(df3.groupby('cluster')['silhoutte_coeff'].mean())\n",
        "print(np.var(df3['silhoutte_coeff']))"
      ],
      "metadata": {
        "colab": {
          "base_uri": "https://localhost:8080/"
        },
        "id": "okDJlwzIEcuB",
        "outputId": "a21862b9-9890-4a7f-f821-bd951b81696d"
      },
      "execution_count": null,
      "outputs": [
        {
          "output_type": "stream",
          "name": "stdout",
          "text": [
            "k = 3 일 때\n",
            "0.25457009735927943\n",
            "cluster\n",
            "0    101\n",
            "1    251\n",
            "2    157\n",
            "Name: silhoutte_coeff, dtype: int64\n",
            "cluster\n",
            "0   0.29\n",
            "1   0.23\n",
            "2   0.26\n",
            "Name: silhoutte_coeff, dtype: float64\n",
            "0.016911976053552363\n"
          ]
        }
      ]
    },
    {
      "cell_type": "code",
      "source": [
        "# k = 3 일때\n",
        "kmeans_3 = KMeans(n_clusters=3, random_state=100, init='k-means++')\n",
        "#visualizer 생성\n",
        "visualizer_3 = SilhouetteVisualizer(kmeans_3, colors='yellowbrick')\n",
        "#생성된 visualizer에 데이터 입력 \n",
        "visualizer_3.fit(df2_scaled)\n",
        "visualizer_3.show()"
      ],
      "metadata": {
        "colab": {
          "base_uri": "https://localhost:8080/",
          "height": 393
        },
        "id": "nGhXlk3kEeYG",
        "outputId": "8b1f5174-6b9a-428a-e4e4-e73726b180fa"
      },
      "execution_count": null,
      "outputs": [
        {
          "output_type": "display_data",
          "data": {
            "text/plain": [
              "<Figure size 576x396 with 1 Axes>"
            ],
            "image/png": "[encoded data removed]"
          },
          "metadata": {}
        },
        {
          "output_type": "execute_result",
          "data": {
            "text/plain": [
              "<matplotlib.axes._subplots.AxesSubplot at 0x7fd02199e2d0>"
            ]
          },
          "metadata": {},
          "execution_count": 133
        }
      ]
    },
    {
      "cell_type": "code",
      "source": [
        "df3 = df2_scaled.copy()"
      ],
      "metadata": {
        "id": "3uW9_gsmEjv0"
      },
      "execution_count": null,
      "outputs": []
    },
    {
      "cell_type": "code",
      "source": [
        "df3"
      ],
      "metadata": {
        "colab": {
          "base_uri": "https://localhost:8080/",
          "height": 424
        },
        "id": "UFJu0MZuO5k1",
        "outputId": "6fe21d05-e925-4853-89a3-d82ba71b172f"
      },
      "execution_count": null,
      "outputs": [
        {
          "output_type": "execute_result",
          "data": {
            "text/plain": [
              "     동별전체인구  동별시니어수  행정동별시니어비율  유동인구  디지털정보지수  주변특성  대중교통\n",
              "0     -1.18   -1.18      -0.10 -0.02    -1.23 -0.95 -0.35\n",
              "1     -1.47   -1.40       0.25 -0.46    -1.47  1.73 -0.35\n",
              "2     -1.70   -1.30       2.47 -0.26    -1.51  2.63  2.27\n",
              "3     -2.22   -2.13       1.74 -2.00    -2.23 -0.06  0.96\n",
              "4     -2.04   -1.97       0.79 -1.66    -2.04 -0.06  0.31\n",
              "..      ...     ...        ...   ...      ...   ...   ...\n",
              "504    1.13    1.39       0.23  1.28     1.30  1.73 -1.01\n",
              "505    0.01   -0.01      -0.16 -0.39    -0.02 -0.06 -1.01\n",
              "506    2.40    1.48      -1.07  1.54     1.84 -0.06  0.96\n",
              "507   -0.44   -0.31       0.20  0.30    -0.34 -0.95  0.96\n",
              "508   -1.22   -1.11       0.31 -1.17    -1.13 -0.06 -0.35\n",
              "\n",
              "[509 rows x 7 columns]"
            ],
            "text/html": [
              "\n",
              "  <div id=\"df-2a16b405-7428-4f19-8003-cf580405881b\">\n",
              "    <div class=\"colab-df-container\">\n",
              "      <div>\n",
              "<style scoped>\n",
              "    .dataframe tbody tr th:only-of-type {\n",
              "        vertical-align: middle;\n",
              "    }\n",
              "\n",
              "    .dataframe tbody tr th {\n",
              "        vertical-align: top;\n",
              "    }\n",
              "\n",
              "    .dataframe thead th {\n",
              "        text-align: right;\n",
              "    }\n",
              "</style>\n",
              "<table border=\"1\" class=\"dataframe\">\n",
              "  <thead>\n",
              "    <tr style=\"text-align: right;\">\n",
              "      <th></th>\n",
              "      <th>동별전체인구</th>\n",
              "      <th>동별시니어수</th>\n",
              "      <th>행정동별시니어비율</th>\n",
              "      <th>유동인구</th>\n",
              "      <th>디지털정보지수</th>\n",
              "      <th>주변특성</th>\n",
              "      <th>대중교통</th>\n",
              "    </tr>\n",
              "  </thead>\n",
              "  <tbody>\n",
              "    <tr>\n",
              "      <th>0</th>\n",
              "      <td>-1.18</td>\n",
              "      <td>-1.18</td>\n",
              "      <td>-0.10</td>\n",
              "      <td>-0.02</td>\n",
              "      <td>-1.23</td>\n",
              "      <td>-0.95</td>\n",
              "      <td>-0.35</td>\n",
              "    </tr>\n",
              "    <tr>\n",
              "      <th>1</th>\n",
              "      <td>-1.47</td>\n",
              "      <td>-1.40</td>\n",
              "      <td>0.25</td>\n",
              "      <td>-0.46</td>\n",
              "      <td>-1.47</td>\n",
              "      <td>1.73</td>\n",
              "      <td>-0.35</td>\n",
              "    </tr>\n",
              "    <tr>\n",
              "      <th>2</th>\n",
              "      <td>-1.70</td>\n",
              "      <td>-1.30</td>\n",
              "      <td>2.47</td>\n",
              "      <td>-0.26</td>\n",
              "      <td>-1.51</td>\n",
              "      <td>2.63</td>\n",
              "      <td>2.27</td>\n",
              "    </tr>\n",
              "    <tr>\n",
              "      <th>3</th>\n",
              "      <td>-2.22</td>\n",
              "      <td>-2.13</td>\n",
              "      <td>1.74</td>\n",
              "      <td>-2.00</td>\n",
              "      <td>-2.23</td>\n",
              "      <td>-0.06</td>\n",
              "      <td>0.96</td>\n",
              "    </tr>\n",
              "    <tr>\n",
              "      <th>4</th>\n",
              "      <td>-2.04</td>\n",
              "      <td>-1.97</td>\n",
              "      <td>0.79</td>\n",
              "      <td>-1.66</td>\n",
              "      <td>-2.04</td>\n",
              "      <td>-0.06</td>\n",
              "      <td>0.31</td>\n",
              "    </tr>\n",
              "    <tr>\n",
              "      <th>...</th>\n",
              "      <td>...</td>\n",
              "      <td>...</td>\n",
              "      <td>...</td>\n",
              "      <td>...</td>\n",
              "      <td>...</td>\n",
              "      <td>...</td>\n",
              "      <td>...</td>\n",
              "    </tr>\n",
              "    <tr>\n",
              "      <th>504</th>\n",
              "      <td>1.13</td>\n",
              "      <td>1.39</td>\n",
              "      <td>0.23</td>\n",
              "      <td>1.28</td>\n",
              "      <td>1.30</td>\n",
              "      <td>1.73</td>\n",
              "      <td>-1.01</td>\n",
              "    </tr>\n",
              "    <tr>\n",
              "      <th>505</th>\n",
              "      <td>0.01</td>\n",
              "      <td>-0.01</td>\n",
              "      <td>-0.16</td>\n",
              "      <td>-0.39</td>\n",
              "      <td>-0.02</td>\n",
              "      <td>-0.06</td>\n",
              "      <td>-1.01</td>\n",
              "    </tr>\n",
              "    <tr>\n",
              "      <th>506</th>\n",
              "      <td>2.40</td>\n",
              "      <td>1.48</td>\n",
              "      <td>-1.07</td>\n",
              "      <td>1.54</td>\n",
              "      <td>1.84</td>\n",
              "      <td>-0.06</td>\n",
              "      <td>0.96</td>\n",
              "    </tr>\n",
              "    <tr>\n",
              "      <th>507</th>\n",
              "      <td>-0.44</td>\n",
              "      <td>-0.31</td>\n",
              "      <td>0.20</td>\n",
              "      <td>0.30</td>\n",
              "      <td>-0.34</td>\n",
              "      <td>-0.95</td>\n",
              "      <td>0.96</td>\n",
              "    </tr>\n",
              "    <tr>\n",
              "      <th>508</th>\n",
              "      <td>-1.22</td>\n",
              "      <td>-1.11</td>\n",
              "      <td>0.31</td>\n",
              "      <td>-1.17</td>\n",
              "      <td>-1.13</td>\n",
              "      <td>-0.06</td>\n",
              "      <td>-0.35</td>\n",
              "    </tr>\n",
              "  </tbody>\n",
              "</table>\n",
              "<p>509 rows × 7 columns</p>\n",
              "</div>\n",
              "      <button class=\"colab-df-convert\" onclick=\"convertToInteractive('df-2a16b405-7428-4f19-8003-cf580405881b')\"\n",
              "              title=\"Convert this dataframe to an interactive table.\"\n",
              "              style=\"display:none;\">\n",
              "        \n",
              "  <svg xmlns=\"http://www.w3.org/2000/svg\" height=\"24px\"viewBox=\"0 0 24 24\"\n",
              "       width=\"24px\">\n",
              "    <path d=\"M0 0h24v24H0V0z\" fill=\"none\"/>\n",
              "    <path d=\"M18.56 5.44l.94 2.06.94-2.06 2.06-.94-2.06-.94-.94-2.06-.94 2.06-2.06.94zm-11 1L8.5 8.5l.94-2.06 2.06-.94-2.06-.94L8.5 2.5l-.94 2.06-2.06.94zm10 10l.94 2.06.94-2.06 2.06-.94-2.06-.94-.94-2.06-.94 2.06-2.06.94z\"/><path d=\"M17.41 7.96l-1.37-1.37c-.4-.4-.92-.59-1.43-.59-.52 0-1.04.2-1.43.59L10.3 9.45l-7.72 7.72c-.78.78-.78 2.05 0 2.83L4 21.41c.39.39.9.59 1.41.59.51 0 1.02-.2 1.41-.59l7.78-7.78 2.81-2.81c.8-.78.8-2.07 0-2.86zM5.41 20L4 18.59l7.72-7.72 1.47 1.35L5.41 20z\"/>\n",
              "  </svg>\n",
              "      </button>\n",
              "      \n",
              "  <style>\n",
              "    .colab-df-container {\n",
              "      display:flex;\n",
              "      flex-wrap:wrap;\n",
              "      gap: 12px;\n",
              "    }\n",
              "\n",
              "    .colab-df-convert {\n",
              "      background-color: #E8F0FE;\n",
              "      border: none;\n",
              "      border-radius: 50%;\n",
              "      cursor: pointer;\n",
              "      display: none;\n",
              "      fill: #1967D2;\n",
              "      height: 32px;\n",
              "      padding: 0 0 0 0;\n",
              "      width: 32px;\n",
              "    }\n",
              "\n",
              "    .colab-df-convert:hover {\n",
              "      background-color: #E2EBFA;\n",
              "      box-shadow: 0px 1px 2px rgba(60, 64, 67, 0.3), 0px 1px 3px 1px rgba(60, 64, 67, 0.15);\n",
              "      fill: #174EA6;\n",
              "    }\n",
              "\n",
              "    [theme=dark] .colab-df-convert {\n",
              "      background-color: #3B4455;\n",
              "      fill: #D2E3FC;\n",
              "    }\n",
              "\n",
              "    [theme=dark] .colab-df-convert:hover {\n",
              "      background-color: #434B5C;\n",
              "      box-shadow: 0px 1px 3px 1px rgba(0, 0, 0, 0.15);\n",
              "      filter: drop-shadow(0px 1px 2px rgba(0, 0, 0, 0.3));\n",
              "      fill: #FFFFFF;\n",
              "    }\n",
              "  </style>\n",
              "\n",
              "      <script>\n",
              "        const buttonEl =\n",
              "          document.querySelector('#df-2a16b405-7428-4f19-8003-cf580405881b button.colab-df-convert');\n",
              "        buttonEl.style.display =\n",
              "          google.colab.kernel.accessAllowed ? 'block' : 'none';\n",
              "\n",
              "        async function convertToInteractive(key) {\n",
              "          const element = document.querySelector('#df-2a16b405-7428-4f19-8003-cf580405881b');\n",
              "          const dataTable =\n",
              "            await google.colab.kernel.invokeFunction('convertToInteractive',\n",
              "                                                     [key], {});\n",
              "          if (!dataTable) return;\n",
              "\n",
              "          const docLinkHtml = 'Like what you see? Visit the ' +\n",
              "            '<a target=\"_blank\" href=https://colab.research.google.com/notebooks/data_table.ipynb>data table notebook</a>'\n",
              "            + ' to learn more about interactive tables.';\n",
              "          element.innerHTML = '';\n",
              "          dataTable['output_type'] = 'display_data';\n",
              "          await google.colab.output.renderOutput(dataTable, element);\n",
              "          const docLink = document.createElement('div');\n",
              "          docLink.innerHTML = docLinkHtml;\n",
              "          element.appendChild(docLink);\n",
              "        }\n",
              "      </script>\n",
              "    </div>\n",
              "  </div>\n",
              "  "
            ]
          },
          "metadata": {},
          "execution_count": 135
        }
      ]
    },
    {
      "cell_type": "code",
      "source": [
        "print('k = 4 일 때')\n",
        "kmeans = KMeans(n_clusters=4, init='k-means++', max_iter=300, random_state=100)\n",
        "kmeans.fit(pc)\n",
        "df3['cluster'] = kmeans.labels_\n",
        "\n",
        "score_samples = silhouette_samples(pc, df3['cluster'])\n",
        "# print(score_samples.shape)\n",
        "# print(score_samples)\n",
        "df3['silhoutte_coeff'] = score_samples\n",
        "\n",
        "average_score = silhouette_score(pc, df3['cluster'])\n",
        "print(average_score)\n",
        "print(df3.groupby('cluster')['silhoutte_coeff'].count())\n",
        "print(df3.groupby('cluster')['silhoutte_coeff'].mean())\n",
        "print(np.var(df3['silhoutte_coeff']))"
      ],
      "metadata": {
        "colab": {
          "base_uri": "https://localhost:8080/"
        },
        "id": "U56dFONPEmkT",
        "outputId": "a4af1b72-a7c8-4d2e-bba2-984e4201d34b"
      },
      "execution_count": null,
      "outputs": [
        {
          "output_type": "stream",
          "name": "stdout",
          "text": [
            "k = 4 일 때\n",
            "0.2587557376349077\n",
            "cluster\n",
            "0    128\n",
            "1     94\n",
            "2    163\n",
            "3    124\n",
            "Name: silhoutte_coeff, dtype: int64\n",
            "cluster\n",
            "0   0.24\n",
            "1   0.31\n",
            "2   0.30\n",
            "3   0.18\n",
            "Name: silhoutte_coeff, dtype: float64\n",
            "0.023248618266888902\n"
          ]
        }
      ]
    },
    {
      "cell_type": "code",
      "source": [
        "# k = 4 일때\n",
        "kmeans_4 = KMeans(n_clusters=4, random_state=100, init='k-means++')\n",
        "#visualizer 생성\n",
        "visualizer_4 = SilhouetteVisualizer(kmeans_4, colors='yellowbrick')\n",
        "#생성된 visualizer에 데이터 입력 \n",
        "visualizer_4.fit(df2_scaled)\n",
        "visualizer_4.show()"
      ],
      "metadata": {
        "colab": {
          "base_uri": "https://localhost:8080/",
          "height": 393
        },
        "id": "g4k4gGSLEtF8",
        "outputId": "b2dcf419-d67a-46aa-d0f9-2dfafe182c1d"
      },
      "execution_count": null,
      "outputs": [
        {
          "output_type": "display_data",
          "data": {
            "text/plain": [
              "<Figure size 576x396 with 1 Axes>"
            ],
            "image/png": "[encoded data removed]"
          },
          "metadata": {}
        },
        {
          "output_type": "execute_result",
          "data": {
            "text/plain": [
              "<matplotlib.axes._subplots.AxesSubplot at 0x7fd0218fd050>"
            ]
          },
          "metadata": {},
          "execution_count": 137
        }
      ]
    },
    {
      "cell_type": "code",
      "source": [
        "df3 = df2_scaled.copy()"
      ],
      "metadata": {
        "id": "FwGd6dLGEucR"
      },
      "execution_count": null,
      "outputs": []
    },
    {
      "cell_type": "code",
      "source": [
        "print('k = 5 일 때')\n",
        "kmeans = KMeans(n_clusters=5, init='k-means++', max_iter=300, random_state=100)\n",
        "kmeans.fit(pc)\n",
        "df3['cluster'] = kmeans.labels_\n",
        "\n",
        "score_samples = silhouette_samples(pc, df3['cluster'])\n",
        "# print(score_samples.shape)\n",
        "# print(score_samples)\n",
        "df3['silhoutte_coeff'] = score_samples\n",
        "\n",
        "average_score = silhouette_score(pc, df3['cluster'])\n",
        "print(average_score)\n",
        "print(df3.groupby('cluster')['silhoutte_coeff'].count())\n",
        "print(df3.groupby('cluster')['silhoutte_coeff'].mean())\n",
        "print(np.var(df3['silhoutte_coeff']))"
      ],
      "metadata": {
        "colab": {
          "base_uri": "https://localhost:8080/"
        },
        "id": "vT_o9GWvEzZ8",
        "outputId": "fdbff602-36b0-4f81-8e6f-6460e54d692e"
      },
      "execution_count": null,
      "outputs": [
        {
          "output_type": "stream",
          "name": "stdout",
          "text": [
            "k = 5 일 때\n",
            "0.2781453113946497\n",
            "cluster\n",
            "0    136\n",
            "1    136\n",
            "2    116\n",
            "3     79\n",
            "4     42\n",
            "Name: silhoutte_coeff, dtype: int64\n",
            "cluster\n",
            "0   0.22\n",
            "1   0.30\n",
            "2   0.29\n",
            "3   0.32\n",
            "4   0.27\n",
            "Name: silhoutte_coeff, dtype: float64\n",
            "0.02197655433627924\n"
          ]
        }
      ]
    },
    {
      "cell_type": "code",
      "source": [
        "# k = 5 일때\n",
        "kmeans_5 = KMeans(n_clusters=5, random_state=100, init='k-means++')\n",
        "#visualizer 생성\n",
        "visualizer_5 = SilhouetteVisualizer(kmeans_5, colors='yellowbrick')\n",
        "#생성된 visualizer에 데이터 입력 \n",
        "visualizer_5.fit(df2_scaled)\n",
        "visualizer_5.show()"
      ],
      "metadata": {
        "colab": {
          "base_uri": "https://localhost:8080/",
          "height": 393
        },
        "id": "vK5xkN7yE01B",
        "outputId": "60b1a418-3159-45e8-a522-6292533934a4"
      },
      "execution_count": null,
      "outputs": [
        {
          "output_type": "display_data",
          "data": {
            "text/plain": [
              "<Figure size 576x396 with 1 Axes>"
            ],
            "image/png": "[encoded data removed]"
          },
          "metadata": {}
        },
        {
          "output_type": "execute_result",
          "data": {
            "text/plain": [
              "<matplotlib.axes._subplots.AxesSubplot at 0x7fd021883690>"
            ]
          },
          "metadata": {},
          "execution_count": 140
        }
      ]
    },
    {
      "cell_type": "markdown",
      "source": [
        "## Hierarchical 실루엣 시작."
      ],
      "metadata": {
        "id": "edn86Y1HQXHx"
      }
    },
    {
      "cell_type": "code",
      "source": [
        "final_sc = data.copy()"
      ],
      "metadata": {
        "id": "6NAbNDonE2I1"
      },
      "execution_count": null,
      "outputs": []
    },
    {
      "cell_type": "code",
      "source": [
        "# Clustering\n",
        "from scipy.cluster.hierarchy import linkage, dendrogram, fcluster"
      ],
      "metadata": {
        "id": "7KL7stoxQdLM"
      },
      "execution_count": null,
      "outputs": []
    },
    {
      "cell_type": "code",
      "source": [
        "# sc 스케일링한 데이터 덴드로그램 그리기 for t \n",
        "clusters = linkage(y=pc, method='complete', metric='euclidean')\n",
        "plt.figure(figsize=(40,20))\n",
        "\n",
        "dendrogram(clusters)\n",
        "plt.show()"
      ],
      "metadata": {
        "colab": {
          "base_uri": "https://localhost:8080/",
          "height": 815
        },
        "id": "55X8NZmjHvE-",
        "outputId": "5f20766a-058a-4dbb-8f87-c377626f0bc7"
      },
      "execution_count": null,
      "outputs": [
        {
          "output_type": "display_data",
          "data": {
            "text/plain": [
              "<Figure size 2880x1440 with 1 Axes>"
            ],
            "image/png": "[encoded data removed]"
          },
          "metadata": {}
        }
      ]
    },
    {
      "cell_type": "code",
      "source": [
        "# 함수 만들기 - 군집개수, 각 군집당 실루엣 계수, 분산\n",
        "def silhouette_hc(final_, X, t) :\n",
        "    clusters = linkage(y=X, method = 'complete', metric = 'euclidean')\n",
        "    cut_tree = fcluster(clusters, t = t, criterion = 'distance')\n",
        "    final_['cluster'] = cut_tree # 예측값 넣기 \n",
        "    final_['silhouette_coeff'] = silhouette_samples(X, final_['cluster'])\n",
        "    n_group = len(np.unique(final_['cluster']) )\n",
        "\n",
        "    avg_score = silhouette_score(X, final_['cluster'])\n",
        "    avg_by_count = final_.groupby('cluster')['silhouette_coeff'].count()\n",
        "    avg_by_cluster = final_.groupby('cluster')['silhouette_coeff'].mean()\n",
        "    var = np.var(final_sc['silhouette_coeff'])\n",
        "    \n",
        "    print('군집 계수 :   ',n_group)\n",
        "    print('군집 개수 : ',avg_by_count)\n",
        "    print('실루엣평균 :  ',avg_score)\n",
        "    print('군집 분산 :   ',var)\n",
        "    print(avg_by_cluster)"
      ],
      "metadata": {
        "id": "u7pObqEFKaFE"
      },
      "execution_count": null,
      "outputs": []
    },
    {
      "cell_type": "code",
      "source": [
        "silhouette_hc(final_sc, pc, t=7.9)"
      ],
      "metadata": {
        "colab": {
          "base_uri": "https://localhost:8080/"
        },
        "id": "uWq5xtU9QZhc",
        "outputId": "eb0b38d7-6397-4b85-f018-f2ed9c65dc2e"
      },
      "execution_count": null,
      "outputs": [
        {
          "output_type": "stream",
          "name": "stdout",
          "text": [
            "군집 계수 :    2\n",
            "군집 개수 :  cluster\n",
            "1    167\n",
            "2    342\n",
            "Name: silhouette_coeff, dtype: int64\n",
            "실루엣평균 :   0.26515781439199726\n",
            "군집 분산 :    0.041248442980836714\n",
            "cluster\n",
            "1   0.40\n",
            "2   0.20\n",
            "Name: silhouette_coeff, dtype: float64\n"
          ]
        }
      ]
    },
    {
      "cell_type": "code",
      "source": [
        "# n_cluster가 \n",
        "silhouette_hc(final_sc, pc, t=7)"
      ],
      "metadata": {
        "colab": {
          "base_uri": "https://localhost:8080/"
        },
        "id": "H65lvU5pHwUz",
        "outputId": "b964bdd1-8d20-415a-b5c3-ad81a473a72d"
      },
      "execution_count": null,
      "outputs": [
        {
          "output_type": "stream",
          "name": "stdout",
          "text": [
            "군집 계수 :    3\n",
            "군집 개수 :  cluster\n",
            "1    167\n",
            "2     72\n",
            "3    270\n",
            "Name: silhouette_coeff, dtype: int64\n",
            "실루엣평균 :   0.22813765424129703\n",
            "군집 분산 :    0.03120986072620616\n",
            "cluster\n",
            "1   0.30\n",
            "2   0.37\n",
            "3   0.15\n",
            "Name: silhouette_coeff, dtype: float64\n"
          ]
        }
      ]
    },
    {
      "cell_type": "code",
      "source": [
        "silhouette_hc(final_sc, pc, t=6.7)"
      ],
      "metadata": {
        "colab": {
          "base_uri": "https://localhost:8080/"
        },
        "id": "h0b5lgqMQuzU",
        "outputId": "3e285d88-a1af-42d1-f02a-f41e3e786a59"
      },
      "execution_count": null,
      "outputs": [
        {
          "output_type": "stream",
          "name": "stdout",
          "text": [
            "군집 계수 :    4\n",
            "군집 개수 :  cluster\n",
            "1     18\n",
            "2    149\n",
            "3     72\n",
            "4    270\n",
            "Name: silhouette_coeff, dtype: int64\n",
            "실루엣평균 :   0.20334594631882844\n",
            "군집 분산 :    0.03964682505047815\n",
            "cluster\n",
            "1   0.36\n",
            "2   0.27\n",
            "3   0.37\n",
            "4   0.11\n",
            "Name: silhouette_coeff, dtype: float64\n"
          ]
        }
      ]
    },
    {
      "cell_type": "code",
      "source": [
        "silhouette_hc(final_sc, pc, t=6)"
      ],
      "metadata": {
        "colab": {
          "base_uri": "https://localhost:8080/"
        },
        "id": "HutGacWFNfi9",
        "outputId": "d50e2edd-cd92-4267-e08c-3dc697fc5661"
      },
      "execution_count": null,
      "outputs": [
        {
          "output_type": "stream",
          "name": "stdout",
          "text": [
            "군집 계수 :    5\n",
            "군집 개수 :  cluster\n",
            "1     18\n",
            "2    149\n",
            "3     72\n",
            "4    111\n",
            "5    159\n",
            "Name: silhouette_coeff, dtype: int64\n",
            "실루엣평균 :   0.2219803021517553\n",
            "군집 분산 :    0.033005371092039236\n",
            "cluster\n",
            "1   0.35\n",
            "2   0.23\n",
            "3   0.33\n",
            "4   0.17\n",
            "5   0.19\n",
            "Name: silhouette_coeff, dtype: float64\n"
          ]
        }
      ]
    }
  ]
}
